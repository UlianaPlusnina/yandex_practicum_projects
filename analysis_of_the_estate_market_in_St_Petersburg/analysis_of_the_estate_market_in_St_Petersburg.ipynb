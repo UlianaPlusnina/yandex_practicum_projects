{
 "cells": [
  {
   "attachments": {},
   "cell_type": "markdown",
   "metadata": {},
   "source": [
    "# Проект: Исследование объявлений о продаже квартир"
   ]
  },
  {
   "attachments": {},
   "cell_type": "markdown",
   "metadata": {},
   "source": [
    "## Данные"
   ]
  },
  {
   "attachments": {},
   "cell_type": "markdown",
   "metadata": {},
   "source": [
    "В наличии были следующие данные:\n",
    "- airports_nearest — расстояние до ближайшего аэропорта в метрах (м)\n",
    "- balcony — число балконов\n",
    "- ceiling_height — высота потолков (м)\n",
    "- cityCenters_nearest — расстояние до центра города (м)\n",
    "- days_exposition — сколько дней было размещено объявление (от публикации до снятия)\n",
    "- first_day_exposition — дата публикации\n",
    "- floor — этаж\n",
    "- floors_total — всего этажей в доме\n",
    "- is_apartment — апартаменты (булев тип)\n",
    "- kitchen_area — площадь кухни в квадратных метрах (м²)\n",
    "- last_price — цена на момент снятия с публикации\n",
    "- living_area — жилая площадь в квадратных метрах (м²)\n",
    "- locality_name — название населённого пункта\n",
    "- open_plan — свободная планировка (булев тип)\n",
    "- parks_around3000 — число парков в радиусе 3 км\n",
    "- parks_nearest — расстояние до ближайшего парка (м)\n",
    "- ponds_around3000 — число водоёмов в радиусе 3 км\n",
    "- ponds_nearest — расстояние до ближайшего водоёма (м)\n",
    "- rooms — число комнат\n",
    "- studio — квартира-студия (булев тип)\n",
    "- total_area — общая площадь квартиры в квадратных метрах (м²)\n",
    "- total_images — число фотографий квартиры в объявлении"
   ]
  },
  {
   "attachments": {},
   "cell_type": "markdown",
   "metadata": {},
   "source": [
    "## Задача"
   ]
  },
  {
   "attachments": {},
   "cell_type": "markdown",
   "metadata": {},
   "source": [
    "\n",
    "Используя данные сервиса Яндекс.Недвижимость, определить рыночную стоимость объектов недвижимости и типичные параметры квартир."
   ]
  },
  {
   "attachments": {},
   "cell_type": "markdown",
   "metadata": {},
   "source": [
    "## Используемые библиотеки"
   ]
  },
  {
   "attachments": {},
   "cell_type": "markdown",
   "metadata": {},
   "source": [
    "pandas"
   ]
  },
  {
   "cell_type": "code",
   "execution_count": 2,
   "metadata": {},
   "outputs": [],
   "source": [
    "import pandas as pd"
   ]
  },
  {
   "cell_type": "code",
   "execution_count": 5,
   "metadata": {},
   "outputs": [],
   "source": [
    "import os\n",
    "path = '/datasets/real_estate_data.csv'\n",
    "if not os.path.exists(path):\n",
    "    path = 'DataFrames/real_estate_data.csv'\n",
    "    \n",
    "data = pd.read_csv(path, sep='\\t')"
   ]
  },
  {
   "cell_type": "code",
   "execution_count": 2,
   "metadata": {},
   "outputs": [
    {
     "data": {
      "text/html": [
       "<div>\n",
       "<style scoped>\n",
       "    .dataframe tbody tr th:only-of-type {\n",
       "        vertical-align: middle;\n",
       "    }\n",
       "\n",
       "    .dataframe tbody tr th {\n",
       "        vertical-align: top;\n",
       "    }\n",
       "\n",
       "    .dataframe thead th {\n",
       "        text-align: right;\n",
       "    }\n",
       "</style>\n",
       "<table border=\"1\" class=\"dataframe\">\n",
       "  <thead>\n",
       "    <tr style=\"text-align: right;\">\n",
       "      <th></th>\n",
       "      <th>total_images</th>\n",
       "      <th>last_price</th>\n",
       "      <th>total_area</th>\n",
       "      <th>first_day_exposition</th>\n",
       "      <th>rooms</th>\n",
       "      <th>ceiling_height</th>\n",
       "      <th>floors_total</th>\n",
       "      <th>living_area</th>\n",
       "      <th>floor</th>\n",
       "      <th>is_apartment</th>\n",
       "      <th>...</th>\n",
       "      <th>kitchen_area</th>\n",
       "      <th>balcony</th>\n",
       "      <th>locality_name</th>\n",
       "      <th>airports_nearest</th>\n",
       "      <th>cityCenters_nearest</th>\n",
       "      <th>parks_around3000</th>\n",
       "      <th>parks_nearest</th>\n",
       "      <th>ponds_around3000</th>\n",
       "      <th>ponds_nearest</th>\n",
       "      <th>days_exposition</th>\n",
       "    </tr>\n",
       "  </thead>\n",
       "  <tbody>\n",
       "    <tr>\n",
       "      <th>0</th>\n",
       "      <td>20</td>\n",
       "      <td>13000000.0</td>\n",
       "      <td>108.0</td>\n",
       "      <td>2019-03-07T00:00:00</td>\n",
       "      <td>3</td>\n",
       "      <td>2.70</td>\n",
       "      <td>16.0</td>\n",
       "      <td>51.0</td>\n",
       "      <td>8</td>\n",
       "      <td>NaN</td>\n",
       "      <td>...</td>\n",
       "      <td>25.0</td>\n",
       "      <td>NaN</td>\n",
       "      <td>Санкт-Петербург</td>\n",
       "      <td>18863.0</td>\n",
       "      <td>16028.0</td>\n",
       "      <td>1.0</td>\n",
       "      <td>482.0</td>\n",
       "      <td>2.0</td>\n",
       "      <td>755.0</td>\n",
       "      <td>NaN</td>\n",
       "    </tr>\n",
       "    <tr>\n",
       "      <th>1</th>\n",
       "      <td>7</td>\n",
       "      <td>3350000.0</td>\n",
       "      <td>40.4</td>\n",
       "      <td>2018-12-04T00:00:00</td>\n",
       "      <td>1</td>\n",
       "      <td>NaN</td>\n",
       "      <td>11.0</td>\n",
       "      <td>18.6</td>\n",
       "      <td>1</td>\n",
       "      <td>NaN</td>\n",
       "      <td>...</td>\n",
       "      <td>11.0</td>\n",
       "      <td>2.0</td>\n",
       "      <td>посёлок Шушары</td>\n",
       "      <td>12817.0</td>\n",
       "      <td>18603.0</td>\n",
       "      <td>0.0</td>\n",
       "      <td>NaN</td>\n",
       "      <td>0.0</td>\n",
       "      <td>NaN</td>\n",
       "      <td>81.0</td>\n",
       "    </tr>\n",
       "    <tr>\n",
       "      <th>2</th>\n",
       "      <td>10</td>\n",
       "      <td>5196000.0</td>\n",
       "      <td>56.0</td>\n",
       "      <td>2015-08-20T00:00:00</td>\n",
       "      <td>2</td>\n",
       "      <td>NaN</td>\n",
       "      <td>5.0</td>\n",
       "      <td>34.3</td>\n",
       "      <td>4</td>\n",
       "      <td>NaN</td>\n",
       "      <td>...</td>\n",
       "      <td>8.3</td>\n",
       "      <td>0.0</td>\n",
       "      <td>Санкт-Петербург</td>\n",
       "      <td>21741.0</td>\n",
       "      <td>13933.0</td>\n",
       "      <td>1.0</td>\n",
       "      <td>90.0</td>\n",
       "      <td>2.0</td>\n",
       "      <td>574.0</td>\n",
       "      <td>558.0</td>\n",
       "    </tr>\n",
       "    <tr>\n",
       "      <th>3</th>\n",
       "      <td>0</td>\n",
       "      <td>64900000.0</td>\n",
       "      <td>159.0</td>\n",
       "      <td>2015-07-24T00:00:00</td>\n",
       "      <td>3</td>\n",
       "      <td>NaN</td>\n",
       "      <td>14.0</td>\n",
       "      <td>NaN</td>\n",
       "      <td>9</td>\n",
       "      <td>NaN</td>\n",
       "      <td>...</td>\n",
       "      <td>NaN</td>\n",
       "      <td>0.0</td>\n",
       "      <td>Санкт-Петербург</td>\n",
       "      <td>28098.0</td>\n",
       "      <td>6800.0</td>\n",
       "      <td>2.0</td>\n",
       "      <td>84.0</td>\n",
       "      <td>3.0</td>\n",
       "      <td>234.0</td>\n",
       "      <td>424.0</td>\n",
       "    </tr>\n",
       "    <tr>\n",
       "      <th>4</th>\n",
       "      <td>2</td>\n",
       "      <td>10000000.0</td>\n",
       "      <td>100.0</td>\n",
       "      <td>2018-06-19T00:00:00</td>\n",
       "      <td>2</td>\n",
       "      <td>3.03</td>\n",
       "      <td>14.0</td>\n",
       "      <td>32.0</td>\n",
       "      <td>13</td>\n",
       "      <td>NaN</td>\n",
       "      <td>...</td>\n",
       "      <td>41.0</td>\n",
       "      <td>NaN</td>\n",
       "      <td>Санкт-Петербург</td>\n",
       "      <td>31856.0</td>\n",
       "      <td>8098.0</td>\n",
       "      <td>2.0</td>\n",
       "      <td>112.0</td>\n",
       "      <td>1.0</td>\n",
       "      <td>48.0</td>\n",
       "      <td>121.0</td>\n",
       "    </tr>\n",
       "  </tbody>\n",
       "</table>\n",
       "<p>5 rows × 22 columns</p>\n",
       "</div>"
      ],
      "text/plain": [
       "   total_images  last_price  total_area first_day_exposition  rooms  \\\n",
       "0            20  13000000.0       108.0  2019-03-07T00:00:00      3   \n",
       "1             7   3350000.0        40.4  2018-12-04T00:00:00      1   \n",
       "2            10   5196000.0        56.0  2015-08-20T00:00:00      2   \n",
       "3             0  64900000.0       159.0  2015-07-24T00:00:00      3   \n",
       "4             2  10000000.0       100.0  2018-06-19T00:00:00      2   \n",
       "\n",
       "   ceiling_height  floors_total  living_area  floor is_apartment  ...  \\\n",
       "0            2.70          16.0         51.0      8          NaN  ...   \n",
       "1             NaN          11.0         18.6      1          NaN  ...   \n",
       "2             NaN           5.0         34.3      4          NaN  ...   \n",
       "3             NaN          14.0          NaN      9          NaN  ...   \n",
       "4            3.03          14.0         32.0     13          NaN  ...   \n",
       "\n",
       "   kitchen_area  balcony    locality_name  airports_nearest  \\\n",
       "0          25.0      NaN  Санкт-Петербург           18863.0   \n",
       "1          11.0      2.0   посёлок Шушары           12817.0   \n",
       "2           8.3      0.0  Санкт-Петербург           21741.0   \n",
       "3           NaN      0.0  Санкт-Петербург           28098.0   \n",
       "4          41.0      NaN  Санкт-Петербург           31856.0   \n",
       "\n",
       "  cityCenters_nearest  parks_around3000  parks_nearest  ponds_around3000  \\\n",
       "0             16028.0               1.0          482.0               2.0   \n",
       "1             18603.0               0.0            NaN               0.0   \n",
       "2             13933.0               1.0           90.0               2.0   \n",
       "3              6800.0               2.0           84.0               3.0   \n",
       "4              8098.0               2.0          112.0               1.0   \n",
       "\n",
       "   ponds_nearest  days_exposition  \n",
       "0          755.0              NaN  \n",
       "1            NaN             81.0  \n",
       "2          574.0            558.0  \n",
       "3          234.0            424.0  \n",
       "4           48.0            121.0  \n",
       "\n",
       "[5 rows x 22 columns]"
      ]
     },
     "metadata": {},
     "output_type": "display_data"
    }
   ],
   "source": [
    "display(data.head()) "
   ]
  },
  {
   "cell_type": "code",
   "execution_count": 2,
   "metadata": {},
   "outputs": [
    {
     "name": "stdout",
     "output_type": "stream",
     "text": [
      "<class 'pandas.core.frame.DataFrame'>\n",
      "RangeIndex: 23699 entries, 0 to 23698\n",
      "Data columns (total 22 columns):\n",
      " #   Column                Non-Null Count  Dtype  \n",
      "---  ------                --------------  -----  \n",
      " 0   total_images          23699 non-null  int64  \n",
      " 1   last_price            23699 non-null  float64\n",
      " 2   total_area            23699 non-null  float64\n",
      " 3   first_day_exposition  23699 non-null  object \n",
      " 4   rooms                 23699 non-null  int64  \n",
      " 5   ceiling_height        14504 non-null  float64\n",
      " 6   floors_total          23613 non-null  float64\n",
      " 7   living_area           21796 non-null  float64\n",
      " 8   floor                 23699 non-null  int64  \n",
      " 9   is_apartment          2775 non-null   object \n",
      " 10  studio                23699 non-null  bool   \n",
      " 11  open_plan             23699 non-null  bool   \n",
      " 12  kitchen_area          21421 non-null  float64\n",
      " 13  balcony               12180 non-null  float64\n",
      " 14  locality_name         23650 non-null  object \n",
      " 15  airports_nearest      18157 non-null  float64\n",
      " 16  cityCenters_nearest   18180 non-null  float64\n",
      " 17  parks_around3000      18181 non-null  float64\n",
      " 18  parks_nearest         8079 non-null   float64\n",
      " 19  ponds_around3000      18181 non-null  float64\n",
      " 20  ponds_nearest         9110 non-null   float64\n",
      " 21  days_exposition       20518 non-null  float64\n",
      "dtypes: bool(2), float64(14), int64(3), object(3)\n",
      "memory usage: 3.7+ MB\n"
     ]
    }
   ],
   "source": [
    "data.info()"
   ]
  },
  {
   "cell_type": "code",
   "execution_count": 3,
   "metadata": {},
   "outputs": [
    {
     "data": {
      "text/plain": [
       "array([[<AxesSubplot:title={'center':'total_images'}>,\n",
       "        <AxesSubplot:title={'center':'last_price'}>,\n",
       "        <AxesSubplot:title={'center':'total_area'}>,\n",
       "        <AxesSubplot:title={'center':'rooms'}>],\n",
       "       [<AxesSubplot:title={'center':'ceiling_height'}>,\n",
       "        <AxesSubplot:title={'center':'floors_total'}>,\n",
       "        <AxesSubplot:title={'center':'living_area'}>,\n",
       "        <AxesSubplot:title={'center':'floor'}>],\n",
       "       [<AxesSubplot:title={'center':'kitchen_area'}>,\n",
       "        <AxesSubplot:title={'center':'balcony'}>,\n",
       "        <AxesSubplot:title={'center':'airports_nearest'}>,\n",
       "        <AxesSubplot:title={'center':'cityCenters_nearest'}>],\n",
       "       [<AxesSubplot:title={'center':'parks_around3000'}>,\n",
       "        <AxesSubplot:title={'center':'parks_nearest'}>,\n",
       "        <AxesSubplot:title={'center':'ponds_around3000'}>,\n",
       "        <AxesSubplot:title={'center':'ponds_nearest'}>],\n",
       "       [<AxesSubplot:title={'center':'days_exposition'}>, <AxesSubplot:>,\n",
       "        <AxesSubplot:>, <AxesSubplot:>]], dtype=object)"
      ]
     },
     "execution_count": 3,
     "metadata": {},
     "output_type": "execute_result"
    },
    {
     "data": {
      "image/png": "[encoded data removed]",
      "text/plain": [
       "<Figure size 1080x1440 with 20 Axes>"
      ]
     },
     "metadata": {
      "needs_background": "light"
     },
     "output_type": "display_data"
    }
   ],
   "source": [
    "data.hist(figsize=(15, 20)) # Проверка на неадекватные значения\n",
    ";"
   ]
  },
  {
   "cell_type": "markdown",
   "metadata": {},
   "source": [
    "### Предобработка данных"
   ]
  },
  {
   "cell_type": "code",
   "execution_count": 4,
   "metadata": {},
   "outputs": [
    {
     "data": {
      "text/plain": [
       "total_images                0\n",
       "last_price                  0\n",
       "total_area                  0\n",
       "first_day_exposition        0\n",
       "rooms                       0\n",
       "ceiling_height           9195\n",
       "floors_total               86\n",
       "living_area              1903\n",
       "floor                       0\n",
       "is_apartment            20924\n",
       "studio                      0\n",
       "open_plan                   0\n",
       "kitchen_area             2278\n",
       "balcony                 11519\n",
       "locality_name              49\n",
       "airports_nearest         5542\n",
       "cityCenters_nearest      5519\n",
       "parks_around3000         5518\n",
       "parks_nearest           15620\n",
       "ponds_around3000         5518\n",
       "ponds_nearest           14589\n",
       "days_exposition          3181\n",
       "dtype: int64"
      ]
     },
     "execution_count": 4,
     "metadata": {},
     "output_type": "execute_result"
    }
   ],
   "source": [
    "data.isna().sum() #подсчет пропусков\n",
    "#  pd.DataFrame(round(df.isna().mean()*100,)).style.background_gradient('coolwarm')"
   ]
  },
  {
   "cell_type": "code",
   "execution_count": 5,
   "metadata": {},
   "outputs": [],
   "source": [
    "data['balcony'] = data['balcony'].fillna(0)# если количество балконов не указано, скорее всего их нет\n",
    "data['ponds_around3000'] = data['ponds_around3000'].fillna(0)# если количество водоемов в радиусе 3 км не указано, скорее всего их нет\n",
    "data['parks_around3000'] = data['parks_around3000'].fillna(0)# если количество парков в радиусе 3 км не указано, скорее всего их нет\n",
    "data['is_apartment'] = data['is_apartment'].fillna(False)# если не указано, скорее всего это не апартаменты\n",
    "\n",
    "data.loc[(data['kitchen_area'].isna() & data['studio']==True), 'kitchen_area']=0 # у студий нет кухни, поэтому пропуски можно заменить на 0\n",
    "data.loc[(data['living_area'].isna() & data['studio']==True), 'living_area']=data['total_area'] # у студии жилая площадь примерно равна всей площади"
   ]
  },
  {
   "cell_type": "code",
   "execution_count": 6,
   "metadata": {
    "scrolled": true
   },
   "outputs": [
    {
     "data": {
      "text/plain": [
       "total_images                0\n",
       "last_price                  0\n",
       "total_area                  0\n",
       "first_day_exposition        0\n",
       "rooms                       0\n",
       "ceiling_height           9195\n",
       "floors_total               86\n",
       "living_area              1893\n",
       "floor                       0\n",
       "is_apartment                0\n",
       "studio                      0\n",
       "open_plan                   0\n",
       "kitchen_area             2129\n",
       "balcony                     0\n",
       "locality_name              49\n",
       "airports_nearest         5542\n",
       "cityCenters_nearest      5519\n",
       "parks_around3000            0\n",
       "parks_nearest           15620\n",
       "ponds_around3000            0\n",
       "ponds_nearest           14589\n",
       "days_exposition          3181\n",
       "dtype: int64"
      ]
     },
     "execution_count": 6,
     "metadata": {},
     "output_type": "execute_result"
    }
   ],
   "source": [
    "data.isna().sum()"
   ]
  },
  {
   "cell_type": "markdown",
   "metadata": {},
   "source": [
    "**Причины появления пропусков:** человеческий фактор (ошибка при вводе данных, скрытие информации, невнимательность), технический фактор (выход из строя технического оборудования)."
   ]
  },
  {
   "cell_type": "code",
   "execution_count": 67,
   "metadata": {},
   "outputs": [
    {
     "name": "stdout",
     "output_type": "stream",
     "text": [
      "<class 'pandas.core.frame.DataFrame'>\n",
      "Int64Index: 23695 entries, 0 to 23698\n",
      "Data columns (total 28 columns):\n",
      " #   Column                  Non-Null Count  Dtype         \n",
      "---  ------                  --------------  -----         \n",
      " 0   total_images            23695 non-null  int64         \n",
      " 1   last_price              23695 non-null  float64       \n",
      " 2   total_area              23695 non-null  float64       \n",
      " 3   first_day_exposition    23695 non-null  datetime64[ns]\n",
      " 4   rooms                   23695 non-null  int64         \n",
      " 5   ceiling_height          14500 non-null  float64       \n",
      " 6   floors_total            23695 non-null  Int64         \n",
      " 7   living_area             23695 non-null  float64       \n",
      " 8   floor                   23695 non-null  int64         \n",
      " 9   is_apartment            23695 non-null  bool          \n",
      " 10  studio                  23695 non-null  bool          \n",
      " 11  open_plan               23695 non-null  bool          \n",
      " 12  kitchen_area            21566 non-null  float64       \n",
      " 13  balcony                 23695 non-null  Int64         \n",
      " 14  locality_name           23695 non-null  object        \n",
      " 15  airports_nearest        18154 non-null  float64       \n",
      " 16  cityCenters_nearest     18177 non-null  float64       \n",
      " 17  parks_around3000        23695 non-null  float64       \n",
      " 18  parks_nearest           8077 non-null   float64       \n",
      " 19  ponds_around3000        23695 non-null  float64       \n",
      " 20  ponds_nearest           9108 non-null   float64       \n",
      " 21  days_exposition         20514 non-null  float64       \n",
      " 22  price_per_meter         23695 non-null  float64       \n",
      " 23  week_day_exposition     23695 non-null  int64         \n",
      " 24  month_day_exposition    23695 non-null  int64         \n",
      " 25  year_day_exposition     23695 non-null  int64         \n",
      " 26  category_by_floor       23695 non-null  object        \n",
      " 27  cityCenters_nearest_km  18177 non-null  float64       \n",
      "dtypes: Int64(2), bool(3), datetime64[ns](1), float64(14), int64(6), object(2)\n",
      "memory usage: 4.8+ MB\n"
     ]
    }
   ],
   "source": [
    "data.info()"
   ]
  },
  {
   "cell_type": "code",
   "execution_count": 8,
   "metadata": {},
   "outputs": [],
   "source": [
    "data['balcony'] = data['balcony'].astype('Int64')\n",
    "data['floors_total'] = data['floors_total'].astype('Int64')\n",
    "data['first_day_exposition'] = data['first_day_exposition'].astype('datetime64')"
   ]
  },
  {
   "cell_type": "markdown",
   "metadata": {},
   "source": [
    "Количество дней, этажей и балконов не может быть не целой величиной."
   ]
  },
  {
   "cell_type": "code",
   "execution_count": 9,
   "metadata": {
    "scrolled": false
   },
   "outputs": [
    {
     "data": {
      "text/plain": [
       "0"
      ]
     },
     "execution_count": 9,
     "metadata": {},
     "output_type": "execute_result"
    }
   ],
   "source": [
    "data.duplicated().sum()"
   ]
  },
  {
   "cell_type": "markdown",
   "metadata": {},
   "source": [
    "<div class=\"alert alert-info\"> <b>Явные дубликаты отсутсвуют</b></div>\n"
   ]
  },
  {
   "cell_type": "code",
   "execution_count": 10,
   "metadata": {},
   "outputs": [
    {
     "name": "stdout",
     "output_type": "stream",
     "text": [
      "['Санкт-Петербург' 'посёлок Шушары' 'городской посёлок Янино-1'\n",
      " 'посёлок Парголово' 'посёлок Мурино' 'Ломоносов' 'Сертолово' 'Петергоф'\n",
      " 'Пушкин' 'деревня Кудрово' 'Коммунар' 'Колпино'\n",
      " 'поселок городского типа Красный Бор' 'Гатчина' 'поселок Мурино'\n",
      " 'деревня Фёдоровское' 'Выборг' 'Кронштадт' 'Кировск'\n",
      " 'деревня Новое Девяткино' 'посёлок Металлострой'\n",
      " 'посёлок городского типа Лебяжье' 'посёлок городского типа Сиверский'\n",
      " 'поселок Молодцово' 'поселок городского типа Кузьмоловский'\n",
      " 'садовое товарищество Новая Ропша' 'Павловск' 'деревня Пикколово'\n",
      " 'Всеволожск' 'Волхов' 'Кингисепп' 'Приозерск' 'Сестрорецк'\n",
      " 'деревня Куттузи' 'посёлок Аннино' 'поселок городского типа Ефимовский'\n",
      " 'посёлок Плодовое' 'деревня Заклинье' 'поселок Торковичи'\n",
      " 'поселок Первомайское' 'Красное Село' 'посёлок Понтонный' 'Сясьстрой'\n",
      " 'деревня Старая' 'деревня Лесколово' 'посёлок Новый Свет' 'Сланцы'\n",
      " 'село Путилово' 'Ивангород' 'Мурино' 'Шлиссельбург' 'Никольское'\n",
      " 'Зеленогорск' 'Сосновый Бор' 'поселок Новый Свет' 'деревня Оржицы'\n",
      " 'деревня Кальтино' 'Кудрово' 'поселок Романовка' 'посёлок Бугры'\n",
      " 'поселок Бугры' 'поселок городского типа Рощино' 'Кириши' 'Луга'\n",
      " 'Волосово' 'Отрадное' 'село Павлово' 'поселок Оредеж' 'село Копорье'\n",
      " 'посёлок городского типа Красный Бор' 'посёлок Молодёжное' 'Тихвин'\n",
      " 'посёлок Победа' 'деревня Нурма' 'поселок городского типа Синявино'\n",
      " 'Тосно' 'посёлок городского типа Кузьмоловский' 'посёлок Стрельна'\n",
      " 'Бокситогорск' 'посёлок Александровская' 'деревня Лопухинка' 'Пикалёво'\n",
      " 'поселок Терволово' 'поселок городского типа Советский' 'Подпорожье'\n",
      " 'посёлок Петровское' 'посёлок городского типа Токсово' 'поселок Сельцо'\n",
      " 'посёлок городского типа Вырица' 'деревня Кипень' 'деревня Келози'\n",
      " 'деревня Вартемяги' 'посёлок Тельмана' 'поселок Севастьяново'\n",
      " 'городской поселок Большая Ижора' nan 'городской посёлок Павлово'\n",
      " 'деревня Агалатово' 'посёлок Новогорелово'\n",
      " 'городской посёлок Лесогорский' 'деревня Лаголово' 'поселок Цвелодубово'\n",
      " 'поселок городского типа Рахья' 'поселок городского типа Вырица'\n",
      " 'деревня Белогорка' 'поселок Заводской' 'городской посёлок Новоселье'\n",
      " 'деревня Большие Колпаны' 'деревня Горбунки' 'деревня Батово'\n",
      " 'деревня Заневка' 'деревня Иссад' 'Приморск'\n",
      " 'городской посёлок Фёдоровское' 'деревня Мистолово' 'Новая Ладога'\n",
      " 'поселок Зимитицы' 'поселок Барышево' 'деревня Разметелево'\n",
      " 'поселок городского типа имени Свердлова' 'деревня Пеники'\n",
      " 'поселок Рябово' 'деревня Пудомяги' 'поселок станции Корнево'\n",
      " 'деревня Низино' 'деревня Бегуницы' 'посёлок Поляны'\n",
      " 'городской посёлок Мга' 'поселок Елизаветино'\n",
      " 'посёлок городского типа Кузнечное' 'деревня Колтуши'\n",
      " 'поселок Запорожское' 'посёлок городского типа Рощино'\n",
      " 'деревня Гостилицы' 'деревня Малое Карлино' 'посёлок Мичуринское'\n",
      " 'посёлок городского типа имени Морозова' 'посёлок Песочный'\n",
      " 'посёлок Сосново' 'деревня Аро' 'поселок Ильичёво'\n",
      " 'посёлок городского типа Тайцы' 'деревня Малое Верево' 'деревня Извара'\n",
      " 'поселок станции Вещево' 'село Паша' 'деревня Калитино'\n",
      " 'посёлок городского типа Ульяновка' 'деревня Чудской Бор'\n",
      " 'поселок городского типа Дубровка' 'деревня Мины' 'поселок Войсковицы'\n",
      " 'посёлок городского типа имени Свердлова' 'деревня Коркино'\n",
      " 'посёлок Ропша' 'поселок городского типа Приладожский' 'посёлок Щеглово'\n",
      " 'посёлок Гаврилово' 'Лодейное Поле' 'деревня Рабитицы'\n",
      " 'поселок городского типа Никольский' 'деревня Кузьмолово'\n",
      " 'деревня Малые Колпаны' 'поселок Тельмана' 'посёлок Петро-Славянка'\n",
      " 'городской посёлок Назия' 'посёлок Репино' 'посёлок Ильичёво'\n",
      " 'поселок Углово' 'поселок Старая Малукса' 'садовое товарищество Рахья'\n",
      " 'поселок Аннино' 'поселок Победа' 'деревня Меньково'\n",
      " 'деревня Старые Бегуницы' 'посёлок Сапёрный' 'поселок Семрино'\n",
      " 'поселок Гаврилово' 'поселок Глажево' 'поселок Кобринское'\n",
      " 'деревня Гарболово' 'деревня Юкки' 'поселок станции Приветнинское'\n",
      " 'деревня Мануйлово' 'деревня Пчева' 'поселок Поляны' 'поселок Цвылёво'\n",
      " 'поселок Мельниково' 'посёлок Пудость' 'посёлок Усть-Луга' 'Светогорск'\n",
      " 'Любань' 'поселок Селезнёво' 'поселок городского типа Рябово'\n",
      " 'Каменногорск' 'деревня Кривко' 'поселок Глебычево' 'деревня Парицы'\n",
      " 'поселок Жилпосёлок' 'посёлок городского типа Мга'\n",
      " 'городской поселок Янино-1' 'посёлок Войскорово' 'село Никольское'\n",
      " 'посёлок Терволово' 'поселок Стеклянный' 'посёлок городского типа Важины'\n",
      " 'посёлок Мыза-Ивановка' 'село Русско-Высоцкое'\n",
      " 'поселок городского типа Лебяжье' 'поселок городского типа Форносово'\n",
      " 'село Старая Ладога' 'поселок Житково' 'городской посёлок Виллози'\n",
      " 'деревня Лампово' 'деревня Шпаньково' 'деревня Лаврики' 'посёлок Сумино'\n",
      " 'посёлок Возрождение' 'деревня Старосиверская' 'посёлок Кикерино'\n",
      " 'поселок Возрождение' 'деревня Старое Хинколово' 'посёлок Пригородный'\n",
      " 'посёлок Торфяное' 'городской посёлок Будогощь' 'поселок Суходолье'\n",
      " 'поселок Красная Долина' 'деревня Хапо-Ое'\n",
      " 'поселок городского типа Дружная Горка' 'поселок Лисий Нос'\n",
      " 'деревня Яльгелево' 'посёлок Стеклянный' 'село Рождествено'\n",
      " 'деревня Старополье' 'посёлок Левашово' 'деревня Сяськелево'\n",
      " 'деревня Камышовка'\n",
      " 'садоводческое некоммерческое товарищество Лесная Поляна'\n",
      " 'деревня Хязельки' 'поселок Жилгородок' 'посёлок городского типа Павлово'\n",
      " 'деревня Ялгино' 'поселок Новый Учхоз' 'городской посёлок Рощино'\n",
      " 'поселок Гончарово' 'поселок Почап' 'посёлок Сапёрное'\n",
      " 'посёлок Платформа 69-й километр' 'поселок Каложицы' 'деревня Фалилеево'\n",
      " 'деревня Пельгора' 'поселок городского типа Лесогорский'\n",
      " 'деревня Торошковичи' 'посёлок Белоостров' 'посёлок Алексеевка'\n",
      " 'поселок Серебрянский' 'поселок Лукаши' 'поселок Петровское'\n",
      " 'деревня Щеглово' 'поселок Мичуринское' 'деревня Тарасово'\n",
      " 'поселок Кингисеппский' 'посёлок при железнодорожной станции Вещево'\n",
      " 'поселок Ушаки' 'деревня Котлы' 'деревня Сижно' 'деревня Торосово'\n",
      " 'посёлок Форт Красная Горка' 'поселок городского типа Токсово'\n",
      " 'деревня Новолисино' 'посёлок станции Громово' 'деревня Глинка'\n",
      " 'посёлок Мельниково' 'поселок городского типа Назия'\n",
      " 'деревня Старая Пустошь' 'поселок Коммунары' 'поселок Починок'\n",
      " 'посёлок городского типа Вознесенье' 'деревня Разбегаево'\n",
      " 'посёлок городского типа Рябово' 'поселок Гладкое'\n",
      " 'посёлок при железнодорожной станции Приветнинское' 'поселок Тёсово-4'\n",
      " 'посёлок Жилгородок' 'деревня Бор' 'посёлок Коробицыно'\n",
      " 'деревня Большая Вруда' 'деревня Курковицы' 'посёлок Лисий Нос'\n",
      " 'городской посёлок Советский' 'посёлок Кобралово' 'деревня Суоранда'\n",
      " 'поселок Кобралово' 'поселок городского типа Кондратьево'\n",
      " 'коттеджный поселок Счастье' 'поселок Любань' 'деревня Реброво'\n",
      " 'деревня Зимитицы' 'деревня Тойворово' 'поселок Семиозерье'\n",
      " 'поселок Лесное' 'поселок Совхозный' 'поселок Усть-Луга'\n",
      " 'посёлок Ленинское' 'посёлок Суйда' 'посёлок городского типа Форносово'\n",
      " 'деревня Нижние Осельки' 'посёлок станции Свирь' 'поселок Перово'\n",
      " 'Высоцк' 'поселок Гарболово' 'село Шум' 'поселок Котельский'\n",
      " 'поселок станции Лужайка' 'деревня Большая Пустомержа'\n",
      " 'поселок Красносельское' 'деревня Вахнова Кара' 'деревня Пижма'\n",
      " 'коттеджный поселок Кивеннапа Север' 'поселок Коробицыно'\n",
      " 'поселок Ромашки' 'посёлок Перово' 'деревня Каськово' 'деревня Куровицы'\n",
      " 'посёлок Плоское' 'поселок Сумино'\n",
      " 'поселок городского типа Большая Ижора' 'поселок Кирпичное'\n",
      " 'деревня Ям-Тесово' 'деревня Раздолье' 'деревня Терпилицы'\n",
      " 'посёлок Шугозеро' 'деревня Ваганово' 'поселок Пушное'\n",
      " 'садовое товарищество Садко' 'посёлок Усть-Ижора' 'деревня Выскатка'\n",
      " 'городской посёлок Свирьстрой' 'поселок Громово' 'деревня Кисельня'\n",
      " 'посёлок Старая Малукса' 'деревня Трубников Бор' 'поселок Калитино'\n",
      " 'посёлок Высокоключевой' 'садовое товарищество Приладожский'\n",
      " 'посёлок Пансионат Зелёный Бор' 'деревня Ненимяки'\n",
      " 'поселок Пансионат Зелёный Бор' 'деревня Снегирёвка' 'деревня Рапполово'\n",
      " 'деревня Пустынка' 'поселок Рабитицы' 'деревня Большой Сабск'\n",
      " 'деревня Русско' 'деревня Лупполово' 'деревня Большое Рейзино'\n",
      " 'деревня Малая Романовка' 'поселок Дружноселье' 'поселок Пчевжа'\n",
      " 'поселок Володарское' 'деревня Нижняя' 'коттеджный посёлок Лесное'\n",
      " 'деревня Тихковицы' 'деревня Борисова Грива' 'посёлок Дзержинского']\n"
     ]
    }
   ],
   "source": [
    "print(data['locality_name'].unique())"
   ]
  },
  {
   "cell_type": "code",
   "execution_count": 11,
   "metadata": {},
   "outputs": [
    {
     "data": {
      "text/plain": [
       "array(['Санкт-Петербург', 'посёлок Шушары', 'посёлок Янино-1',\n",
       "       'посёлок Парголово', 'посёлок Мурино', 'Ломоносов', 'Сертолово',\n",
       "       'Петергоф', 'Пушкин', 'деревня Кудрово', 'Коммунар', 'Колпино',\n",
       "       'посёлок Красный Бор', 'Гатчина', 'деревня Фёдоровское', 'Выборг',\n",
       "       'Кронштадт', 'Кировск', 'деревня Новое Девяткино',\n",
       "       'посёлок Металлострой', 'посёлок Лебяжье', 'посёлок Сиверский',\n",
       "       'посёлок Молодцово', 'посёлок Кузьмоловский',\n",
       "       'садовое товарищество Новая Ропша', 'Павловск',\n",
       "       'деревня Пикколово', 'Всеволожск', 'Волхов', 'Кингисепп',\n",
       "       'Приозерск', 'Сестрорецк', 'деревня Куттузи', 'посёлок Аннино',\n",
       "       'посёлок Ефимовский', 'посёлок Плодовое', 'деревня Заклинье',\n",
       "       'посёлок Торковичи', 'посёлок Первомайское', 'Красное Село',\n",
       "       'посёлок Понтонный', 'Сясьстрой', 'деревня Старая',\n",
       "       'деревня Лесколово', 'посёлок Новый Свет', 'Сланцы',\n",
       "       'село Путилово', 'Ивангород', 'Мурино', 'Шлиссельбург',\n",
       "       'Никольское', 'Зеленогорск', 'Сосновый Бор', 'деревня Оржицы',\n",
       "       'деревня Кальтино', 'Кудрово', 'посёлок Романовка',\n",
       "       'посёлок Бугры', 'посёлок Рощино', 'Кириши', 'Луга', 'Волосово',\n",
       "       'Отрадное', 'село Павлово', 'посёлок Оредеж', 'село Копорье',\n",
       "       'посёлок Молодёжное', 'Тихвин', 'посёлок Победа', 'деревня Нурма',\n",
       "       'посёлок Синявино', 'Тосно', 'посёлок Стрельна', 'Бокситогорск',\n",
       "       'посёлок Александровская', 'деревня Лопухинка', 'Пикалёво',\n",
       "       'посёлок Терволово', 'посёлок Советский', 'Подпорожье',\n",
       "       'посёлок Петровское', 'посёлок Токсово', 'посёлок Сельцо',\n",
       "       'посёлок Вырица', 'деревня Кипень', 'деревня Келози',\n",
       "       'деревня Вартемяги', 'посёлок Тельмана', 'посёлок Севастьяново',\n",
       "       'посёлок Большая Ижора', '', 'посёлок Павлово',\n",
       "       'деревня Агалатово', 'посёлок Новогорелово', 'посёлок Лесогорский',\n",
       "       'деревня Лаголово', 'посёлок Цвелодубово', 'посёлок Рахья',\n",
       "       'деревня Белогорка', 'посёлок Заводской', 'посёлок Новоселье',\n",
       "       'деревня Большие Колпаны', 'деревня Горбунки', 'деревня Батово',\n",
       "       'деревня Заневка', 'деревня Иссад', 'Приморск',\n",
       "       'посёлок Фёдоровское', 'деревня Мистолово', 'Новая Ладога',\n",
       "       'посёлок Зимитицы', 'посёлок Барышево', 'деревня Разметелево',\n",
       "       'посёлок имени Свердлова', 'деревня Пеники', 'посёлок Рябово',\n",
       "       'деревня Пудомяги', 'посёлок станции Корнево', 'деревня Низино',\n",
       "       'деревня Бегуницы', 'посёлок Поляны', 'посёлок Мга',\n",
       "       'посёлок Елизаветино', 'посёлок Кузнечное', 'деревня Колтуши',\n",
       "       'посёлок Запорожское', 'деревня Гостилицы',\n",
       "       'деревня Малое Карлино', 'посёлок Мичуринское',\n",
       "       'посёлок имени Морозова', 'посёлок Песочный', 'посёлок Сосново',\n",
       "       'деревня Аро', 'посёлок Ильичёво', 'посёлок Тайцы',\n",
       "       'деревня Малое Верево', 'деревня Извара', 'посёлок станции Вещево',\n",
       "       'село Паша', 'деревня Калитино', 'посёлок Ульяновка',\n",
       "       'деревня Чудской Бор', 'посёлок Дубровка', 'деревня Мины',\n",
       "       'посёлок Войсковицы', 'деревня Коркино', 'посёлок Ропша',\n",
       "       'посёлок Приладожский', 'посёлок Щеглово', 'посёлок Гаврилово',\n",
       "       'Лодейное Поле', 'деревня Рабитицы', 'посёлок Никольский',\n",
       "       'деревня Кузьмолово', 'деревня Малые Колпаны',\n",
       "       'посёлок Петро-Славянка', 'посёлок Назия', 'посёлок Репино',\n",
       "       'посёлок Углово', 'посёлок Старая Малукса',\n",
       "       'садовое товарищество Рахья', 'деревня Меньково',\n",
       "       'деревня Старые Бегуницы', 'посёлок Сапёрный', 'посёлок Семрино',\n",
       "       'посёлок Глажево', 'посёлок Кобринское', 'деревня Гарболово',\n",
       "       'деревня Юкки', 'посёлок станции Приветнинское',\n",
       "       'деревня Мануйлово', 'деревня Пчева', 'посёлок Цвылёво',\n",
       "       'посёлок Мельниково', 'посёлок Пудость', 'посёлок Усть-Луга',\n",
       "       'Светогорск', 'Любань', 'посёлок Селезнёво', 'Каменногорск',\n",
       "       'деревня Кривко', 'посёлок Глебычево', 'деревня Парицы',\n",
       "       'посёлок Жилпосёлок', 'посёлок Войскорово', 'село Никольское',\n",
       "       'посёлок Стеклянный', 'посёлок Важины', 'посёлок Мыза-Ивановка',\n",
       "       'село Русско-Высоцкое', 'посёлок Форносово', 'село Старая Ладога',\n",
       "       'посёлок Житково', 'посёлок Виллози', 'деревня Лампово',\n",
       "       'деревня Шпаньково', 'деревня Лаврики', 'посёлок Сумино',\n",
       "       'посёлок Возрождение', 'деревня Старосиверская',\n",
       "       'посёлок Кикерино', 'деревня Старое Хинколово',\n",
       "       'посёлок Пригородный', 'посёлок Торфяное', 'посёлок Будогощь',\n",
       "       'посёлок Суходолье', 'посёлок Красная Долина', 'деревня Хапо-Ое',\n",
       "       'посёлок Дружная Горка', 'посёлок Лисий Нос', 'деревня Яльгелево',\n",
       "       'село Рождествено', 'деревня Старополье', 'посёлок Левашово',\n",
       "       'деревня Сяськелево', 'деревня Камышовка',\n",
       "       'садоводческое некоммерческое товарищество Лесная Поляна',\n",
       "       'деревня Хязельки', 'посёлок Жилгородок', 'деревня Ялгино',\n",
       "       'посёлок Новый Учхоз', 'посёлок Гончарово', 'посёлок Почап',\n",
       "       'посёлок Сапёрное', 'посёлок Платформа 69-й километр',\n",
       "       'посёлок Каложицы', 'деревня Фалилеево', 'деревня Пельгора',\n",
       "       'деревня Торошковичи', 'посёлок Белоостров', 'посёлок Алексеевка',\n",
       "       'посёлок Серебрянский', 'посёлок Лукаши', 'деревня Щеглово',\n",
       "       'деревня Тарасово', 'посёлок Кингисеппский',\n",
       "       'посёлок при железнодорожной станции Вещево', 'посёлок Ушаки',\n",
       "       'деревня Котлы', 'деревня Сижно', 'деревня Торосово',\n",
       "       'посёлок Форт Красная Горка', 'деревня Новолисино',\n",
       "       'посёлок станции Громово', 'деревня Глинка',\n",
       "       'деревня Старая Пустошь', 'посёлок Коммунары', 'посёлок Починок',\n",
       "       'посёлок Вознесенье', 'деревня Разбегаево', 'посёлок Гладкое',\n",
       "       'посёлок при железнодорожной станции Приветнинское',\n",
       "       'посёлок Тёсово-4', 'деревня Бор', 'посёлок Коробицыно',\n",
       "       'деревня Большая Вруда', 'деревня Курковицы', 'посёлок Кобралово',\n",
       "       'деревня Суоранда', 'посёлок Кондратьево',\n",
       "       'коттеджный посёлок Счастье', 'посёлок Любань', 'деревня Реброво',\n",
       "       'деревня Зимитицы', 'деревня Тойворово', 'посёлок Семиозерье',\n",
       "       'посёлок Лесное', 'посёлок Совхозный', 'посёлок Ленинское',\n",
       "       'посёлок Суйда', 'деревня Нижние Осельки', 'посёлок станции Свирь',\n",
       "       'посёлок Перово', 'Высоцк', 'посёлок Гарболово', 'село Шум',\n",
       "       'посёлок Котельский', 'посёлок станции Лужайка',\n",
       "       'деревня Большая Пустомержа', 'посёлок Красносельское',\n",
       "       'деревня Вахнова Кара', 'деревня Пижма',\n",
       "       'коттеджный посёлок Кивеннапа Север', 'посёлок Ромашки',\n",
       "       'деревня Каськово', 'деревня Куровицы', 'посёлок Плоское',\n",
       "       'посёлок Кирпичное', 'деревня Ям-Тесово', 'деревня Раздолье',\n",
       "       'деревня Терпилицы', 'посёлок Шугозеро', 'деревня Ваганово',\n",
       "       'посёлок Пушное', 'садовое товарищество Садко',\n",
       "       'посёлок Усть-Ижора', 'деревня Выскатка', 'посёлок Свирьстрой',\n",
       "       'посёлок Громово', 'деревня Кисельня', 'деревня Трубников Бор',\n",
       "       'посёлок Калитино', 'посёлок Высокоключевой',\n",
       "       'садовое товарищество Приладожский',\n",
       "       'посёлок Пансионат Зелёный Бор', 'деревня Ненимяки',\n",
       "       'деревня Снегирёвка', 'деревня Рапполово', 'деревня Пустынка',\n",
       "       'посёлок Рабитицы', 'деревня Большой Сабск', 'деревня Русско',\n",
       "       'деревня Лупполово', 'деревня Большое Рейзино',\n",
       "       'деревня Малая Романовка', 'посёлок Дружноселье', 'посёлок Пчевжа',\n",
       "       'посёлок Володарское', 'деревня Нижняя',\n",
       "       'коттеджный посёлок Лесное', 'деревня Тихковицы',\n",
       "       'деревня Борисова Грива', 'посёлок Дзержинского'], dtype=object)"
      ]
     },
     "metadata": {},
     "output_type": "display_data"
    }
   ],
   "source": [
    "# избавление от неявных дубликатов\n",
    "data['locality_name'] = data['locality_name'].fillna(\"\") \n",
    "wrong_names = ['поселок городского типа', 'посёлок городского типа', 'городской поселок', 'городской посёлок', 'поселок']\n",
    "correct_name = 'посёлок'\n",
    "def replace_wrong_names(name):\n",
    "    for wrong_name in wrong_names:\n",
    "         if wrong_name in name:\n",
    "            return name.replace(wrong_name, correct_name)\n",
    "    return name\n",
    " \n",
    "data['locality_name'] = data['locality_name'].apply(replace_wrong_names)\n",
    "\n",
    "display(data['locality_name'].unique())"
   ]
  },
  {
   "cell_type": "code",
   "execution_count": 12,
   "metadata": {},
   "outputs": [
    {
     "data": {
      "text/plain": [
       "count    14504.000000\n",
       "mean         2.771499\n",
       "std          1.261056\n",
       "min          1.000000\n",
       "25%          2.520000\n",
       "50%          2.650000\n",
       "75%          2.800000\n",
       "max        100.000000\n",
       "Name: ceiling_height, dtype: float64"
      ]
     },
     "metadata": {},
     "output_type": "display_data"
    }
   ],
   "source": [
    "display(data['ceiling_height'].describe())"
   ]
  },
  {
   "cell_type": "code",
   "execution_count": 13,
   "metadata": {},
   "outputs": [
    {
     "name": "stdout",
     "output_type": "stream",
     "text": [
      "1\n"
     ]
    }
   ],
   "source": [
    "print(len(data[data['ceiling_height'] == 100.0]))"
   ]
  },
  {
   "cell_type": "code",
   "execution_count": 14,
   "metadata": {},
   "outputs": [
    {
     "name": "stdout",
     "output_type": "stream",
     "text": [
      "1\n"
     ]
    }
   ],
   "source": [
    "print(len(data[data['ceiling_height'] == 1.0]))"
   ]
  },
  {
   "cell_type": "code",
   "execution_count": 15,
   "metadata": {},
   "outputs": [
    {
     "name": "stdout",
     "output_type": "stream",
     "text": [
      "3\n",
      "       ceiling_height\n",
      "5712             1.20\n",
      "16934            1.75\n",
      "22590            1.00\n"
     ]
    }
   ],
   "source": [
    "print(len(data[data['ceiling_height'] < 2.0]))\n",
    "print(data.loc[data['ceiling_height'] < 2.0, ['ceiling_height']])"
   ]
  },
  {
   "cell_type": "code",
   "execution_count": 16,
   "metadata": {},
   "outputs": [],
   "source": [
    "data = data.drop(data[data['ceiling_height'] == 100].index) \n",
    "data = data.drop(data[data['ceiling_height'] == 1].index)\n",
    "data = data.drop(data[data['ceiling_height'] == 1.2].index)\n",
    "data = data.drop(data[data['ceiling_height'] == 14].index)# выбросы, который можно удалить"
   ]
  },
  {
   "cell_type": "code",
   "execution_count": 17,
   "metadata": {},
   "outputs": [
    {
     "data": {
      "text/plain": [
       "count    14500.000000\n",
       "mean         2.764250\n",
       "std          0.964139\n",
       "min          1.750000\n",
       "25%          2.520000\n",
       "50%          2.650000\n",
       "75%          2.800000\n",
       "max         32.000000\n",
       "Name: ceiling_height, dtype: float64"
      ]
     },
     "metadata": {},
     "output_type": "display_data"
    }
   ],
   "source": [
    "display(data['ceiling_height'].describe())"
   ]
  },
  {
   "cell_type": "code",
   "execution_count": 18,
   "metadata": {},
   "outputs": [],
   "source": [
    "data['ceiling_height'] = data['ceiling_height'].where(data['ceiling_height'] <= 19, data['ceiling_height']*0.1) #Логично предположить, что на самом деле 25 м это 2.5 м."
   ]
  },
  {
   "cell_type": "code",
   "execution_count": 19,
   "metadata": {},
   "outputs": [
    {
     "data": {
      "text/plain": [
       "count    14500.000000\n",
       "mean         2.728554\n",
       "std          0.299261\n",
       "min          1.750000\n",
       "25%          2.510000\n",
       "50%          2.650000\n",
       "75%          2.800000\n",
       "max         10.300000\n",
       "Name: ceiling_height, dtype: float64"
      ]
     },
     "metadata": {},
     "output_type": "display_data"
    }
   ],
   "source": [
    "display(data['ceiling_height'].describe())"
   ]
  },
  {
   "cell_type": "code",
   "execution_count": 20,
   "metadata": {},
   "outputs": [
    {
     "data": {
      "text/plain": [
       "array([[<AxesSubplot:title={'center':'ceiling_height'}>]], dtype=object)"
      ]
     },
     "execution_count": 20,
     "metadata": {},
     "output_type": "execute_result"
    },
    {
     "data": {
      "image/png": "[encoded data removed]",
      "text/plain": [
       "<Figure size 432x288 with 1 Axes>"
      ]
     },
     "metadata": {
      "needs_background": "light"
     },
     "output_type": "display_data"
    }
   ],
   "source": [
    "data.hist('ceiling_height', bins=50, range=(0,10))"
   ]
  },
  {
   "cell_type": "code",
   "execution_count": 21,
   "metadata": {},
   "outputs": [
    {
     "data": {
      "text/plain": [
       "count    21802.000000\n",
       "mean        34.455424\n",
       "std         22.027812\n",
       "min          2.000000\n",
       "25%         18.600000\n",
       "50%         30.000000\n",
       "75%         42.300000\n",
       "max        409.700000\n",
       "Name: living_area, dtype: float64"
      ]
     },
     "metadata": {},
     "output_type": "display_data"
    }
   ],
   "source": [
    "display(data['living_area'].describe())"
   ]
  },
  {
   "cell_type": "code",
   "execution_count": 22,
   "metadata": {},
   "outputs": [
    {
     "data": {
      "text/html": [
       "<div>\n",
       "<style scoped>\n",
       "    .dataframe tbody tr th:only-of-type {\n",
       "        vertical-align: middle;\n",
       "    }\n",
       "\n",
       "    .dataframe tbody tr th {\n",
       "        vertical-align: top;\n",
       "    }\n",
       "\n",
       "    .dataframe thead th {\n",
       "        text-align: right;\n",
       "    }\n",
       "</style>\n",
       "<table border=\"1\" class=\"dataframe\">\n",
       "  <thead>\n",
       "    <tr style=\"text-align: right;\">\n",
       "      <th></th>\n",
       "      <th>total_images</th>\n",
       "      <th>last_price</th>\n",
       "      <th>total_area</th>\n",
       "      <th>first_day_exposition</th>\n",
       "      <th>rooms</th>\n",
       "      <th>ceiling_height</th>\n",
       "      <th>floors_total</th>\n",
       "      <th>living_area</th>\n",
       "      <th>floor</th>\n",
       "      <th>is_apartment</th>\n",
       "      <th>...</th>\n",
       "      <th>kitchen_area</th>\n",
       "      <th>balcony</th>\n",
       "      <th>locality_name</th>\n",
       "      <th>airports_nearest</th>\n",
       "      <th>cityCenters_nearest</th>\n",
       "      <th>parks_around3000</th>\n",
       "      <th>parks_nearest</th>\n",
       "      <th>ponds_around3000</th>\n",
       "      <th>ponds_nearest</th>\n",
       "      <th>days_exposition</th>\n",
       "    </tr>\n",
       "  </thead>\n",
       "  <tbody>\n",
       "  </tbody>\n",
       "</table>\n",
       "<p>0 rows × 22 columns</p>\n",
       "</div>"
      ],
      "text/plain": [
       "Empty DataFrame\n",
       "Columns: [total_images, last_price, total_area, first_day_exposition, rooms, ceiling_height, floors_total, living_area, floor, is_apartment, studio, open_plan, kitchen_area, balcony, locality_name, airports_nearest, cityCenters_nearest, parks_around3000, parks_nearest, ponds_around3000, ponds_nearest, days_exposition]\n",
       "Index: []\n",
       "\n",
       "[0 rows x 22 columns]"
      ]
     },
     "metadata": {},
     "output_type": "display_data"
    }
   ],
   "source": [
    "display(data.loc[data['total_area'] < data['living_area']])"
   ]
  },
  {
   "cell_type": "code",
   "execution_count": 23,
   "metadata": {},
   "outputs": [
    {
     "data": {
      "text/html": [
       "<div>\n",
       "<style scoped>\n",
       "    .dataframe tbody tr th:only-of-type {\n",
       "        vertical-align: middle;\n",
       "    }\n",
       "\n",
       "    .dataframe tbody tr th {\n",
       "        vertical-align: top;\n",
       "    }\n",
       "\n",
       "    .dataframe thead th {\n",
       "        text-align: right;\n",
       "    }\n",
       "</style>\n",
       "<table border=\"1\" class=\"dataframe\">\n",
       "  <thead>\n",
       "    <tr style=\"text-align: right;\">\n",
       "      <th></th>\n",
       "      <th>total_images</th>\n",
       "      <th>last_price</th>\n",
       "      <th>total_area</th>\n",
       "      <th>first_day_exposition</th>\n",
       "      <th>rooms</th>\n",
       "      <th>ceiling_height</th>\n",
       "      <th>floors_total</th>\n",
       "      <th>living_area</th>\n",
       "      <th>floor</th>\n",
       "      <th>is_apartment</th>\n",
       "      <th>...</th>\n",
       "      <th>kitchen_area</th>\n",
       "      <th>balcony</th>\n",
       "      <th>locality_name</th>\n",
       "      <th>airports_nearest</th>\n",
       "      <th>cityCenters_nearest</th>\n",
       "      <th>parks_around3000</th>\n",
       "      <th>parks_nearest</th>\n",
       "      <th>ponds_around3000</th>\n",
       "      <th>ponds_nearest</th>\n",
       "      <th>days_exposition</th>\n",
       "    </tr>\n",
       "  </thead>\n",
       "  <tbody>\n",
       "  </tbody>\n",
       "</table>\n",
       "<p>0 rows × 22 columns</p>\n",
       "</div>"
      ],
      "text/plain": [
       "Empty DataFrame\n",
       "Columns: [total_images, last_price, total_area, first_day_exposition, rooms, ceiling_height, floors_total, living_area, floor, is_apartment, studio, open_plan, kitchen_area, balcony, locality_name, airports_nearest, cityCenters_nearest, parks_around3000, parks_nearest, ponds_around3000, ponds_nearest, days_exposition]\n",
       "Index: []\n",
       "\n",
       "[0 rows x 22 columns]"
      ]
     },
     "metadata": {},
     "output_type": "display_data"
    }
   ],
   "source": [
    "display(data.loc[data['total_area'] < data['kitchen_area']])"
   ]
  },
  {
   "cell_type": "code",
   "execution_count": 24,
   "metadata": {},
   "outputs": [
    {
     "data": {
      "text/html": [
       "<div>\n",
       "<style scoped>\n",
       "    .dataframe tbody tr th:only-of-type {\n",
       "        vertical-align: middle;\n",
       "    }\n",
       "\n",
       "    .dataframe tbody tr th {\n",
       "        vertical-align: top;\n",
       "    }\n",
       "\n",
       "    .dataframe thead th {\n",
       "        text-align: right;\n",
       "    }\n",
       "</style>\n",
       "<table border=\"1\" class=\"dataframe\">\n",
       "  <thead>\n",
       "    <tr style=\"text-align: right;\">\n",
       "      <th></th>\n",
       "      <th>total_images</th>\n",
       "      <th>last_price</th>\n",
       "      <th>total_area</th>\n",
       "      <th>first_day_exposition</th>\n",
       "      <th>rooms</th>\n",
       "      <th>ceiling_height</th>\n",
       "      <th>floors_total</th>\n",
       "      <th>living_area</th>\n",
       "      <th>floor</th>\n",
       "      <th>is_apartment</th>\n",
       "      <th>...</th>\n",
       "      <th>kitchen_area</th>\n",
       "      <th>balcony</th>\n",
       "      <th>locality_name</th>\n",
       "      <th>airports_nearest</th>\n",
       "      <th>cityCenters_nearest</th>\n",
       "      <th>parks_around3000</th>\n",
       "      <th>parks_nearest</th>\n",
       "      <th>ponds_around3000</th>\n",
       "      <th>ponds_nearest</th>\n",
       "      <th>days_exposition</th>\n",
       "    </tr>\n",
       "  </thead>\n",
       "  <tbody>\n",
       "    <tr>\n",
       "      <th>3242</th>\n",
       "      <td>7</td>\n",
       "      <td>4440000.0</td>\n",
       "      <td>41.0</td>\n",
       "      <td>2017-07-02</td>\n",
       "      <td>1</td>\n",
       "      <td>NaN</td>\n",
       "      <td>17</td>\n",
       "      <td>3.0</td>\n",
       "      <td>17</td>\n",
       "      <td>False</td>\n",
       "      <td>...</td>\n",
       "      <td>11.0</td>\n",
       "      <td>0</td>\n",
       "      <td>Санкт-Петербург</td>\n",
       "      <td>19272.0</td>\n",
       "      <td>13073.0</td>\n",
       "      <td>0.0</td>\n",
       "      <td>NaN</td>\n",
       "      <td>0.0</td>\n",
       "      <td>NaN</td>\n",
       "      <td>216.0</td>\n",
       "    </tr>\n",
       "    <tr>\n",
       "      <th>13915</th>\n",
       "      <td>20</td>\n",
       "      <td>6350000.0</td>\n",
       "      <td>52.0</td>\n",
       "      <td>2018-02-06</td>\n",
       "      <td>2</td>\n",
       "      <td>3.0</td>\n",
       "      <td>6</td>\n",
       "      <td>2.0</td>\n",
       "      <td>2</td>\n",
       "      <td>False</td>\n",
       "      <td>...</td>\n",
       "      <td>9.0</td>\n",
       "      <td>0</td>\n",
       "      <td>Санкт-Петербург</td>\n",
       "      <td>32453.0</td>\n",
       "      <td>6521.0</td>\n",
       "      <td>0.0</td>\n",
       "      <td>NaN</td>\n",
       "      <td>1.0</td>\n",
       "      <td>1012.0</td>\n",
       "      <td>91.0</td>\n",
       "    </tr>\n",
       "    <tr>\n",
       "      <th>17582</th>\n",
       "      <td>11</td>\n",
       "      <td>2680000.0</td>\n",
       "      <td>22.0</td>\n",
       "      <td>2018-08-11</td>\n",
       "      <td>0</td>\n",
       "      <td>NaN</td>\n",
       "      <td>25</td>\n",
       "      <td>5.0</td>\n",
       "      <td>8</td>\n",
       "      <td>False</td>\n",
       "      <td>...</td>\n",
       "      <td>0.0</td>\n",
       "      <td>2</td>\n",
       "      <td>Санкт-Петербург</td>\n",
       "      <td>22735.0</td>\n",
       "      <td>11618.0</td>\n",
       "      <td>1.0</td>\n",
       "      <td>835.0</td>\n",
       "      <td>1.0</td>\n",
       "      <td>652.0</td>\n",
       "      <td>70.0</td>\n",
       "    </tr>\n",
       "    <tr>\n",
       "      <th>21758</th>\n",
       "      <td>0</td>\n",
       "      <td>2330000.0</td>\n",
       "      <td>23.0</td>\n",
       "      <td>2018-01-01</td>\n",
       "      <td>0</td>\n",
       "      <td>NaN</td>\n",
       "      <td>24</td>\n",
       "      <td>2.0</td>\n",
       "      <td>22</td>\n",
       "      <td>False</td>\n",
       "      <td>...</td>\n",
       "      <td>0.0</td>\n",
       "      <td>0</td>\n",
       "      <td>посёлок Мурино</td>\n",
       "      <td>NaN</td>\n",
       "      <td>NaN</td>\n",
       "      <td>0.0</td>\n",
       "      <td>NaN</td>\n",
       "      <td>0.0</td>\n",
       "      <td>NaN</td>\n",
       "      <td>66.0</td>\n",
       "    </tr>\n",
       "    <tr>\n",
       "      <th>21943</th>\n",
       "      <td>15</td>\n",
       "      <td>6100000.0</td>\n",
       "      <td>77.6</td>\n",
       "      <td>2019-02-28</td>\n",
       "      <td>4</td>\n",
       "      <td>2.5</td>\n",
       "      <td>9</td>\n",
       "      <td>5.4</td>\n",
       "      <td>1</td>\n",
       "      <td>False</td>\n",
       "      <td>...</td>\n",
       "      <td>9.8</td>\n",
       "      <td>0</td>\n",
       "      <td>Санкт-Петербург</td>\n",
       "      <td>29338.0</td>\n",
       "      <td>11270.0</td>\n",
       "      <td>1.0</td>\n",
       "      <td>584.0</td>\n",
       "      <td>0.0</td>\n",
       "      <td>NaN</td>\n",
       "      <td>33.0</td>\n",
       "    </tr>\n",
       "    <tr>\n",
       "      <th>23574</th>\n",
       "      <td>14</td>\n",
       "      <td>64990000.0</td>\n",
       "      <td>139.0</td>\n",
       "      <td>2015-11-24</td>\n",
       "      <td>3</td>\n",
       "      <td>3.0</td>\n",
       "      <td>8</td>\n",
       "      <td>3.0</td>\n",
       "      <td>8</td>\n",
       "      <td>False</td>\n",
       "      <td>...</td>\n",
       "      <td>16.0</td>\n",
       "      <td>1</td>\n",
       "      <td>Санкт-Петербург</td>\n",
       "      <td>33255.0</td>\n",
       "      <td>5975.0</td>\n",
       "      <td>1.0</td>\n",
       "      <td>630.0</td>\n",
       "      <td>3.0</td>\n",
       "      <td>100.0</td>\n",
       "      <td>280.0</td>\n",
       "    </tr>\n",
       "  </tbody>\n",
       "</table>\n",
       "<p>6 rows × 22 columns</p>\n",
       "</div>"
      ],
      "text/plain": [
       "       total_images  last_price  total_area first_day_exposition  rooms  \\\n",
       "3242              7   4440000.0        41.0           2017-07-02      1   \n",
       "13915            20   6350000.0        52.0           2018-02-06      2   \n",
       "17582            11   2680000.0        22.0           2018-08-11      0   \n",
       "21758             0   2330000.0        23.0           2018-01-01      0   \n",
       "21943            15   6100000.0        77.6           2019-02-28      4   \n",
       "23574            14  64990000.0       139.0           2015-11-24      3   \n",
       "\n",
       "       ceiling_height  floors_total  living_area  floor  is_apartment  ...  \\\n",
       "3242              NaN            17          3.0     17         False  ...   \n",
       "13915             3.0             6          2.0      2         False  ...   \n",
       "17582             NaN            25          5.0      8         False  ...   \n",
       "21758             NaN            24          2.0     22         False  ...   \n",
       "21943             2.5             9          5.4      1         False  ...   \n",
       "23574             3.0             8          3.0      8         False  ...   \n",
       "\n",
       "       kitchen_area  balcony    locality_name  airports_nearest  \\\n",
       "3242           11.0        0  Санкт-Петербург           19272.0   \n",
       "13915           9.0        0  Санкт-Петербург           32453.0   \n",
       "17582           0.0        2  Санкт-Петербург           22735.0   \n",
       "21758           0.0        0   посёлок Мурино               NaN   \n",
       "21943           9.8        0  Санкт-Петербург           29338.0   \n",
       "23574          16.0        1  Санкт-Петербург           33255.0   \n",
       "\n",
       "      cityCenters_nearest  parks_around3000  parks_nearest  ponds_around3000  \\\n",
       "3242              13073.0               0.0            NaN               0.0   \n",
       "13915              6521.0               0.0            NaN               1.0   \n",
       "17582             11618.0               1.0          835.0               1.0   \n",
       "21758                 NaN               0.0            NaN               0.0   \n",
       "21943             11270.0               1.0          584.0               0.0   \n",
       "23574              5975.0               1.0          630.0               3.0   \n",
       "\n",
       "       ponds_nearest  days_exposition  \n",
       "3242             NaN            216.0  \n",
       "13915         1012.0             91.0  \n",
       "17582          652.0             70.0  \n",
       "21758            NaN             66.0  \n",
       "21943            NaN             33.0  \n",
       "23574          100.0            280.0  \n",
       "\n",
       "[6 rows x 22 columns]"
      ]
     },
     "metadata": {},
     "output_type": "display_data"
    }
   ],
   "source": [
    "display(data.loc[data['living_area'] < 6])"
   ]
  },
  {
   "cell_type": "code",
   "execution_count": 25,
   "metadata": {},
   "outputs": [
    {
     "data": {
      "text/plain": [
       "count    22228.000000\n",
       "mean        34.953125\n",
       "std         23.101873\n",
       "min         10.080000\n",
       "25%         18.900000\n",
       "50%         30.100000\n",
       "75%         42.800000\n",
       "max        571.000000\n",
       "Name: living_area, dtype: float64"
      ]
     },
     "metadata": {},
     "output_type": "display_data"
    }
   ],
   "source": [
    "data['living_area'] = data['living_area'].where(data['living_area'] > 10, data['total_area'] - data['kitchen_area']) # аномально маленькие живые площади можно заменить приблизительными \n",
    "display(data['living_area'].describe())"
   ]
  },
  {
   "cell_type": "code",
   "execution_count": 26,
   "metadata": {},
   "outputs": [
    {
     "data": {
      "text/plain": [
       "count    21566.000000\n",
       "mean        10.497104\n",
       "std          5.950200\n",
       "min          0.000000\n",
       "25%          7.000000\n",
       "50%          9.005000\n",
       "75%         12.000000\n",
       "max        112.000000\n",
       "Name: kitchen_area, dtype: float64"
      ]
     },
     "metadata": {},
     "output_type": "display_data"
    }
   ],
   "source": [
    "display(data['kitchen_area'].describe())"
   ]
  },
  {
   "cell_type": "code",
   "execution_count": 27,
   "metadata": {},
   "outputs": [
    {
     "data": {
      "text/html": [
       "<div>\n",
       "<style scoped>\n",
       "    .dataframe tbody tr th:only-of-type {\n",
       "        vertical-align: middle;\n",
       "    }\n",
       "\n",
       "    .dataframe tbody tr th {\n",
       "        vertical-align: top;\n",
       "    }\n",
       "\n",
       "    .dataframe thead th {\n",
       "        text-align: right;\n",
       "    }\n",
       "</style>\n",
       "<table border=\"1\" class=\"dataframe\">\n",
       "  <thead>\n",
       "    <tr style=\"text-align: right;\">\n",
       "      <th></th>\n",
       "      <th>kitchen_area</th>\n",
       "      <th>total_area</th>\n",
       "    </tr>\n",
       "  </thead>\n",
       "  <tbody>\n",
       "    <tr>\n",
       "      <th>906</th>\n",
       "      <td>2.00</td>\n",
       "      <td>27.00</td>\n",
       "    </tr>\n",
       "    <tr>\n",
       "      <th>2165</th>\n",
       "      <td>3.00</td>\n",
       "      <td>25.00</td>\n",
       "    </tr>\n",
       "    <tr>\n",
       "      <th>3078</th>\n",
       "      <td>3.20</td>\n",
       "      <td>43.00</td>\n",
       "    </tr>\n",
       "    <tr>\n",
       "      <th>3195</th>\n",
       "      <td>3.80</td>\n",
       "      <td>25.60</td>\n",
       "    </tr>\n",
       "    <tr>\n",
       "      <th>6084</th>\n",
       "      <td>3.00</td>\n",
       "      <td>18.00</td>\n",
       "    </tr>\n",
       "    <tr>\n",
       "      <th>6262</th>\n",
       "      <td>2.00</td>\n",
       "      <td>24.00</td>\n",
       "    </tr>\n",
       "    <tr>\n",
       "      <th>7047</th>\n",
       "      <td>3.80</td>\n",
       "      <td>21.00</td>\n",
       "    </tr>\n",
       "    <tr>\n",
       "      <th>7950</th>\n",
       "      <td>2.89</td>\n",
       "      <td>66.40</td>\n",
       "    </tr>\n",
       "    <tr>\n",
       "      <th>8712</th>\n",
       "      <td>3.70</td>\n",
       "      <td>42.70</td>\n",
       "    </tr>\n",
       "    <tr>\n",
       "      <th>8729</th>\n",
       "      <td>2.40</td>\n",
       "      <td>18.40</td>\n",
       "    </tr>\n",
       "    <tr>\n",
       "      <th>9138</th>\n",
       "      <td>2.00</td>\n",
       "      <td>23.29</td>\n",
       "    </tr>\n",
       "    <tr>\n",
       "      <th>10058</th>\n",
       "      <td>3.50</td>\n",
       "      <td>25.00</td>\n",
       "    </tr>\n",
       "    <tr>\n",
       "      <th>10208</th>\n",
       "      <td>3.00</td>\n",
       "      <td>17.00</td>\n",
       "    </tr>\n",
       "    <tr>\n",
       "      <th>11033</th>\n",
       "      <td>2.00</td>\n",
       "      <td>32.00</td>\n",
       "    </tr>\n",
       "    <tr>\n",
       "      <th>11475</th>\n",
       "      <td>3.80</td>\n",
       "      <td>40.80</td>\n",
       "    </tr>\n",
       "    <tr>\n",
       "      <th>12370</th>\n",
       "      <td>3.50</td>\n",
       "      <td>59.20</td>\n",
       "    </tr>\n",
       "    <tr>\n",
       "      <th>12595</th>\n",
       "      <td>3.40</td>\n",
       "      <td>44.40</td>\n",
       "    </tr>\n",
       "    <tr>\n",
       "      <th>13814</th>\n",
       "      <td>3.00</td>\n",
       "      <td>28.00</td>\n",
       "    </tr>\n",
       "    <tr>\n",
       "      <th>14183</th>\n",
       "      <td>3.50</td>\n",
       "      <td>47.00</td>\n",
       "    </tr>\n",
       "    <tr>\n",
       "      <th>14836</th>\n",
       "      <td>3.30</td>\n",
       "      <td>45.00</td>\n",
       "    </tr>\n",
       "    <tr>\n",
       "      <th>15014</th>\n",
       "      <td>3.00</td>\n",
       "      <td>28.30</td>\n",
       "    </tr>\n",
       "    <tr>\n",
       "      <th>16367</th>\n",
       "      <td>2.00</td>\n",
       "      <td>25.70</td>\n",
       "    </tr>\n",
       "    <tr>\n",
       "      <th>17424</th>\n",
       "      <td>3.00</td>\n",
       "      <td>26.69</td>\n",
       "    </tr>\n",
       "    <tr>\n",
       "      <th>17834</th>\n",
       "      <td>2.30</td>\n",
       "      <td>34.70</td>\n",
       "    </tr>\n",
       "    <tr>\n",
       "      <th>18066</th>\n",
       "      <td>3.00</td>\n",
       "      <td>23.80</td>\n",
       "    </tr>\n",
       "    <tr>\n",
       "      <th>19642</th>\n",
       "      <td>2.00</td>\n",
       "      <td>14.00</td>\n",
       "    </tr>\n",
       "    <tr>\n",
       "      <th>20217</th>\n",
       "      <td>1.30</td>\n",
       "      <td>28.50</td>\n",
       "    </tr>\n",
       "    <tr>\n",
       "      <th>21419</th>\n",
       "      <td>2.00</td>\n",
       "      <td>20.00</td>\n",
       "    </tr>\n",
       "    <tr>\n",
       "      <th>23498</th>\n",
       "      <td>3.50</td>\n",
       "      <td>54.00</td>\n",
       "    </tr>\n",
       "  </tbody>\n",
       "</table>\n",
       "</div>"
      ],
      "text/plain": [
       "       kitchen_area  total_area\n",
       "906            2.00       27.00\n",
       "2165           3.00       25.00\n",
       "3078           3.20       43.00\n",
       "3195           3.80       25.60\n",
       "6084           3.00       18.00\n",
       "6262           2.00       24.00\n",
       "7047           3.80       21.00\n",
       "7950           2.89       66.40\n",
       "8712           3.70       42.70\n",
       "8729           2.40       18.40\n",
       "9138           2.00       23.29\n",
       "10058          3.50       25.00\n",
       "10208          3.00       17.00\n",
       "11033          2.00       32.00\n",
       "11475          3.80       40.80\n",
       "12370          3.50       59.20\n",
       "12595          3.40       44.40\n",
       "13814          3.00       28.00\n",
       "14183          3.50       47.00\n",
       "14836          3.30       45.00\n",
       "15014          3.00       28.30\n",
       "16367          2.00       25.70\n",
       "17424          3.00       26.69\n",
       "17834          2.30       34.70\n",
       "18066          3.00       23.80\n",
       "19642          2.00       14.00\n",
       "20217          1.30       28.50\n",
       "21419          2.00       20.00\n",
       "23498          3.50       54.00"
      ]
     },
     "metadata": {},
     "output_type": "display_data"
    }
   ],
   "source": [
    "display(data.loc[(data['kitchen_area'] < 4) & (data['kitchen_area'] != 0), ['kitchen_area', 'total_area']])"
   ]
  },
  {
   "cell_type": "markdown",
   "metadata": {},
   "source": [
    "В данных встречаются аномально большие значения для высоты потолков, а также аномально маленькие значения жилой площади и площади кухни для некоторых квартир."
   ]
  },
  {
   "cell_type": "code",
   "execution_count": 28,
   "metadata": {},
   "outputs": [],
   "source": [
    "data['living_area'] = data['living_area'].where(data['total_area'] > data['living_area'], data['total_area'])"
   ]
  },
  {
   "cell_type": "markdown",
   "metadata": {},
   "source": [
    "### Посчитайте и добавьте в таблицу новые столбцы"
   ]
  },
  {
   "cell_type": "code",
   "execution_count": 29,
   "metadata": {},
   "outputs": [],
   "source": [
    "data['price_per_meter'] = data['last_price']/data['total_area']"
   ]
  },
  {
   "cell_type": "code",
   "execution_count": 30,
   "metadata": {},
   "outputs": [],
   "source": [
    "data['week_day_exposition'] = data['first_day_exposition'].dt.weekday\n",
    "data['month_day_exposition'] = data['first_day_exposition'].dt.month\n",
    "data['year_day_exposition'] = data['first_day_exposition'].dt.year\n",
    "#astype('datetime64[M]')"
   ]
  },
  {
   "cell_type": "code",
   "execution_count": 31,
   "metadata": {},
   "outputs": [],
   "source": [
    "data['floor'] = data['floor'].fillna(0) # Индикатор, если неизвестен этаж квартиры\n",
    "data['floors_total'] = data['floors_total'].fillna(-1) # Индикатор для неизвестного количества этажей в доме"
   ]
  },
  {
   "cell_type": "code",
   "execution_count": 32,
   "metadata": {},
   "outputs": [],
   "source": [
    "def first_and_last_floor(row):\n",
    "    if row['floor'] == row['floors_total']:\n",
    "        return 'Последний'\n",
    "    if row['floor'] == 1:\n",
    "        return 'Первый'\n",
    "    if row['floor'] == 0:\n",
    "        return 'Неизвестен'\n",
    "    return 'Другой'\n",
    "\n",
    "data['category_by_floor'] = data.apply(first_and_last_floor, axis=1)"
   ]
  },
  {
   "cell_type": "code",
   "execution_count": 33,
   "metadata": {},
   "outputs": [],
   "source": [
    "data['cityCenters_nearest_km'] = round(data['cityCenters_nearest']/1000)"
   ]
  },
  {
   "cell_type": "markdown",
   "metadata": {},
   "source": [
    "### Проведите исследовательский анализ данных"
   ]
  },
  {
   "cell_type": "code",
   "execution_count": 34,
   "metadata": {},
   "outputs": [
    {
     "data": {
      "text/plain": [
       "count    23695.000000\n",
       "mean        60.351276\n",
       "std         35.656144\n",
       "min         12.000000\n",
       "25%         40.000000\n",
       "50%         52.000000\n",
       "75%         69.900000\n",
       "max        900.000000\n",
       "Name: total_area, dtype: float64"
      ]
     },
     "metadata": {},
     "output_type": "display_data"
    }
   ],
   "source": [
    "display(data['total_area'].describe())"
   ]
  },
  {
   "cell_type": "code",
   "execution_count": 35,
   "metadata": {},
   "outputs": [
    {
     "data": {
      "text/plain": [
       "array([[<AxesSubplot:title={'center':'total_area'}>]], dtype=object)"
      ]
     },
     "execution_count": 35,
     "metadata": {},
     "output_type": "execute_result"
    },
    {
     "data": {
      "image/png": "[encoded data removed]",
      "text/plain": [
       "<Figure size 432x288 with 1 Axes>"
      ]
     },
     "metadata": {
      "needs_background": "light"
     },
     "output_type": "display_data"
    }
   ],
   "source": [
    "data.hist('total_area', bins=50, range=(10,100))"
   ]
  },
  {
   "cell_type": "markdown",
   "metadata": {},
   "source": [
    "Больше всего квартир с площадью около 30, 45 и 60 кв. м. Редко встречаются меньше 20 и больше 200 кв. метров. Распределение близко к нормальному. Данные выглядят правдоподобно."
   ]
  },
  {
   "cell_type": "code",
   "execution_count": 36,
   "metadata": {},
   "outputs": [
    {
     "data": {
      "text/plain": [
       "count    23695.000000\n",
       "mean        36.573881\n",
       "std         25.467363\n",
       "min         10.080000\n",
       "25%         19.000000\n",
       "50%         31.000000\n",
       "75%         44.000000\n",
       "max        571.000000\n",
       "Name: living_area, dtype: float64"
      ]
     },
     "metadata": {},
     "output_type": "display_data"
    },
    {
     "data": {
      "text/plain": [
       "array([[<AxesSubplot:title={'center':'living_area'}>]], dtype=object)"
      ]
     },
     "execution_count": 36,
     "metadata": {},
     "output_type": "execute_result"
    },
    {
     "data": {
      "image/png": "[encoded data removed]",
      "text/plain": [
       "<Figure size 432x288 with 1 Axes>"
      ]
     },
     "metadata": {
      "needs_background": "light"
     },
     "output_type": "display_data"
    }
   ],
   "source": [
    "display(data['living_area'].describe())\n",
    "data.hist('living_area', bins=100, range=(10,75))"
   ]
  },
  {
   "cell_type": "markdown",
   "metadata": {},
   "source": [
    "Слишком много жилых площадей меньше 20 кв. метров. Возможно, многие клиенты не знают, что входит в жилую площадь, из-за чего данные выглядят неправдоподобно."
   ]
  },
  {
   "cell_type": "code",
   "execution_count": 37,
   "metadata": {},
   "outputs": [
    {
     "data": {
      "text/plain": [
       "count    21566.000000\n",
       "mean        10.497104\n",
       "std          5.950200\n",
       "min          0.000000\n",
       "25%          7.000000\n",
       "50%          9.005000\n",
       "75%         12.000000\n",
       "max        112.000000\n",
       "Name: kitchen_area, dtype: float64"
      ]
     },
     "metadata": {},
     "output_type": "display_data"
    },
    {
     "data": {
      "text/plain": [
       "array([[<AxesSubplot:title={'center':'kitchen_area'}>]], dtype=object)"
      ]
     },
     "execution_count": 37,
     "metadata": {},
     "output_type": "execute_result"
    },
    {
     "data": {
      "image/png": "[encoded data removed]",
      "text/plain": [
       "<Figure size 432x288 with 1 Axes>"
      ]
     },
     "metadata": {
      "needs_background": "light"
     },
     "output_type": "display_data"
    }
   ],
   "source": [
    "display(data['kitchen_area'].describe())\n",
    "data.hist('kitchen_area', bins=50, range=(0,20))"
   ]
  },
  {
   "cell_type": "markdown",
   "metadata": {},
   "source": [
    "Нулевая площадь кухни характерна для квартир студий. Чаще всего встречаются квартиры с площадью кухни около 6, 8 и 11 кв. метров, что выглядит правдоподобно."
   ]
  },
  {
   "cell_type": "code",
   "execution_count": 38,
   "metadata": {},
   "outputs": [
    {
     "data": {
      "text/plain": [
       "count    23695.000000\n",
       "mean         2.070690\n",
       "std          1.078473\n",
       "min          0.000000\n",
       "25%          1.000000\n",
       "50%          2.000000\n",
       "75%          3.000000\n",
       "max         19.000000\n",
       "Name: rooms, dtype: float64"
      ]
     },
     "metadata": {},
     "output_type": "display_data"
    },
    {
     "data": {
      "text/plain": [
       "array([[<AxesSubplot:title={'center':'rooms'}>]], dtype=object)"
      ]
     },
     "execution_count": 38,
     "metadata": {},
     "output_type": "execute_result"
    },
    {
     "data": {
      "image/png": "[encoded data removed]",
      "text/plain": [
       "<Figure size 432x288 with 1 Axes>"
      ]
     },
     "metadata": {
      "needs_background": "light"
     },
     "output_type": "display_data"
    }
   ],
   "source": [
    "display(data['rooms'].describe())\n",
    "data.hist('rooms', bins=50, range=(0,10))"
   ]
  },
  {
   "cell_type": "markdown",
   "metadata": {},
   "source": [
    "Самые популярные квартиры - однокомнатные и двухкомнатные. Данные реалистичные."
   ]
  },
  {
   "cell_type": "code",
   "execution_count": 39,
   "metadata": {},
   "outputs": [
    {
     "data": {
      "text/plain": [
       "count    14500.000000\n",
       "mean         2.728554\n",
       "std          0.299261\n",
       "min          1.750000\n",
       "25%          2.510000\n",
       "50%          2.650000\n",
       "75%          2.800000\n",
       "max         10.300000\n",
       "Name: ceiling_height, dtype: float64"
      ]
     },
     "metadata": {},
     "output_type": "display_data"
    },
    {
     "data": {
      "text/plain": [
       "array([[<AxesSubplot:title={'center':'ceiling_height'}>]], dtype=object)"
      ]
     },
     "execution_count": 39,
     "metadata": {},
     "output_type": "execute_result"
    },
    {
     "data": {
      "image/png": "[encoded data removed]",
      "text/plain": [
       "<Figure size 432x288 with 1 Axes>"
      ]
     },
     "metadata": {
      "needs_background": "light"
     },
     "output_type": "display_data"
    }
   ],
   "source": [
    "display(data['ceiling_height'].describe())\n",
    "data.hist('ceiling_height', bins=100, range=(2,4))"
   ]
  },
  {
   "cell_type": "markdown",
   "metadata": {},
   "source": [
    "Высота потолков от 2,5 до 2,8 и 3 метра являются стандартом и в данных встречаются чаще всего. Хотя встречаются и слишком высокие потолки (10 метром), но таких данных мало."
   ]
  },
  {
   "cell_type": "code",
   "execution_count": 40,
   "metadata": {},
   "outputs": [
    {
     "data": {
      "text/plain": [
       "count    23695.000000\n",
       "mean         5.892593\n",
       "std          4.885546\n",
       "min          1.000000\n",
       "25%          2.000000\n",
       "50%          4.000000\n",
       "75%          8.000000\n",
       "max         33.000000\n",
       "Name: floor, dtype: float64"
      ]
     },
     "metadata": {},
     "output_type": "display_data"
    },
    {
     "data": {
      "text/plain": [
       "array([[<AxesSubplot:title={'center':'floor'}>]], dtype=object)"
      ]
     },
     "execution_count": 40,
     "metadata": {},
     "output_type": "execute_result"
    },
    {
     "data": {
      "image/png": "[encoded data removed]",
      "text/plain": [
       "<Figure size 432x288 with 1 Axes>"
      ]
     },
     "metadata": {
      "needs_background": "light"
     },
     "output_type": "display_data"
    }
   ],
   "source": [
    "data_spb = data[data['locality_name'] == 'Санкт-Петербург']\n",
    "display(data['floor'].describe())\n",
    "data.hist('floor', bins=100)"
   ]
  },
  {
   "cell_type": "code",
   "execution_count": 41,
   "metadata": {},
   "outputs": [
    {
     "data": {
      "text/plain": [
       "array([[<AxesSubplot:title={'center':'floor'}>]], dtype=object)"
      ]
     },
     "execution_count": 41,
     "metadata": {},
     "output_type": "execute_result"
    },
    {
     "data": {
      "image/png": "[encoded data removed]",
      "text/plain": [
       "<Figure size 432x288 with 1 Axes>"
      ]
     },
     "metadata": {
      "needs_background": "light"
     },
     "output_type": "display_data"
    }
   ],
   "source": [
    "data_spb.hist('floor', bins=100)"
   ]
  },
  {
   "cell_type": "markdown",
   "metadata": {},
   "source": [
    "Самые популярные этажи - до 5 включительно."
   ]
  },
  {
   "cell_type": "code",
   "execution_count": 42,
   "metadata": {},
   "outputs": [
    {
     "data": {
      "text/plain": [
       "count      23695\n",
       "unique         3\n",
       "top       Другой\n",
       "freq       17444\n",
       "Name: category_by_floor, dtype: object"
      ]
     },
     "metadata": {},
     "output_type": "display_data"
    },
    {
     "data": {
      "text/plain": [
       "<AxesSubplot:>"
      ]
     },
     "execution_count": 42,
     "metadata": {},
     "output_type": "execute_result"
    },
    {
     "data": {
      "image/png": "[encoded data removed]",
      "text/plain": [
       "<Figure size 432x288 with 1 Axes>"
      ]
     },
     "metadata": {
      "needs_background": "light"
     },
     "output_type": "display_data"
    }
   ],
   "source": [
    "display(data['category_by_floor'].describe())\n",
    "data['category_by_floor'].value_counts().plot(kind='bar')"
   ]
  },
  {
   "cell_type": "markdown",
   "metadata": {},
   "source": [
    "Наиболее предпочтительный вариант - не первый и не последний этаж."
   ]
  },
  {
   "cell_type": "code",
   "execution_count": 43,
   "metadata": {},
   "outputs": [
    {
     "data": {
      "text/plain": [
       "count    23695.000000\n",
       "mean        10.631863\n",
       "std          6.622678\n",
       "min         -1.000000\n",
       "25%          5.000000\n",
       "50%          9.000000\n",
       "75%         16.000000\n",
       "max         60.000000\n",
       "Name: floors_total, dtype: float64"
      ]
     },
     "metadata": {},
     "output_type": "display_data"
    },
    {
     "data": {
      "text/plain": [
       "array([[<AxesSubplot:title={'center':'floors_total'}>]], dtype=object)"
      ]
     },
     "execution_count": 43,
     "metadata": {},
     "output_type": "execute_result"
    },
    {
     "data": {
      "image/png": "[encoded data removed]",
      "text/plain": [
       "<Figure size 432x288 with 1 Axes>"
      ]
     },
     "metadata": {
      "needs_background": "light"
     },
     "output_type": "display_data"
    }
   ],
   "source": [
    "display(data['floors_total'].describe())\n",
    "data.hist('floors_total', bins=40)"
   ]
  },
  {
   "cell_type": "code",
   "execution_count": 44,
   "metadata": {},
   "outputs": [
    {
     "data": {
      "text/plain": [
       "count    23695.000000\n",
       "mean        10.631863\n",
       "std          6.622678\n",
       "min         -1.000000\n",
       "25%          5.000000\n",
       "50%          9.000000\n",
       "75%         16.000000\n",
       "max         60.000000\n",
       "Name: floors_total, dtype: float64"
      ]
     },
     "metadata": {},
     "output_type": "display_data"
    },
    {
     "data": {
      "text/plain": [
       "array([[<AxesSubplot:title={'center':'floors_total'}>]], dtype=object)"
      ]
     },
     "execution_count": 44,
     "metadata": {},
     "output_type": "execute_result"
    },
    {
     "data": {
      "image/png": "[encoded data removed]",
      "text/plain": [
       "<Figure size 432x288 with 1 Axes>"
      ]
     },
     "metadata": {
      "needs_background": "light"
     },
     "output_type": "display_data"
    }
   ],
   "source": [
    "display(data['floors_total'].describe())\n",
    "data_spb.hist('floors_total', bins=40)"
   ]
  },
  {
   "cell_type": "markdown",
   "metadata": {},
   "source": [
    "Чаще всего выбирают пятиэтажки и девятиэтажки."
   ]
  },
  {
   "cell_type": "markdown",
   "metadata": {},
   "source": []
  },
  {
   "cell_type": "code",
   "execution_count": 45,
   "metadata": {},
   "outputs": [
    {
     "data": {
      "text/plain": [
       "count    18177.000000\n",
       "mean     14191.633438\n",
       "std       8608.983969\n",
       "min        181.000000\n",
       "25%       9238.000000\n",
       "50%      13098.000000\n",
       "75%      16293.000000\n",
       "max      65968.000000\n",
       "Name: cityCenters_nearest, dtype: float64"
      ]
     },
     "metadata": {},
     "output_type": "display_data"
    },
    {
     "data": {
      "text/plain": [
       "array([[<AxesSubplot:title={'center':'cityCenters_nearest'}>]],\n",
       "      dtype=object)"
      ]
     },
     "execution_count": 45,
     "metadata": {},
     "output_type": "execute_result"
    },
    {
     "data": {
      "image/png": "[encoded data removed]",
      "text/plain": [
       "<Figure size 432x288 with 1 Axes>"
      ]
     },
     "metadata": {
      "needs_background": "light"
     },
     "output_type": "display_data"
    }
   ],
   "source": [
    "display(data['cityCenters_nearest'].describe())\n",
    "data.hist('cityCenters_nearest', bins=100)"
   ]
  },
  {
   "cell_type": "markdown",
   "metadata": {},
   "source": [
    "Больше всего проданных квартир на расстоянии в 10000-20000 км от центра."
   ]
  },
  {
   "cell_type": "code",
   "execution_count": 46,
   "metadata": {},
   "outputs": [
    {
     "data": {
      "text/plain": [
       "count    15657.000000\n",
       "mean     11601.208150\n",
       "std       4842.354817\n",
       "min        181.000000\n",
       "25%       8328.000000\n",
       "50%      12244.000000\n",
       "75%      14943.000000\n",
       "max      29493.000000\n",
       "Name: cityCenters_nearest, dtype: float64"
      ]
     },
     "metadata": {},
     "output_type": "display_data"
    },
    {
     "data": {
      "text/plain": [
       "array([[<AxesSubplot:title={'center':'cityCenters_nearest'}>]],\n",
       "      dtype=object)"
      ]
     },
     "execution_count": 46,
     "metadata": {},
     "output_type": "execute_result"
    },
    {
     "data": {
      "image/png": "[encoded data removed]",
      "text/plain": [
       "<Figure size 432x288 with 1 Axes>"
      ]
     },
     "metadata": {
      "needs_background": "light"
     },
     "output_type": "display_data"
    }
   ],
   "source": [
    "display(data_spb['cityCenters_nearest'].describe())\n",
    "data_spb.hist('cityCenters_nearest', bins=100)"
   ]
  },
  {
   "cell_type": "code",
   "execution_count": 47,
   "metadata": {},
   "outputs": [
    {
     "data": {
      "text/plain": [
       "count    18154.000000\n",
       "mean     28793.867798\n",
       "std      12631.375585\n",
       "min          0.000000\n",
       "25%      18585.000000\n",
       "50%      26726.000000\n",
       "75%      37274.500000\n",
       "max      84869.000000\n",
       "Name: airports_nearest, dtype: float64"
      ]
     },
     "metadata": {},
     "output_type": "display_data"
    },
    {
     "data": {
      "text/plain": [
       "array([[<AxesSubplot:title={'center':'airports_nearest'}>]], dtype=object)"
      ]
     },
     "execution_count": 47,
     "metadata": {},
     "output_type": "execute_result"
    },
    {
     "data": {
      "image/png": "[encoded data removed]",
      "text/plain": [
       "<Figure size 432x288 with 1 Axes>"
      ]
     },
     "metadata": {
      "needs_background": "light"
     },
     "output_type": "display_data"
    }
   ],
   "source": [
    "display(data['airports_nearest'].describe())\n",
    "data.hist('airports_nearest', bins=100)"
   ]
  },
  {
   "cell_type": "markdown",
   "metadata": {},
   "source": [
    "Больше всего проданных квартир на расстоянии в 10000-40000 км от аэропорта."
   ]
  },
  {
   "cell_type": "code",
   "execution_count": 48,
   "metadata": {},
   "outputs": [
    {
     "data": {
      "text/plain": [
       "count    8077.000000\n",
       "mean      490.862201\n",
       "std       342.340329\n",
       "min         1.000000\n",
       "25%       288.000000\n",
       "50%       455.000000\n",
       "75%       612.000000\n",
       "max      3190.000000\n",
       "Name: parks_nearest, dtype: float64"
      ]
     },
     "metadata": {},
     "output_type": "display_data"
    },
    {
     "data": {
      "text/plain": [
       "array([[<AxesSubplot:title={'center':'parks_nearest'}>]], dtype=object)"
      ]
     },
     "execution_count": 48,
     "metadata": {},
     "output_type": "execute_result"
    },
    {
     "data": {
      "image/png": "[encoded data removed]",
      "text/plain": [
       "<Figure size 432x288 with 1 Axes>"
      ]
     },
     "metadata": {
      "needs_background": "light"
     },
     "output_type": "display_data"
    }
   ],
   "source": [
    "display(data['parks_nearest'].describe())\n",
    "data.hist('parks_nearest', bins=100)"
   ]
  },
  {
   "cell_type": "markdown",
   "metadata": {},
   "source": [
    "Больше всего проданных квартир на расстоянии не более 1000 км от ближайшего парка."
   ]
  },
  {
   "cell_type": "code",
   "execution_count": 49,
   "metadata": {},
   "outputs": [
    {
     "data": {
      "text/plain": [
       "count    23695.000000\n",
       "mean         2.569403\n",
       "std          1.789124\n",
       "min          0.000000\n",
       "25%          1.000000\n",
       "50%          3.000000\n",
       "75%          4.000000\n",
       "max          6.000000\n",
       "Name: week_day_exposition, dtype: float64"
      ]
     },
     "metadata": {},
     "output_type": "display_data"
    },
    {
     "data": {
      "text/plain": [
       "array([[<AxesSubplot:title={'center':'week_day_exposition'}>]],\n",
       "      dtype=object)"
      ]
     },
     "execution_count": 49,
     "metadata": {},
     "output_type": "execute_result"
    },
    {
     "data": {
      "image/png": "[encoded data removed]",
      "text/plain": [
       "<Figure size 432x288 with 1 Axes>"
      ]
     },
     "metadata": {
      "needs_background": "light"
     },
     "output_type": "display_data"
    }
   ],
   "source": [
    "display(data['week_day_exposition'].describe())\n",
    "data.hist('week_day_exposition', bins=100)"
   ]
  },
  {
   "cell_type": "markdown",
   "metadata": {},
   "source": [
    "Обычно покупки происходят в будние"
   ]
  },
  {
   "cell_type": "code",
   "execution_count": 50,
   "metadata": {},
   "outputs": [
    {
     "data": {
      "text/plain": [
       "count    23695.000000\n",
       "mean         6.399916\n",
       "std          3.491748\n",
       "min          1.000000\n",
       "25%          3.000000\n",
       "50%          6.000000\n",
       "75%         10.000000\n",
       "max         12.000000\n",
       "Name: month_day_exposition, dtype: float64"
      ]
     },
     "metadata": {},
     "output_type": "display_data"
    },
    {
     "data": {
      "text/plain": [
       "array([[<AxesSubplot:title={'center':'month_day_exposition'}>]],\n",
       "      dtype=object)"
      ]
     },
     "execution_count": 50,
     "metadata": {},
     "output_type": "execute_result"
    },
    {
     "data": {
      "image/png": "[encoded data removed]",
      "text/plain": [
       "<Figure size 432x288 with 1 Axes>"
      ]
     },
     "metadata": {
      "needs_background": "light"
     },
     "output_type": "display_data"
    }
   ],
   "source": [
    "display(data['month_day_exposition'].describe())\n",
    "data.hist('month_day_exposition', bins=100)"
   ]
  },
  {
   "cell_type": "markdown",
   "metadata": {},
   "source": [
    "Чаще всего покупка недживимости происходит в феврале, марте, апреле,октябре и ноябре."
   ]
  },
  {
   "cell_type": "code",
   "execution_count": 51,
   "metadata": {},
   "outputs": [
    {
     "name": "stdout",
     "output_type": "stream",
     "text": [
      "1580.0\n"
     ]
    }
   ],
   "source": [
    "print(data['days_exposition'].max())"
   ]
  },
  {
   "cell_type": "code",
   "execution_count": 52,
   "metadata": {},
   "outputs": [
    {
     "data": {
      "text/plain": [
       "count    20514.000000\n",
       "mean       180.894901\n",
       "std        219.740882\n",
       "min          1.000000\n",
       "25%         45.000000\n",
       "50%         95.000000\n",
       "75%        232.000000\n",
       "max       1580.000000\n",
       "Name: days_exposition, dtype: float64"
      ]
     },
     "metadata": {},
     "output_type": "display_data"
    },
    {
     "data": {
      "text/plain": [
       "array([[<AxesSubplot:title={'center':'days_exposition'}>]], dtype=object)"
      ]
     },
     "execution_count": 52,
     "metadata": {},
     "output_type": "execute_result"
    },
    {
     "data": {
      "image/png": "[encoded data removed]",
      "text/plain": [
       "<Figure size 432x288 with 1 Axes>"
      ]
     },
     "metadata": {
      "needs_background": "light"
     },
     "output_type": "display_data"
    }
   ],
   "source": [
    "display(data['days_exposition'].describe())\n",
    "data.hist('days_exposition', bins=100, range=(0,100))"
   ]
  },
  {
   "cell_type": "markdown",
   "metadata": {},
   "source": [
    "Максимальные значения соотвествуют 43 и 60 дням."
   ]
  },
  {
   "cell_type": "code",
   "execution_count": 53,
   "metadata": {},
   "outputs": [
    {
     "name": "stdout",
     "output_type": "stream",
     "text": [
      "180.89490104319\n",
      "95.0\n"
     ]
    }
   ],
   "source": [
    "print(data['days_exposition'].mean())\n",
    "print(data['days_exposition'].median())"
   ]
  },
  {
   "cell_type": "markdown",
   "metadata": {},
   "source": [
    "Обычно продажа занимает 95 дней. Необычно долгие продажи занимают более 513 дней (выходят за пределы 1,5 IQR), быстрые продажи занимают менее 45 дней."
   ]
  },
  {
   "cell_type": "code",
   "execution_count": 54,
   "metadata": {},
   "outputs": [
    {
     "data": {
      "image/png": "[encoded data removed]",
      "text/plain": [
       "<Figure size 432x288 with 1 Axes>"
      ]
     },
     "metadata": {
      "needs_background": "light"
     },
     "output_type": "display_data"
    }
   ],
   "source": [
    "import matplotlib.pyplot as plt\n",
    "y = data['last_price']\n",
    "x = data['total_area']\n",
    "#plt.xlim(1.5, 3.5)\n",
    "plt.plot(x, y, 'o')\n",
    "plt.show()"
   ]
  },
  {
   "cell_type": "code",
   "execution_count": 55,
   "metadata": {},
   "outputs": [
    {
     "data": {
      "text/plain": [
       "0.6537260264175776"
      ]
     },
     "execution_count": 55,
     "metadata": {},
     "output_type": "execute_result"
    }
   ],
   "source": [
    "data['last_price'].corr(data['total_area'])"
   ]
  },
  {
   "cell_type": "markdown",
   "metadata": {},
   "source": [
    "При увеличении площади цена растет. "
   ]
  },
  {
   "cell_type": "code",
   "execution_count": 56,
   "metadata": {},
   "outputs": [
    {
     "data": {
      "image/png": "[encoded data removed]",
      "text/plain": [
       "<Figure size 432x288 with 1 Axes>"
      ]
     },
     "metadata": {
      "needs_background": "light"
     },
     "output_type": "display_data"
    },
    {
     "data": {
      "text/plain": [
       "0.5608614809452729"
      ]
     },
     "execution_count": 56,
     "metadata": {},
     "output_type": "execute_result"
    }
   ],
   "source": [
    "import matplotlib.pyplot as plt\n",
    "y = data['last_price']\n",
    "x = data['living_area']\n",
    "#plt.xlim(1.5, 3.5)\n",
    "plt.plot(x, y, 'o')\n",
    "plt.show()\n",
    "\n",
    "data['last_price'].corr(data['living_area'])"
   ]
  },
  {
   "cell_type": "code",
   "execution_count": 57,
   "metadata": {},
   "outputs": [
    {
     "data": {
      "image/png": "[encoded data removed]",
      "text/plain": [
       "<Figure size 432x288 with 1 Axes>"
      ]
     },
     "metadata": {
      "needs_background": "light"
     },
     "output_type": "display_data"
    },
    {
     "data": {
      "text/plain": [
       "0.5182998299099466"
      ]
     },
     "execution_count": 57,
     "metadata": {},
     "output_type": "execute_result"
    }
   ],
   "source": [
    "import matplotlib.pyplot as plt\n",
    "y = data['last_price']\n",
    "x = data['kitchen_area']\n",
    "#plt.xlim(1.5, 3.5)\n",
    "plt.plot(x, y, 'o')\n",
    "plt.show()\n",
    "\n",
    "data['last_price'].corr(data['kitchen_area'])"
   ]
  },
  {
   "cell_type": "markdown",
   "metadata": {},
   "source": [
    "С увеличением жилой площади и площади кухни цена растет."
   ]
  },
  {
   "cell_type": "code",
   "execution_count": 58,
   "metadata": {},
   "outputs": [
    {
     "data": {
      "image/png": "[encoded data removed]",
      "text/plain": [
       "<Figure size 432x288 with 1 Axes>"
      ]
     },
     "metadata": {
      "needs_background": "light"
     },
     "output_type": "display_data"
    }
   ],
   "source": [
    "y = data['last_price']\n",
    "x = data['rooms']\n",
    "#plt.xlim(1.5, 3.5)\n",
    "plt.plot(x, y, 'o')\n",
    "plt.show()"
   ]
  },
  {
   "cell_type": "markdown",
   "metadata": {},
   "source": [
    "Самые дорогие квартиры - пятикомнатные."
   ]
  },
  {
   "cell_type": "code",
   "execution_count": 59,
   "metadata": {},
   "outputs": [
    {
     "data": {
      "image/png": "[encoded data removed]",
      "text/plain": [
       "<Figure size 432x288 with 1 Axes>"
      ]
     },
     "metadata": {
      "needs_background": "light"
     },
     "output_type": "display_data"
    }
   ],
   "source": [
    "y = data['last_price']\n",
    "x = data['category_by_floor']\n",
    "#plt.xlim(1.5, 3.5)\n",
    "plt.plot(x, y, 'o')\n",
    "plt.show()"
   ]
  },
  {
   "cell_type": "code",
   "execution_count": 60,
   "metadata": {},
   "outputs": [
    {
     "data": {
      "text/plain": [
       "<AxesSubplot:xlabel='category_by_floor'>"
      ]
     },
     "execution_count": 60,
     "metadata": {},
     "output_type": "execute_result"
    },
    {
     "data": {
      "image/png": "[encoded data removed]",
      "text/plain": [
       "<Figure size 432x288 with 1 Axes>"
      ]
     },
     "metadata": {
      "needs_background": "light"
     },
     "output_type": "display_data"
    }
   ],
   "source": [
    "data.pivot_table(index='category_by_floor', values='last_price', aggfunc='median').plot()"
   ]
  },
  {
   "cell_type": "markdown",
   "metadata": {},
   "source": [
    "Наиболее дешевыми оказываются квартиры, расположенные на 1 этаже. Цена растет, если этаж меняется на последний, но наибольшую цену имеют квартиры, расположенные не на первом и не на последнем этажах."
   ]
  },
  {
   "cell_type": "code",
   "execution_count": 61,
   "metadata": {},
   "outputs": [
    {
     "data": {
      "text/plain": [
       "<AxesSubplot:title={'center':'Зависимость цены от дня недели продажи объекта'}, xlabel='week_day_exposition'>"
      ]
     },
     "execution_count": 61,
     "metadata": {},
     "output_type": "execute_result"
    },
    {
     "data": {
      "image/png": "[encoded data removed]",
      "text/plain": [
       "<Figure size 432x288 with 1 Axes>"
      ]
     },
     "metadata": {
      "needs_background": "light"
     },
     "output_type": "display_data"
    }
   ],
   "source": [
    "data.pivot_table(index='week_day_exposition', values='last_price', aggfunc='median').plot(grid = True, title = 'Зависимость цены от дня недели продажи объекта')"
   ]
  },
  {
   "cell_type": "code",
   "execution_count": 62,
   "metadata": {},
   "outputs": [
    {
     "data": {
      "text/plain": [
       "<AxesSubplot:title={'center':'Зависимость цены от месяца продажи объекта'}, xlabel='month_day_exposition'>"
      ]
     },
     "execution_count": 62,
     "metadata": {},
     "output_type": "execute_result"
    },
    {
     "data": {
      "image/png": "[encoded data removed]",
      "text/plain": [
       "<Figure size 432x288 with 1 Axes>"
      ]
     },
     "metadata": {
      "needs_background": "light"
     },
     "output_type": "display_data"
    }
   ],
   "source": [
    "data.pivot_table(index='month_day_exposition', values='last_price', aggfunc='median').plot(grid = True, title = 'Зависимость цены от месяца продажи объекта')\n"
   ]
  },
  {
   "cell_type": "code",
   "execution_count": 63,
   "metadata": {},
   "outputs": [
    {
     "data": {
      "text/plain": [
       "<AxesSubplot:title={'center':'Зависимость цены от года продажи объекта'}, xlabel='year_day_exposition'>"
      ]
     },
     "execution_count": 63,
     "metadata": {},
     "output_type": "execute_result"
    },
    {
     "data": {
      "image/png": "[encoded data removed]",
      "text/plain": [
       "<Figure size 432x288 with 1 Axes>"
      ]
     },
     "metadata": {
      "needs_background": "light"
     },
     "output_type": "display_data"
    }
   ],
   "source": [
    "data.pivot_table(index='year_day_exposition', values='last_price', aggfunc='median').plot(grid = True, title = 'Зависимость цены от года продажи объекта')"
   ]
  },
  {
   "cell_type": "code",
   "execution_count": 64,
   "metadata": {},
   "outputs": [
    {
     "data": {
      "text/plain": [
       "<AxesSubplot:title={'center':'Зависимость цены от года продажи объекта'}, xlabel='year_day_exposition'>"
      ]
     },
     "execution_count": 64,
     "metadata": {},
     "output_type": "execute_result"
    },
    {
     "data": {
      "image/png": "[encoded data removed]",
      "text/plain": [
       "<Figure size 432x288 with 1 Axes>"
      ]
     },
     "metadata": {
      "needs_background": "light"
     },
     "output_type": "display_data"
    }
   ],
   "source": [
    "data.pivot_table(index='year_day_exposition', values='total_area', aggfunc='median').plot(grid = True, title = 'Зависимость цены от года продажи объекта')"
   ]
  },
  {
   "cell_type": "markdown",
   "metadata": {},
   "source": [
    "\n",
    "<div class=\"alert alert-info\"> Наблюдается снижение цены с 2014 года до 2016, хотя в это же время наблюдается и снижение площадей продаваемых квартир. Так как с уменьшением площади цена уменьшается, графики выглядят правдоподобно. Рост цен на недвижимость наблюдается в начале года, максимум в марте, затем падение и далее цена корректируется.Низкую цену летом и в новогодние праздники можно объяснить не желанием людей делать серьезные покупки в эти периоды (месяца отдыха). Во вторник покупаются самые дорогие квартиры, далее происходит спад в цене.\n",
    "</div>"
   ]
  },
  {
   "cell_type": "code",
   "execution_count": 65,
   "metadata": {},
   "outputs": [
    {
     "data": {
      "text/html": [
       "<div>\n",
       "<style scoped>\n",
       "    .dataframe tbody tr th:only-of-type {\n",
       "        vertical-align: middle;\n",
       "    }\n",
       "\n",
       "    .dataframe tbody tr th {\n",
       "        vertical-align: top;\n",
       "    }\n",
       "\n",
       "    .dataframe thead tr th {\n",
       "        text-align: left;\n",
       "    }\n",
       "\n",
       "    .dataframe thead tr:last-of-type th {\n",
       "        text-align: right;\n",
       "    }\n",
       "</style>\n",
       "<table border=\"1\" class=\"dataframe\">\n",
       "  <thead>\n",
       "    <tr>\n",
       "      <th></th>\n",
       "      <th>count</th>\n",
       "      <th>median</th>\n",
       "    </tr>\n",
       "    <tr>\n",
       "      <th></th>\n",
       "      <th>price_per_meter</th>\n",
       "      <th>price_per_meter</th>\n",
       "    </tr>\n",
       "    <tr>\n",
       "      <th>locality_name</th>\n",
       "      <th></th>\n",
       "      <th></th>\n",
       "    </tr>\n",
       "  </thead>\n",
       "  <tbody>\n",
       "    <tr>\n",
       "      <th>Санкт-Петербург</th>\n",
       "      <td>15718</td>\n",
       "      <td>104761.904762</td>\n",
       "    </tr>\n",
       "    <tr>\n",
       "      <th>посёлок Мурино</th>\n",
       "      <td>556</td>\n",
       "      <td>85878.462169</td>\n",
       "    </tr>\n",
       "    <tr>\n",
       "      <th>посёлок Шушары</th>\n",
       "      <td>440</td>\n",
       "      <td>76876.172608</td>\n",
       "    </tr>\n",
       "    <tr>\n",
       "      <th>Всеволожск</th>\n",
       "      <td>398</td>\n",
       "      <td>65789.473684</td>\n",
       "    </tr>\n",
       "    <tr>\n",
       "      <th>Пушкин</th>\n",
       "      <td>369</td>\n",
       "      <td>100000.000000</td>\n",
       "    </tr>\n",
       "    <tr>\n",
       "      <th>Колпино</th>\n",
       "      <td>338</td>\n",
       "      <td>74723.748474</td>\n",
       "    </tr>\n",
       "    <tr>\n",
       "      <th>посёлок Парголово</th>\n",
       "      <td>327</td>\n",
       "      <td>91642.857143</td>\n",
       "    </tr>\n",
       "    <tr>\n",
       "      <th>Гатчина</th>\n",
       "      <td>307</td>\n",
       "      <td>67796.610169</td>\n",
       "    </tr>\n",
       "    <tr>\n",
       "      <th>деревня Кудрово</th>\n",
       "      <td>299</td>\n",
       "      <td>91860.465116</td>\n",
       "    </tr>\n",
       "    <tr>\n",
       "      <th>Выборг</th>\n",
       "      <td>237</td>\n",
       "      <td>58158.319871</td>\n",
       "    </tr>\n",
       "  </tbody>\n",
       "</table>\n",
       "</div>"
      ],
      "text/plain": [
       "                            count          median\n",
       "                  price_per_meter price_per_meter\n",
       "locality_name                                    \n",
       "Санкт-Петербург             15718   104761.904762\n",
       "посёлок Мурино                556    85878.462169\n",
       "посёлок Шушары                440    76876.172608\n",
       "Всеволожск                    398    65789.473684\n",
       "Пушкин                        369   100000.000000\n",
       "Колпино                       338    74723.748474\n",
       "посёлок Парголово             327    91642.857143\n",
       "Гатчина                       307    67796.610169\n",
       "деревня Кудрово               299    91860.465116\n",
       "Выборг                        237    58158.319871"
      ]
     },
     "metadata": {},
     "output_type": "display_data"
    }
   ],
   "source": [
    "data_sort = data.pivot_table(index='locality_name', values='price_per_meter', aggfunc=['count','median'])\n",
    "data_sort = data_sort.sort_values(by=data_sort.columns[0], ascending=False)\n",
    "\n",
    "display(data_sort.head(10))"
   ]
  },
  {
   "cell_type": "code",
   "execution_count": 66,
   "metadata": {},
   "outputs": [
    {
     "data": {
      "image/png": "[encoded data removed]",
      "text/plain": [
       "<Figure size 432x288 with 1 Axes>"
      ]
     },
     "metadata": {
      "needs_background": "light"
     },
     "output_type": "display_data"
    }
   ],
   "source": [
    "df_km = data_spb.groupby('cityCenters_nearest_km')['price_per_meter'].mean()\n",
    "df_km.plot(grid = True, title = 'Заголовок')\n",
    "plt.show()"
   ]
  },
  {
   "cell_type": "markdown",
   "metadata": {},
   "source": [
    "С уменьшением расстояния до центра города цена объекта недвижимости увеличивается."
   ]
  },
  {
   "cell_type": "markdown",
   "metadata": {},
   "source": [
    "### Общий вывод"
   ]
  },
  {
   "cell_type": "markdown",
   "metadata": {},
   "source": [
    "Изучили данные о компьютерных играх за несколько лет. Провели предобработку данных: заполнили/удалили пропущенные значения, устранили неявные дубликаты и аномальные значения, добавили в таблицу новый столбец с суммарными продажами по всем регионам, \n",
    "Выяснили, что больше всего стоимость объекта зависит от площади, расположения относительно центра города и аэропорта. С увеличением площади и уменьшением расстояния до центра города/аэропорта стоимость увеличивается. Также есть зависимость стоимости от этажа, на котором располагается объект. Самые дешевые объекты располагаются на 1 этаже."
   ]
  }
 ],
 "metadata": {
  "ExecuteTimeLog": [
   {
    "duration": 131,
    "start_time": "2022-08-22T14:05:03.781Z"
   },
   {
    "duration": 471,
    "start_time": "2022-08-22T14:07:57.623Z"
   },
   {
    "duration": 327,
    "start_time": "2022-08-22T14:08:16.306Z"
   },
   {
    "duration": 107,
    "start_time": "2022-08-22T14:08:31.879Z"
   },
   {
    "duration": 96,
    "start_time": "2022-08-22T14:09:38.416Z"
   },
   {
    "duration": 97,
    "start_time": "2022-08-22T14:09:48.057Z"
   },
   {
    "duration": 101,
    "start_time": "2022-08-22T14:10:01.827Z"
   },
   {
    "duration": 269,
    "start_time": "2022-08-22T14:10:34.763Z"
   },
   {
    "duration": 95,
    "start_time": "2022-08-22T14:10:46.727Z"
   },
   {
    "duration": 97,
    "start_time": "2022-08-22T14:10:56.758Z"
   },
   {
    "duration": 75,
    "start_time": "2022-08-22T14:11:28.800Z"
   },
   {
    "duration": 100,
    "start_time": "2022-08-22T14:12:24.180Z"
   },
   {
    "duration": 118,
    "start_time": "2022-08-22T14:13:29.469Z"
   },
   {
    "duration": 2322,
    "start_time": "2022-08-22T14:16:49.118Z"
   },
   {
    "duration": 11,
    "start_time": "2022-08-22T14:21:44.700Z"
   },
   {
    "duration": 98,
    "start_time": "2022-08-22T14:26:42.102Z"
   },
   {
    "duration": 19,
    "start_time": "2022-08-22T14:26:44.911Z"
   },
   {
    "duration": 1665,
    "start_time": "2022-08-22T14:26:46.960Z"
   },
   {
    "duration": 6,
    "start_time": "2022-08-22T14:37:31.834Z"
   },
   {
    "duration": 8,
    "start_time": "2022-08-22T14:40:55.460Z"
   },
   {
    "duration": 6,
    "start_time": "2022-08-22T14:41:09.944Z"
   },
   {
    "duration": 8,
    "start_time": "2022-08-22T14:41:10.992Z"
   },
   {
    "duration": 5,
    "start_time": "2022-08-22T14:42:01.408Z"
   },
   {
    "duration": 9,
    "start_time": "2022-08-22T14:42:04.985Z"
   },
   {
    "duration": 102,
    "start_time": "2022-08-22T14:43:25.586Z"
   },
   {
    "duration": 8,
    "start_time": "2022-08-22T14:55:40.820Z"
   },
   {
    "duration": 6,
    "start_time": "2022-08-22T14:56:59.096Z"
   },
   {
    "duration": 10,
    "start_time": "2022-08-22T14:57:00.095Z"
   },
   {
    "duration": 10,
    "start_time": "2022-08-22T15:01:23.322Z"
   },
   {
    "duration": 8,
    "start_time": "2022-08-22T15:01:25.736Z"
   },
   {
    "duration": 7,
    "start_time": "2022-08-22T15:03:51.434Z"
   },
   {
    "duration": 8,
    "start_time": "2022-08-22T15:04:41.213Z"
   },
   {
    "duration": 7,
    "start_time": "2022-08-22T15:04:58.968Z"
   },
   {
    "duration": 10,
    "start_time": "2022-08-22T15:05:32.658Z"
   },
   {
    "duration": 100,
    "start_time": "2022-08-22T15:05:36.574Z"
   },
   {
    "duration": 13,
    "start_time": "2022-08-22T15:05:36.676Z"
   },
   {
    "duration": 1683,
    "start_time": "2022-08-22T15:05:36.691Z"
   },
   {
    "duration": 9,
    "start_time": "2022-08-22T15:05:38.376Z"
   },
   {
    "duration": 26,
    "start_time": "2022-08-22T15:05:38.386Z"
   },
   {
    "duration": 9,
    "start_time": "2022-08-22T15:05:38.413Z"
   },
   {
    "duration": 40,
    "start_time": "2022-08-22T15:09:02.756Z"
   },
   {
    "duration": 22,
    "start_time": "2022-08-22T15:09:33.414Z"
   },
   {
    "duration": 8,
    "start_time": "2022-08-22T15:10:50.354Z"
   },
   {
    "duration": 8,
    "start_time": "2022-08-22T15:10:52.738Z"
   },
   {
    "duration": 8,
    "start_time": "2022-08-22T15:13:05.614Z"
   },
   {
    "duration": 10,
    "start_time": "2022-08-22T15:14:46.352Z"
   },
   {
    "duration": 10,
    "start_time": "2022-08-22T15:15:22.916Z"
   },
   {
    "duration": 54,
    "start_time": "2022-08-22T15:17:03.528Z"
   },
   {
    "duration": 7,
    "start_time": "2022-08-22T15:19:59.858Z"
   },
   {
    "duration": 8,
    "start_time": "2022-08-22T15:20:05.437Z"
   },
   {
    "duration": 123,
    "start_time": "2022-08-22T15:20:22.504Z"
   },
   {
    "duration": 15,
    "start_time": "2022-08-22T15:20:22.630Z"
   },
   {
    "duration": 1676,
    "start_time": "2022-08-22T15:20:22.647Z"
   },
   {
    "duration": 9,
    "start_time": "2022-08-22T15:20:24.324Z"
   },
   {
    "duration": 9,
    "start_time": "2022-08-22T15:20:24.334Z"
   },
   {
    "duration": 7,
    "start_time": "2022-08-22T15:20:24.344Z"
   },
   {
    "duration": 14,
    "start_time": "2022-08-22T15:23:14.415Z"
   },
   {
    "duration": 12,
    "start_time": "2022-08-22T15:24:30.113Z"
   },
   {
    "duration": 12,
    "start_time": "2022-08-22T15:25:01.035Z"
   },
   {
    "duration": 10,
    "start_time": "2022-08-22T15:25:21.691Z"
   },
   {
    "duration": 4,
    "start_time": "2022-08-22T15:26:28.326Z"
   },
   {
    "duration": 610,
    "start_time": "2022-08-22T15:26:46.075Z"
   },
   {
    "duration": 631,
    "start_time": "2022-08-22T15:27:06.735Z"
   },
   {
    "duration": 100,
    "start_time": "2022-08-22T15:27:13.924Z"
   },
   {
    "duration": 109,
    "start_time": "2022-08-22T15:27:14.026Z"
   },
   {
    "duration": 1602,
    "start_time": "2022-08-22T15:27:14.137Z"
   },
   {
    "duration": 8,
    "start_time": "2022-08-22T15:27:15.741Z"
   },
   {
    "duration": 564,
    "start_time": "2022-08-22T15:27:15.750Z"
   },
   {
    "duration": 0,
    "start_time": "2022-08-22T15:27:16.316Z"
   },
   {
    "duration": 8,
    "start_time": "2022-08-22T15:28:03.638Z"
   },
   {
    "duration": 10,
    "start_time": "2022-08-22T15:29:05.054Z"
   },
   {
    "duration": 104,
    "start_time": "2022-08-22T15:32:00.104Z"
   },
   {
    "duration": 14,
    "start_time": "2022-08-22T15:32:00.210Z"
   },
   {
    "duration": 1745,
    "start_time": "2022-08-22T15:32:00.226Z"
   },
   {
    "duration": 10,
    "start_time": "2022-08-22T15:32:01.972Z"
   },
   {
    "duration": 27,
    "start_time": "2022-08-22T15:32:01.985Z"
   },
   {
    "duration": 7,
    "start_time": "2022-08-22T15:32:02.014Z"
   },
   {
    "duration": 8,
    "start_time": "2022-08-22T15:36:04.879Z"
   },
   {
    "duration": 13,
    "start_time": "2022-08-22T16:30:44.241Z"
   },
   {
    "duration": 28,
    "start_time": "2022-08-22T18:07:51.304Z"
   },
   {
    "duration": 15,
    "start_time": "2022-08-22T18:08:56.724Z"
   },
   {
    "duration": 108,
    "start_time": "2022-08-22T18:09:05.781Z"
   },
   {
    "duration": 15,
    "start_time": "2022-08-22T18:09:05.891Z"
   },
   {
    "duration": 1805,
    "start_time": "2022-08-22T18:09:05.922Z"
   },
   {
    "duration": 8,
    "start_time": "2022-08-22T18:09:07.730Z"
   },
   {
    "duration": 12,
    "start_time": "2022-08-22T18:09:07.740Z"
   },
   {
    "duration": 10,
    "start_time": "2022-08-22T18:09:07.753Z"
   },
   {
    "duration": 12,
    "start_time": "2022-08-22T18:09:07.764Z"
   },
   {
    "duration": 38,
    "start_time": "2022-08-22T18:09:07.778Z"
   },
   {
    "duration": 4,
    "start_time": "2022-08-22T18:13:54.924Z"
   },
   {
    "duration": 4,
    "start_time": "2022-08-22T18:14:00.996Z"
   },
   {
    "duration": 4,
    "start_time": "2022-08-22T18:14:12.326Z"
   },
   {
    "duration": 10,
    "start_time": "2022-08-22T18:14:57.094Z"
   },
   {
    "duration": 4,
    "start_time": "2022-08-22T18:26:05.734Z"
   },
   {
    "duration": 12,
    "start_time": "2022-08-22T18:26:39.933Z"
   },
   {
    "duration": 8,
    "start_time": "2022-08-22T18:43:43.196Z"
   },
   {
    "duration": 60,
    "start_time": "2022-08-22T19:03:53.739Z"
   },
   {
    "duration": 5,
    "start_time": "2022-08-22T19:04:00.263Z"
   },
   {
    "duration": 20,
    "start_time": "2022-08-22T19:17:00.579Z"
   },
   {
    "duration": 14,
    "start_time": "2022-08-22T19:17:27.997Z"
   },
   {
    "duration": 13,
    "start_time": "2022-08-22T19:20:42.180Z"
   },
   {
    "duration": 11,
    "start_time": "2022-08-22T19:21:41.891Z"
   },
   {
    "duration": 5,
    "start_time": "2022-08-22T20:09:48.237Z"
   },
   {
    "duration": 262,
    "start_time": "2022-08-22T20:09:50.823Z"
   },
   {
    "duration": 12,
    "start_time": "2022-08-22T20:09:51.087Z"
   },
   {
    "duration": 1684,
    "start_time": "2022-08-22T20:09:51.110Z"
   },
   {
    "duration": 16,
    "start_time": "2022-08-22T20:09:52.796Z"
   },
   {
    "duration": 23,
    "start_time": "2022-08-22T20:09:52.815Z"
   },
   {
    "duration": 12,
    "start_time": "2022-08-22T20:09:52.839Z"
   },
   {
    "duration": 11,
    "start_time": "2022-08-22T20:09:52.853Z"
   },
   {
    "duration": 9,
    "start_time": "2022-08-22T20:09:52.866Z"
   },
   {
    "duration": 5,
    "start_time": "2022-08-22T20:17:25.393Z"
   },
   {
    "duration": 4,
    "start_time": "2022-08-22T20:27:30.671Z"
   },
   {
    "duration": 9,
    "start_time": "2022-08-22T20:27:47.149Z"
   },
   {
    "duration": 14,
    "start_time": "2022-08-22T20:28:12.194Z"
   },
   {
    "duration": 16,
    "start_time": "2022-08-22T20:34:10.525Z"
   },
   {
    "duration": 4,
    "start_time": "2022-08-22T20:35:34.080Z"
   },
   {
    "duration": 5,
    "start_time": "2022-08-22T20:35:44.824Z"
   },
   {
    "duration": 5,
    "start_time": "2022-08-22T20:35:47.827Z"
   },
   {
    "duration": 4,
    "start_time": "2022-08-22T20:35:57.650Z"
   },
   {
    "duration": 4,
    "start_time": "2022-08-22T20:36:03.225Z"
   },
   {
    "duration": 48,
    "start_time": "2022-08-22T20:36:07.074Z"
   },
   {
    "duration": 3,
    "start_time": "2022-08-22T20:36:18.591Z"
   },
   {
    "duration": 6,
    "start_time": "2022-08-22T20:36:23.968Z"
   },
   {
    "duration": 7,
    "start_time": "2022-08-22T20:38:33.540Z"
   },
   {
    "duration": 9,
    "start_time": "2022-08-22T20:40:26.353Z"
   },
   {
    "duration": 170,
    "start_time": "2022-08-22T20:42:32.336Z"
   },
   {
    "duration": 138,
    "start_time": "2022-08-22T20:42:43.205Z"
   },
   {
    "duration": 114,
    "start_time": "2022-08-22T20:42:48.980Z"
   },
   {
    "duration": 120,
    "start_time": "2022-08-22T20:43:26.368Z"
   },
   {
    "duration": 122,
    "start_time": "2022-08-22T20:44:00.883Z"
   },
   {
    "duration": 118,
    "start_time": "2022-08-22T20:44:12.432Z"
   },
   {
    "duration": 8,
    "start_time": "2022-08-22T20:44:34.575Z"
   },
   {
    "duration": 19,
    "start_time": "2022-08-22T20:45:37.477Z"
   },
   {
    "duration": 408,
    "start_time": "2022-08-22T20:45:57.256Z"
   },
   {
    "duration": 409,
    "start_time": "2022-08-22T20:46:11.964Z"
   },
   {
    "duration": 49,
    "start_time": "2022-08-22T20:47:41.287Z"
   },
   {
    "duration": 32,
    "start_time": "2022-08-22T20:47:57.295Z"
   },
   {
    "duration": 11,
    "start_time": "2022-08-22T20:49:00.764Z"
   },
   {
    "duration": 103,
    "start_time": "2022-08-22T21:15:03.722Z"
   },
   {
    "duration": 14,
    "start_time": "2022-08-22T21:15:03.827Z"
   },
   {
    "duration": 1786,
    "start_time": "2022-08-22T21:15:03.842Z"
   },
   {
    "duration": 8,
    "start_time": "2022-08-22T21:15:05.629Z"
   },
   {
    "duration": 10,
    "start_time": "2022-08-22T21:15:05.639Z"
   },
   {
    "duration": 7,
    "start_time": "2022-08-22T21:15:05.650Z"
   },
   {
    "duration": 11,
    "start_time": "2022-08-22T21:15:05.658Z"
   },
   {
    "duration": 14,
    "start_time": "2022-08-22T21:15:05.671Z"
   },
   {
    "duration": 27,
    "start_time": "2022-08-22T21:15:05.687Z"
   },
   {
    "duration": 20,
    "start_time": "2022-08-22T21:15:05.715Z"
   },
   {
    "duration": 1,
    "start_time": "2022-08-22T21:15:05.736Z"
   },
   {
    "duration": 0,
    "start_time": "2022-08-22T21:15:05.738Z"
   },
   {
    "duration": 0,
    "start_time": "2022-08-22T21:15:05.739Z"
   },
   {
    "duration": 16,
    "start_time": "2022-08-22T21:15:28.866Z"
   },
   {
    "duration": 16,
    "start_time": "2022-08-22T21:15:35.792Z"
   },
   {
    "duration": 10,
    "start_time": "2022-08-22T21:15:45.682Z"
   },
   {
    "duration": 8,
    "start_time": "2022-08-22T21:15:51.443Z"
   },
   {
    "duration": 10,
    "start_time": "2022-08-22T21:15:57.076Z"
   },
   {
    "duration": 9,
    "start_time": "2022-08-22T21:15:59.421Z"
   },
   {
    "duration": 11,
    "start_time": "2022-08-22T21:16:26.605Z"
   },
   {
    "duration": 13,
    "start_time": "2022-08-22T21:19:24.405Z"
   },
   {
    "duration": 12,
    "start_time": "2022-08-22T21:21:51.630Z"
   },
   {
    "duration": 11,
    "start_time": "2022-08-22T21:22:22.856Z"
   },
   {
    "duration": 706,
    "start_time": "2022-08-22T22:32:37.135Z"
   },
   {
    "duration": 13,
    "start_time": "2022-08-22T22:32:37.843Z"
   },
   {
    "duration": 2214,
    "start_time": "2022-08-22T22:32:37.857Z"
   },
   {
    "duration": 11,
    "start_time": "2022-08-22T22:32:40.073Z"
   },
   {
    "duration": 20,
    "start_time": "2022-08-22T22:32:40.086Z"
   },
   {
    "duration": 16,
    "start_time": "2022-08-22T22:32:40.108Z"
   },
   {
    "duration": 12,
    "start_time": "2022-08-22T22:32:40.126Z"
   },
   {
    "duration": 12,
    "start_time": "2022-08-22T22:32:40.139Z"
   },
   {
    "duration": 5,
    "start_time": "2022-08-22T22:32:40.152Z"
   },
   {
    "duration": 21,
    "start_time": "2022-08-22T22:32:40.158Z"
   },
   {
    "duration": 22,
    "start_time": "2022-08-22T22:32:40.180Z"
   },
   {
    "duration": 12,
    "start_time": "2022-08-22T22:32:40.204Z"
   },
   {
    "duration": 14,
    "start_time": "2022-08-22T22:32:40.218Z"
   },
   {
    "duration": 13,
    "start_time": "2022-08-22T22:47:54.885Z"
   },
   {
    "duration": 48,
    "start_time": "2022-08-23T12:27:44.895Z"
   },
   {
    "duration": 722,
    "start_time": "2022-08-23T12:27:47.904Z"
   },
   {
    "duration": 15,
    "start_time": "2022-08-23T12:27:48.628Z"
   },
   {
    "duration": 2334,
    "start_time": "2022-08-23T12:27:48.645Z"
   },
   {
    "duration": 11,
    "start_time": "2022-08-23T12:27:50.986Z"
   },
   {
    "duration": 18,
    "start_time": "2022-08-23T12:27:51.000Z"
   },
   {
    "duration": 23,
    "start_time": "2022-08-23T12:27:51.020Z"
   },
   {
    "duration": 20,
    "start_time": "2022-08-23T12:27:51.045Z"
   },
   {
    "duration": 19,
    "start_time": "2022-08-23T12:27:51.087Z"
   },
   {
    "duration": 13,
    "start_time": "2022-08-23T12:27:51.108Z"
   },
   {
    "duration": 21,
    "start_time": "2022-08-23T12:27:51.123Z"
   },
   {
    "duration": 57,
    "start_time": "2022-08-23T12:27:51.146Z"
   },
   {
    "duration": 31,
    "start_time": "2022-08-23T12:27:51.205Z"
   },
   {
    "duration": 29,
    "start_time": "2022-08-23T12:27:51.238Z"
   },
   {
    "duration": 9,
    "start_time": "2022-08-23T12:29:42.178Z"
   },
   {
    "duration": 9,
    "start_time": "2022-08-23T12:29:49.940Z"
   },
   {
    "duration": 8,
    "start_time": "2022-08-23T12:29:55.420Z"
   },
   {
    "duration": 9,
    "start_time": "2022-08-23T12:29:56.509Z"
   },
   {
    "duration": 112,
    "start_time": "2022-08-23T12:30:05.138Z"
   },
   {
    "duration": 14,
    "start_time": "2022-08-23T12:30:05.252Z"
   },
   {
    "duration": 2131,
    "start_time": "2022-08-23T12:30:05.268Z"
   },
   {
    "duration": 13,
    "start_time": "2022-08-23T12:30:07.401Z"
   },
   {
    "duration": 35,
    "start_time": "2022-08-23T12:30:07.417Z"
   },
   {
    "duration": 42,
    "start_time": "2022-08-23T12:30:07.454Z"
   },
   {
    "duration": 38,
    "start_time": "2022-08-23T12:30:07.498Z"
   },
   {
    "duration": 32,
    "start_time": "2022-08-23T12:30:07.538Z"
   },
   {
    "duration": 18,
    "start_time": "2022-08-23T12:30:07.572Z"
   },
   {
    "duration": 66,
    "start_time": "2022-08-23T12:30:07.592Z"
   },
   {
    "duration": 30,
    "start_time": "2022-08-23T12:30:07.661Z"
   },
   {
    "duration": 41,
    "start_time": "2022-08-23T12:30:07.693Z"
   },
   {
    "duration": 34,
    "start_time": "2022-08-23T12:30:07.736Z"
   },
   {
    "duration": 11,
    "start_time": "2022-08-23T12:37:23.371Z"
   },
   {
    "duration": 115,
    "start_time": "2022-08-23T12:38:01.201Z"
   },
   {
    "duration": 14,
    "start_time": "2022-08-23T12:38:01.318Z"
   },
   {
    "duration": 1997,
    "start_time": "2022-08-23T12:38:01.334Z"
   },
   {
    "duration": 9,
    "start_time": "2022-08-23T12:38:03.333Z"
   },
   {
    "duration": 14,
    "start_time": "2022-08-23T12:38:03.344Z"
   },
   {
    "duration": 33,
    "start_time": "2022-08-23T12:38:03.360Z"
   },
   {
    "duration": 18,
    "start_time": "2022-08-23T12:38:03.395Z"
   },
   {
    "duration": 18,
    "start_time": "2022-08-23T12:38:03.414Z"
   },
   {
    "duration": 7,
    "start_time": "2022-08-23T12:38:03.433Z"
   },
   {
    "duration": 24,
    "start_time": "2022-08-23T12:38:03.441Z"
   },
   {
    "duration": 29,
    "start_time": "2022-08-23T12:38:03.466Z"
   },
   {
    "duration": 22,
    "start_time": "2022-08-23T12:38:03.500Z"
   },
   {
    "duration": 10,
    "start_time": "2022-08-23T12:38:03.524Z"
   },
   {
    "duration": 620,
    "start_time": "2022-08-23T19:08:09.204Z"
   },
   {
    "duration": 25,
    "start_time": "2022-08-23T19:08:09.828Z"
   },
   {
    "duration": 2513,
    "start_time": "2022-08-23T19:08:09.856Z"
   },
   {
    "duration": 10,
    "start_time": "2022-08-23T19:08:12.371Z"
   },
   {
    "duration": 16,
    "start_time": "2022-08-23T19:08:12.383Z"
   },
   {
    "duration": 8,
    "start_time": "2022-08-23T19:08:12.401Z"
   },
   {
    "duration": 14,
    "start_time": "2022-08-23T19:08:12.411Z"
   },
   {
    "duration": 14,
    "start_time": "2022-08-23T19:08:12.427Z"
   },
   {
    "duration": 5,
    "start_time": "2022-08-23T19:08:12.443Z"
   },
   {
    "duration": 49,
    "start_time": "2022-08-23T19:08:12.450Z"
   },
   {
    "duration": 10,
    "start_time": "2022-08-23T19:08:12.500Z"
   },
   {
    "duration": 11,
    "start_time": "2022-08-23T19:08:12.511Z"
   },
   {
    "duration": 11,
    "start_time": "2022-08-23T19:08:12.523Z"
   },
   {
    "duration": 245,
    "start_time": "2022-08-23T19:10:45.603Z"
   },
   {
    "duration": 76,
    "start_time": "2022-08-23T19:11:26.321Z"
   },
   {
    "duration": 228,
    "start_time": "2022-08-23T19:11:33.375Z"
   },
   {
    "duration": 207,
    "start_time": "2022-08-23T19:11:59.228Z"
   },
   {
    "duration": 8,
    "start_time": "2022-08-23T19:12:34.464Z"
   },
   {
    "duration": 90,
    "start_time": "2022-08-23T19:12:47.446Z"
   },
   {
    "duration": 86,
    "start_time": "2022-08-23T19:12:53.521Z"
   },
   {
    "duration": 99,
    "start_time": "2022-08-23T19:13:13.214Z"
   },
   {
    "duration": 9,
    "start_time": "2022-08-23T19:13:26.665Z"
   },
   {
    "duration": 8,
    "start_time": "2022-08-23T19:14:02.809Z"
   },
   {
    "duration": 6,
    "start_time": "2022-08-23T19:14:44.009Z"
   },
   {
    "duration": 5,
    "start_time": "2022-08-23T19:15:30.484Z"
   },
   {
    "duration": 146,
    "start_time": "2022-08-23T19:15:38.648Z"
   },
   {
    "duration": 33,
    "start_time": "2022-08-23T19:15:38.800Z"
   },
   {
    "duration": 2280,
    "start_time": "2022-08-23T19:15:38.839Z"
   },
   {
    "duration": 11,
    "start_time": "2022-08-23T19:15:41.121Z"
   },
   {
    "duration": 17,
    "start_time": "2022-08-23T19:15:41.134Z"
   },
   {
    "duration": 8,
    "start_time": "2022-08-23T19:15:41.153Z"
   },
   {
    "duration": 54,
    "start_time": "2022-08-23T19:15:41.163Z"
   },
   {
    "duration": 16,
    "start_time": "2022-08-23T19:15:41.219Z"
   },
   {
    "duration": 8,
    "start_time": "2022-08-23T19:15:41.237Z"
   },
   {
    "duration": 23,
    "start_time": "2022-08-23T19:15:41.248Z"
   },
   {
    "duration": 15,
    "start_time": "2022-08-23T19:15:41.293Z"
   },
   {
    "duration": 7,
    "start_time": "2022-08-23T19:15:41.310Z"
   },
   {
    "duration": 218,
    "start_time": "2022-08-23T19:15:41.318Z"
   },
   {
    "duration": 11,
    "start_time": "2022-08-23T19:15:41.538Z"
   },
   {
    "duration": 13,
    "start_time": "2022-08-23T19:15:41.551Z"
   },
   {
    "duration": 9,
    "start_time": "2022-08-23T19:16:06.509Z"
   },
   {
    "duration": 124,
    "start_time": "2022-08-23T19:16:09.722Z"
   },
   {
    "duration": 21,
    "start_time": "2022-08-23T19:16:09.849Z"
   },
   {
    "duration": 2291,
    "start_time": "2022-08-23T19:16:09.873Z"
   },
   {
    "duration": 10,
    "start_time": "2022-08-23T19:16:12.166Z"
   },
   {
    "duration": 32,
    "start_time": "2022-08-23T19:16:12.179Z"
   },
   {
    "duration": 20,
    "start_time": "2022-08-23T19:16:12.214Z"
   },
   {
    "duration": 16,
    "start_time": "2022-08-23T19:16:12.235Z"
   },
   {
    "duration": 13,
    "start_time": "2022-08-23T19:16:12.253Z"
   },
   {
    "duration": 35,
    "start_time": "2022-08-23T19:16:12.268Z"
   },
   {
    "duration": 19,
    "start_time": "2022-08-23T19:16:12.311Z"
   },
   {
    "duration": 11,
    "start_time": "2022-08-23T19:16:12.332Z"
   },
   {
    "duration": 17,
    "start_time": "2022-08-23T19:16:12.344Z"
   },
   {
    "duration": 255,
    "start_time": "2022-08-23T19:16:12.363Z"
   },
   {
    "duration": 12,
    "start_time": "2022-08-23T19:16:12.620Z"
   },
   {
    "duration": 16,
    "start_time": "2022-08-23T19:16:12.635Z"
   },
   {
    "duration": 22,
    "start_time": "2022-08-23T19:19:34.448Z"
   },
   {
    "duration": 17,
    "start_time": "2022-08-23T19:19:51.427Z"
   },
   {
    "duration": 17,
    "start_time": "2022-08-23T19:20:00.445Z"
   },
   {
    "duration": 26,
    "start_time": "2022-08-23T19:23:22.892Z"
   },
   {
    "duration": 158,
    "start_time": "2022-08-23T19:23:35.557Z"
   },
   {
    "duration": 16,
    "start_time": "2022-08-23T19:23:35.718Z"
   },
   {
    "duration": 2385,
    "start_time": "2022-08-23T19:23:35.735Z"
   },
   {
    "duration": 16,
    "start_time": "2022-08-23T19:23:38.122Z"
   },
   {
    "duration": 16,
    "start_time": "2022-08-23T19:23:38.142Z"
   },
   {
    "duration": 50,
    "start_time": "2022-08-23T19:23:38.160Z"
   },
   {
    "duration": 27,
    "start_time": "2022-08-23T19:23:38.213Z"
   },
   {
    "duration": 21,
    "start_time": "2022-08-23T19:23:38.242Z"
   },
   {
    "duration": 55,
    "start_time": "2022-08-23T19:23:38.265Z"
   },
   {
    "duration": 30,
    "start_time": "2022-08-23T19:23:38.322Z"
   },
   {
    "duration": 15,
    "start_time": "2022-08-23T19:23:38.353Z"
   },
   {
    "duration": 56,
    "start_time": "2022-08-23T19:23:38.370Z"
   },
   {
    "duration": 238,
    "start_time": "2022-08-23T19:23:38.428Z"
   },
   {
    "duration": 12,
    "start_time": "2022-08-23T19:23:38.668Z"
   },
   {
    "duration": 27,
    "start_time": "2022-08-23T19:23:38.682Z"
   },
   {
    "duration": 27,
    "start_time": "2022-08-23T19:24:00.188Z"
   },
   {
    "duration": 24,
    "start_time": "2022-08-23T19:26:53.484Z"
   },
   {
    "duration": 21,
    "start_time": "2022-08-23T19:27:06.274Z"
   },
   {
    "duration": 14,
    "start_time": "2022-08-23T19:27:58.372Z"
   },
   {
    "duration": 11,
    "start_time": "2022-08-23T19:28:22.792Z"
   },
   {
    "duration": 12,
    "start_time": "2022-08-23T19:28:34.800Z"
   },
   {
    "duration": 117,
    "start_time": "2022-08-23T19:29:20.858Z"
   },
   {
    "duration": 18,
    "start_time": "2022-08-23T19:29:20.978Z"
   },
   {
    "duration": 2280,
    "start_time": "2022-08-23T19:29:20.998Z"
   },
   {
    "duration": 21,
    "start_time": "2022-08-23T19:29:23.281Z"
   },
   {
    "duration": 20,
    "start_time": "2022-08-23T19:29:23.307Z"
   },
   {
    "duration": 15,
    "start_time": "2022-08-23T19:29:23.330Z"
   },
   {
    "duration": 51,
    "start_time": "2022-08-23T19:29:23.347Z"
   },
   {
    "duration": 13,
    "start_time": "2022-08-23T19:29:23.401Z"
   },
   {
    "duration": 5,
    "start_time": "2022-08-23T19:29:23.416Z"
   },
   {
    "duration": 20,
    "start_time": "2022-08-23T19:29:23.423Z"
   },
   {
    "duration": 10,
    "start_time": "2022-08-23T19:29:23.444Z"
   },
   {
    "duration": 43,
    "start_time": "2022-08-23T19:29:23.456Z"
   },
   {
    "duration": 12,
    "start_time": "2022-08-23T19:29:23.501Z"
   },
   {
    "duration": 3,
    "start_time": "2022-08-23T19:29:23.516Z"
   },
   {
    "duration": 5,
    "start_time": "2022-08-23T19:29:23.521Z"
   },
   {
    "duration": 14,
    "start_time": "2022-08-23T19:29:23.528Z"
   },
   {
    "duration": 13,
    "start_time": "2022-08-23T19:33:24.699Z"
   },
   {
    "duration": 122,
    "start_time": "2022-08-23T19:39:44.286Z"
   },
   {
    "duration": 25,
    "start_time": "2022-08-23T19:39:44.411Z"
   },
   {
    "duration": 2011,
    "start_time": "2022-08-23T19:39:44.438Z"
   },
   {
    "duration": 10,
    "start_time": "2022-08-23T19:39:46.451Z"
   },
   {
    "duration": 30,
    "start_time": "2022-08-23T19:39:46.463Z"
   },
   {
    "duration": 9,
    "start_time": "2022-08-23T19:39:46.495Z"
   },
   {
    "duration": 14,
    "start_time": "2022-08-23T19:39:46.505Z"
   },
   {
    "duration": 11,
    "start_time": "2022-08-23T19:39:46.521Z"
   },
   {
    "duration": 5,
    "start_time": "2022-08-23T19:39:46.534Z"
   },
   {
    "duration": 18,
    "start_time": "2022-08-23T19:39:46.540Z"
   },
   {
    "duration": 41,
    "start_time": "2022-08-23T19:39:46.560Z"
   },
   {
    "duration": 8,
    "start_time": "2022-08-23T19:39:46.602Z"
   },
   {
    "duration": 10,
    "start_time": "2022-08-23T19:39:46.612Z"
   },
   {
    "duration": 2,
    "start_time": "2022-08-23T19:39:46.625Z"
   },
   {
    "duration": 5,
    "start_time": "2022-08-23T19:39:46.629Z"
   },
   {
    "duration": 5,
    "start_time": "2022-08-23T19:39:46.636Z"
   },
   {
    "duration": 9,
    "start_time": "2022-08-23T19:40:02.386Z"
   },
   {
    "duration": 115,
    "start_time": "2022-08-23T19:40:14.953Z"
   },
   {
    "duration": 15,
    "start_time": "2022-08-23T19:40:15.070Z"
   },
   {
    "duration": 2144,
    "start_time": "2022-08-23T19:40:15.093Z"
   },
   {
    "duration": 10,
    "start_time": "2022-08-23T19:40:17.238Z"
   },
   {
    "duration": 12,
    "start_time": "2022-08-23T19:40:17.250Z"
   },
   {
    "duration": 35,
    "start_time": "2022-08-23T19:40:17.264Z"
   },
   {
    "duration": 25,
    "start_time": "2022-08-23T19:40:17.302Z"
   },
   {
    "duration": 17,
    "start_time": "2022-08-23T19:40:17.329Z"
   },
   {
    "duration": 8,
    "start_time": "2022-08-23T19:40:17.349Z"
   },
   {
    "duration": 51,
    "start_time": "2022-08-23T19:40:17.359Z"
   },
   {
    "duration": 9,
    "start_time": "2022-08-23T19:40:17.412Z"
   },
   {
    "duration": 7,
    "start_time": "2022-08-23T19:40:17.423Z"
   },
   {
    "duration": 12,
    "start_time": "2022-08-23T19:40:17.432Z"
   },
   {
    "duration": 2,
    "start_time": "2022-08-23T19:40:17.446Z"
   },
   {
    "duration": 5,
    "start_time": "2022-08-23T19:40:17.450Z"
   },
   {
    "duration": 3,
    "start_time": "2022-08-23T19:40:17.493Z"
   },
   {
    "duration": 17,
    "start_time": "2022-08-23T19:42:01.275Z"
   },
   {
    "duration": 8,
    "start_time": "2022-08-23T19:42:48.826Z"
   },
   {
    "duration": 12,
    "start_time": "2022-08-23T19:42:58.239Z"
   },
   {
    "duration": 7,
    "start_time": "2022-08-23T19:43:18.177Z"
   },
   {
    "duration": 8,
    "start_time": "2022-08-23T19:43:57.769Z"
   },
   {
    "duration": 10,
    "start_time": "2022-08-23T19:44:01.872Z"
   },
   {
    "duration": 7,
    "start_time": "2022-08-23T19:44:10.034Z"
   },
   {
    "duration": 13,
    "start_time": "2022-08-23T19:44:16.822Z"
   },
   {
    "duration": 8,
    "start_time": "2022-08-23T19:44:48.234Z"
   },
   {
    "duration": 10,
    "start_time": "2022-08-23T19:45:00.699Z"
   },
   {
    "duration": 197,
    "start_time": "2022-08-23T19:45:34.164Z"
   },
   {
    "duration": 218,
    "start_time": "2022-08-23T19:45:47.028Z"
   },
   {
    "duration": 10,
    "start_time": "2022-08-23T19:46:43.728Z"
   },
   {
    "duration": 6,
    "start_time": "2022-08-23T19:46:50.570Z"
   },
   {
    "duration": 5,
    "start_time": "2022-08-23T19:47:03.037Z"
   },
   {
    "duration": 7,
    "start_time": "2022-08-23T19:47:07.821Z"
   },
   {
    "duration": 8,
    "start_time": "2022-08-23T19:47:32.024Z"
   },
   {
    "duration": 8,
    "start_time": "2022-08-23T19:47:42.992Z"
   },
   {
    "duration": 215,
    "start_time": "2022-08-23T19:48:42.014Z"
   },
   {
    "duration": 5,
    "start_time": "2022-08-23T19:51:07.840Z"
   },
   {
    "duration": 6,
    "start_time": "2022-08-23T19:51:35.003Z"
   },
   {
    "duration": 12,
    "start_time": "2022-08-23T19:52:13.820Z"
   },
   {
    "duration": 12,
    "start_time": "2022-08-23T19:52:17.170Z"
   },
   {
    "duration": 11,
    "start_time": "2022-08-23T19:52:24.185Z"
   },
   {
    "duration": 10,
    "start_time": "2022-08-23T19:52:26.226Z"
   },
   {
    "duration": 5,
    "start_time": "2022-08-23T19:52:36.726Z"
   },
   {
    "duration": 5,
    "start_time": "2022-08-23T19:52:39.999Z"
   },
   {
    "duration": 343,
    "start_time": "2022-08-23T19:53:07.547Z"
   },
   {
    "duration": 5,
    "start_time": "2022-08-23T19:53:58.012Z"
   },
   {
    "duration": 18,
    "start_time": "2022-08-23T19:56:51.303Z"
   },
   {
    "duration": 20,
    "start_time": "2022-08-23T19:57:27.677Z"
   },
   {
    "duration": 803,
    "start_time": "2022-08-23T19:57:43.633Z"
   },
   {
    "duration": 9,
    "start_time": "2022-08-23T19:57:55.605Z"
   },
   {
    "duration": 17,
    "start_time": "2022-08-23T19:58:49.244Z"
   },
   {
    "duration": 12,
    "start_time": "2022-08-23T19:58:50.629Z"
   },
   {
    "duration": 21,
    "start_time": "2022-08-23T19:59:28.433Z"
   },
   {
    "duration": 12,
    "start_time": "2022-08-23T19:59:29.863Z"
   },
   {
    "duration": 5,
    "start_time": "2022-08-23T20:01:00.801Z"
   },
   {
    "duration": 11,
    "start_time": "2022-08-23T20:01:01.413Z"
   },
   {
    "duration": 2,
    "start_time": "2022-08-23T20:02:16.709Z"
   },
   {
    "duration": 120,
    "start_time": "2022-08-23T20:02:19.610Z"
   },
   {
    "duration": 15,
    "start_time": "2022-08-23T20:02:19.732Z"
   },
   {
    "duration": 2259,
    "start_time": "2022-08-23T20:02:19.749Z"
   },
   {
    "duration": 10,
    "start_time": "2022-08-23T20:02:22.010Z"
   },
   {
    "duration": 13,
    "start_time": "2022-08-23T20:02:22.022Z"
   },
   {
    "duration": 8,
    "start_time": "2022-08-23T20:02:22.037Z"
   },
   {
    "duration": 24,
    "start_time": "2022-08-23T20:02:22.047Z"
   },
   {
    "duration": 13,
    "start_time": "2022-08-23T20:02:22.093Z"
   },
   {
    "duration": 6,
    "start_time": "2022-08-23T20:02:22.107Z"
   },
   {
    "duration": 20,
    "start_time": "2022-08-23T20:02:22.114Z"
   },
   {
    "duration": 10,
    "start_time": "2022-08-23T20:02:22.135Z"
   },
   {
    "duration": 11,
    "start_time": "2022-08-23T20:02:22.147Z"
   },
   {
    "duration": 38,
    "start_time": "2022-08-23T20:02:22.160Z"
   },
   {
    "duration": 13,
    "start_time": "2022-08-23T20:02:22.202Z"
   },
   {
    "duration": 23,
    "start_time": "2022-08-23T20:02:22.217Z"
   },
   {
    "duration": 11,
    "start_time": "2022-08-23T20:02:22.242Z"
   },
   {
    "duration": 3,
    "start_time": "2022-08-23T20:02:22.254Z"
   },
   {
    "duration": 34,
    "start_time": "2022-08-23T20:02:22.259Z"
   },
   {
    "duration": 9,
    "start_time": "2022-08-23T20:02:22.294Z"
   },
   {
    "duration": 6,
    "start_time": "2022-08-23T20:02:22.306Z"
   },
   {
    "duration": 6,
    "start_time": "2022-08-23T20:02:22.314Z"
   },
   {
    "duration": 5,
    "start_time": "2022-08-23T20:04:01.638Z"
   },
   {
    "duration": 10,
    "start_time": "2022-08-23T20:04:14.187Z"
   },
   {
    "duration": 6,
    "start_time": "2022-08-23T20:04:46.964Z"
   },
   {
    "duration": 10,
    "start_time": "2022-08-23T20:04:47.751Z"
   },
   {
    "duration": 193,
    "start_time": "2022-08-23T20:05:36.947Z"
   },
   {
    "duration": 220,
    "start_time": "2022-08-23T20:05:53.183Z"
   },
   {
    "duration": 144,
    "start_time": "2022-08-23T20:06:10.982Z"
   },
   {
    "duration": 184,
    "start_time": "2022-08-23T20:06:29.058Z"
   },
   {
    "duration": 9,
    "start_time": "2022-08-23T20:08:50.209Z"
   },
   {
    "duration": 14,
    "start_time": "2022-08-23T20:08:53.629Z"
   },
   {
    "duration": 220,
    "start_time": "2022-08-23T20:08:59.494Z"
   },
   {
    "duration": 10,
    "start_time": "2022-08-23T20:12:50.860Z"
   },
   {
    "duration": 18,
    "start_time": "2022-08-23T20:14:12.485Z"
   },
   {
    "duration": 7,
    "start_time": "2022-08-23T20:14:48.459Z"
   },
   {
    "duration": 44,
    "start_time": "2022-08-23T20:15:00.489Z"
   },
   {
    "duration": 11,
    "start_time": "2022-08-23T20:15:46.827Z"
   },
   {
    "duration": 9,
    "start_time": "2022-08-23T20:16:02.725Z"
   },
   {
    "duration": 10,
    "start_time": "2022-08-23T20:16:41.986Z"
   },
   {
    "duration": 21,
    "start_time": "2022-08-23T20:17:13.875Z"
   },
   {
    "duration": 10,
    "start_time": "2022-08-23T20:17:52.742Z"
   },
   {
    "duration": 616,
    "start_time": "2022-08-23T20:19:12.940Z"
   },
   {
    "duration": 13,
    "start_time": "2022-08-23T20:19:20.684Z"
   },
   {
    "duration": 16,
    "start_time": "2022-08-23T20:19:49.598Z"
   },
   {
    "duration": 13,
    "start_time": "2022-08-23T20:21:07.651Z"
   },
   {
    "duration": 14,
    "start_time": "2022-08-23T20:21:25.865Z"
   },
   {
    "duration": 6,
    "start_time": "2022-08-23T20:22:02.153Z"
   },
   {
    "duration": 45,
    "start_time": "2022-08-23T20:22:12.825Z"
   },
   {
    "duration": 29,
    "start_time": "2022-08-23T20:22:53.666Z"
   },
   {
    "duration": 30,
    "start_time": "2022-08-23T20:23:01.642Z"
   },
   {
    "duration": 45,
    "start_time": "2022-08-23T20:25:23.972Z"
   },
   {
    "duration": 51,
    "start_time": "2022-08-23T20:27:04.925Z"
   },
   {
    "duration": 27,
    "start_time": "2022-08-23T20:27:44.145Z"
   },
   {
    "duration": 6,
    "start_time": "2022-08-23T20:33:34.117Z"
   },
   {
    "duration": 13,
    "start_time": "2022-08-23T20:34:48.016Z"
   },
   {
    "duration": 13,
    "start_time": "2022-08-23T20:35:14.046Z"
   },
   {
    "duration": 11,
    "start_time": "2022-08-23T20:36:18.260Z"
   },
   {
    "duration": 11,
    "start_time": "2022-08-23T20:37:22.436Z"
   },
   {
    "duration": 12,
    "start_time": "2022-08-23T20:37:36.333Z"
   },
   {
    "duration": 12,
    "start_time": "2022-08-23T20:37:39.251Z"
   },
   {
    "duration": 12,
    "start_time": "2022-08-23T20:37:47.285Z"
   },
   {
    "duration": 116,
    "start_time": "2022-08-23T20:39:27.759Z"
   },
   {
    "duration": 20,
    "start_time": "2022-08-23T20:39:27.877Z"
   },
   {
    "duration": 2281,
    "start_time": "2022-08-23T20:39:27.898Z"
   },
   {
    "duration": 13,
    "start_time": "2022-08-23T20:39:30.181Z"
   },
   {
    "duration": 17,
    "start_time": "2022-08-23T20:39:30.196Z"
   },
   {
    "duration": 9,
    "start_time": "2022-08-23T20:39:30.215Z"
   },
   {
    "duration": 22,
    "start_time": "2022-08-23T20:39:30.226Z"
   },
   {
    "duration": 18,
    "start_time": "2022-08-23T20:39:30.250Z"
   },
   {
    "duration": 25,
    "start_time": "2022-08-23T20:39:30.269Z"
   },
   {
    "duration": 31,
    "start_time": "2022-08-23T20:39:30.296Z"
   },
   {
    "duration": 20,
    "start_time": "2022-08-23T20:39:30.329Z"
   },
   {
    "duration": 9,
    "start_time": "2022-08-23T20:39:30.351Z"
   },
   {
    "duration": 21,
    "start_time": "2022-08-23T20:39:30.361Z"
   },
   {
    "duration": 33,
    "start_time": "2022-08-23T20:39:30.384Z"
   },
   {
    "duration": 33,
    "start_time": "2022-08-23T20:39:30.419Z"
   },
   {
    "duration": 11,
    "start_time": "2022-08-23T20:39:30.454Z"
   },
   {
    "duration": 5,
    "start_time": "2022-08-23T20:39:30.467Z"
   },
   {
    "duration": 18,
    "start_time": "2022-08-23T20:39:30.474Z"
   },
   {
    "duration": 211,
    "start_time": "2022-08-23T20:39:30.494Z"
   },
   {
    "duration": 10,
    "start_time": "2022-08-23T20:39:30.707Z"
   },
   {
    "duration": 37,
    "start_time": "2022-08-23T20:39:30.719Z"
   },
   {
    "duration": 13,
    "start_time": "2022-08-23T20:39:30.758Z"
   },
   {
    "duration": 17,
    "start_time": "2022-08-23T20:39:40.896Z"
   },
   {
    "duration": 116,
    "start_time": "2022-08-23T20:44:04.077Z"
   },
   {
    "duration": 15,
    "start_time": "2022-08-23T20:44:04.195Z"
   },
   {
    "duration": 1977,
    "start_time": "2022-08-23T20:44:04.213Z"
   },
   {
    "duration": 16,
    "start_time": "2022-08-23T20:44:06.192Z"
   },
   {
    "duration": 18,
    "start_time": "2022-08-23T20:44:06.211Z"
   },
   {
    "duration": 8,
    "start_time": "2022-08-23T20:44:06.231Z"
   },
   {
    "duration": 14,
    "start_time": "2022-08-23T20:44:06.240Z"
   },
   {
    "duration": 41,
    "start_time": "2022-08-23T20:44:06.256Z"
   },
   {
    "duration": 6,
    "start_time": "2022-08-23T20:44:06.298Z"
   },
   {
    "duration": 23,
    "start_time": "2022-08-23T20:44:06.305Z"
   },
   {
    "duration": 11,
    "start_time": "2022-08-23T20:44:06.330Z"
   },
   {
    "duration": 6,
    "start_time": "2022-08-23T20:44:06.342Z"
   },
   {
    "duration": 9,
    "start_time": "2022-08-23T20:44:06.350Z"
   },
   {
    "duration": 11,
    "start_time": "2022-08-23T20:44:06.393Z"
   },
   {
    "duration": 26,
    "start_time": "2022-08-23T20:44:06.406Z"
   },
   {
    "duration": 13,
    "start_time": "2022-08-23T20:44:06.434Z"
   },
   {
    "duration": 6,
    "start_time": "2022-08-23T20:44:06.450Z"
   },
   {
    "duration": 43,
    "start_time": "2022-08-23T20:44:06.458Z"
   },
   {
    "duration": 215,
    "start_time": "2022-08-23T20:44:06.503Z"
   },
   {
    "duration": 10,
    "start_time": "2022-08-23T20:44:06.720Z"
   },
   {
    "duration": 37,
    "start_time": "2022-08-23T20:44:06.732Z"
   },
   {
    "duration": 27,
    "start_time": "2022-08-23T20:44:06.771Z"
   },
   {
    "duration": 27,
    "start_time": "2022-08-23T20:46:44.189Z"
   },
   {
    "duration": 124,
    "start_time": "2022-08-23T20:46:50.948Z"
   },
   {
    "duration": 31,
    "start_time": "2022-08-23T20:46:51.075Z"
   },
   {
    "duration": 1965,
    "start_time": "2022-08-23T20:46:51.109Z"
   },
   {
    "duration": 22,
    "start_time": "2022-08-23T20:46:53.076Z"
   },
   {
    "duration": 16,
    "start_time": "2022-08-23T20:46:53.102Z"
   },
   {
    "duration": 10,
    "start_time": "2022-08-23T20:46:53.119Z"
   },
   {
    "duration": 16,
    "start_time": "2022-08-23T20:46:53.131Z"
   },
   {
    "duration": 46,
    "start_time": "2022-08-23T20:46:53.149Z"
   },
   {
    "duration": 6,
    "start_time": "2022-08-23T20:46:53.197Z"
   },
   {
    "duration": 32,
    "start_time": "2022-08-23T20:46:53.206Z"
   },
   {
    "duration": 13,
    "start_time": "2022-08-23T20:46:53.240Z"
   },
   {
    "duration": 7,
    "start_time": "2022-08-23T20:46:53.255Z"
   },
   {
    "duration": 6,
    "start_time": "2022-08-23T20:46:53.293Z"
   },
   {
    "duration": 9,
    "start_time": "2022-08-23T20:46:53.302Z"
   },
   {
    "duration": 20,
    "start_time": "2022-08-23T20:46:53.313Z"
   },
   {
    "duration": 12,
    "start_time": "2022-08-23T20:46:53.335Z"
   },
   {
    "duration": 8,
    "start_time": "2022-08-23T20:46:53.349Z"
   },
   {
    "duration": 42,
    "start_time": "2022-08-23T20:46:53.359Z"
   },
   {
    "duration": 217,
    "start_time": "2022-08-23T20:46:53.403Z"
   },
   {
    "duration": 10,
    "start_time": "2022-08-23T20:46:53.621Z"
   },
   {
    "duration": 28,
    "start_time": "2022-08-23T20:46:53.633Z"
   },
   {
    "duration": 36,
    "start_time": "2022-08-23T20:46:53.663Z"
   },
   {
    "duration": 11,
    "start_time": "2022-08-23T20:47:11.585Z"
   },
   {
    "duration": 12,
    "start_time": "2022-08-23T20:49:00.132Z"
   },
   {
    "duration": 13,
    "start_time": "2022-08-23T20:49:17.652Z"
   },
   {
    "duration": 83,
    "start_time": "2022-08-23T20:50:03.010Z"
   },
   {
    "duration": 74,
    "start_time": "2022-08-23T20:50:04.773Z"
   },
   {
    "duration": 10,
    "start_time": "2022-08-23T20:50:09.362Z"
   },
   {
    "duration": 10,
    "start_time": "2022-08-23T20:50:18.919Z"
   },
   {
    "duration": 9,
    "start_time": "2022-08-23T20:50:26.679Z"
   },
   {
    "duration": 10,
    "start_time": "2022-08-23T20:50:32.634Z"
   },
   {
    "duration": 34,
    "start_time": "2022-08-23T20:50:50.354Z"
   },
   {
    "duration": 10,
    "start_time": "2022-08-23T20:51:17.889Z"
   },
   {
    "duration": 8,
    "start_time": "2022-08-23T20:51:37.143Z"
   },
   {
    "duration": 71,
    "start_time": "2022-08-23T20:55:42.162Z"
   },
   {
    "duration": 36,
    "start_time": "2022-08-23T20:57:29.800Z"
   },
   {
    "duration": 129,
    "start_time": "2022-08-23T20:59:49.174Z"
   },
   {
    "duration": 15,
    "start_time": "2022-08-23T20:59:49.305Z"
   },
   {
    "duration": 2289,
    "start_time": "2022-08-23T20:59:49.321Z"
   },
   {
    "duration": 10,
    "start_time": "2022-08-23T20:59:51.612Z"
   },
   {
    "duration": 14,
    "start_time": "2022-08-23T20:59:51.625Z"
   },
   {
    "duration": 11,
    "start_time": "2022-08-23T20:59:51.640Z"
   },
   {
    "duration": 49,
    "start_time": "2022-08-23T20:59:51.653Z"
   },
   {
    "duration": 12,
    "start_time": "2022-08-23T20:59:51.704Z"
   },
   {
    "duration": 5,
    "start_time": "2022-08-23T20:59:51.718Z"
   },
   {
    "duration": 21,
    "start_time": "2022-08-23T20:59:51.725Z"
   },
   {
    "duration": 10,
    "start_time": "2022-08-23T20:59:51.747Z"
   },
   {
    "duration": 35,
    "start_time": "2022-08-23T20:59:51.759Z"
   },
   {
    "duration": 11,
    "start_time": "2022-08-23T20:59:51.797Z"
   },
   {
    "duration": 17,
    "start_time": "2022-08-23T20:59:51.812Z"
   },
   {
    "duration": 26,
    "start_time": "2022-08-23T20:59:51.831Z"
   },
   {
    "duration": 11,
    "start_time": "2022-08-23T20:59:51.859Z"
   },
   {
    "duration": 25,
    "start_time": "2022-08-23T20:59:51.871Z"
   },
   {
    "duration": 15,
    "start_time": "2022-08-23T20:59:51.898Z"
   },
   {
    "duration": 223,
    "start_time": "2022-08-23T20:59:51.915Z"
   },
   {
    "duration": 11,
    "start_time": "2022-08-23T20:59:52.139Z"
   },
   {
    "duration": 59,
    "start_time": "2022-08-23T20:59:52.152Z"
   },
   {
    "duration": 11,
    "start_time": "2022-08-23T20:59:52.214Z"
   },
   {
    "duration": 25,
    "start_time": "2022-08-23T20:59:52.226Z"
   },
   {
    "duration": 121,
    "start_time": "2022-08-23T21:02:01.511Z"
   },
   {
    "duration": 15,
    "start_time": "2022-08-23T21:02:01.634Z"
   },
   {
    "duration": 2023,
    "start_time": "2022-08-23T21:02:01.651Z"
   },
   {
    "duration": 24,
    "start_time": "2022-08-23T21:02:03.675Z"
   },
   {
    "duration": 13,
    "start_time": "2022-08-23T21:02:03.701Z"
   },
   {
    "duration": 9,
    "start_time": "2022-08-23T21:02:03.715Z"
   },
   {
    "duration": 13,
    "start_time": "2022-08-23T21:02:03.726Z"
   },
   {
    "duration": 10,
    "start_time": "2022-08-23T21:02:03.741Z"
   },
   {
    "duration": 5,
    "start_time": "2022-08-23T21:02:03.753Z"
   },
   {
    "duration": 53,
    "start_time": "2022-08-23T21:02:03.759Z"
   },
   {
    "duration": 9,
    "start_time": "2022-08-23T21:02:03.814Z"
   },
   {
    "duration": 5,
    "start_time": "2022-08-23T21:02:03.824Z"
   },
   {
    "duration": 7,
    "start_time": "2022-08-23T21:02:03.830Z"
   },
   {
    "duration": 9,
    "start_time": "2022-08-23T21:02:03.839Z"
   },
   {
    "duration": 43,
    "start_time": "2022-08-23T21:02:03.850Z"
   },
   {
    "duration": 18,
    "start_time": "2022-08-23T21:02:03.894Z"
   },
   {
    "duration": 7,
    "start_time": "2022-08-23T21:02:03.914Z"
   },
   {
    "duration": 10,
    "start_time": "2022-08-23T21:02:03.923Z"
   },
   {
    "duration": 212,
    "start_time": "2022-08-23T21:02:03.934Z"
   },
   {
    "duration": 9,
    "start_time": "2022-08-23T21:02:04.148Z"
   },
   {
    "duration": 14,
    "start_time": "2022-08-23T21:02:04.159Z"
   },
   {
    "duration": 37,
    "start_time": "2022-08-23T21:02:04.174Z"
   },
   {
    "duration": 34,
    "start_time": "2022-08-23T21:02:04.213Z"
   },
   {
    "duration": 11,
    "start_time": "2022-08-23T21:02:04.249Z"
   },
   {
    "duration": 12,
    "start_time": "2022-08-23T21:08:36.744Z"
   },
   {
    "duration": 11,
    "start_time": "2022-08-23T21:08:46.216Z"
   },
   {
    "duration": 16,
    "start_time": "2022-08-23T21:09:42.877Z"
   },
   {
    "duration": 10,
    "start_time": "2022-08-23T21:10:41.550Z"
   },
   {
    "duration": 39,
    "start_time": "2022-08-23T21:11:38.521Z"
   },
   {
    "duration": 12,
    "start_time": "2022-08-23T21:12:27.866Z"
   },
   {
    "duration": 10,
    "start_time": "2022-08-23T21:13:04.170Z"
   },
   {
    "duration": 12,
    "start_time": "2022-08-23T21:13:29.425Z"
   },
   {
    "duration": 12,
    "start_time": "2022-08-23T21:13:38.543Z"
   },
   {
    "duration": 359,
    "start_time": "2022-08-23T21:13:59.374Z"
   },
   {
    "duration": 11,
    "start_time": "2022-08-23T21:14:22.813Z"
   },
   {
    "duration": 11,
    "start_time": "2022-08-23T21:14:54.552Z"
   },
   {
    "duration": 13,
    "start_time": "2022-08-23T21:15:15.067Z"
   },
   {
    "duration": 13,
    "start_time": "2022-08-23T21:15:42.732Z"
   },
   {
    "duration": 1330,
    "start_time": "2022-08-23T21:19:32.221Z"
   },
   {
    "duration": 4,
    "start_time": "2022-08-23T21:19:44.177Z"
   },
   {
    "duration": 4,
    "start_time": "2022-08-23T21:19:46.961Z"
   },
   {
    "duration": 9,
    "start_time": "2022-08-23T21:22:54.407Z"
   },
   {
    "duration": 9,
    "start_time": "2022-08-23T21:23:10.650Z"
   },
   {
    "duration": 11,
    "start_time": "2022-08-23T21:24:18.245Z"
   },
   {
    "duration": 117,
    "start_time": "2022-08-23T21:24:29.412Z"
   },
   {
    "duration": 15,
    "start_time": "2022-08-23T21:24:29.531Z"
   },
   {
    "duration": 1926,
    "start_time": "2022-08-23T21:24:29.548Z"
   },
   {
    "duration": 18,
    "start_time": "2022-08-23T21:24:31.476Z"
   },
   {
    "duration": 12,
    "start_time": "2022-08-23T21:24:31.496Z"
   },
   {
    "duration": 19,
    "start_time": "2022-08-23T21:24:31.509Z"
   },
   {
    "duration": 20,
    "start_time": "2022-08-23T21:24:31.529Z"
   },
   {
    "duration": 11,
    "start_time": "2022-08-23T21:24:31.551Z"
   },
   {
    "duration": 7,
    "start_time": "2022-08-23T21:24:31.564Z"
   },
   {
    "duration": 34,
    "start_time": "2022-08-23T21:24:31.573Z"
   },
   {
    "duration": 9,
    "start_time": "2022-08-23T21:24:31.609Z"
   },
   {
    "duration": 4,
    "start_time": "2022-08-23T21:24:31.620Z"
   },
   {
    "duration": 18,
    "start_time": "2022-08-23T21:24:31.626Z"
   },
   {
    "duration": 13,
    "start_time": "2022-08-23T21:24:31.647Z"
   },
   {
    "duration": 33,
    "start_time": "2022-08-23T21:24:31.662Z"
   },
   {
    "duration": 9,
    "start_time": "2022-08-23T21:24:31.697Z"
   },
   {
    "duration": 4,
    "start_time": "2022-08-23T21:24:31.708Z"
   },
   {
    "duration": 11,
    "start_time": "2022-08-23T21:24:31.714Z"
   },
   {
    "duration": 216,
    "start_time": "2022-08-23T21:24:31.727Z"
   },
   {
    "duration": 10,
    "start_time": "2022-08-23T21:24:31.945Z"
   },
   {
    "duration": 16,
    "start_time": "2022-08-23T21:24:31.956Z"
   },
   {
    "duration": 42,
    "start_time": "2022-08-23T21:24:31.973Z"
   },
   {
    "duration": 27,
    "start_time": "2022-08-23T21:24:32.017Z"
   },
   {
    "duration": 12,
    "start_time": "2022-08-23T21:24:32.046Z"
   },
   {
    "duration": 11,
    "start_time": "2022-08-23T21:24:32.059Z"
   },
   {
    "duration": 14,
    "start_time": "2022-08-23T21:24:32.092Z"
   },
   {
    "duration": 4,
    "start_time": "2022-08-23T21:24:32.108Z"
   },
   {
    "duration": 16,
    "start_time": "2022-08-23T21:24:32.113Z"
   },
   {
    "duration": 7,
    "start_time": "2022-08-23T21:25:20.236Z"
   },
   {
    "duration": 16,
    "start_time": "2022-08-23T21:41:21.096Z"
   },
   {
    "duration": 10,
    "start_time": "2022-08-23T21:41:32.528Z"
   },
   {
    "duration": 11,
    "start_time": "2022-08-23T21:41:46.815Z"
   },
   {
    "duration": 8,
    "start_time": "2022-08-23T21:43:17.512Z"
   },
   {
    "duration": 13,
    "start_time": "2022-08-23T21:43:48.496Z"
   },
   {
    "duration": 835,
    "start_time": "2022-08-23T21:49:29.408Z"
   },
   {
    "duration": 377,
    "start_time": "2022-08-23T21:50:55.914Z"
   },
   {
    "duration": 3,
    "start_time": "2022-08-23T21:51:37.745Z"
   },
   {
    "duration": 5,
    "start_time": "2022-08-23T21:51:46.082Z"
   },
   {
    "duration": 4,
    "start_time": "2022-08-23T21:51:57.139Z"
   },
   {
    "duration": 385,
    "start_time": "2022-08-23T21:52:43.828Z"
   },
   {
    "duration": 3,
    "start_time": "2022-08-23T21:52:58.500Z"
   },
   {
    "duration": 380,
    "start_time": "2022-08-23T21:52:59.236Z"
   },
   {
    "duration": 4,
    "start_time": "2022-08-23T21:54:22.185Z"
   },
   {
    "duration": 361,
    "start_time": "2022-08-23T21:54:24.336Z"
   },
   {
    "duration": 4,
    "start_time": "2022-08-23T21:55:24.762Z"
   },
   {
    "duration": 364,
    "start_time": "2022-08-23T21:55:25.156Z"
   },
   {
    "duration": 3,
    "start_time": "2022-08-23T21:57:28.877Z"
   },
   {
    "duration": 3,
    "start_time": "2022-08-23T21:58:49.809Z"
   },
   {
    "duration": 178,
    "start_time": "2022-08-23T22:02:43.844Z"
   },
   {
    "duration": 9,
    "start_time": "2022-08-23T22:03:13.896Z"
   },
   {
    "duration": 222,
    "start_time": "2022-08-23T22:03:42.205Z"
   },
   {
    "duration": 252,
    "start_time": "2022-08-23T22:05:14.885Z"
   },
   {
    "duration": 268,
    "start_time": "2022-08-23T22:06:10.933Z"
   },
   {
    "duration": 254,
    "start_time": "2022-08-23T22:07:08.435Z"
   },
   {
    "duration": 264,
    "start_time": "2022-08-23T22:07:45.129Z"
   },
   {
    "duration": 233,
    "start_time": "2022-08-23T22:08:58.854Z"
   },
   {
    "duration": 1251,
    "start_time": "2022-08-23T22:09:56.581Z"
   },
   {
    "duration": 256,
    "start_time": "2022-08-23T22:10:04.588Z"
   },
   {
    "duration": 19,
    "start_time": "2022-08-23T22:10:46.147Z"
   },
   {
    "duration": 1302,
    "start_time": "2022-08-23T22:11:26.783Z"
   },
   {
    "duration": 1254,
    "start_time": "2022-08-23T22:11:32.424Z"
   },
   {
    "duration": 264,
    "start_time": "2022-08-23T22:11:53.979Z"
   },
   {
    "duration": 243,
    "start_time": "2022-08-23T22:12:36.918Z"
   },
   {
    "duration": 268,
    "start_time": "2022-08-23T22:13:23.136Z"
   },
   {
    "duration": 57,
    "start_time": "2022-08-24T18:42:00.585Z"
   },
   {
    "duration": 579,
    "start_time": "2022-08-24T18:42:04.580Z"
   },
   {
    "duration": 13,
    "start_time": "2022-08-24T18:42:05.161Z"
   },
   {
    "duration": 2313,
    "start_time": "2022-08-24T18:42:05.175Z"
   },
   {
    "duration": 9,
    "start_time": "2022-08-24T18:42:07.490Z"
   },
   {
    "duration": 17,
    "start_time": "2022-08-24T18:42:07.501Z"
   },
   {
    "duration": 14,
    "start_time": "2022-08-24T18:42:07.519Z"
   },
   {
    "duration": 15,
    "start_time": "2022-08-24T18:42:07.534Z"
   },
   {
    "duration": 20,
    "start_time": "2022-08-24T18:42:07.550Z"
   },
   {
    "duration": 10,
    "start_time": "2022-08-24T18:42:07.572Z"
   },
   {
    "duration": 32,
    "start_time": "2022-08-24T18:42:07.583Z"
   },
   {
    "duration": 23,
    "start_time": "2022-08-24T18:42:07.617Z"
   },
   {
    "duration": 16,
    "start_time": "2022-08-24T18:42:07.641Z"
   },
   {
    "duration": 25,
    "start_time": "2022-08-24T18:42:07.659Z"
   },
   {
    "duration": 14,
    "start_time": "2022-08-24T18:42:07.687Z"
   },
   {
    "duration": 25,
    "start_time": "2022-08-24T18:42:07.703Z"
   },
   {
    "duration": 11,
    "start_time": "2022-08-24T18:42:07.729Z"
   },
   {
    "duration": 9,
    "start_time": "2022-08-24T18:42:07.741Z"
   },
   {
    "duration": 28,
    "start_time": "2022-08-24T18:42:07.751Z"
   },
   {
    "duration": 178,
    "start_time": "2022-08-24T18:42:07.781Z"
   },
   {
    "duration": 8,
    "start_time": "2022-08-24T18:42:07.960Z"
   },
   {
    "duration": 23,
    "start_time": "2022-08-24T18:42:07.970Z"
   },
   {
    "duration": 28,
    "start_time": "2022-08-24T18:42:07.995Z"
   },
   {
    "duration": 43,
    "start_time": "2022-08-24T18:42:08.025Z"
   },
   {
    "duration": 12,
    "start_time": "2022-08-24T18:42:08.069Z"
   },
   {
    "duration": 20,
    "start_time": "2022-08-24T18:42:08.083Z"
   },
   {
    "duration": 25,
    "start_time": "2022-08-24T18:42:08.105Z"
   },
   {
    "duration": 19,
    "start_time": "2022-08-24T18:42:08.131Z"
   },
   {
    "duration": 32,
    "start_time": "2022-08-24T18:42:08.152Z"
   },
   {
    "duration": 4,
    "start_time": "2022-08-24T18:42:08.186Z"
   },
   {
    "duration": 339,
    "start_time": "2022-08-24T18:42:08.192Z"
   },
   {
    "duration": 4,
    "start_time": "2022-08-24T18:42:08.532Z"
   },
   {
    "duration": 25,
    "start_time": "2022-08-24T18:42:08.537Z"
   },
   {
    "duration": 298,
    "start_time": "2022-08-24T18:42:08.563Z"
   },
   {
    "duration": 239,
    "start_time": "2022-08-24T18:42:08.863Z"
   },
   {
    "duration": 230,
    "start_time": "2022-08-24T18:42:09.105Z"
   },
   {
    "duration": 240,
    "start_time": "2022-08-24T18:42:09.337Z"
   },
   {
    "duration": 256,
    "start_time": "2022-08-24T18:42:09.579Z"
   },
   {
    "duration": 336,
    "start_time": "2022-08-24T18:42:09.836Z"
   },
   {
    "duration": 252,
    "start_time": "2022-08-24T18:42:10.174Z"
   },
   {
    "duration": 259,
    "start_time": "2022-08-24T18:42:10.428Z"
   },
   {
    "duration": 219,
    "start_time": "2022-08-24T18:42:10.691Z"
   },
   {
    "duration": 235,
    "start_time": "2022-08-24T18:42:10.911Z"
   },
   {
    "duration": 190,
    "start_time": "2022-08-24T18:51:06.805Z"
   },
   {
    "duration": 201,
    "start_time": "2022-08-24T19:02:05.927Z"
   },
   {
    "duration": 342,
    "start_time": "2022-08-24T19:08:13.532Z"
   },
   {
    "duration": 247,
    "start_time": "2022-08-24T19:10:31.597Z"
   },
   {
    "duration": 220,
    "start_time": "2022-08-24T19:10:48.331Z"
   },
   {
    "duration": 241,
    "start_time": "2022-08-24T19:11:01.013Z"
   },
   {
    "duration": 245,
    "start_time": "2022-08-24T19:21:18.993Z"
   },
   {
    "duration": 193,
    "start_time": "2022-08-24T19:21:45.817Z"
   },
   {
    "duration": 229,
    "start_time": "2022-08-24T19:21:56.766Z"
   },
   {
    "duration": 77,
    "start_time": "2022-08-24T19:30:19.459Z"
   },
   {
    "duration": 394,
    "start_time": "2022-08-24T19:30:39.382Z"
   },
   {
    "duration": 177,
    "start_time": "2022-08-24T19:30:51.107Z"
   },
   {
    "duration": 253,
    "start_time": "2022-08-24T19:31:11.934Z"
   },
   {
    "duration": 268,
    "start_time": "2022-08-24T19:43:03.152Z"
   },
   {
    "duration": 192,
    "start_time": "2022-08-24T19:43:44.158Z"
   },
   {
    "duration": 187,
    "start_time": "2022-08-24T19:48:22.996Z"
   },
   {
    "duration": 208,
    "start_time": "2022-08-24T19:48:58.689Z"
   },
   {
    "duration": 73,
    "start_time": "2022-08-24T19:50:13.677Z"
   },
   {
    "duration": 250,
    "start_time": "2022-08-24T20:11:05.765Z"
   },
   {
    "duration": 251,
    "start_time": "2022-08-24T20:11:29.736Z"
   },
   {
    "duration": 174,
    "start_time": "2022-08-24T20:55:22.484Z"
   },
   {
    "duration": 401,
    "start_time": "2022-08-24T20:56:56.262Z"
   },
   {
    "duration": 69,
    "start_time": "2022-08-25T17:29:14.070Z"
   },
   {
    "duration": 1061,
    "start_time": "2022-08-25T17:29:17.654Z"
   },
   {
    "duration": 19,
    "start_time": "2022-08-25T17:29:18.717Z"
   },
   {
    "duration": 2177,
    "start_time": "2022-08-25T17:29:18.738Z"
   },
   {
    "duration": 13,
    "start_time": "2022-08-25T17:29:20.917Z"
   },
   {
    "duration": 25,
    "start_time": "2022-08-25T17:29:20.932Z"
   },
   {
    "duration": 11,
    "start_time": "2022-08-25T17:29:20.958Z"
   },
   {
    "duration": 35,
    "start_time": "2022-08-25T17:29:20.971Z"
   },
   {
    "duration": 14,
    "start_time": "2022-08-25T17:29:21.007Z"
   },
   {
    "duration": 5,
    "start_time": "2022-08-25T17:29:21.022Z"
   },
   {
    "duration": 18,
    "start_time": "2022-08-25T17:29:21.028Z"
   },
   {
    "duration": 51,
    "start_time": "2022-08-25T17:29:21.047Z"
   },
   {
    "duration": 6,
    "start_time": "2022-08-25T17:29:21.099Z"
   },
   {
    "duration": 7,
    "start_time": "2022-08-25T17:29:21.106Z"
   },
   {
    "duration": 9,
    "start_time": "2022-08-25T17:29:21.116Z"
   },
   {
    "duration": 17,
    "start_time": "2022-08-25T17:29:21.127Z"
   },
   {
    "duration": 54,
    "start_time": "2022-08-25T17:29:21.146Z"
   },
   {
    "duration": 6,
    "start_time": "2022-08-25T17:29:21.202Z"
   },
   {
    "duration": 13,
    "start_time": "2022-08-25T17:29:21.210Z"
   },
   {
    "duration": 183,
    "start_time": "2022-08-25T17:29:21.224Z"
   },
   {
    "duration": 9,
    "start_time": "2022-08-25T17:29:21.409Z"
   },
   {
    "duration": 15,
    "start_time": "2022-08-25T17:29:21.419Z"
   },
   {
    "duration": 14,
    "start_time": "2022-08-25T17:29:21.436Z"
   },
   {
    "duration": 52,
    "start_time": "2022-08-25T17:29:21.451Z"
   },
   {
    "duration": 10,
    "start_time": "2022-08-25T17:29:21.505Z"
   },
   {
    "duration": 9,
    "start_time": "2022-08-25T17:29:21.517Z"
   },
   {
    "duration": 14,
    "start_time": "2022-08-25T17:29:21.528Z"
   },
   {
    "duration": 4,
    "start_time": "2022-08-25T17:29:21.544Z"
   },
   {
    "duration": 49,
    "start_time": "2022-08-25T17:29:21.549Z"
   },
   {
    "duration": 5,
    "start_time": "2022-08-25T17:29:21.600Z"
   },
   {
    "duration": 382,
    "start_time": "2022-08-25T17:29:21.606Z"
   },
   {
    "duration": 17,
    "start_time": "2022-08-25T17:29:21.990Z"
   },
   {
    "duration": 29,
    "start_time": "2022-08-25T17:29:22.009Z"
   },
   {
    "duration": 203,
    "start_time": "2022-08-25T17:29:22.040Z"
   },
   {
    "duration": 228,
    "start_time": "2022-08-25T17:29:22.244Z"
   },
   {
    "duration": 183,
    "start_time": "2022-08-25T17:29:22.474Z"
   },
   {
    "duration": 173,
    "start_time": "2022-08-25T17:29:22.658Z"
   },
   {
    "duration": 216,
    "start_time": "2022-08-25T17:29:22.832Z"
   },
   {
    "duration": 213,
    "start_time": "2022-08-25T17:29:23.049Z"
   },
   {
    "duration": 184,
    "start_time": "2022-08-25T17:29:23.264Z"
   },
   {
    "duration": 290,
    "start_time": "2022-08-25T17:29:23.449Z"
   },
   {
    "duration": 3,
    "start_time": "2022-08-25T17:29:23.743Z"
   },
   {
    "duration": 218,
    "start_time": "2022-08-25T17:29:23.747Z"
   },
   {
    "duration": 236,
    "start_time": "2022-08-25T17:31:08.879Z"
   },
   {
    "duration": 234,
    "start_time": "2022-08-25T17:31:27.838Z"
   },
   {
    "duration": 8,
    "start_time": "2022-08-25T17:32:21.357Z"
   },
   {
    "duration": 230,
    "start_time": "2022-08-25T17:32:23.111Z"
   },
   {
    "duration": 207,
    "start_time": "2022-08-25T17:40:00.070Z"
   },
   {
    "duration": 5,
    "start_time": "2022-08-25T17:41:16.406Z"
   },
   {
    "duration": 139,
    "start_time": "2022-08-25T19:05:27.835Z"
   },
   {
    "duration": 25,
    "start_time": "2022-08-25T19:05:27.977Z"
   },
   {
    "duration": 1750,
    "start_time": "2022-08-25T19:05:28.003Z"
   },
   {
    "duration": 10,
    "start_time": "2022-08-25T19:05:29.754Z"
   },
   {
    "duration": 42,
    "start_time": "2022-08-25T19:05:29.766Z"
   },
   {
    "duration": 9,
    "start_time": "2022-08-25T19:05:29.810Z"
   },
   {
    "duration": 17,
    "start_time": "2022-08-25T19:05:29.821Z"
   },
   {
    "duration": 10,
    "start_time": "2022-08-25T19:05:29.840Z"
   },
   {
    "duration": 6,
    "start_time": "2022-08-25T19:05:29.852Z"
   },
   {
    "duration": 53,
    "start_time": "2022-08-25T19:05:29.859Z"
   },
   {
    "duration": 11,
    "start_time": "2022-08-25T19:05:29.914Z"
   },
   {
    "duration": 6,
    "start_time": "2022-08-25T19:05:29.926Z"
   },
   {
    "duration": 7,
    "start_time": "2022-08-25T19:05:29.933Z"
   },
   {
    "duration": 14,
    "start_time": "2022-08-25T19:05:29.943Z"
   },
   {
    "duration": 69,
    "start_time": "2022-08-25T19:05:29.959Z"
   },
   {
    "duration": 13,
    "start_time": "2022-08-25T19:05:30.029Z"
   },
   {
    "duration": 6,
    "start_time": "2022-08-25T19:05:30.043Z"
   },
   {
    "duration": 13,
    "start_time": "2022-08-25T19:05:30.050Z"
   },
   {
    "duration": 191,
    "start_time": "2022-08-25T19:05:30.065Z"
   },
   {
    "duration": 10,
    "start_time": "2022-08-25T19:05:30.258Z"
   },
   {
    "duration": 32,
    "start_time": "2022-08-25T19:05:30.270Z"
   },
   {
    "duration": 32,
    "start_time": "2022-08-25T19:05:30.304Z"
   },
   {
    "duration": 25,
    "start_time": "2022-08-25T19:05:30.338Z"
   },
   {
    "duration": 51,
    "start_time": "2022-08-25T19:05:30.365Z"
   },
   {
    "duration": 19,
    "start_time": "2022-08-25T19:05:30.418Z"
   },
   {
    "duration": 21,
    "start_time": "2022-08-25T19:05:30.439Z"
   },
   {
    "duration": 10,
    "start_time": "2022-08-25T19:05:30.462Z"
   },
   {
    "duration": 36,
    "start_time": "2022-08-25T19:05:30.474Z"
   },
   {
    "duration": 10,
    "start_time": "2022-08-25T19:05:30.512Z"
   },
   {
    "duration": 485,
    "start_time": "2022-08-25T19:05:30.524Z"
   },
   {
    "duration": 7,
    "start_time": "2022-08-25T19:05:31.010Z"
   },
   {
    "duration": 15,
    "start_time": "2022-08-25T19:05:31.018Z"
   },
   {
    "duration": 207,
    "start_time": "2022-08-25T19:05:31.035Z"
   },
   {
    "duration": 235,
    "start_time": "2022-08-25T19:05:31.244Z"
   },
   {
    "duration": 185,
    "start_time": "2022-08-25T19:05:31.480Z"
   },
   {
    "duration": 187,
    "start_time": "2022-08-25T19:05:31.667Z"
   },
   {
    "duration": 236,
    "start_time": "2022-08-25T19:05:31.856Z"
   },
   {
    "duration": 226,
    "start_time": "2022-08-25T19:05:32.098Z"
   },
   {
    "duration": 197,
    "start_time": "2022-08-25T19:05:32.326Z"
   },
   {
    "duration": 265,
    "start_time": "2022-08-25T19:05:32.525Z"
   },
   {
    "duration": 7,
    "start_time": "2022-08-25T19:05:32.798Z"
   },
   {
    "duration": 354,
    "start_time": "2022-08-25T19:05:32.806Z"
   },
   {
    "duration": 294,
    "start_time": "2022-08-25T19:05:33.162Z"
   },
   {
    "duration": 220,
    "start_time": "2022-08-25T19:05:33.472Z"
   },
   {
    "duration": 7,
    "start_time": "2022-08-25T19:05:33.694Z"
   },
   {
    "duration": 182,
    "start_time": "2022-08-25T20:15:28.809Z"
   },
   {
    "duration": 143,
    "start_time": "2022-08-25T20:15:43.475Z"
   },
   {
    "duration": 132,
    "start_time": "2022-08-25T20:16:24.021Z"
   },
   {
    "duration": 5,
    "start_time": "2022-08-25T20:22:13.267Z"
   },
   {
    "duration": 105,
    "start_time": "2022-08-25T20:22:15.508Z"
   },
   {
    "duration": 13,
    "start_time": "2022-08-25T20:22:15.615Z"
   },
   {
    "duration": 1831,
    "start_time": "2022-08-25T20:22:15.629Z"
   },
   {
    "duration": 10,
    "start_time": "2022-08-25T20:22:17.462Z"
   },
   {
    "duration": 30,
    "start_time": "2022-08-25T20:22:17.473Z"
   },
   {
    "duration": 8,
    "start_time": "2022-08-25T20:22:17.504Z"
   },
   {
    "duration": 12,
    "start_time": "2022-08-25T20:22:17.513Z"
   },
   {
    "duration": 9,
    "start_time": "2022-08-25T20:22:17.527Z"
   },
   {
    "duration": 7,
    "start_time": "2022-08-25T20:22:17.537Z"
   },
   {
    "duration": 55,
    "start_time": "2022-08-25T20:22:17.547Z"
   },
   {
    "duration": 11,
    "start_time": "2022-08-25T20:22:17.603Z"
   },
   {
    "duration": 5,
    "start_time": "2022-08-25T20:22:17.616Z"
   },
   {
    "duration": 6,
    "start_time": "2022-08-25T20:22:17.623Z"
   },
   {
    "duration": 9,
    "start_time": "2022-08-25T20:22:17.631Z"
   },
   {
    "duration": 59,
    "start_time": "2022-08-25T20:22:17.642Z"
   },
   {
    "duration": 10,
    "start_time": "2022-08-25T20:22:17.702Z"
   },
   {
    "duration": 8,
    "start_time": "2022-08-25T20:22:17.713Z"
   },
   {
    "duration": 9,
    "start_time": "2022-08-25T20:22:17.722Z"
   },
   {
    "duration": 178,
    "start_time": "2022-08-25T20:22:17.732Z"
   },
   {
    "duration": 8,
    "start_time": "2022-08-25T20:22:17.911Z"
   },
   {
    "duration": 13,
    "start_time": "2022-08-25T20:22:17.921Z"
   },
   {
    "duration": 14,
    "start_time": "2022-08-25T20:22:17.935Z"
   },
   {
    "duration": 63,
    "start_time": "2022-08-25T20:22:17.951Z"
   },
   {
    "duration": 13,
    "start_time": "2022-08-25T20:22:18.015Z"
   },
   {
    "duration": 8,
    "start_time": "2022-08-25T20:22:18.029Z"
   },
   {
    "duration": 10,
    "start_time": "2022-08-25T20:22:18.039Z"
   },
   {
    "duration": 6,
    "start_time": "2022-08-25T20:22:18.051Z"
   },
   {
    "duration": 3,
    "start_time": "2022-08-25T20:22:18.060Z"
   },
   {
    "duration": 41,
    "start_time": "2022-08-25T20:22:18.065Z"
   },
   {
    "duration": 4,
    "start_time": "2022-08-25T20:22:18.107Z"
   },
   {
    "duration": 392,
    "start_time": "2022-08-25T20:22:18.112Z"
   },
   {
    "duration": 4,
    "start_time": "2022-08-25T20:22:18.506Z"
   },
   {
    "duration": 17,
    "start_time": "2022-08-25T20:22:18.511Z"
   },
   {
    "duration": 162,
    "start_time": "2022-08-25T20:22:18.530Z"
   },
   {
    "duration": 212,
    "start_time": "2022-08-25T20:22:18.697Z"
   },
   {
    "duration": 167,
    "start_time": "2022-08-25T20:22:18.911Z"
   },
   {
    "duration": 179,
    "start_time": "2022-08-25T20:22:19.079Z"
   },
   {
    "duration": 222,
    "start_time": "2022-08-25T20:22:19.259Z"
   },
   {
    "duration": 239,
    "start_time": "2022-08-25T20:22:19.482Z"
   },
   {
    "duration": 190,
    "start_time": "2022-08-25T20:22:19.722Z"
   },
   {
    "duration": 228,
    "start_time": "2022-08-25T20:22:19.913Z"
   },
   {
    "duration": 9,
    "start_time": "2022-08-25T20:22:20.143Z"
   },
   {
    "duration": 250,
    "start_time": "2022-08-25T20:22:20.154Z"
   },
   {
    "duration": 382,
    "start_time": "2022-08-25T20:22:20.406Z"
   },
   {
    "duration": 235,
    "start_time": "2022-08-25T20:22:20.790Z"
   },
   {
    "duration": 6,
    "start_time": "2022-08-25T20:22:21.027Z"
   },
   {
    "duration": 151,
    "start_time": "2022-08-25T20:22:21.035Z"
   },
   {
    "duration": 46,
    "start_time": "2022-08-25T20:48:27.028Z"
   },
   {
    "duration": 98,
    "start_time": "2022-08-25T20:48:29.163Z"
   },
   {
    "duration": 12,
    "start_time": "2022-08-25T20:48:29.263Z"
   },
   {
    "duration": 1678,
    "start_time": "2022-08-25T20:48:29.277Z"
   },
   {
    "duration": 8,
    "start_time": "2022-08-25T20:48:30.956Z"
   },
   {
    "duration": 22,
    "start_time": "2022-08-25T20:48:30.966Z"
   },
   {
    "duration": 13,
    "start_time": "2022-08-25T20:48:30.989Z"
   },
   {
    "duration": 23,
    "start_time": "2022-08-25T20:48:31.005Z"
   },
   {
    "duration": 26,
    "start_time": "2022-08-25T20:48:31.030Z"
   },
   {
    "duration": 5,
    "start_time": "2022-08-25T20:48:31.057Z"
   },
   {
    "duration": 21,
    "start_time": "2022-08-25T20:48:31.063Z"
   },
   {
    "duration": 19,
    "start_time": "2022-08-25T20:48:31.085Z"
   },
   {
    "duration": 7,
    "start_time": "2022-08-25T20:48:31.106Z"
   },
   {
    "duration": 21,
    "start_time": "2022-08-25T20:48:31.114Z"
   },
   {
    "duration": 7,
    "start_time": "2022-08-25T20:48:31.138Z"
   },
   {
    "duration": 23,
    "start_time": "2022-08-25T20:48:31.147Z"
   },
   {
    "duration": 27,
    "start_time": "2022-08-25T20:48:31.172Z"
   },
   {
    "duration": 5,
    "start_time": "2022-08-25T20:48:31.201Z"
   },
   {
    "duration": 12,
    "start_time": "2022-08-25T20:48:31.207Z"
   },
   {
    "duration": 184,
    "start_time": "2022-08-25T20:48:31.220Z"
   },
   {
    "duration": 8,
    "start_time": "2022-08-25T20:48:31.406Z"
   },
   {
    "duration": 32,
    "start_time": "2022-08-25T20:48:31.415Z"
   },
   {
    "duration": 13,
    "start_time": "2022-08-25T20:48:31.449Z"
   },
   {
    "duration": 37,
    "start_time": "2022-08-25T20:48:31.464Z"
   },
   {
    "duration": 10,
    "start_time": "2022-08-25T20:48:31.503Z"
   },
   {
    "duration": 8,
    "start_time": "2022-08-25T20:48:31.515Z"
   },
   {
    "duration": 12,
    "start_time": "2022-08-25T20:48:31.524Z"
   },
   {
    "duration": 5,
    "start_time": "2022-08-25T20:48:31.537Z"
   },
   {
    "duration": 4,
    "start_time": "2022-08-25T20:48:31.544Z"
   },
   {
    "duration": 53,
    "start_time": "2022-08-25T20:48:31.549Z"
   },
   {
    "duration": 4,
    "start_time": "2022-08-25T20:48:31.604Z"
   },
   {
    "duration": 380,
    "start_time": "2022-08-25T20:48:31.609Z"
   },
   {
    "duration": 9,
    "start_time": "2022-08-25T20:48:31.991Z"
   },
   {
    "duration": 10,
    "start_time": "2022-08-25T20:48:32.002Z"
   },
   {
    "duration": 166,
    "start_time": "2022-08-25T20:48:32.014Z"
   },
   {
    "duration": 246,
    "start_time": "2022-08-25T20:48:32.181Z"
   },
   {
    "duration": 180,
    "start_time": "2022-08-25T20:48:32.429Z"
   },
   {
    "duration": 179,
    "start_time": "2022-08-25T20:48:32.610Z"
   },
   {
    "duration": 427,
    "start_time": "2022-08-25T20:48:32.791Z"
   },
   {
    "duration": 222,
    "start_time": "2022-08-25T20:48:33.219Z"
   },
   {
    "duration": 186,
    "start_time": "2022-08-25T20:48:33.442Z"
   },
   {
    "duration": 218,
    "start_time": "2022-08-25T20:48:33.631Z"
   },
   {
    "duration": 7,
    "start_time": "2022-08-25T20:48:33.851Z"
   },
   {
    "duration": 229,
    "start_time": "2022-08-25T20:48:33.860Z"
   },
   {
    "duration": 228,
    "start_time": "2022-08-25T20:48:34.091Z"
   },
   {
    "duration": 284,
    "start_time": "2022-08-25T20:48:34.321Z"
   },
   {
    "duration": 5,
    "start_time": "2022-08-25T20:48:34.607Z"
   },
   {
    "duration": 156,
    "start_time": "2022-08-25T20:48:34.614Z"
   },
   {
    "duration": 14,
    "start_time": "2022-08-25T20:48:34.771Z"
   },
   {
    "duration": 0,
    "start_time": "2022-08-25T20:48:34.798Z"
   },
   {
    "duration": 15,
    "start_time": "2022-08-25T20:49:39.336Z"
   },
   {
    "duration": 15,
    "start_time": "2022-08-25T20:49:57.732Z"
   },
   {
    "duration": 119,
    "start_time": "2022-08-25T20:50:32.870Z"
   },
   {
    "duration": 145,
    "start_time": "2022-08-25T20:50:55.595Z"
   },
   {
    "duration": 114,
    "start_time": "2022-08-25T20:51:43.336Z"
   },
   {
    "duration": 8764,
    "start_time": "2022-08-25T20:53:05.717Z"
   },
   {
    "duration": 44,
    "start_time": "2022-08-25T20:53:19.402Z"
   },
   {
    "duration": 8916,
    "start_time": "2022-08-25T20:53:39.835Z"
   },
   {
    "duration": 42,
    "start_time": "2022-08-25T20:54:54.052Z"
   },
   {
    "duration": 43,
    "start_time": "2022-08-25T20:55:25.373Z"
   },
   {
    "duration": 101,
    "start_time": "2022-08-25T20:55:29.031Z"
   },
   {
    "duration": 11,
    "start_time": "2022-08-25T20:55:29.134Z"
   },
   {
    "duration": 1664,
    "start_time": "2022-08-25T20:55:29.147Z"
   },
   {
    "duration": 13,
    "start_time": "2022-08-25T20:55:30.812Z"
   },
   {
    "duration": 16,
    "start_time": "2022-08-25T20:55:30.828Z"
   },
   {
    "duration": 29,
    "start_time": "2022-08-25T20:55:30.846Z"
   },
   {
    "duration": 22,
    "start_time": "2022-08-25T20:55:30.876Z"
   },
   {
    "duration": 11,
    "start_time": "2022-08-25T20:55:30.900Z"
   },
   {
    "duration": 20,
    "start_time": "2022-08-25T20:55:30.912Z"
   },
   {
    "duration": 28,
    "start_time": "2022-08-25T20:55:30.934Z"
   },
   {
    "duration": 24,
    "start_time": "2022-08-25T20:55:30.963Z"
   },
   {
    "duration": 21,
    "start_time": "2022-08-25T20:55:30.988Z"
   },
   {
    "duration": 35,
    "start_time": "2022-08-25T20:55:31.010Z"
   },
   {
    "duration": 10,
    "start_time": "2022-08-25T20:55:31.049Z"
   },
   {
    "duration": 30,
    "start_time": "2022-08-25T20:55:31.060Z"
   },
   {
    "duration": 30,
    "start_time": "2022-08-25T20:55:31.091Z"
   },
   {
    "duration": 34,
    "start_time": "2022-08-25T20:55:31.123Z"
   },
   {
    "duration": 53,
    "start_time": "2022-08-25T20:55:31.159Z"
   },
   {
    "duration": 172,
    "start_time": "2022-08-25T20:55:31.214Z"
   },
   {
    "duration": 15,
    "start_time": "2022-08-25T20:55:31.388Z"
   },
   {
    "duration": 15,
    "start_time": "2022-08-25T20:55:31.405Z"
   },
   {
    "duration": 35,
    "start_time": "2022-08-25T20:55:31.422Z"
   },
   {
    "duration": 32,
    "start_time": "2022-08-25T20:55:31.459Z"
   },
   {
    "duration": 29,
    "start_time": "2022-08-25T20:55:31.493Z"
   },
   {
    "duration": 26,
    "start_time": "2022-08-25T20:55:31.524Z"
   },
   {
    "duration": 27,
    "start_time": "2022-08-25T20:55:31.552Z"
   },
   {
    "duration": 7,
    "start_time": "2022-08-25T20:55:31.581Z"
   },
   {
    "duration": 23,
    "start_time": "2022-08-25T20:55:31.589Z"
   },
   {
    "duration": 31,
    "start_time": "2022-08-25T20:55:31.613Z"
   },
   {
    "duration": 14,
    "start_time": "2022-08-25T20:55:31.646Z"
   },
   {
    "duration": 374,
    "start_time": "2022-08-25T20:55:31.661Z"
   },
   {
    "duration": 5,
    "start_time": "2022-08-25T20:55:32.036Z"
   },
   {
    "duration": 23,
    "start_time": "2022-08-25T20:55:32.043Z"
   },
   {
    "duration": 171,
    "start_time": "2022-08-25T20:55:32.068Z"
   },
   {
    "duration": 226,
    "start_time": "2022-08-25T20:55:32.241Z"
   },
   {
    "duration": 178,
    "start_time": "2022-08-25T20:55:32.469Z"
   },
   {
    "duration": 178,
    "start_time": "2022-08-25T20:55:32.648Z"
   },
   {
    "duration": 232,
    "start_time": "2022-08-25T20:55:32.827Z"
   },
   {
    "duration": 222,
    "start_time": "2022-08-25T20:55:33.060Z"
   },
   {
    "duration": 185,
    "start_time": "2022-08-25T20:55:33.283Z"
   },
   {
    "duration": 525,
    "start_time": "2022-08-25T20:55:33.471Z"
   },
   {
    "duration": 7,
    "start_time": "2022-08-25T20:55:33.997Z"
   },
   {
    "duration": 229,
    "start_time": "2022-08-25T20:55:34.005Z"
   },
   {
    "duration": 257,
    "start_time": "2022-08-25T20:55:34.236Z"
   },
   {
    "duration": 304,
    "start_time": "2022-08-25T20:55:34.495Z"
   },
   {
    "duration": 4,
    "start_time": "2022-08-25T20:55:34.801Z"
   },
   {
    "duration": 168,
    "start_time": "2022-08-25T20:55:34.807Z"
   },
   {
    "duration": 22,
    "start_time": "2022-08-25T20:55:34.977Z"
   },
   {
    "duration": 60,
    "start_time": "2022-08-25T20:55:35.001Z"
   },
   {
    "duration": 136,
    "start_time": "2022-08-25T20:55:35.062Z"
   },
   {
    "duration": 26,
    "start_time": "2022-08-25T20:56:39.420Z"
   },
   {
    "duration": 119,
    "start_time": "2022-08-25T20:57:07.827Z"
   },
   {
    "duration": 119,
    "start_time": "2022-08-25T20:57:30.926Z"
   },
   {
    "duration": 115,
    "start_time": "2022-08-25T20:58:14.042Z"
   },
   {
    "duration": 6,
    "start_time": "2022-08-25T20:58:45.810Z"
   },
   {
    "duration": 14,
    "start_time": "2022-08-25T20:59:18.753Z"
   },
   {
    "duration": 131,
    "start_time": "2022-08-25T20:59:43.992Z"
   },
   {
    "duration": 55,
    "start_time": "2022-08-27T08:33:18.467Z"
   },
   {
    "duration": 744,
    "start_time": "2022-08-27T08:33:21.036Z"
   },
   {
    "duration": 20,
    "start_time": "2022-08-27T08:33:21.782Z"
   },
   {
    "duration": 2448,
    "start_time": "2022-08-27T08:33:21.806Z"
   },
   {
    "duration": 10,
    "start_time": "2022-08-27T08:33:24.257Z"
   },
   {
    "duration": 14,
    "start_time": "2022-08-27T08:33:24.269Z"
   },
   {
    "duration": 18,
    "start_time": "2022-08-27T08:33:24.285Z"
   },
   {
    "duration": 15,
    "start_time": "2022-08-27T08:33:24.305Z"
   },
   {
    "duration": 13,
    "start_time": "2022-08-27T08:33:24.322Z"
   },
   {
    "duration": 6,
    "start_time": "2022-08-27T08:33:24.336Z"
   },
   {
    "duration": 24,
    "start_time": "2022-08-27T08:33:24.345Z"
   },
   {
    "duration": 32,
    "start_time": "2022-08-27T08:33:24.370Z"
   },
   {
    "duration": 5,
    "start_time": "2022-08-27T08:33:24.404Z"
   },
   {
    "duration": 7,
    "start_time": "2022-08-27T08:33:24.410Z"
   },
   {
    "duration": 9,
    "start_time": "2022-08-27T08:33:24.419Z"
   },
   {
    "duration": 21,
    "start_time": "2022-08-27T08:33:24.430Z"
   },
   {
    "duration": 10,
    "start_time": "2022-08-27T08:33:24.453Z"
   },
   {
    "duration": 31,
    "start_time": "2022-08-27T08:33:24.464Z"
   },
   {
    "duration": 25,
    "start_time": "2022-08-27T08:33:24.497Z"
   },
   {
    "duration": 209,
    "start_time": "2022-08-27T08:33:24.524Z"
   },
   {
    "duration": 9,
    "start_time": "2022-08-27T08:33:24.734Z"
   },
   {
    "duration": 21,
    "start_time": "2022-08-27T08:33:24.745Z"
   },
   {
    "duration": 27,
    "start_time": "2022-08-27T08:33:24.768Z"
   },
   {
    "duration": 34,
    "start_time": "2022-08-27T08:33:24.796Z"
   },
   {
    "duration": 15,
    "start_time": "2022-08-27T08:33:24.831Z"
   },
   {
    "duration": 19,
    "start_time": "2022-08-27T08:33:24.848Z"
   },
   {
    "duration": 16,
    "start_time": "2022-08-27T08:33:24.869Z"
   },
   {
    "duration": 16,
    "start_time": "2022-08-27T08:33:24.886Z"
   },
   {
    "duration": 5,
    "start_time": "2022-08-27T08:33:24.906Z"
   },
   {
    "duration": 22,
    "start_time": "2022-08-27T08:33:24.913Z"
   },
   {
    "duration": 4,
    "start_time": "2022-08-27T08:33:24.937Z"
   },
   {
    "duration": 383,
    "start_time": "2022-08-27T08:33:24.942Z"
   },
   {
    "duration": 5,
    "start_time": "2022-08-27T08:33:25.327Z"
   },
   {
    "duration": 10,
    "start_time": "2022-08-27T08:33:25.333Z"
   },
   {
    "duration": 252,
    "start_time": "2022-08-27T08:33:25.345Z"
   },
   {
    "duration": 261,
    "start_time": "2022-08-27T08:33:25.600Z"
   },
   {
    "duration": 206,
    "start_time": "2022-08-27T08:33:25.862Z"
   },
   {
    "duration": 232,
    "start_time": "2022-08-27T08:33:26.070Z"
   },
   {
    "duration": 375,
    "start_time": "2022-08-27T08:33:26.304Z"
   },
   {
    "duration": 268,
    "start_time": "2022-08-27T08:33:26.682Z"
   },
   {
    "duration": 209,
    "start_time": "2022-08-27T08:33:26.952Z"
   },
   {
    "duration": 347,
    "start_time": "2022-08-27T08:33:27.163Z"
   },
   {
    "duration": 9,
    "start_time": "2022-08-27T08:33:27.511Z"
   },
   {
    "duration": 293,
    "start_time": "2022-08-27T08:33:27.522Z"
   },
   {
    "duration": 269,
    "start_time": "2022-08-27T08:33:27.817Z"
   },
   {
    "duration": 265,
    "start_time": "2022-08-27T08:33:28.092Z"
   },
   {
    "duration": 6,
    "start_time": "2022-08-27T08:33:28.359Z"
   },
   {
    "duration": 165,
    "start_time": "2022-08-27T08:33:28.366Z"
   },
   {
    "duration": 22,
    "start_time": "2022-08-27T08:33:28.533Z"
   },
   {
    "duration": 157,
    "start_time": "2022-08-27T08:33:28.557Z"
   },
   {
    "duration": 136,
    "start_time": "2022-08-27T08:33:28.716Z"
   },
   {
    "duration": 7,
    "start_time": "2022-08-27T08:33:28.854Z"
   },
   {
    "duration": 171,
    "start_time": "2022-08-27T08:33:28.863Z"
   },
   {
    "duration": 47,
    "start_time": "2022-08-27T08:33:29.036Z"
   },
   {
    "duration": 0,
    "start_time": "2022-08-27T08:33:29.085Z"
   },
   {
    "duration": 160,
    "start_time": "2022-08-27T08:33:46.517Z"
   },
   {
    "duration": 153,
    "start_time": "2022-08-27T08:37:24.471Z"
   },
   {
    "duration": 242,
    "start_time": "2022-08-27T08:38:00.960Z"
   },
   {
    "duration": 139,
    "start_time": "2022-08-27T08:40:05.230Z"
   },
   {
    "duration": 45,
    "start_time": "2022-08-27T08:42:47.729Z"
   },
   {
    "duration": 17,
    "start_time": "2022-08-27T08:43:09.108Z"
   },
   {
    "duration": 20,
    "start_time": "2022-08-27T08:43:16.494Z"
   },
   {
    "duration": 136,
    "start_time": "2022-08-27T08:43:24.984Z"
   },
   {
    "duration": 136,
    "start_time": "2022-08-27T08:53:03.473Z"
   },
   {
    "duration": 159,
    "start_time": "2022-08-27T08:53:04.375Z"
   },
   {
    "duration": 155,
    "start_time": "2022-08-27T08:54:49.254Z"
   },
   {
    "duration": 142,
    "start_time": "2022-08-27T08:55:46.579Z"
   },
   {
    "duration": 222,
    "start_time": "2022-08-27T08:56:03.809Z"
   },
   {
    "duration": 146,
    "start_time": "2022-08-27T08:56:23.025Z"
   },
   {
    "duration": 4,
    "start_time": "2022-08-27T08:57:14.338Z"
   },
   {
    "duration": 4,
    "start_time": "2022-08-27T08:57:21.518Z"
   },
   {
    "duration": 18,
    "start_time": "2022-08-27T08:58:03.854Z"
   },
   {
    "duration": 16,
    "start_time": "2022-08-27T08:58:15.163Z"
   },
   {
    "duration": 166,
    "start_time": "2022-08-27T09:03:44.848Z"
   },
   {
    "duration": 205,
    "start_time": "2022-08-27T09:06:17.304Z"
   },
   {
    "duration": 148,
    "start_time": "2022-08-27T09:10:19.130Z"
   },
   {
    "duration": 166,
    "start_time": "2022-08-27T09:11:11.971Z"
   },
   {
    "duration": 189,
    "start_time": "2022-08-27T09:11:14.811Z"
   },
   {
    "duration": 13,
    "start_time": "2022-08-27T09:46:30.243Z"
   },
   {
    "duration": 25,
    "start_time": "2022-08-27T09:48:28.369Z"
   },
   {
    "duration": 38,
    "start_time": "2022-08-27T09:59:15.357Z"
   },
   {
    "duration": 115,
    "start_time": "2022-08-27T10:13:58.229Z"
   },
   {
    "duration": 14,
    "start_time": "2022-08-27T10:13:58.346Z"
   },
   {
    "duration": 2104,
    "start_time": "2022-08-27T10:13:58.362Z"
   },
   {
    "duration": 10,
    "start_time": "2022-08-27T10:14:00.468Z"
   },
   {
    "duration": 24,
    "start_time": "2022-08-27T10:14:00.487Z"
   },
   {
    "duration": 9,
    "start_time": "2022-08-27T10:14:00.513Z"
   },
   {
    "duration": 21,
    "start_time": "2022-08-27T10:14:00.524Z"
   },
   {
    "duration": 10,
    "start_time": "2022-08-27T10:14:00.547Z"
   },
   {
    "duration": 5,
    "start_time": "2022-08-27T10:14:00.559Z"
   },
   {
    "duration": 33,
    "start_time": "2022-08-27T10:14:00.566Z"
   },
   {
    "duration": 16,
    "start_time": "2022-08-27T10:14:00.601Z"
   },
   {
    "duration": 16,
    "start_time": "2022-08-27T10:14:00.619Z"
   },
   {
    "duration": 19,
    "start_time": "2022-08-27T10:14:00.637Z"
   },
   {
    "duration": 13,
    "start_time": "2022-08-27T10:14:00.658Z"
   },
   {
    "duration": 47,
    "start_time": "2022-08-27T10:14:00.673Z"
   },
   {
    "duration": 10,
    "start_time": "2022-08-27T10:14:00.721Z"
   },
   {
    "duration": 15,
    "start_time": "2022-08-27T10:14:00.732Z"
   },
   {
    "duration": 20,
    "start_time": "2022-08-27T10:14:00.749Z"
   },
   {
    "duration": 198,
    "start_time": "2022-08-27T10:14:00.770Z"
   },
   {
    "duration": 32,
    "start_time": "2022-08-27T10:14:00.970Z"
   },
   {
    "duration": 17,
    "start_time": "2022-08-27T10:14:01.004Z"
   },
   {
    "duration": 25,
    "start_time": "2022-08-27T10:14:01.023Z"
   },
   {
    "duration": 64,
    "start_time": "2022-08-27T10:14:01.050Z"
   },
   {
    "duration": 29,
    "start_time": "2022-08-27T10:14:01.116Z"
   },
   {
    "duration": 30,
    "start_time": "2022-08-27T10:14:01.147Z"
   },
   {
    "duration": 45,
    "start_time": "2022-08-27T10:14:01.179Z"
   },
   {
    "duration": 14,
    "start_time": "2022-08-27T10:14:01.226Z"
   },
   {
    "duration": 37,
    "start_time": "2022-08-27T10:14:01.244Z"
   },
   {
    "duration": 47,
    "start_time": "2022-08-27T10:14:01.283Z"
   },
   {
    "duration": 4,
    "start_time": "2022-08-27T10:14:01.332Z"
   },
   {
    "duration": 404,
    "start_time": "2022-08-27T10:14:01.337Z"
   },
   {
    "duration": 4,
    "start_time": "2022-08-27T10:14:01.743Z"
   },
   {
    "duration": 75,
    "start_time": "2022-08-27T10:14:01.749Z"
   },
   {
    "duration": 202,
    "start_time": "2022-08-27T10:14:01.825Z"
   },
   {
    "duration": 275,
    "start_time": "2022-08-27T10:14:02.029Z"
   },
   {
    "duration": 207,
    "start_time": "2022-08-27T10:14:02.306Z"
   },
   {
    "duration": 369,
    "start_time": "2022-08-27T10:14:02.515Z"
   },
   {
    "duration": 273,
    "start_time": "2022-08-27T10:14:02.885Z"
   },
   {
    "duration": 272,
    "start_time": "2022-08-27T10:14:03.160Z"
   },
   {
    "duration": 232,
    "start_time": "2022-08-27T10:14:03.433Z"
   },
   {
    "duration": 273,
    "start_time": "2022-08-27T10:14:03.667Z"
   },
   {
    "duration": 7,
    "start_time": "2022-08-27T10:14:03.942Z"
   },
   {
    "duration": 270,
    "start_time": "2022-08-27T10:14:03.950Z"
   },
   {
    "duration": 256,
    "start_time": "2022-08-27T10:14:04.221Z"
   },
   {
    "duration": 273,
    "start_time": "2022-08-27T10:14:04.479Z"
   },
   {
    "duration": 6,
    "start_time": "2022-08-27T10:14:04.754Z"
   },
   {
    "duration": 165,
    "start_time": "2022-08-27T10:14:04.762Z"
   },
   {
    "duration": 17,
    "start_time": "2022-08-27T10:14:04.929Z"
   },
   {
    "duration": 164,
    "start_time": "2022-08-27T10:14:04.948Z"
   },
   {
    "duration": 142,
    "start_time": "2022-08-27T10:14:05.114Z"
   },
   {
    "duration": 7,
    "start_time": "2022-08-27T10:14:05.257Z"
   },
   {
    "duration": 165,
    "start_time": "2022-08-27T10:14:05.266Z"
   },
   {
    "duration": 150,
    "start_time": "2022-08-27T10:14:05.433Z"
   },
   {
    "duration": 346,
    "start_time": "2022-08-27T10:14:05.589Z"
   },
   {
    "duration": 168,
    "start_time": "2022-08-27T10:14:05.936Z"
   },
   {
    "duration": 195,
    "start_time": "2022-08-27T10:14:06.106Z"
   },
   {
    "duration": 211,
    "start_time": "2022-08-27T10:14:06.302Z"
   },
   {
    "duration": 211,
    "start_time": "2022-08-27T10:14:06.514Z"
   },
   {
    "duration": 185,
    "start_time": "2022-08-27T10:14:06.727Z"
   },
   {
    "duration": 156,
    "start_time": "2022-08-27T10:14:06.913Z"
   },
   {
    "duration": 156,
    "start_time": "2022-08-27T10:14:07.070Z"
   },
   {
    "duration": 177,
    "start_time": "2022-08-27T10:14:07.227Z"
   },
   {
    "duration": 167,
    "start_time": "2022-08-27T10:14:07.406Z"
   },
   {
    "duration": 166,
    "start_time": "2022-08-27T10:14:07.575Z"
   },
   {
    "duration": 26,
    "start_time": "2022-08-27T10:14:07.743Z"
   },
   {
    "duration": 28,
    "start_time": "2022-08-27T10:20:16.815Z"
   },
   {
    "duration": 24,
    "start_time": "2022-08-27T10:22:19.335Z"
   },
   {
    "duration": 22,
    "start_time": "2022-08-27T10:22:30.703Z"
   },
   {
    "duration": 23,
    "start_time": "2022-08-27T10:23:21.360Z"
   },
   {
    "duration": 19,
    "start_time": "2022-08-27T10:47:55.754Z"
   },
   {
    "duration": 21,
    "start_time": "2022-08-27T10:48:37.532Z"
   },
   {
    "duration": 22,
    "start_time": "2022-08-27T10:49:02.364Z"
   },
   {
    "duration": 27,
    "start_time": "2022-08-27T10:49:12.823Z"
   },
   {
    "duration": 1333,
    "start_time": "2022-08-27T10:51:29.309Z"
   },
   {
    "duration": 905,
    "start_time": "2022-08-27T10:52:02.815Z"
   },
   {
    "duration": 1139,
    "start_time": "2022-08-27T10:53:33.038Z"
   },
   {
    "duration": 789,
    "start_time": "2022-08-27T10:53:51.942Z"
   },
   {
    "duration": 686,
    "start_time": "2022-08-27T10:54:56.472Z"
   },
   {
    "duration": 733,
    "start_time": "2022-08-27T10:55:06.128Z"
   },
   {
    "duration": 821,
    "start_time": "2022-08-27T10:55:16.994Z"
   },
   {
    "duration": 725,
    "start_time": "2022-08-27T10:56:41.228Z"
   },
   {
    "duration": 11,
    "start_time": "2022-08-27T11:24:12.320Z"
   },
   {
    "duration": 6,
    "start_time": "2022-08-27T11:24:50.680Z"
   },
   {
    "duration": 954,
    "start_time": "2022-08-27T11:25:24.683Z"
   },
   {
    "duration": 1271,
    "start_time": "2022-08-29T13:03:41.312Z"
   },
   {
    "duration": 30,
    "start_time": "2022-08-29T13:03:42.585Z"
   },
   {
    "duration": 2621,
    "start_time": "2022-08-29T13:03:42.617Z"
   },
   {
    "duration": 12,
    "start_time": "2022-08-29T13:03:45.240Z"
   },
   {
    "duration": 12,
    "start_time": "2022-08-29T13:03:45.255Z"
   },
   {
    "duration": 8,
    "start_time": "2022-08-29T13:03:45.269Z"
   },
   {
    "duration": 29,
    "start_time": "2022-08-29T13:03:45.291Z"
   },
   {
    "duration": 13,
    "start_time": "2022-08-29T13:03:45.322Z"
   },
   {
    "duration": 7,
    "start_time": "2022-08-29T13:03:45.337Z"
   },
   {
    "duration": 21,
    "start_time": "2022-08-29T13:03:45.346Z"
   },
   {
    "duration": 41,
    "start_time": "2022-08-29T13:03:45.369Z"
   },
   {
    "duration": 9,
    "start_time": "2022-08-29T13:03:45.412Z"
   },
   {
    "duration": 5,
    "start_time": "2022-08-29T13:03:45.423Z"
   },
   {
    "duration": 9,
    "start_time": "2022-08-29T13:03:45.431Z"
   },
   {
    "duration": 22,
    "start_time": "2022-08-29T13:03:45.442Z"
   },
   {
    "duration": 9,
    "start_time": "2022-08-29T13:03:45.466Z"
   },
   {
    "duration": 14,
    "start_time": "2022-08-29T13:03:45.487Z"
   },
   {
    "duration": 13,
    "start_time": "2022-08-29T13:03:45.506Z"
   },
   {
    "duration": 214,
    "start_time": "2022-08-29T13:03:45.521Z"
   },
   {
    "duration": 10,
    "start_time": "2022-08-29T13:03:45.736Z"
   },
   {
    "duration": 14,
    "start_time": "2022-08-29T13:03:45.748Z"
   },
   {
    "duration": 48,
    "start_time": "2022-08-29T13:03:45.764Z"
   },
   {
    "duration": 42,
    "start_time": "2022-08-29T13:03:45.814Z"
   },
   {
    "duration": 18,
    "start_time": "2022-08-29T13:03:45.858Z"
   },
   {
    "duration": 9,
    "start_time": "2022-08-29T13:03:45.877Z"
   },
   {
    "duration": 22,
    "start_time": "2022-08-29T13:03:45.894Z"
   },
   {
    "duration": 4,
    "start_time": "2022-08-29T13:03:45.918Z"
   },
   {
    "duration": 6,
    "start_time": "2022-08-29T13:03:45.924Z"
   },
   {
    "duration": 15,
    "start_time": "2022-08-29T13:03:45.932Z"
   },
   {
    "duration": 4,
    "start_time": "2022-08-29T13:03:45.949Z"
   },
   {
    "duration": 494,
    "start_time": "2022-08-29T13:03:45.954Z"
   },
   {
    "duration": 5,
    "start_time": "2022-08-29T13:03:46.453Z"
   },
   {
    "duration": 18,
    "start_time": "2022-08-29T13:03:46.460Z"
   },
   {
    "duration": 346,
    "start_time": "2022-08-29T13:03:46.514Z"
   },
   {
    "duration": 294,
    "start_time": "2022-08-29T13:03:46.862Z"
   },
   {
    "duration": 209,
    "start_time": "2022-08-29T13:03:47.157Z"
   },
   {
    "duration": 273,
    "start_time": "2022-08-29T13:03:47.368Z"
   },
   {
    "duration": 308,
    "start_time": "2022-08-29T13:03:47.643Z"
   },
   {
    "duration": 298,
    "start_time": "2022-08-29T13:03:47.953Z"
   },
   {
    "duration": 220,
    "start_time": "2022-08-29T13:03:48.252Z"
   },
   {
    "duration": 385,
    "start_time": "2022-08-29T13:03:48.476Z"
   },
   {
    "duration": 8,
    "start_time": "2022-08-29T13:03:48.862Z"
   },
   {
    "duration": 293,
    "start_time": "2022-08-29T13:03:48.871Z"
   },
   {
    "duration": 269,
    "start_time": "2022-08-29T13:03:49.166Z"
   },
   {
    "duration": 291,
    "start_time": "2022-08-29T13:03:49.437Z"
   },
   {
    "duration": 5,
    "start_time": "2022-08-29T13:03:49.729Z"
   },
   {
    "duration": 187,
    "start_time": "2022-08-29T13:03:49.735Z"
   },
   {
    "duration": 17,
    "start_time": "2022-08-29T13:03:49.924Z"
   },
   {
    "duration": 181,
    "start_time": "2022-08-29T13:03:49.942Z"
   },
   {
    "duration": 157,
    "start_time": "2022-08-29T13:03:50.124Z"
   },
   {
    "duration": 12,
    "start_time": "2022-08-29T13:03:50.282Z"
   },
   {
    "duration": 179,
    "start_time": "2022-08-29T13:03:50.297Z"
   },
   {
    "duration": 154,
    "start_time": "2022-08-29T13:03:50.477Z"
   },
   {
    "duration": 157,
    "start_time": "2022-08-29T13:03:50.633Z"
   },
   {
    "duration": 281,
    "start_time": "2022-08-29T13:03:50.797Z"
   },
   {
    "duration": 189,
    "start_time": "2022-08-29T13:03:51.079Z"
   },
   {
    "duration": 175,
    "start_time": "2022-08-29T13:03:51.270Z"
   },
   {
    "duration": 172,
    "start_time": "2022-08-29T13:03:51.447Z"
   },
   {
    "duration": 162,
    "start_time": "2022-08-29T13:03:51.621Z"
   },
   {
    "duration": 154,
    "start_time": "2022-08-29T13:03:51.785Z"
   },
   {
    "duration": 169,
    "start_time": "2022-08-29T13:03:51.940Z"
   },
   {
    "duration": 189,
    "start_time": "2022-08-29T13:03:52.117Z"
   },
   {
    "duration": 197,
    "start_time": "2022-08-29T13:03:52.308Z"
   },
   {
    "duration": 157,
    "start_time": "2022-08-29T13:03:52.508Z"
   },
   {
    "duration": 111,
    "start_time": "2022-08-29T13:03:52.667Z"
   },
   {
    "duration": 1,
    "start_time": "2022-08-29T13:03:52.779Z"
   },
   {
    "duration": 0,
    "start_time": "2022-08-29T13:03:52.781Z"
   },
   {
    "duration": 28,
    "start_time": "2022-08-29T13:05:11.409Z"
   },
   {
    "duration": 1753,
    "start_time": "2022-08-29T13:05:21.711Z"
   },
   {
    "duration": 2521,
    "start_time": "2022-08-29T13:05:43.625Z"
   },
   {
    "duration": 4,
    "start_time": "2022-08-29T13:06:16.009Z"
   },
   {
    "duration": 257,
    "start_time": "2022-08-29T13:28:56.683Z"
   },
   {
    "duration": 14,
    "start_time": "2022-08-29T13:28:56.942Z"
   },
   {
    "duration": 2115,
    "start_time": "2022-08-29T13:28:56.958Z"
   },
   {
    "duration": 18,
    "start_time": "2022-08-29T13:28:59.075Z"
   },
   {
    "duration": 18,
    "start_time": "2022-08-29T13:28:59.096Z"
   },
   {
    "duration": 9,
    "start_time": "2022-08-29T13:28:59.116Z"
   },
   {
    "duration": 17,
    "start_time": "2022-08-29T13:28:59.126Z"
   },
   {
    "duration": 43,
    "start_time": "2022-08-29T13:28:59.144Z"
   },
   {
    "duration": 7,
    "start_time": "2022-08-29T13:28:59.189Z"
   },
   {
    "duration": 24,
    "start_time": "2022-08-29T13:28:59.200Z"
   },
   {
    "duration": 9,
    "start_time": "2022-08-29T13:28:59.227Z"
   },
   {
    "duration": 6,
    "start_time": "2022-08-29T13:28:59.238Z"
   },
   {
    "duration": 8,
    "start_time": "2022-08-29T13:28:59.246Z"
   },
   {
    "duration": 36,
    "start_time": "2022-08-29T13:28:59.256Z"
   },
   {
    "duration": 20,
    "start_time": "2022-08-29T13:28:59.293Z"
   },
   {
    "duration": 10,
    "start_time": "2022-08-29T13:28:59.314Z"
   },
   {
    "duration": 6,
    "start_time": "2022-08-29T13:28:59.326Z"
   },
   {
    "duration": 20,
    "start_time": "2022-08-29T13:28:59.333Z"
   },
   {
    "duration": 212,
    "start_time": "2022-08-29T13:28:59.355Z"
   },
   {
    "duration": 10,
    "start_time": "2022-08-29T13:28:59.568Z"
   },
   {
    "duration": 23,
    "start_time": "2022-08-29T13:28:59.579Z"
   },
   {
    "duration": 18,
    "start_time": "2022-08-29T13:28:59.604Z"
   },
   {
    "duration": 29,
    "start_time": "2022-08-29T13:28:59.624Z"
   },
   {
    "duration": 34,
    "start_time": "2022-08-29T13:28:59.654Z"
   },
   {
    "duration": 13,
    "start_time": "2022-08-29T13:28:59.690Z"
   },
   {
    "duration": 14,
    "start_time": "2022-08-29T13:28:59.705Z"
   },
   {
    "duration": 4,
    "start_time": "2022-08-29T13:28:59.721Z"
   },
   {
    "duration": 8,
    "start_time": "2022-08-29T13:28:59.728Z"
   },
   {
    "duration": 16,
    "start_time": "2022-08-29T13:28:59.737Z"
   },
   {
    "duration": 34,
    "start_time": "2022-08-29T13:28:59.754Z"
   },
   {
    "duration": 381,
    "start_time": "2022-08-29T13:28:59.789Z"
   },
   {
    "duration": 4,
    "start_time": "2022-08-29T13:29:00.172Z"
   },
   {
    "duration": 40,
    "start_time": "2022-08-29T13:29:00.178Z"
   },
   {
    "duration": 232,
    "start_time": "2022-08-29T13:29:00.220Z"
   },
   {
    "duration": 280,
    "start_time": "2022-08-29T13:29:00.454Z"
   },
   {
    "duration": 223,
    "start_time": "2022-08-29T13:29:00.736Z"
   },
   {
    "duration": 222,
    "start_time": "2022-08-29T13:29:00.960Z"
   },
   {
    "duration": 484,
    "start_time": "2022-08-29T13:29:01.187Z"
   },
   {
    "duration": 291,
    "start_time": "2022-08-29T13:29:01.672Z"
   },
   {
    "duration": 252,
    "start_time": "2022-08-29T13:29:01.964Z"
   },
   {
    "duration": 283,
    "start_time": "2022-08-29T13:29:02.217Z"
   },
   {
    "duration": 9,
    "start_time": "2022-08-29T13:29:02.502Z"
   },
   {
    "duration": 272,
    "start_time": "2022-08-29T13:29:02.512Z"
   },
   {
    "duration": 279,
    "start_time": "2022-08-29T13:29:02.786Z"
   },
   {
    "duration": 283,
    "start_time": "2022-08-29T13:29:03.066Z"
   },
   {
    "duration": 6,
    "start_time": "2022-08-29T13:29:03.351Z"
   },
   {
    "duration": 167,
    "start_time": "2022-08-29T13:29:03.358Z"
   },
   {
    "duration": 17,
    "start_time": "2022-08-29T13:29:03.527Z"
   },
   {
    "duration": 156,
    "start_time": "2022-08-29T13:29:03.546Z"
   },
   {
    "duration": 151,
    "start_time": "2022-08-29T13:29:03.705Z"
   },
   {
    "duration": 7,
    "start_time": "2022-08-29T13:29:03.858Z"
   },
   {
    "duration": 176,
    "start_time": "2022-08-29T13:29:03.867Z"
   },
   {
    "duration": 169,
    "start_time": "2022-08-29T13:29:04.045Z"
   },
   {
    "duration": 162,
    "start_time": "2022-08-29T13:29:04.215Z"
   },
   {
    "duration": 159,
    "start_time": "2022-08-29T13:29:04.379Z"
   },
   {
    "duration": 180,
    "start_time": "2022-08-29T13:29:04.540Z"
   },
   {
    "duration": 189,
    "start_time": "2022-08-29T13:29:04.721Z"
   },
   {
    "duration": 175,
    "start_time": "2022-08-29T13:29:04.913Z"
   },
   {
    "duration": 356,
    "start_time": "2022-08-29T13:29:05.095Z"
   },
   {
    "duration": 164,
    "start_time": "2022-08-29T13:29:05.452Z"
   },
   {
    "duration": 146,
    "start_time": "2022-08-29T13:29:05.617Z"
   },
   {
    "duration": 167,
    "start_time": "2022-08-29T13:29:05.765Z"
   },
   {
    "duration": 195,
    "start_time": "2022-08-29T13:29:05.934Z"
   },
   {
    "duration": 189,
    "start_time": "2022-08-29T13:29:06.131Z"
   },
   {
    "duration": 30,
    "start_time": "2022-08-29T13:29:06.322Z"
   },
   {
    "duration": 19,
    "start_time": "2022-08-29T13:29:06.354Z"
   },
   {
    "duration": 190,
    "start_time": "2022-08-29T13:29:06.375Z"
   },
   {
    "duration": 86,
    "start_time": "2022-09-02T14:17:49.544Z"
   },
   {
    "duration": 515,
    "start_time": "2022-09-02T18:30:28.638Z"
   },
   {
    "duration": 13,
    "start_time": "2022-09-02T18:30:29.154Z"
   },
   {
    "duration": 2084,
    "start_time": "2022-09-02T18:30:29.168Z"
   },
   {
    "duration": 9,
    "start_time": "2022-09-02T18:30:31.254Z"
   },
   {
    "duration": 12,
    "start_time": "2022-09-02T18:30:31.265Z"
   },
   {
    "duration": 7,
    "start_time": "2022-09-02T18:30:31.278Z"
   },
   {
    "duration": 14,
    "start_time": "2022-09-02T18:30:31.286Z"
   },
   {
    "duration": 11,
    "start_time": "2022-09-02T18:30:31.301Z"
   },
   {
    "duration": 4,
    "start_time": "2022-09-02T18:30:31.314Z"
   },
   {
    "duration": 20,
    "start_time": "2022-09-02T18:30:31.319Z"
   },
   {
    "duration": 11,
    "start_time": "2022-09-02T18:30:31.341Z"
   },
   {
    "duration": 5,
    "start_time": "2022-09-02T18:30:31.353Z"
   },
   {
    "duration": 11,
    "start_time": "2022-09-02T18:30:31.360Z"
   },
   {
    "duration": 14,
    "start_time": "2022-09-02T18:30:31.374Z"
   },
   {
    "duration": 32,
    "start_time": "2022-09-02T18:30:31.390Z"
   },
   {
    "duration": 9,
    "start_time": "2022-09-02T18:30:31.423Z"
   },
   {
    "duration": 11,
    "start_time": "2022-09-02T18:30:31.434Z"
   },
   {
    "duration": 16,
    "start_time": "2022-09-02T18:30:31.446Z"
   },
   {
    "duration": 175,
    "start_time": "2022-09-02T18:30:31.464Z"
   },
   {
    "duration": 9,
    "start_time": "2022-09-02T18:30:31.640Z"
   },
   {
    "duration": 19,
    "start_time": "2022-09-02T18:30:31.650Z"
   },
   {
    "duration": 18,
    "start_time": "2022-09-02T18:30:31.670Z"
   },
   {
    "duration": 33,
    "start_time": "2022-09-02T18:30:31.690Z"
   },
   {
    "duration": 9,
    "start_time": "2022-09-02T18:30:31.724Z"
   },
   {
    "duration": 19,
    "start_time": "2022-09-02T18:30:31.735Z"
   },
   {
    "duration": 16,
    "start_time": "2022-09-02T18:30:31.757Z"
   },
   {
    "duration": 7,
    "start_time": "2022-09-02T18:30:31.774Z"
   },
   {
    "duration": 9,
    "start_time": "2022-09-02T18:30:31.782Z"
   },
   {
    "duration": 13,
    "start_time": "2022-09-02T18:30:31.793Z"
   },
   {
    "duration": 3,
    "start_time": "2022-09-02T18:30:31.808Z"
   },
   {
    "duration": 346,
    "start_time": "2022-09-02T18:30:31.813Z"
   },
   {
    "duration": 4,
    "start_time": "2022-09-02T18:30:32.160Z"
   },
   {
    "duration": 10,
    "start_time": "2022-09-02T18:30:32.165Z"
   },
   {
    "duration": 250,
    "start_time": "2022-09-02T18:30:32.177Z"
   },
   {
    "duration": 224,
    "start_time": "2022-09-02T18:30:32.429Z"
   },
   {
    "duration": 180,
    "start_time": "2022-09-02T18:30:32.654Z"
   },
   {
    "duration": 183,
    "start_time": "2022-09-02T18:30:32.836Z"
   },
   {
    "duration": 235,
    "start_time": "2022-09-02T18:30:33.020Z"
   },
   {
    "duration": 240,
    "start_time": "2022-09-02T18:30:33.256Z"
   },
   {
    "duration": 176,
    "start_time": "2022-09-02T18:30:33.498Z"
   },
   {
    "duration": 314,
    "start_time": "2022-09-02T18:30:33.677Z"
   },
   {
    "duration": 7,
    "start_time": "2022-09-02T18:30:33.992Z"
   },
   {
    "duration": 230,
    "start_time": "2022-09-02T18:30:34.005Z"
   },
   {
    "duration": 220,
    "start_time": "2022-09-02T18:30:34.236Z"
   },
   {
    "duration": 229,
    "start_time": "2022-09-02T18:30:34.458Z"
   },
   {
    "duration": 4,
    "start_time": "2022-09-02T18:30:34.689Z"
   },
   {
    "duration": 140,
    "start_time": "2022-09-02T18:30:34.695Z"
   },
   {
    "duration": 17,
    "start_time": "2022-09-02T18:30:34.837Z"
   },
   {
    "duration": 135,
    "start_time": "2022-09-02T18:30:34.856Z"
   },
   {
    "duration": 132,
    "start_time": "2022-09-02T18:30:34.992Z"
   },
   {
    "duration": 6,
    "start_time": "2022-09-02T18:30:35.126Z"
   },
   {
    "duration": 146,
    "start_time": "2022-09-02T18:30:35.134Z"
   },
   {
    "duration": 124,
    "start_time": "2022-09-02T18:30:35.281Z"
   },
   {
    "duration": 143,
    "start_time": "2022-09-02T18:30:35.407Z"
   },
   {
    "duration": 233,
    "start_time": "2022-09-02T18:30:35.551Z"
   },
   {
    "duration": 146,
    "start_time": "2022-09-02T18:30:35.786Z"
   },
   {
    "duration": 183,
    "start_time": "2022-09-02T18:30:35.934Z"
   },
   {
    "duration": 166,
    "start_time": "2022-09-02T18:30:36.119Z"
   },
   {
    "duration": 140,
    "start_time": "2022-09-02T18:30:36.286Z"
   },
   {
    "duration": 154,
    "start_time": "2022-09-02T18:30:36.427Z"
   },
   {
    "duration": 134,
    "start_time": "2022-09-02T18:30:36.583Z"
   },
   {
    "duration": 142,
    "start_time": "2022-09-02T18:30:36.719Z"
   },
   {
    "duration": 169,
    "start_time": "2022-09-02T18:30:36.863Z"
   },
   {
    "duration": 152,
    "start_time": "2022-09-02T18:30:37.033Z"
   },
   {
    "duration": 31,
    "start_time": "2022-09-02T18:30:37.187Z"
   },
   {
    "duration": 3,
    "start_time": "2022-09-02T18:30:37.219Z"
   },
   {
    "duration": 146,
    "start_time": "2022-09-02T18:30:37.223Z"
   },
   {
    "duration": 10,
    "start_time": "2022-09-02T18:33:22.302Z"
   },
   {
    "duration": 103,
    "start_time": "2022-09-02T18:34:49.132Z"
   },
   {
    "duration": 3,
    "start_time": "2022-09-02T18:35:27.317Z"
   },
   {
    "duration": 34,
    "start_time": "2022-09-02T18:35:40.645Z"
   },
   {
    "duration": 441,
    "start_time": "2022-09-02T18:44:53.438Z"
   },
   {
    "duration": 18,
    "start_time": "2022-09-02T18:45:35.669Z"
   },
   {
    "duration": 21,
    "start_time": "2022-09-02T18:53:37.969Z"
   },
   {
    "duration": 380,
    "start_time": "2022-09-02T18:54:17.550Z"
   },
   {
    "duration": 27,
    "start_time": "2022-09-02T18:54:46.744Z"
   },
   {
    "duration": 19,
    "start_time": "2022-09-02T18:55:57.068Z"
   },
   {
    "duration": 592,
    "start_time": "2022-09-02T18:56:40.376Z"
   },
   {
    "duration": 358,
    "start_time": "2022-09-02T18:56:55.021Z"
   },
   {
    "duration": 18,
    "start_time": "2022-09-02T19:04:08.533Z"
   },
   {
    "duration": 14,
    "start_time": "2022-09-02T19:07:04.452Z"
   },
   {
    "duration": 27,
    "start_time": "2022-09-02T19:07:29.285Z"
   },
   {
    "duration": 1306,
    "start_time": "2022-09-02T19:08:29.730Z"
   },
   {
    "duration": 26,
    "start_time": "2022-09-02T19:08:56.357Z"
   },
   {
    "duration": 693,
    "start_time": "2022-09-02T19:10:10.901Z"
   },
   {
    "duration": 1374,
    "start_time": "2022-09-02T19:11:17.328Z"
   },
   {
    "duration": 22,
    "start_time": "2022-09-02T19:13:37.866Z"
   },
   {
    "duration": 1272,
    "start_time": "2022-09-02T19:14:41.956Z"
   },
   {
    "duration": 24,
    "start_time": "2022-09-02T19:21:12.924Z"
   },
   {
    "duration": 25,
    "start_time": "2022-09-02T19:21:56.933Z"
   },
   {
    "duration": 24,
    "start_time": "2022-09-02T19:22:04.525Z"
   },
   {
    "duration": 35,
    "start_time": "2022-09-02T19:22:19.316Z"
   },
   {
    "duration": 172,
    "start_time": "2022-09-02T19:22:24.488Z"
   },
   {
    "duration": 123,
    "start_time": "2022-09-02T19:24:33.098Z"
   },
   {
    "duration": 100,
    "start_time": "2022-09-02T19:26:06.270Z"
   },
   {
    "duration": 86,
    "start_time": "2022-09-02T19:34:55.399Z"
   },
   {
    "duration": 217,
    "start_time": "2022-09-02T19:37:26.681Z"
   },
   {
    "duration": 163,
    "start_time": "2022-09-02T19:38:55.253Z"
   },
   {
    "duration": 222,
    "start_time": "2022-09-02T19:39:16.125Z"
   },
   {
    "duration": 274,
    "start_time": "2022-09-02T20:04:16.211Z"
   },
   {
    "duration": 284,
    "start_time": "2022-09-02T20:05:55.961Z"
   },
   {
    "duration": 383,
    "start_time": "2022-09-02T20:06:24.775Z"
   },
   {
    "duration": 109,
    "start_time": "2022-09-02T21:09:27.086Z"
   },
   {
    "duration": 24,
    "start_time": "2022-09-02T21:09:27.197Z"
   },
   {
    "duration": 1768,
    "start_time": "2022-09-02T21:09:27.222Z"
   },
   {
    "duration": 17,
    "start_time": "2022-09-02T21:09:28.992Z"
   },
   {
    "duration": 13,
    "start_time": "2022-09-02T21:09:29.012Z"
   },
   {
    "duration": 10,
    "start_time": "2022-09-02T21:09:29.027Z"
   },
   {
    "duration": 12,
    "start_time": "2022-09-02T21:09:29.038Z"
   },
   {
    "duration": 9,
    "start_time": "2022-09-02T21:09:29.051Z"
   },
   {
    "duration": 4,
    "start_time": "2022-09-02T21:09:29.062Z"
   },
   {
    "duration": 57,
    "start_time": "2022-09-02T21:09:29.067Z"
   },
   {
    "duration": 9,
    "start_time": "2022-09-02T21:09:29.126Z"
   },
   {
    "duration": 5,
    "start_time": "2022-09-02T21:09:29.136Z"
   },
   {
    "duration": 10,
    "start_time": "2022-09-02T21:09:29.142Z"
   },
   {
    "duration": 9,
    "start_time": "2022-09-02T21:09:29.155Z"
   },
   {
    "duration": 65,
    "start_time": "2022-09-02T21:09:29.165Z"
   },
   {
    "duration": 9,
    "start_time": "2022-09-02T21:09:29.232Z"
   },
   {
    "duration": 5,
    "start_time": "2022-09-02T21:09:29.242Z"
   },
   {
    "duration": 13,
    "start_time": "2022-09-02T21:09:29.248Z"
   },
   {
    "duration": 224,
    "start_time": "2022-09-02T21:09:29.263Z"
   },
   {
    "duration": 8,
    "start_time": "2022-09-02T21:09:29.489Z"
   },
   {
    "duration": 19,
    "start_time": "2022-09-02T21:09:29.512Z"
   },
   {
    "duration": 13,
    "start_time": "2022-09-02T21:09:29.532Z"
   },
   {
    "duration": 27,
    "start_time": "2022-09-02T21:09:29.547Z"
   },
   {
    "duration": 47,
    "start_time": "2022-09-02T21:09:29.575Z"
   },
   {
    "duration": 15,
    "start_time": "2022-09-02T21:09:29.624Z"
   },
   {
    "duration": 16,
    "start_time": "2022-09-02T21:09:29.641Z"
   },
   {
    "duration": 6,
    "start_time": "2022-09-02T21:09:29.658Z"
   },
   {
    "duration": 6,
    "start_time": "2022-09-02T21:09:29.665Z"
   },
   {
    "duration": 36,
    "start_time": "2022-09-02T21:09:29.672Z"
   },
   {
    "duration": 5,
    "start_time": "2022-09-02T21:09:29.710Z"
   },
   {
    "duration": 409,
    "start_time": "2022-09-02T21:09:29.716Z"
   },
   {
    "duration": 4,
    "start_time": "2022-09-02T21:09:30.126Z"
   },
   {
    "duration": 13,
    "start_time": "2022-09-02T21:09:30.131Z"
   },
   {
    "duration": 189,
    "start_time": "2022-09-02T21:09:30.145Z"
   },
   {
    "duration": 420,
    "start_time": "2022-09-02T21:09:30.335Z"
   },
   {
    "duration": 191,
    "start_time": "2022-09-02T21:09:30.757Z"
   },
   {
    "duration": 198,
    "start_time": "2022-09-02T21:09:30.949Z"
   },
   {
    "duration": 103,
    "start_time": "2022-09-02T21:09:37.290Z"
   },
   {
    "duration": 14,
    "start_time": "2022-09-02T21:09:37.395Z"
   },
   {
    "duration": 2063,
    "start_time": "2022-09-02T21:09:37.411Z"
   },
   {
    "duration": 11,
    "start_time": "2022-09-02T21:09:39.475Z"
   },
   {
    "duration": 33,
    "start_time": "2022-09-02T21:09:39.488Z"
   },
   {
    "duration": 41,
    "start_time": "2022-09-02T21:09:39.522Z"
   },
   {
    "duration": 20,
    "start_time": "2022-09-02T21:09:39.564Z"
   },
   {
    "duration": 26,
    "start_time": "2022-09-02T21:09:39.586Z"
   },
   {
    "duration": 9,
    "start_time": "2022-09-02T21:09:39.620Z"
   },
   {
    "duration": 23,
    "start_time": "2022-09-02T21:09:39.630Z"
   },
   {
    "duration": 19,
    "start_time": "2022-09-02T21:09:39.654Z"
   },
   {
    "duration": 29,
    "start_time": "2022-09-02T21:09:39.674Z"
   },
   {
    "duration": 37,
    "start_time": "2022-09-02T21:09:39.705Z"
   },
   {
    "duration": 14,
    "start_time": "2022-09-02T21:09:39.744Z"
   },
   {
    "duration": 18,
    "start_time": "2022-09-02T21:09:39.759Z"
   },
   {
    "duration": 12,
    "start_time": "2022-09-02T21:09:39.778Z"
   },
   {
    "duration": 10,
    "start_time": "2022-09-02T21:09:39.791Z"
   },
   {
    "duration": 29,
    "start_time": "2022-09-02T21:09:39.802Z"
   },
   {
    "duration": 171,
    "start_time": "2022-09-02T21:09:39.833Z"
   },
   {
    "duration": 22,
    "start_time": "2022-09-02T21:09:40.006Z"
   },
   {
    "duration": 16,
    "start_time": "2022-09-02T21:09:40.030Z"
   },
   {
    "duration": 27,
    "start_time": "2022-09-02T21:09:40.048Z"
   },
   {
    "duration": 39,
    "start_time": "2022-09-02T21:09:40.077Z"
   },
   {
    "duration": 12,
    "start_time": "2022-09-02T21:09:40.118Z"
   },
   {
    "duration": 8,
    "start_time": "2022-09-02T21:09:40.132Z"
   },
   {
    "duration": 18,
    "start_time": "2022-09-02T21:09:40.142Z"
   },
   {
    "duration": 6,
    "start_time": "2022-09-02T21:09:40.162Z"
   },
   {
    "duration": 5,
    "start_time": "2022-09-02T21:09:40.171Z"
   },
   {
    "duration": 34,
    "start_time": "2022-09-02T21:09:40.178Z"
   },
   {
    "duration": 5,
    "start_time": "2022-09-02T21:09:40.220Z"
   },
   {
    "duration": 374,
    "start_time": "2022-09-02T21:09:40.226Z"
   },
   {
    "duration": 6,
    "start_time": "2022-09-02T21:09:40.602Z"
   },
   {
    "duration": 13,
    "start_time": "2022-09-02T21:09:40.610Z"
   },
   {
    "duration": 200,
    "start_time": "2022-09-02T21:09:40.624Z"
   },
   {
    "duration": 242,
    "start_time": "2022-09-02T21:09:40.826Z"
   },
   {
    "duration": 195,
    "start_time": "2022-09-02T21:09:41.069Z"
   },
   {
    "duration": 191,
    "start_time": "2022-09-02T21:09:41.266Z"
   },
   {
    "duration": 235,
    "start_time": "2022-09-02T21:09:41.458Z"
   },
   {
    "duration": 262,
    "start_time": "2022-09-02T21:09:41.694Z"
   },
   {
    "duration": 259,
    "start_time": "2022-09-02T21:09:41.958Z"
   },
   {
    "duration": 136,
    "start_time": "2022-09-02T21:09:42.219Z"
   },
   {
    "duration": 202,
    "start_time": "2022-09-02T21:09:42.356Z"
   },
   {
    "duration": 185,
    "start_time": "2022-09-02T21:09:42.559Z"
   },
   {
    "duration": 246,
    "start_time": "2022-09-02T21:09:42.746Z"
   },
   {
    "duration": 565,
    "start_time": "2022-09-02T21:09:42.994Z"
   },
   {
    "duration": 232,
    "start_time": "2022-09-02T21:09:43.561Z"
   },
   {
    "duration": 237,
    "start_time": "2022-09-02T21:09:43.794Z"
   },
   {
    "duration": 236,
    "start_time": "2022-09-02T21:09:44.033Z"
   },
   {
    "duration": 259,
    "start_time": "2022-09-02T21:09:44.270Z"
   },
   {
    "duration": 235,
    "start_time": "2022-09-02T21:09:44.531Z"
   },
   {
    "duration": 4,
    "start_time": "2022-09-02T21:09:44.772Z"
   },
   {
    "duration": 165,
    "start_time": "2022-09-02T21:09:44.778Z"
   },
   {
    "duration": 15,
    "start_time": "2022-09-02T21:09:44.944Z"
   },
   {
    "duration": 159,
    "start_time": "2022-09-02T21:09:44.961Z"
   },
   {
    "duration": 154,
    "start_time": "2022-09-02T21:09:45.122Z"
   },
   {
    "duration": 8,
    "start_time": "2022-09-02T21:09:45.279Z"
   },
   {
    "duration": 184,
    "start_time": "2022-09-02T21:09:45.290Z"
   },
   {
    "duration": 160,
    "start_time": "2022-09-02T21:09:45.476Z"
   },
   {
    "duration": 158,
    "start_time": "2022-09-02T21:09:45.638Z"
   },
   {
    "duration": 158,
    "start_time": "2022-09-02T21:09:45.798Z"
   },
   {
    "duration": 230,
    "start_time": "2022-09-02T21:09:45.957Z"
   },
   {
    "duration": 210,
    "start_time": "2022-09-02T21:09:46.188Z"
   },
   {
    "duration": 175,
    "start_time": "2022-09-02T21:09:46.400Z"
   },
   {
    "duration": 168,
    "start_time": "2022-09-02T21:09:46.576Z"
   },
   {
    "duration": 146,
    "start_time": "2022-09-02T21:09:46.745Z"
   },
   {
    "duration": 147,
    "start_time": "2022-09-02T21:09:46.892Z"
   },
   {
    "duration": 181,
    "start_time": "2022-09-02T21:09:47.041Z"
   },
   {
    "duration": 158,
    "start_time": "2022-09-02T21:09:47.224Z"
   },
   {
    "duration": 169,
    "start_time": "2022-09-02T21:09:47.384Z"
   },
   {
    "duration": 30,
    "start_time": "2022-09-02T21:09:47.555Z"
   },
   {
    "duration": 143,
    "start_time": "2022-09-02T21:09:47.605Z"
   },
   {
    "duration": 597,
    "start_time": "2022-09-02T21:23:36.286Z"
   },
   {
    "duration": 21,
    "start_time": "2022-09-02T21:23:36.885Z"
   },
   {
    "duration": 2444,
    "start_time": "2022-09-02T21:23:36.908Z"
   },
   {
    "duration": 10,
    "start_time": "2022-09-02T21:23:39.354Z"
   },
   {
    "duration": 20,
    "start_time": "2022-09-02T21:23:39.366Z"
   },
   {
    "duration": 18,
    "start_time": "2022-09-02T21:23:39.387Z"
   },
   {
    "duration": 16,
    "start_time": "2022-09-02T21:23:39.407Z"
   },
   {
    "duration": 16,
    "start_time": "2022-09-02T21:23:39.425Z"
   },
   {
    "duration": 6,
    "start_time": "2022-09-02T21:23:39.442Z"
   },
   {
    "duration": 45,
    "start_time": "2022-09-02T21:23:39.451Z"
   },
   {
    "duration": 10,
    "start_time": "2022-09-02T21:23:39.503Z"
   },
   {
    "duration": 6,
    "start_time": "2022-09-02T21:23:39.515Z"
   },
   {
    "duration": 5,
    "start_time": "2022-09-02T21:23:39.523Z"
   },
   {
    "duration": 10,
    "start_time": "2022-09-02T21:23:39.530Z"
   },
   {
    "duration": 58,
    "start_time": "2022-09-02T21:23:39.542Z"
   },
   {
    "duration": 10,
    "start_time": "2022-09-02T21:23:39.602Z"
   },
   {
    "duration": 6,
    "start_time": "2022-09-02T21:23:39.614Z"
   },
   {
    "duration": 12,
    "start_time": "2022-09-02T21:23:39.621Z"
   },
   {
    "duration": 219,
    "start_time": "2022-09-02T21:23:39.635Z"
   },
   {
    "duration": 9,
    "start_time": "2022-09-02T21:23:39.856Z"
   },
   {
    "duration": 37,
    "start_time": "2022-09-02T21:23:39.867Z"
   },
   {
    "duration": 17,
    "start_time": "2022-09-02T21:23:39.906Z"
   },
   {
    "duration": 31,
    "start_time": "2022-09-02T21:23:39.925Z"
   },
   {
    "duration": 37,
    "start_time": "2022-09-02T21:23:39.958Z"
   },
   {
    "duration": 13,
    "start_time": "2022-09-02T21:23:40.000Z"
   },
   {
    "duration": 17,
    "start_time": "2022-09-02T21:23:40.015Z"
   },
   {
    "duration": 6,
    "start_time": "2022-09-02T21:23:40.035Z"
   },
   {
    "duration": 10,
    "start_time": "2022-09-02T21:23:40.048Z"
   },
   {
    "duration": 16,
    "start_time": "2022-09-02T21:23:40.090Z"
   },
   {
    "duration": 5,
    "start_time": "2022-09-02T21:23:40.108Z"
   },
   {
    "duration": 464,
    "start_time": "2022-09-02T21:23:40.115Z"
   },
   {
    "duration": 17,
    "start_time": "2022-09-02T21:23:40.580Z"
   },
   {
    "duration": 10,
    "start_time": "2022-09-02T21:23:40.601Z"
   },
   {
    "duration": 194,
    "start_time": "2022-09-02T21:23:40.613Z"
   },
   {
    "duration": 346,
    "start_time": "2022-09-02T21:23:40.809Z"
   },
   {
    "duration": 240,
    "start_time": "2022-09-02T21:23:41.157Z"
   },
   {
    "duration": 223,
    "start_time": "2022-09-02T21:23:41.399Z"
   },
   {
    "duration": 284,
    "start_time": "2022-09-02T21:23:41.625Z"
   },
   {
    "duration": 294,
    "start_time": "2022-09-02T21:23:41.911Z"
   },
   {
    "duration": 295,
    "start_time": "2022-09-02T21:23:42.207Z"
   },
   {
    "duration": 156,
    "start_time": "2022-09-02T21:23:42.504Z"
   },
   {
    "duration": 349,
    "start_time": "2022-09-02T21:23:42.661Z"
   },
   {
    "duration": 221,
    "start_time": "2022-09-02T21:23:43.012Z"
   },
   {
    "duration": 278,
    "start_time": "2022-09-02T21:23:43.235Z"
   },
   {
    "duration": 271,
    "start_time": "2022-09-02T21:23:43.515Z"
   },
   {
    "duration": 261,
    "start_time": "2022-09-02T21:23:43.787Z"
   },
   {
    "duration": 267,
    "start_time": "2022-09-02T21:23:44.049Z"
   },
   {
    "duration": 458,
    "start_time": "2022-09-02T21:23:44.318Z"
   },
   {
    "duration": 271,
    "start_time": "2022-09-02T21:23:44.779Z"
   },
   {
    "duration": 293,
    "start_time": "2022-09-02T21:23:45.051Z"
   },
   {
    "duration": 5,
    "start_time": "2022-09-02T21:23:45.346Z"
   },
   {
    "duration": 179,
    "start_time": "2022-09-02T21:23:45.353Z"
   },
   {
    "duration": 17,
    "start_time": "2022-09-02T21:23:45.534Z"
   },
   {
    "duration": 160,
    "start_time": "2022-09-02T21:23:45.552Z"
   },
   {
    "duration": 151,
    "start_time": "2022-09-02T21:23:45.714Z"
   },
   {
    "duration": 28,
    "start_time": "2022-09-02T21:23:45.867Z"
   },
   {
    "duration": 182,
    "start_time": "2022-09-02T21:23:45.897Z"
   },
   {
    "duration": 186,
    "start_time": "2022-09-02T21:23:46.081Z"
   },
   {
    "duration": 173,
    "start_time": "2022-09-02T21:23:46.269Z"
   },
   {
    "duration": 152,
    "start_time": "2022-09-02T21:23:46.444Z"
   },
   {
    "duration": 170,
    "start_time": "2022-09-02T21:23:46.597Z"
   },
   {
    "duration": 180,
    "start_time": "2022-09-02T21:23:46.768Z"
   },
   {
    "duration": 162,
    "start_time": "2022-09-02T21:23:46.950Z"
   },
   {
    "duration": 178,
    "start_time": "2022-09-02T21:23:47.114Z"
   },
   {
    "duration": 163,
    "start_time": "2022-09-02T21:23:47.294Z"
   },
   {
    "duration": 159,
    "start_time": "2022-09-02T21:23:47.459Z"
   },
   {
    "duration": 183,
    "start_time": "2022-09-02T21:23:47.620Z"
   },
   {
    "duration": 174,
    "start_time": "2022-09-02T21:23:47.805Z"
   },
   {
    "duration": 314,
    "start_time": "2022-09-02T21:23:47.986Z"
   },
   {
    "duration": 28,
    "start_time": "2022-09-02T21:23:48.302Z"
   },
   {
    "duration": 201,
    "start_time": "2022-09-02T21:23:48.332Z"
   },
   {
    "duration": 17,
    "start_time": "2022-09-02T21:25:34.159Z"
   },
   {
    "duration": 168,
    "start_time": "2022-09-02T21:31:32.909Z"
   },
   {
    "duration": 56,
    "start_time": "2022-09-04T17:54:40.185Z"
   },
   {
    "duration": 1096,
    "start_time": "2022-09-04T17:54:44.976Z"
   },
   {
    "duration": 13,
    "start_time": "2022-09-04T17:54:46.074Z"
   },
   {
    "duration": 2139,
    "start_time": "2022-09-04T17:54:46.088Z"
   },
   {
    "duration": 8,
    "start_time": "2022-09-04T17:54:48.229Z"
   },
   {
    "duration": 11,
    "start_time": "2022-09-04T17:54:48.239Z"
   },
   {
    "duration": 7,
    "start_time": "2022-09-04T17:54:48.251Z"
   },
   {
    "duration": 49,
    "start_time": "2022-09-04T17:54:48.259Z"
   },
   {
    "duration": 12,
    "start_time": "2022-09-04T17:54:48.310Z"
   },
   {
    "duration": 4,
    "start_time": "2022-09-04T17:54:48.324Z"
   },
   {
    "duration": 11,
    "start_time": "2022-09-04T17:54:48.330Z"
   },
   {
    "duration": 19,
    "start_time": "2022-09-04T17:54:48.343Z"
   },
   {
    "duration": 49,
    "start_time": "2022-09-04T17:54:48.363Z"
   },
   {
    "duration": 9,
    "start_time": "2022-09-04T17:54:48.413Z"
   },
   {
    "duration": 7,
    "start_time": "2022-09-04T17:54:48.423Z"
   },
   {
    "duration": 12,
    "start_time": "2022-09-04T17:54:48.431Z"
   },
   {
    "duration": 18,
    "start_time": "2022-09-04T17:54:48.444Z"
   },
   {
    "duration": 41,
    "start_time": "2022-09-04T17:54:48.464Z"
   },
   {
    "duration": 6,
    "start_time": "2022-09-04T17:54:48.507Z"
   },
   {
    "duration": 11,
    "start_time": "2022-09-04T17:54:48.524Z"
   },
   {
    "duration": 177,
    "start_time": "2022-09-04T17:54:48.536Z"
   },
   {
    "duration": 8,
    "start_time": "2022-09-04T17:54:48.715Z"
   },
   {
    "duration": 14,
    "start_time": "2022-09-04T17:54:48.724Z"
   },
   {
    "duration": 12,
    "start_time": "2022-09-04T17:54:48.739Z"
   },
   {
    "duration": 67,
    "start_time": "2022-09-04T17:54:48.753Z"
   },
   {
    "duration": 9,
    "start_time": "2022-09-04T17:54:48.822Z"
   },
   {
    "duration": 9,
    "start_time": "2022-09-04T17:54:48.832Z"
   },
   {
    "duration": 11,
    "start_time": "2022-09-04T17:54:48.843Z"
   },
   {
    "duration": 6,
    "start_time": "2022-09-04T17:54:48.857Z"
   },
   {
    "duration": 34,
    "start_time": "2022-09-04T17:54:48.864Z"
   },
   {
    "duration": 9,
    "start_time": "2022-09-04T17:54:48.899Z"
   },
   {
    "duration": 14,
    "start_time": "2022-09-04T17:54:48.909Z"
   },
   {
    "duration": 406,
    "start_time": "2022-09-04T17:54:48.925Z"
   },
   {
    "duration": 5,
    "start_time": "2022-09-04T17:54:49.332Z"
   },
   {
    "duration": 15,
    "start_time": "2022-09-04T17:54:49.339Z"
   },
   {
    "duration": 251,
    "start_time": "2022-09-04T17:54:49.356Z"
   },
   {
    "duration": 225,
    "start_time": "2022-09-04T17:54:49.608Z"
   },
   {
    "duration": 179,
    "start_time": "2022-09-04T17:54:49.835Z"
   },
   {
    "duration": 193,
    "start_time": "2022-09-04T17:54:50.015Z"
   },
   {
    "duration": 236,
    "start_time": "2022-09-04T17:54:50.210Z"
   },
   {
    "duration": 232,
    "start_time": "2022-09-04T17:54:50.448Z"
   },
   {
    "duration": 241,
    "start_time": "2022-09-04T17:54:50.682Z"
   },
   {
    "duration": 197,
    "start_time": "2022-09-04T17:54:50.924Z"
   },
   {
    "duration": 201,
    "start_time": "2022-09-04T17:54:51.123Z"
   },
   {
    "duration": 179,
    "start_time": "2022-09-04T17:54:51.326Z"
   },
   {
    "duration": 239,
    "start_time": "2022-09-04T17:54:51.507Z"
   },
   {
    "duration": 240,
    "start_time": "2022-09-04T17:54:51.748Z"
   },
   {
    "duration": 232,
    "start_time": "2022-09-04T17:54:51.989Z"
   },
   {
    "duration": 233,
    "start_time": "2022-09-04T17:54:52.222Z"
   },
   {
    "duration": 311,
    "start_time": "2022-09-04T17:54:52.457Z"
   },
   {
    "duration": 239,
    "start_time": "2022-09-04T17:54:52.769Z"
   },
   {
    "duration": 226,
    "start_time": "2022-09-04T17:54:53.010Z"
   },
   {
    "duration": 4,
    "start_time": "2022-09-04T17:54:53.238Z"
   },
   {
    "duration": 165,
    "start_time": "2022-09-04T17:54:53.243Z"
   },
   {
    "duration": 18,
    "start_time": "2022-09-04T17:54:53.410Z"
   },
   {
    "duration": 137,
    "start_time": "2022-09-04T17:54:53.430Z"
   },
   {
    "duration": 121,
    "start_time": "2022-09-04T17:54:53.569Z"
   },
   {
    "duration": 17,
    "start_time": "2022-09-04T17:54:53.692Z"
   },
   {
    "duration": 163,
    "start_time": "2022-09-04T17:54:53.710Z"
   },
   {
    "duration": 145,
    "start_time": "2022-09-04T17:54:53.874Z"
   },
   {
    "duration": 142,
    "start_time": "2022-09-04T17:54:54.020Z"
   },
   {
    "duration": 145,
    "start_time": "2022-09-04T17:54:54.164Z"
   },
   {
    "duration": 167,
    "start_time": "2022-09-04T17:54:54.310Z"
   },
   {
    "duration": 185,
    "start_time": "2022-09-04T17:54:54.478Z"
   },
   {
    "duration": 147,
    "start_time": "2022-09-04T17:54:54.664Z"
   },
   {
    "duration": 152,
    "start_time": "2022-09-04T17:54:54.812Z"
   },
   {
    "duration": 148,
    "start_time": "2022-09-04T17:54:54.966Z"
   },
   {
    "duration": 242,
    "start_time": "2022-09-04T17:54:55.116Z"
   },
   {
    "duration": 153,
    "start_time": "2022-09-04T17:54:55.359Z"
   },
   {
    "duration": 143,
    "start_time": "2022-09-04T17:54:55.513Z"
   },
   {
    "duration": 158,
    "start_time": "2022-09-04T17:54:55.657Z"
   },
   {
    "duration": 24,
    "start_time": "2022-09-04T17:54:55.817Z"
   },
   {
    "duration": 148,
    "start_time": "2022-09-04T17:54:55.843Z"
   },
   {
    "duration": 5,
    "start_time": "2022-09-04T17:55:08.655Z"
   },
   {
    "duration": 123,
    "start_time": "2022-09-04T17:55:11.881Z"
   },
   {
    "duration": 21,
    "start_time": "2022-09-04T17:55:12.006Z"
   },
   {
    "duration": 1700,
    "start_time": "2022-09-04T17:55:12.029Z"
   },
   {
    "duration": 8,
    "start_time": "2022-09-04T17:55:13.730Z"
   },
   {
    "duration": 12,
    "start_time": "2022-09-04T17:55:13.742Z"
   },
   {
    "duration": 9,
    "start_time": "2022-09-04T17:55:13.755Z"
   },
   {
    "duration": 51,
    "start_time": "2022-09-04T17:55:13.766Z"
   },
   {
    "duration": 4,
    "start_time": "2022-09-04T17:55:13.819Z"
   },
   {
    "duration": 13,
    "start_time": "2022-09-04T17:55:13.825Z"
   },
   {
    "duration": 5,
    "start_time": "2022-09-04T17:55:13.839Z"
   },
   {
    "duration": 6,
    "start_time": "2022-09-04T17:55:13.845Z"
   },
   {
    "duration": 62,
    "start_time": "2022-09-04T17:55:13.852Z"
   },
   {
    "duration": 9,
    "start_time": "2022-09-04T17:55:13.916Z"
   },
   {
    "duration": 5,
    "start_time": "2022-09-04T17:55:13.927Z"
   },
   {
    "duration": 7,
    "start_time": "2022-09-04T17:55:13.933Z"
   },
   {
    "duration": 7,
    "start_time": "2022-09-04T17:55:13.942Z"
   },
   {
    "duration": 72,
    "start_time": "2022-09-04T17:55:13.951Z"
   },
   {
    "duration": 9,
    "start_time": "2022-09-04T17:55:14.025Z"
   },
   {
    "duration": 4,
    "start_time": "2022-09-04T17:55:14.036Z"
   },
   {
    "duration": 9,
    "start_time": "2022-09-04T17:55:14.041Z"
   },
   {
    "duration": 205,
    "start_time": "2022-09-04T17:55:14.051Z"
   },
   {
    "duration": 8,
    "start_time": "2022-09-04T17:55:14.257Z"
   },
   {
    "duration": 37,
    "start_time": "2022-09-04T17:55:14.267Z"
   },
   {
    "duration": 18,
    "start_time": "2022-09-04T17:55:14.305Z"
   },
   {
    "duration": 27,
    "start_time": "2022-09-04T17:55:14.324Z"
   },
   {
    "duration": 12,
    "start_time": "2022-09-04T17:55:14.353Z"
   },
   {
    "duration": 15,
    "start_time": "2022-09-04T17:55:14.401Z"
   },
   {
    "duration": 19,
    "start_time": "2022-09-04T17:55:14.419Z"
   },
   {
    "duration": 5,
    "start_time": "2022-09-04T17:55:14.440Z"
   },
   {
    "duration": 11,
    "start_time": "2022-09-04T17:55:14.447Z"
   },
   {
    "duration": 39,
    "start_time": "2022-09-04T17:55:14.460Z"
   },
   {
    "duration": 5,
    "start_time": "2022-09-04T17:55:14.501Z"
   },
   {
    "duration": 533,
    "start_time": "2022-09-04T17:55:14.508Z"
   },
   {
    "duration": 4,
    "start_time": "2022-09-04T17:55:15.042Z"
   },
   {
    "duration": 10,
    "start_time": "2022-09-04T17:55:15.047Z"
   },
   {
    "duration": 197,
    "start_time": "2022-09-04T17:55:15.058Z"
   },
   {
    "duration": 232,
    "start_time": "2022-09-04T17:55:15.258Z"
   },
   {
    "duration": 175,
    "start_time": "2022-09-04T17:55:15.491Z"
   },
   {
    "duration": 181,
    "start_time": "2022-09-04T17:55:15.667Z"
   },
   {
    "duration": 238,
    "start_time": "2022-09-04T17:55:15.849Z"
   },
   {
    "duration": 243,
    "start_time": "2022-09-04T17:55:16.091Z"
   },
   {
    "duration": 224,
    "start_time": "2022-09-04T17:55:16.335Z"
   },
   {
    "duration": 124,
    "start_time": "2022-09-04T17:55:16.561Z"
   },
   {
    "duration": 202,
    "start_time": "2022-09-04T17:55:16.687Z"
   },
   {
    "duration": 184,
    "start_time": "2022-09-04T17:55:16.890Z"
   },
   {
    "duration": 391,
    "start_time": "2022-09-04T17:55:17.076Z"
   },
   {
    "duration": 219,
    "start_time": "2022-09-04T17:55:17.468Z"
   },
   {
    "duration": 223,
    "start_time": "2022-09-04T17:55:17.688Z"
   },
   {
    "duration": 232,
    "start_time": "2022-09-04T17:55:17.912Z"
   },
   {
    "duration": 212,
    "start_time": "2022-09-04T17:55:18.145Z"
   },
   {
    "duration": 228,
    "start_time": "2022-09-04T17:55:18.358Z"
   },
   {
    "duration": 271,
    "start_time": "2022-09-04T17:55:18.588Z"
   },
   {
    "duration": 6,
    "start_time": "2022-09-04T17:55:18.860Z"
   },
   {
    "duration": 169,
    "start_time": "2022-09-04T17:55:18.867Z"
   },
   {
    "duration": 14,
    "start_time": "2022-09-04T17:55:19.038Z"
   },
   {
    "duration": 143,
    "start_time": "2022-09-04T17:55:19.053Z"
   },
   {
    "duration": 128,
    "start_time": "2022-09-04T17:55:19.200Z"
   },
   {
    "duration": 6,
    "start_time": "2022-09-04T17:55:19.329Z"
   },
   {
    "duration": 152,
    "start_time": "2022-09-04T17:55:19.336Z"
   },
   {
    "duration": 137,
    "start_time": "2022-09-04T17:55:19.490Z"
   },
   {
    "duration": 136,
    "start_time": "2022-09-04T17:55:19.628Z"
   },
   {
    "duration": 139,
    "start_time": "2022-09-04T17:55:19.765Z"
   },
   {
    "duration": 158,
    "start_time": "2022-09-04T17:55:19.905Z"
   },
   {
    "duration": 164,
    "start_time": "2022-09-04T17:55:20.065Z"
   },
   {
    "duration": 134,
    "start_time": "2022-09-04T17:55:20.230Z"
   },
   {
    "duration": 158,
    "start_time": "2022-09-04T17:55:20.365Z"
   },
   {
    "duration": 140,
    "start_time": "2022-09-04T17:55:20.524Z"
   },
   {
    "duration": 153,
    "start_time": "2022-09-04T17:55:20.665Z"
   },
   {
    "duration": 137,
    "start_time": "2022-09-04T17:55:20.820Z"
   },
   {
    "duration": 164,
    "start_time": "2022-09-04T17:55:20.958Z"
   },
   {
    "duration": 147,
    "start_time": "2022-09-04T17:55:21.123Z"
   },
   {
    "duration": 39,
    "start_time": "2022-09-04T17:55:21.272Z"
   },
   {
    "duration": 328,
    "start_time": "2022-09-04T17:55:21.313Z"
   },
   {
    "duration": 5,
    "start_time": "2022-09-04T17:59:50.293Z"
   },
   {
    "duration": 66,
    "start_time": "2022-09-04T18:00:03.057Z"
   },
   {
    "duration": 5,
    "start_time": "2022-09-04T18:01:04.774Z"
   },
   {
    "duration": 26,
    "start_time": "2022-09-04T18:04:36.721Z"
   },
   {
    "duration": 29,
    "start_time": "2022-09-04T18:05:13.007Z"
   },
   {
    "duration": 27,
    "start_time": "2022-09-04T18:05:20.957Z"
   },
   {
    "duration": 22,
    "start_time": "2022-09-04T18:05:27.031Z"
   },
   {
    "duration": 27,
    "start_time": "2022-09-04T18:05:27.642Z"
   },
   {
    "duration": 24,
    "start_time": "2022-09-04T18:05:28.235Z"
   },
   {
    "duration": 28,
    "start_time": "2022-09-04T18:06:10.884Z"
   },
   {
    "duration": 27,
    "start_time": "2022-09-04T18:06:11.392Z"
   },
   {
    "duration": 142,
    "start_time": "2022-09-04T18:06:48.162Z"
   },
   {
    "duration": 14,
    "start_time": "2022-09-04T18:06:48.306Z"
   },
   {
    "duration": 1783,
    "start_time": "2022-09-04T18:06:48.322Z"
   },
   {
    "duration": 12,
    "start_time": "2022-09-04T18:06:50.113Z"
   },
   {
    "duration": 13,
    "start_time": "2022-09-04T18:06:50.128Z"
   },
   {
    "duration": 9,
    "start_time": "2022-09-04T18:06:50.143Z"
   },
   {
    "duration": 57,
    "start_time": "2022-09-04T18:06:50.154Z"
   },
   {
    "duration": 13,
    "start_time": "2022-09-04T18:06:50.213Z"
   },
   {
    "duration": 20,
    "start_time": "2022-09-04T18:06:50.228Z"
   },
   {
    "duration": 19,
    "start_time": "2022-09-04T18:06:50.250Z"
   },
   {
    "duration": 28,
    "start_time": "2022-09-04T18:06:50.299Z"
   },
   {
    "duration": 5,
    "start_time": "2022-09-04T18:06:50.329Z"
   },
   {
    "duration": 19,
    "start_time": "2022-09-04T18:06:50.335Z"
   },
   {
    "duration": 8,
    "start_time": "2022-09-04T18:06:50.357Z"
   },
   {
    "duration": 35,
    "start_time": "2022-09-04T18:06:50.367Z"
   },
   {
    "duration": 6,
    "start_time": "2022-09-04T18:06:50.404Z"
   },
   {
    "duration": 19,
    "start_time": "2022-09-04T18:06:50.411Z"
   },
   {
    "duration": 21,
    "start_time": "2022-09-04T18:06:50.432Z"
   },
   {
    "duration": 49,
    "start_time": "2022-09-04T18:06:50.455Z"
   },
   {
    "duration": 6,
    "start_time": "2022-09-04T18:06:50.505Z"
   },
   {
    "duration": 21,
    "start_time": "2022-09-04T18:06:50.512Z"
   },
   {
    "duration": 190,
    "start_time": "2022-09-04T18:06:50.535Z"
   },
   {
    "duration": 12,
    "start_time": "2022-09-04T18:06:50.727Z"
   },
   {
    "duration": 17,
    "start_time": "2022-09-04T18:06:50.741Z"
   },
   {
    "duration": 51,
    "start_time": "2022-09-04T18:06:50.760Z"
   },
   {
    "duration": 25,
    "start_time": "2022-09-04T18:06:50.813Z"
   },
   {
    "duration": 10,
    "start_time": "2022-09-04T18:06:50.839Z"
   },
   {
    "duration": 10,
    "start_time": "2022-09-04T18:06:50.850Z"
   },
   {
    "duration": 50,
    "start_time": "2022-09-04T18:06:50.862Z"
   },
   {
    "duration": 5,
    "start_time": "2022-09-04T18:06:50.914Z"
   },
   {
    "duration": 6,
    "start_time": "2022-09-04T18:06:50.921Z"
   },
   {
    "duration": 11,
    "start_time": "2022-09-04T18:06:50.929Z"
   },
   {
    "duration": 5,
    "start_time": "2022-09-04T18:06:50.941Z"
   },
   {
    "duration": 445,
    "start_time": "2022-09-04T18:06:50.947Z"
   },
   {
    "duration": 4,
    "start_time": "2022-09-04T18:06:51.394Z"
   },
   {
    "duration": 22,
    "start_time": "2022-09-04T18:06:51.402Z"
   },
   {
    "duration": 182,
    "start_time": "2022-09-04T18:06:51.426Z"
   },
   {
    "duration": 231,
    "start_time": "2022-09-04T18:06:51.610Z"
   },
   {
    "duration": 191,
    "start_time": "2022-09-04T18:06:51.842Z"
   },
   {
    "duration": 196,
    "start_time": "2022-09-04T18:06:52.035Z"
   },
   {
    "duration": 246,
    "start_time": "2022-09-04T18:06:52.238Z"
   },
   {
    "duration": 242,
    "start_time": "2022-09-04T18:06:52.486Z"
   },
   {
    "duration": 463,
    "start_time": "2022-09-04T18:06:52.729Z"
   },
   {
    "duration": 141,
    "start_time": "2022-09-04T18:06:53.193Z"
   },
   {
    "duration": 194,
    "start_time": "2022-09-04T18:06:53.336Z"
   },
   {
    "duration": 185,
    "start_time": "2022-09-04T18:06:53.531Z"
   },
   {
    "duration": 246,
    "start_time": "2022-09-04T18:06:53.718Z"
   },
   {
    "duration": 232,
    "start_time": "2022-09-04T18:06:53.966Z"
   },
   {
    "duration": 239,
    "start_time": "2022-09-04T18:06:54.205Z"
   },
   {
    "duration": 265,
    "start_time": "2022-09-04T18:06:54.447Z"
   },
   {
    "duration": 241,
    "start_time": "2022-09-04T18:06:54.713Z"
   },
   {
    "duration": 230,
    "start_time": "2022-09-04T18:06:54.956Z"
   },
   {
    "duration": 253,
    "start_time": "2022-09-04T18:06:55.188Z"
   },
   {
    "duration": 6,
    "start_time": "2022-09-04T18:06:55.442Z"
   },
   {
    "duration": 172,
    "start_time": "2022-09-04T18:06:55.449Z"
   },
   {
    "duration": 16,
    "start_time": "2022-09-04T18:06:55.623Z"
   },
   {
    "duration": 131,
    "start_time": "2022-09-04T18:06:55.640Z"
   },
   {
    "duration": 150,
    "start_time": "2022-09-04T18:06:55.772Z"
   },
   {
    "duration": 8,
    "start_time": "2022-09-04T18:06:55.924Z"
   },
   {
    "duration": 156,
    "start_time": "2022-09-04T18:06:55.934Z"
   },
   {
    "duration": 141,
    "start_time": "2022-09-04T18:06:56.092Z"
   },
   {
    "duration": 148,
    "start_time": "2022-09-04T18:06:56.235Z"
   },
   {
    "duration": 142,
    "start_time": "2022-09-04T18:06:56.384Z"
   },
   {
    "duration": 153,
    "start_time": "2022-09-04T18:06:56.528Z"
   },
   {
    "duration": 156,
    "start_time": "2022-09-04T18:06:56.683Z"
   },
   {
    "duration": 143,
    "start_time": "2022-09-04T18:06:56.841Z"
   },
   {
    "duration": 160,
    "start_time": "2022-09-04T18:06:56.985Z"
   },
   {
    "duration": 134,
    "start_time": "2022-09-04T18:06:57.146Z"
   },
   {
    "duration": 136,
    "start_time": "2022-09-04T18:06:57.281Z"
   },
   {
    "duration": 144,
    "start_time": "2022-09-04T18:06:57.419Z"
   },
   {
    "duration": 153,
    "start_time": "2022-09-04T18:06:57.564Z"
   },
   {
    "duration": 149,
    "start_time": "2022-09-04T18:06:57.719Z"
   },
   {
    "duration": 41,
    "start_time": "2022-09-04T18:06:57.869Z"
   },
   {
    "duration": 145,
    "start_time": "2022-09-04T18:06:57.913Z"
   },
   {
    "duration": 32,
    "start_time": "2022-09-04T18:10:24.514Z"
   },
   {
    "duration": 31,
    "start_time": "2022-09-04T18:10:25.165Z"
   },
   {
    "duration": 28,
    "start_time": "2022-09-04T18:10:25.842Z"
   },
   {
    "duration": 26,
    "start_time": "2022-09-04T18:11:21.047Z"
   },
   {
    "duration": 35,
    "start_time": "2022-09-04T18:11:21.993Z"
   },
   {
    "duration": 63,
    "start_time": "2022-09-04T18:11:34.185Z"
   },
   {
    "duration": 32,
    "start_time": "2022-09-04T18:11:48.378Z"
   },
   {
    "duration": 59,
    "start_time": "2022-09-04T18:11:53.123Z"
   },
   {
    "duration": 26,
    "start_time": "2022-09-04T18:11:57.217Z"
   },
   {
    "duration": 31,
    "start_time": "2022-09-04T18:11:58.180Z"
   },
   {
    "duration": 179,
    "start_time": "2022-09-04T18:16:49.912Z"
   },
   {
    "duration": 161,
    "start_time": "2022-09-04T18:16:57.713Z"
   },
   {
    "duration": 495,
    "start_time": "2022-09-04T18:17:52.488Z"
   },
   {
    "duration": 191,
    "start_time": "2022-09-04T18:18:45.293Z"
   },
   {
    "duration": 262,
    "start_time": "2022-09-04T18:19:43.365Z"
   },
   {
    "duration": 260,
    "start_time": "2022-09-04T18:19:50.187Z"
   },
   {
    "duration": 4,
    "start_time": "2022-09-04T18:29:47.434Z"
   },
   {
    "duration": 1733,
    "start_time": "2022-09-04T18:29:55.086Z"
   },
   {
    "duration": 2119,
    "start_time": "2022-09-04T18:30:33.309Z"
   },
   {
    "duration": 2059,
    "start_time": "2022-09-04T18:30:47.611Z"
   },
   {
    "duration": 539,
    "start_time": "2022-09-04T18:31:01.417Z"
   },
   {
    "duration": 262,
    "start_time": "2022-09-04T18:31:22.074Z"
   },
   {
    "duration": 229,
    "start_time": "2022-09-04T18:32:06.286Z"
   },
   {
    "duration": 233,
    "start_time": "2022-09-04T18:33:50.185Z"
   },
   {
    "duration": 210,
    "start_time": "2022-09-04T18:34:05.290Z"
   },
   {
    "duration": 222,
    "start_time": "2022-09-04T18:34:15.482Z"
   },
   {
    "duration": 212,
    "start_time": "2022-09-04T18:34:22.229Z"
   },
   {
    "duration": 563,
    "start_time": "2022-09-05T12:34:35.485Z"
   },
   {
    "duration": 14,
    "start_time": "2022-09-05T12:34:36.050Z"
   },
   {
    "duration": 2447,
    "start_time": "2022-09-05T12:34:36.066Z"
   },
   {
    "duration": 10,
    "start_time": "2022-09-05T12:34:38.515Z"
   },
   {
    "duration": 13,
    "start_time": "2022-09-05T12:34:38.527Z"
   },
   {
    "duration": 8,
    "start_time": "2022-09-05T12:34:38.542Z"
   },
   {
    "duration": 21,
    "start_time": "2022-09-05T12:34:38.551Z"
   },
   {
    "duration": 14,
    "start_time": "2022-09-05T12:34:38.574Z"
   },
   {
    "duration": 24,
    "start_time": "2022-09-05T12:34:38.589Z"
   },
   {
    "duration": 21,
    "start_time": "2022-09-05T12:34:38.616Z"
   },
   {
    "duration": 46,
    "start_time": "2022-09-05T12:34:38.639Z"
   },
   {
    "duration": 5,
    "start_time": "2022-09-05T12:34:38.687Z"
   },
   {
    "duration": 22,
    "start_time": "2022-09-05T12:34:38.694Z"
   },
   {
    "duration": 10,
    "start_time": "2022-09-05T12:34:38.717Z"
   },
   {
    "duration": 5,
    "start_time": "2022-09-05T12:34:38.728Z"
   },
   {
    "duration": 36,
    "start_time": "2022-09-05T12:34:38.735Z"
   },
   {
    "duration": 10,
    "start_time": "2022-09-05T12:34:38.773Z"
   },
   {
    "duration": 20,
    "start_time": "2022-09-05T12:34:38.785Z"
   },
   {
    "duration": 10,
    "start_time": "2022-09-05T12:34:38.807Z"
   },
   {
    "duration": 5,
    "start_time": "2022-09-05T12:34:38.818Z"
   },
   {
    "duration": 11,
    "start_time": "2022-09-05T12:34:38.825Z"
   },
   {
    "duration": 227,
    "start_time": "2022-09-05T12:34:38.869Z"
   },
   {
    "duration": 10,
    "start_time": "2022-09-05T12:34:39.098Z"
   },
   {
    "duration": 26,
    "start_time": "2022-09-05T12:34:39.110Z"
   },
   {
    "duration": 34,
    "start_time": "2022-09-05T12:34:39.138Z"
   },
   {
    "duration": 46,
    "start_time": "2022-09-05T12:34:39.173Z"
   },
   {
    "duration": 12,
    "start_time": "2022-09-05T12:34:39.220Z"
   },
   {
    "duration": 27,
    "start_time": "2022-09-05T12:34:39.236Z"
   },
   {
    "duration": 20,
    "start_time": "2022-09-05T12:34:39.264Z"
   },
   {
    "duration": 11,
    "start_time": "2022-09-05T12:34:39.286Z"
   },
   {
    "duration": 8,
    "start_time": "2022-09-05T12:34:39.299Z"
   },
   {
    "duration": 33,
    "start_time": "2022-09-05T12:34:39.308Z"
   },
   {
    "duration": 20,
    "start_time": "2022-09-05T12:34:39.343Z"
   },
   {
    "duration": 420,
    "start_time": "2022-09-05T12:34:39.365Z"
   },
   {
    "duration": 6,
    "start_time": "2022-09-05T12:34:39.787Z"
   },
   {
    "duration": 10,
    "start_time": "2022-09-05T12:34:39.795Z"
   },
   {
    "duration": 285,
    "start_time": "2022-09-05T12:34:39.807Z"
   },
   {
    "duration": 376,
    "start_time": "2022-09-05T12:34:40.094Z"
   },
   {
    "duration": 229,
    "start_time": "2022-09-05T12:34:40.472Z"
   },
   {
    "duration": 228,
    "start_time": "2022-09-05T12:34:40.703Z"
   },
   {
    "duration": 296,
    "start_time": "2022-09-05T12:34:40.933Z"
   },
   {
    "duration": 310,
    "start_time": "2022-09-05T12:34:41.231Z"
   },
   {
    "duration": 391,
    "start_time": "2022-09-05T12:34:41.543Z"
   },
   {
    "duration": 148,
    "start_time": "2022-09-05T12:34:41.936Z"
   },
   {
    "duration": 235,
    "start_time": "2022-09-05T12:34:42.086Z"
   },
   {
    "duration": 206,
    "start_time": "2022-09-05T12:34:42.323Z"
   },
   {
    "duration": 284,
    "start_time": "2022-09-05T12:34:42.530Z"
   },
   {
    "duration": 256,
    "start_time": "2022-09-05T12:34:42.816Z"
   },
   {
    "duration": 254,
    "start_time": "2022-09-05T12:34:43.074Z"
   },
   {
    "duration": 382,
    "start_time": "2022-09-05T12:34:43.330Z"
   },
   {
    "duration": 259,
    "start_time": "2022-09-05T12:34:43.714Z"
   },
   {
    "duration": 252,
    "start_time": "2022-09-05T12:34:43.975Z"
   },
   {
    "duration": 5,
    "start_time": "2022-09-05T12:34:44.228Z"
   },
   {
    "duration": 267,
    "start_time": "2022-09-05T12:34:44.234Z"
   },
   {
    "duration": 6,
    "start_time": "2022-09-05T12:34:44.502Z"
   },
   {
    "duration": 174,
    "start_time": "2022-09-05T12:34:44.509Z"
   },
   {
    "duration": 17,
    "start_time": "2022-09-05T12:34:44.684Z"
   },
   {
    "duration": 150,
    "start_time": "2022-09-05T12:34:44.702Z"
   },
   {
    "duration": 143,
    "start_time": "2022-09-05T12:34:44.854Z"
   },
   {
    "duration": 7,
    "start_time": "2022-09-05T12:34:44.999Z"
   },
   {
    "duration": 168,
    "start_time": "2022-09-05T12:34:45.008Z"
   },
   {
    "duration": 150,
    "start_time": "2022-09-05T12:34:45.177Z"
   },
   {
    "duration": 157,
    "start_time": "2022-09-05T12:34:45.328Z"
   },
   {
    "duration": 155,
    "start_time": "2022-09-05T12:34:45.486Z"
   },
   {
    "duration": 180,
    "start_time": "2022-09-05T12:34:45.643Z"
   },
   {
    "duration": 185,
    "start_time": "2022-09-05T12:34:45.825Z"
   },
   {
    "duration": 152,
    "start_time": "2022-09-05T12:34:46.012Z"
   },
   {
    "duration": 278,
    "start_time": "2022-09-05T12:34:46.168Z"
   },
   {
    "duration": 169,
    "start_time": "2022-09-05T12:34:46.447Z"
   },
   {
    "duration": 185,
    "start_time": "2022-09-05T12:34:46.618Z"
   },
   {
    "duration": 164,
    "start_time": "2022-09-05T12:34:46.805Z"
   },
   {
    "duration": 151,
    "start_time": "2022-09-05T12:34:46.971Z"
   },
   {
    "duration": 145,
    "start_time": "2022-09-05T12:34:47.124Z"
   },
   {
    "duration": 24,
    "start_time": "2022-09-05T12:34:47.271Z"
   },
   {
    "duration": 148,
    "start_time": "2022-09-05T12:34:47.296Z"
   },
   {
    "duration": 109,
    "start_time": "2022-09-05T12:36:49.723Z"
   },
   {
    "duration": 32,
    "start_time": "2022-09-05T12:39:00.067Z"
   },
   {
    "duration": 13,
    "start_time": "2022-09-05T12:39:01.487Z"
   },
   {
    "duration": 8,
    "start_time": "2022-09-05T12:39:14.218Z"
   },
   {
    "duration": 7,
    "start_time": "2022-09-05T12:39:16.130Z"
   },
   {
    "duration": 8,
    "start_time": "2022-09-05T12:39:23.320Z"
   },
   {
    "duration": 7,
    "start_time": "2022-09-05T12:39:24.180Z"
   },
   {
    "duration": 8,
    "start_time": "2022-09-05T12:39:36.067Z"
   },
   {
    "duration": 115,
    "start_time": "2022-09-05T12:39:42.497Z"
   },
   {
    "duration": 15,
    "start_time": "2022-09-05T12:39:42.614Z"
   },
   {
    "duration": 2006,
    "start_time": "2022-09-05T12:39:42.631Z"
   },
   {
    "duration": 9,
    "start_time": "2022-09-05T12:39:44.639Z"
   },
   {
    "duration": 23,
    "start_time": "2022-09-05T12:39:44.650Z"
   },
   {
    "duration": 11,
    "start_time": "2022-09-05T12:39:44.675Z"
   },
   {
    "duration": 14,
    "start_time": "2022-09-05T12:39:44.687Z"
   },
   {
    "duration": 10,
    "start_time": "2022-09-05T12:39:44.702Z"
   },
   {
    "duration": 21,
    "start_time": "2022-09-05T12:39:44.714Z"
   },
   {
    "duration": 49,
    "start_time": "2022-09-05T12:39:44.737Z"
   },
   {
    "duration": 21,
    "start_time": "2022-09-05T12:39:44.788Z"
   },
   {
    "duration": 5,
    "start_time": "2022-09-05T12:39:44.810Z"
   },
   {
    "duration": 186,
    "start_time": "2022-09-05T12:39:44.817Z"
   },
   {
    "duration": 17,
    "start_time": "2022-09-05T12:39:45.006Z"
   },
   {
    "duration": 5,
    "start_time": "2022-09-05T12:39:45.024Z"
   },
   {
    "duration": 10,
    "start_time": "2022-09-05T12:39:45.031Z"
   },
   {
    "duration": 28,
    "start_time": "2022-09-05T12:39:45.042Z"
   },
   {
    "duration": 21,
    "start_time": "2022-09-05T12:39:45.072Z"
   },
   {
    "duration": 10,
    "start_time": "2022-09-05T12:39:45.094Z"
   },
   {
    "duration": 5,
    "start_time": "2022-09-05T12:39:45.105Z"
   },
   {
    "duration": 11,
    "start_time": "2022-09-05T12:39:45.112Z"
   },
   {
    "duration": 223,
    "start_time": "2022-09-05T12:39:45.124Z"
   },
   {
    "duration": 20,
    "start_time": "2022-09-05T12:39:45.349Z"
   },
   {
    "duration": 15,
    "start_time": "2022-09-05T12:39:45.370Z"
   },
   {
    "duration": 16,
    "start_time": "2022-09-05T12:39:45.387Z"
   },
   {
    "duration": 29,
    "start_time": "2022-09-05T12:39:45.404Z"
   },
   {
    "duration": 34,
    "start_time": "2022-09-05T12:39:45.435Z"
   },
   {
    "duration": 10,
    "start_time": "2022-09-05T12:39:45.471Z"
   },
   {
    "duration": 17,
    "start_time": "2022-09-05T12:39:45.483Z"
   },
   {
    "duration": 5,
    "start_time": "2022-09-05T12:39:45.502Z"
   },
   {
    "duration": 6,
    "start_time": "2022-09-05T12:39:45.509Z"
   },
   {
    "duration": 17,
    "start_time": "2022-09-05T12:39:45.517Z"
   },
   {
    "duration": 4,
    "start_time": "2022-09-05T12:39:45.568Z"
   },
   {
    "duration": 410,
    "start_time": "2022-09-05T12:39:45.574Z"
   },
   {
    "duration": 5,
    "start_time": "2022-09-05T12:39:45.986Z"
   },
   {
    "duration": 10,
    "start_time": "2022-09-05T12:39:45.993Z"
   },
   {
    "duration": 212,
    "start_time": "2022-09-05T12:39:46.005Z"
   },
   {
    "duration": 313,
    "start_time": "2022-09-05T12:39:46.219Z"
   },
   {
    "duration": 319,
    "start_time": "2022-09-05T12:39:46.535Z"
   },
   {
    "duration": 220,
    "start_time": "2022-09-05T12:39:46.856Z"
   },
   {
    "duration": 293,
    "start_time": "2022-09-05T12:39:47.081Z"
   },
   {
    "duration": 298,
    "start_time": "2022-09-05T12:39:47.375Z"
   },
   {
    "duration": 288,
    "start_time": "2022-09-05T12:39:47.675Z"
   },
   {
    "duration": 138,
    "start_time": "2022-09-05T12:39:47.967Z"
   },
   {
    "duration": 223,
    "start_time": "2022-09-05T12:39:48.107Z"
   },
   {
    "duration": 366,
    "start_time": "2022-09-05T12:39:48.331Z"
   },
   {
    "duration": 251,
    "start_time": "2022-09-05T12:39:48.699Z"
   },
   {
    "duration": 257,
    "start_time": "2022-09-05T12:39:48.952Z"
   },
   {
    "duration": 237,
    "start_time": "2022-09-05T12:39:49.210Z"
   },
   {
    "duration": 279,
    "start_time": "2022-09-05T12:39:49.449Z"
   },
   {
    "duration": 246,
    "start_time": "2022-09-05T12:39:49.729Z"
   },
   {
    "duration": 250,
    "start_time": "2022-09-05T12:39:49.977Z"
   },
   {
    "duration": 4,
    "start_time": "2022-09-05T12:39:50.228Z"
   },
   {
    "duration": 246,
    "start_time": "2022-09-05T12:39:50.234Z"
   },
   {
    "duration": 5,
    "start_time": "2022-09-05T12:39:50.482Z"
   },
   {
    "duration": 157,
    "start_time": "2022-09-05T12:39:50.489Z"
   },
   {
    "duration": 23,
    "start_time": "2022-09-05T12:39:50.649Z"
   },
   {
    "duration": 140,
    "start_time": "2022-09-05T12:39:50.674Z"
   },
   {
    "duration": 138,
    "start_time": "2022-09-05T12:39:50.815Z"
   },
   {
    "duration": 14,
    "start_time": "2022-09-05T12:39:50.955Z"
   },
   {
    "duration": 150,
    "start_time": "2022-09-05T12:39:50.971Z"
   },
   {
    "duration": 155,
    "start_time": "2022-09-05T12:39:51.123Z"
   },
   {
    "duration": 158,
    "start_time": "2022-09-05T12:39:51.279Z"
   },
   {
    "duration": 163,
    "start_time": "2022-09-05T12:39:51.438Z"
   },
   {
    "duration": 158,
    "start_time": "2022-09-05T12:39:51.603Z"
   },
   {
    "duration": 161,
    "start_time": "2022-09-05T12:39:51.763Z"
   },
   {
    "duration": 143,
    "start_time": "2022-09-05T12:39:51.926Z"
   },
   {
    "duration": 382,
    "start_time": "2022-09-05T12:39:52.070Z"
   },
   {
    "duration": 145,
    "start_time": "2022-09-05T12:39:52.453Z"
   },
   {
    "duration": 136,
    "start_time": "2022-09-05T12:39:52.599Z"
   },
   {
    "duration": 155,
    "start_time": "2022-09-05T12:39:52.736Z"
   },
   {
    "duration": 159,
    "start_time": "2022-09-05T12:39:52.892Z"
   },
   {
    "duration": 152,
    "start_time": "2022-09-05T12:39:53.053Z"
   },
   {
    "duration": 36,
    "start_time": "2022-09-05T12:39:53.207Z"
   },
   {
    "duration": 143,
    "start_time": "2022-09-05T12:39:53.245Z"
   },
   {
    "duration": 122,
    "start_time": "2022-09-05T12:43:05.524Z"
   },
   {
    "duration": 32,
    "start_time": "2022-09-05T12:43:05.648Z"
   },
   {
    "duration": 2146,
    "start_time": "2022-09-05T12:43:05.682Z"
   },
   {
    "duration": 13,
    "start_time": "2022-09-05T12:43:07.831Z"
   },
   {
    "duration": 26,
    "start_time": "2022-09-05T12:43:07.847Z"
   },
   {
    "duration": 13,
    "start_time": "2022-09-05T12:43:07.876Z"
   },
   {
    "duration": 14,
    "start_time": "2022-09-05T12:43:07.890Z"
   },
   {
    "duration": 12,
    "start_time": "2022-09-05T12:43:07.905Z"
   },
   {
    "duration": 54,
    "start_time": "2022-09-05T12:43:07.919Z"
   },
   {
    "duration": 24,
    "start_time": "2022-09-05T12:43:07.975Z"
   },
   {
    "duration": 21,
    "start_time": "2022-09-05T12:43:08.001Z"
   },
   {
    "duration": 5,
    "start_time": "2022-09-05T12:43:08.023Z"
   },
   {
    "duration": 59,
    "start_time": "2022-09-05T12:43:08.030Z"
   },
   {
    "duration": 9,
    "start_time": "2022-09-05T12:43:08.093Z"
   },
   {
    "duration": 4,
    "start_time": "2022-09-05T12:43:08.104Z"
   },
   {
    "duration": 5,
    "start_time": "2022-09-05T12:43:08.110Z"
   },
   {
    "duration": 10,
    "start_time": "2022-09-05T12:43:08.117Z"
   },
   {
    "duration": 57,
    "start_time": "2022-09-05T12:43:08.129Z"
   },
   {
    "duration": 11,
    "start_time": "2022-09-05T12:43:08.188Z"
   },
   {
    "duration": 7,
    "start_time": "2022-09-05T12:43:08.201Z"
   },
   {
    "duration": 17,
    "start_time": "2022-09-05T12:43:08.210Z"
   },
   {
    "duration": 236,
    "start_time": "2022-09-05T12:43:08.229Z"
   },
   {
    "duration": 9,
    "start_time": "2022-09-05T12:43:08.467Z"
   },
   {
    "duration": 16,
    "start_time": "2022-09-05T12:43:08.478Z"
   },
   {
    "duration": 20,
    "start_time": "2022-09-05T12:43:08.495Z"
   },
   {
    "duration": 59,
    "start_time": "2022-09-05T12:43:08.516Z"
   },
   {
    "duration": 11,
    "start_time": "2022-09-05T12:43:08.576Z"
   },
   {
    "duration": 9,
    "start_time": "2022-09-05T12:43:08.588Z"
   },
   {
    "duration": 12,
    "start_time": "2022-09-05T12:43:08.598Z"
   },
   {
    "duration": 6,
    "start_time": "2022-09-05T12:43:08.611Z"
   },
   {
    "duration": 4,
    "start_time": "2022-09-05T12:43:08.618Z"
   },
   {
    "duration": 45,
    "start_time": "2022-09-05T12:43:08.623Z"
   },
   {
    "duration": 4,
    "start_time": "2022-09-05T12:43:08.670Z"
   },
   {
    "duration": 384,
    "start_time": "2022-09-05T12:43:08.675Z"
   },
   {
    "duration": 7,
    "start_time": "2022-09-05T12:43:09.061Z"
   },
   {
    "duration": 12,
    "start_time": "2022-09-05T12:43:09.069Z"
   },
   {
    "duration": 199,
    "start_time": "2022-09-05T12:43:09.083Z"
   },
   {
    "duration": 270,
    "start_time": "2022-09-05T12:43:09.284Z"
   },
   {
    "duration": 268,
    "start_time": "2022-09-05T12:43:09.556Z"
   },
   {
    "duration": 211,
    "start_time": "2022-09-05T12:43:09.825Z"
   },
   {
    "duration": 588,
    "start_time": "2022-09-05T12:43:10.040Z"
   },
   {
    "duration": 298,
    "start_time": "2022-09-05T12:43:10.629Z"
   },
   {
    "duration": 289,
    "start_time": "2022-09-05T12:43:10.930Z"
   },
   {
    "duration": 147,
    "start_time": "2022-09-05T12:43:11.220Z"
   },
   {
    "duration": 245,
    "start_time": "2022-09-05T12:43:11.369Z"
   },
   {
    "duration": 214,
    "start_time": "2022-09-05T12:43:11.616Z"
   },
   {
    "duration": 273,
    "start_time": "2022-09-05T12:43:11.831Z"
   },
   {
    "duration": 282,
    "start_time": "2022-09-05T12:43:12.106Z"
   },
   {
    "duration": 289,
    "start_time": "2022-09-05T12:43:12.390Z"
   },
   {
    "duration": 268,
    "start_time": "2022-09-05T12:43:12.681Z"
   },
   {
    "duration": 293,
    "start_time": "2022-09-05T12:43:12.951Z"
   },
   {
    "duration": 282,
    "start_time": "2022-09-05T12:43:13.246Z"
   },
   {
    "duration": 5,
    "start_time": "2022-09-05T12:43:13.529Z"
   },
   {
    "duration": 281,
    "start_time": "2022-09-05T12:43:13.536Z"
   },
   {
    "duration": 6,
    "start_time": "2022-09-05T12:43:13.819Z"
   },
   {
    "duration": 174,
    "start_time": "2022-09-05T12:43:13.827Z"
   },
   {
    "duration": 18,
    "start_time": "2022-09-05T12:43:14.003Z"
   },
   {
    "duration": 164,
    "start_time": "2022-09-05T12:43:14.023Z"
   },
   {
    "duration": 148,
    "start_time": "2022-09-05T12:43:14.188Z"
   },
   {
    "duration": 7,
    "start_time": "2022-09-05T12:43:14.338Z"
   },
   {
    "duration": 187,
    "start_time": "2022-09-05T12:43:14.347Z"
   },
   {
    "duration": 166,
    "start_time": "2022-09-05T12:43:14.536Z"
   },
   {
    "duration": 170,
    "start_time": "2022-09-05T12:43:14.704Z"
   },
   {
    "duration": 168,
    "start_time": "2022-09-05T12:43:14.876Z"
   },
   {
    "duration": 192,
    "start_time": "2022-09-05T12:43:15.046Z"
   },
   {
    "duration": 184,
    "start_time": "2022-09-05T12:43:15.239Z"
   },
   {
    "duration": 175,
    "start_time": "2022-09-05T12:43:15.425Z"
   },
   {
    "duration": 178,
    "start_time": "2022-09-05T12:43:15.601Z"
   },
   {
    "duration": 161,
    "start_time": "2022-09-05T12:43:15.781Z"
   },
   {
    "duration": 497,
    "start_time": "2022-09-05T12:43:15.943Z"
   },
   {
    "duration": 216,
    "start_time": "2022-09-05T12:43:16.442Z"
   },
   {
    "duration": 238,
    "start_time": "2022-09-05T12:43:16.667Z"
   },
   {
    "duration": 172,
    "start_time": "2022-09-05T12:43:16.907Z"
   },
   {
    "duration": 28,
    "start_time": "2022-09-05T12:43:17.082Z"
   },
   {
    "duration": 181,
    "start_time": "2022-09-05T12:43:17.113Z"
   },
   {
    "duration": 29,
    "start_time": "2022-09-05T12:44:19.637Z"
   },
   {
    "duration": 23,
    "start_time": "2022-09-05T12:44:24.811Z"
   },
   {
    "duration": 111,
    "start_time": "2022-09-05T12:44:28.987Z"
   },
   {
    "duration": 14,
    "start_time": "2022-09-05T12:44:29.100Z"
   },
   {
    "duration": 1969,
    "start_time": "2022-09-05T12:44:29.115Z"
   },
   {
    "duration": 12,
    "start_time": "2022-09-05T12:44:31.087Z"
   },
   {
    "duration": 14,
    "start_time": "2022-09-05T12:44:31.102Z"
   },
   {
    "duration": 14,
    "start_time": "2022-09-05T12:44:31.118Z"
   },
   {
    "duration": 46,
    "start_time": "2022-09-05T12:44:31.134Z"
   },
   {
    "duration": 26,
    "start_time": "2022-09-05T12:44:31.182Z"
   },
   {
    "duration": 24,
    "start_time": "2022-09-05T12:44:31.210Z"
   },
   {
    "duration": 40,
    "start_time": "2022-09-05T12:44:31.236Z"
   },
   {
    "duration": 20,
    "start_time": "2022-09-05T12:44:31.278Z"
   },
   {
    "duration": 5,
    "start_time": "2022-09-05T12:44:31.300Z"
   },
   {
    "duration": 19,
    "start_time": "2022-09-05T12:44:31.307Z"
   },
   {
    "duration": 42,
    "start_time": "2022-09-05T12:44:31.329Z"
   },
   {
    "duration": 5,
    "start_time": "2022-09-05T12:44:31.372Z"
   },
   {
    "duration": 23,
    "start_time": "2022-09-05T12:44:31.379Z"
   },
   {
    "duration": 15,
    "start_time": "2022-09-05T12:44:31.404Z"
   },
   {
    "duration": 28,
    "start_time": "2022-09-05T12:44:31.421Z"
   },
   {
    "duration": 17,
    "start_time": "2022-09-05T12:44:31.451Z"
   },
   {
    "duration": 5,
    "start_time": "2022-09-05T12:44:31.470Z"
   },
   {
    "duration": 32,
    "start_time": "2022-09-05T12:44:31.476Z"
   },
   {
    "duration": 211,
    "start_time": "2022-09-05T12:44:31.511Z"
   },
   {
    "duration": 10,
    "start_time": "2022-09-05T12:44:31.723Z"
   },
   {
    "duration": 34,
    "start_time": "2022-09-05T12:44:31.734Z"
   },
   {
    "duration": 15,
    "start_time": "2022-09-05T12:44:31.770Z"
   },
   {
    "duration": 29,
    "start_time": "2022-09-05T12:44:31.787Z"
   },
   {
    "duration": 10,
    "start_time": "2022-09-05T12:44:31.818Z"
   },
   {
    "duration": 43,
    "start_time": "2022-09-05T12:44:31.829Z"
   },
   {
    "duration": 21,
    "start_time": "2022-09-05T12:44:31.874Z"
   },
   {
    "duration": 4,
    "start_time": "2022-09-05T12:44:31.897Z"
   },
   {
    "duration": 15,
    "start_time": "2022-09-05T12:44:31.903Z"
   },
   {
    "duration": 28,
    "start_time": "2022-09-05T12:44:31.920Z"
   },
   {
    "duration": 4,
    "start_time": "2022-09-05T12:44:31.949Z"
   },
   {
    "duration": 367,
    "start_time": "2022-09-05T12:44:31.954Z"
   },
   {
    "duration": 4,
    "start_time": "2022-09-05T12:44:32.323Z"
   },
   {
    "duration": 12,
    "start_time": "2022-09-05T12:44:32.328Z"
   },
   {
    "duration": 192,
    "start_time": "2022-09-05T12:44:32.342Z"
   },
   {
    "duration": 283,
    "start_time": "2022-09-05T12:44:32.536Z"
   },
   {
    "duration": 237,
    "start_time": "2022-09-05T12:44:32.821Z"
   },
   {
    "duration": 215,
    "start_time": "2022-09-05T12:44:33.060Z"
   },
   {
    "duration": 295,
    "start_time": "2022-09-05T12:44:33.281Z"
   },
   {
    "duration": 266,
    "start_time": "2022-09-05T12:44:33.578Z"
   },
   {
    "duration": 262,
    "start_time": "2022-09-05T12:44:33.845Z"
   },
   {
    "duration": 125,
    "start_time": "2022-09-05T12:44:34.109Z"
   },
   {
    "duration": 204,
    "start_time": "2022-09-05T12:44:34.236Z"
   },
   {
    "duration": 190,
    "start_time": "2022-09-05T12:44:34.442Z"
   },
   {
    "duration": 247,
    "start_time": "2022-09-05T12:44:34.634Z"
   },
   {
    "duration": 634,
    "start_time": "2022-09-05T12:44:34.883Z"
   },
   {
    "duration": 245,
    "start_time": "2022-09-05T12:44:35.519Z"
   },
   {
    "duration": 258,
    "start_time": "2022-09-05T12:44:35.767Z"
   },
   {
    "duration": 256,
    "start_time": "2022-09-05T12:44:36.027Z"
   },
   {
    "duration": 282,
    "start_time": "2022-09-05T12:44:36.285Z"
   },
   {
    "duration": 5,
    "start_time": "2022-09-05T12:44:36.569Z"
   },
   {
    "duration": 293,
    "start_time": "2022-09-05T12:44:36.576Z"
   },
   {
    "duration": 4,
    "start_time": "2022-09-05T12:44:36.871Z"
   },
   {
    "duration": 155,
    "start_time": "2022-09-05T12:44:36.877Z"
   },
   {
    "duration": 17,
    "start_time": "2022-09-05T12:44:37.034Z"
   },
   {
    "duration": 152,
    "start_time": "2022-09-05T12:44:37.052Z"
   },
   {
    "duration": 131,
    "start_time": "2022-09-05T12:44:37.206Z"
   },
   {
    "duration": 6,
    "start_time": "2022-09-05T12:44:37.339Z"
   },
   {
    "duration": 156,
    "start_time": "2022-09-05T12:44:37.347Z"
   },
   {
    "duration": 149,
    "start_time": "2022-09-05T12:44:37.505Z"
   },
   {
    "duration": 154,
    "start_time": "2022-09-05T12:44:37.656Z"
   },
   {
    "duration": 134,
    "start_time": "2022-09-05T12:44:37.812Z"
   },
   {
    "duration": 164,
    "start_time": "2022-09-05T12:44:37.948Z"
   },
   {
    "duration": 168,
    "start_time": "2022-09-05T12:44:38.113Z"
   },
   {
    "duration": 148,
    "start_time": "2022-09-05T12:44:38.283Z"
   },
   {
    "duration": 161,
    "start_time": "2022-09-05T12:44:38.433Z"
   },
   {
    "duration": 152,
    "start_time": "2022-09-05T12:44:38.595Z"
   },
   {
    "duration": 145,
    "start_time": "2022-09-05T12:44:38.749Z"
   },
   {
    "duration": 161,
    "start_time": "2022-09-05T12:44:38.895Z"
   },
   {
    "duration": 161,
    "start_time": "2022-09-05T12:44:39.058Z"
   },
   {
    "duration": 152,
    "start_time": "2022-09-05T12:44:39.221Z"
   },
   {
    "duration": 30,
    "start_time": "2022-09-05T12:44:39.376Z"
   },
   {
    "duration": 160,
    "start_time": "2022-09-05T12:44:39.408Z"
   },
   {
    "duration": 28,
    "start_time": "2022-09-05T12:46:19.520Z"
   },
   {
    "duration": 24,
    "start_time": "2022-09-05T12:46:27.316Z"
   },
   {
    "duration": 20,
    "start_time": "2022-09-05T13:48:21.823Z"
   },
   {
    "duration": 22,
    "start_time": "2022-09-05T13:50:09.161Z"
   },
   {
    "duration": 6,
    "start_time": "2022-09-05T13:50:27.198Z"
   },
   {
    "duration": 222,
    "start_time": "2022-09-05T13:51:16.636Z"
   },
   {
    "duration": 129,
    "start_time": "2022-09-05T13:51:48.484Z"
   },
   {
    "duration": 16,
    "start_time": "2022-09-05T13:52:10.627Z"
   },
   {
    "duration": 141,
    "start_time": "2022-09-05T13:53:04.736Z"
   },
   {
    "duration": 7,
    "start_time": "2022-09-05T13:53:18.035Z"
   },
   {
    "duration": 150,
    "start_time": "2022-09-05T13:55:34.101Z"
   },
   {
    "duration": 165,
    "start_time": "2022-09-05T13:55:38.279Z"
   },
   {
    "duration": 138,
    "start_time": "2022-09-05T13:55:54.841Z"
   },
   {
    "duration": 146,
    "start_time": "2022-09-05T13:56:20.888Z"
   },
   {
    "duration": 31,
    "start_time": "2022-09-05T14:18:00.047Z"
   },
   {
    "duration": 284,
    "start_time": "2022-09-05T14:18:38.276Z"
   },
   {
    "duration": 292,
    "start_time": "2022-09-05T14:18:45.378Z"
   },
   {
    "duration": 168,
    "start_time": "2022-09-05T14:19:08.649Z"
   },
   {
    "duration": 1734,
    "start_time": "2022-09-05T14:21:04.550Z"
   },
   {
    "duration": 1520,
    "start_time": "2022-09-05T14:21:32.252Z"
   },
   {
    "duration": 189,
    "start_time": "2022-09-05T14:21:49.881Z"
   },
   {
    "duration": 274,
    "start_time": "2022-09-05T14:22:55.036Z"
   },
   {
    "duration": 183,
    "start_time": "2022-09-05T14:23:17.755Z"
   },
   {
    "duration": 164,
    "start_time": "2022-09-05T14:23:28.820Z"
   },
   {
    "duration": 182,
    "start_time": "2022-09-05T14:23:51.417Z"
   },
   {
    "duration": 160,
    "start_time": "2022-09-05T14:24:57.788Z"
   },
   {
    "duration": 2613,
    "start_time": "2022-09-05T14:38:57.787Z"
   },
   {
    "duration": 486,
    "start_time": "2022-09-05T15:01:57.802Z"
   },
   {
    "duration": 12,
    "start_time": "2022-09-05T15:01:58.291Z"
   },
   {
    "duration": 2097,
    "start_time": "2022-09-05T15:01:58.305Z"
   },
   {
    "duration": 9,
    "start_time": "2022-09-05T15:02:00.403Z"
   },
   {
    "duration": 17,
    "start_time": "2022-09-05T15:02:00.414Z"
   },
   {
    "duration": 34,
    "start_time": "2022-09-05T15:02:00.433Z"
   },
   {
    "duration": 26,
    "start_time": "2022-09-05T15:02:00.469Z"
   },
   {
    "duration": 14,
    "start_time": "2022-09-05T15:02:00.496Z"
   },
   {
    "duration": 21,
    "start_time": "2022-09-05T15:02:00.512Z"
   },
   {
    "duration": 15,
    "start_time": "2022-09-05T15:02:00.536Z"
   },
   {
    "duration": 17,
    "start_time": "2022-09-05T15:02:00.557Z"
   },
   {
    "duration": 15,
    "start_time": "2022-09-05T15:02:00.576Z"
   },
   {
    "duration": 19,
    "start_time": "2022-09-05T15:02:00.592Z"
   },
   {
    "duration": 15,
    "start_time": "2022-09-05T15:02:00.612Z"
   },
   {
    "duration": 29,
    "start_time": "2022-09-05T15:02:00.629Z"
   },
   {
    "duration": 30,
    "start_time": "2022-09-05T15:02:00.660Z"
   },
   {
    "duration": 18,
    "start_time": "2022-09-05T15:02:00.692Z"
   },
   {
    "duration": 34,
    "start_time": "2022-09-05T15:02:00.711Z"
   },
   {
    "duration": 30,
    "start_time": "2022-09-05T15:02:00.747Z"
   },
   {
    "duration": 182,
    "start_time": "2022-09-05T15:02:00.779Z"
   },
   {
    "duration": 9,
    "start_time": "2022-09-05T15:02:00.962Z"
   },
   {
    "duration": 34,
    "start_time": "2022-09-05T15:02:00.973Z"
   },
   {
    "duration": 74,
    "start_time": "2022-09-05T15:02:01.008Z"
   },
   {
    "duration": 39,
    "start_time": "2022-09-05T15:02:01.083Z"
   },
   {
    "duration": 21,
    "start_time": "2022-09-05T15:02:01.123Z"
   },
   {
    "duration": 32,
    "start_time": "2022-09-05T15:02:01.146Z"
   },
   {
    "duration": 125,
    "start_time": "2022-09-05T15:02:01.180Z"
   },
   {
    "duration": 18,
    "start_time": "2022-09-05T15:02:01.308Z"
   },
   {
    "duration": 19,
    "start_time": "2022-09-05T15:02:01.327Z"
   },
   {
    "duration": 96,
    "start_time": "2022-09-05T15:02:01.348Z"
   },
   {
    "duration": 0,
    "start_time": "2022-09-05T15:02:01.446Z"
   },
   {
    "duration": 0,
    "start_time": "2022-09-05T15:02:01.447Z"
   },
   {
    "duration": 0,
    "start_time": "2022-09-05T15:02:01.449Z"
   },
   {
    "duration": 0,
    "start_time": "2022-09-05T15:02:01.450Z"
   },
   {
    "duration": 0,
    "start_time": "2022-09-05T15:02:01.451Z"
   },
   {
    "duration": 0,
    "start_time": "2022-09-05T15:02:01.452Z"
   },
   {
    "duration": 0,
    "start_time": "2022-09-05T15:02:01.453Z"
   },
   {
    "duration": 0,
    "start_time": "2022-09-05T15:02:01.454Z"
   },
   {
    "duration": 0,
    "start_time": "2022-09-05T15:02:01.457Z"
   },
   {
    "duration": 0,
    "start_time": "2022-09-05T15:02:01.458Z"
   },
   {
    "duration": 0,
    "start_time": "2022-09-05T15:02:01.459Z"
   },
   {
    "duration": 0,
    "start_time": "2022-09-05T15:02:01.461Z"
   },
   {
    "duration": 0,
    "start_time": "2022-09-05T15:02:01.462Z"
   },
   {
    "duration": 0,
    "start_time": "2022-09-05T15:02:01.462Z"
   },
   {
    "duration": 0,
    "start_time": "2022-09-05T15:02:01.464Z"
   },
   {
    "duration": 0,
    "start_time": "2022-09-05T15:02:01.465Z"
   },
   {
    "duration": 0,
    "start_time": "2022-09-05T15:02:01.466Z"
   },
   {
    "duration": 0,
    "start_time": "2022-09-05T15:02:01.467Z"
   },
   {
    "duration": 0,
    "start_time": "2022-09-05T15:02:01.468Z"
   },
   {
    "duration": 0,
    "start_time": "2022-09-05T15:02:01.469Z"
   },
   {
    "duration": 0,
    "start_time": "2022-09-05T15:02:01.470Z"
   },
   {
    "duration": 0,
    "start_time": "2022-09-05T15:02:01.471Z"
   },
   {
    "duration": 0,
    "start_time": "2022-09-05T15:02:01.472Z"
   },
   {
    "duration": 0,
    "start_time": "2022-09-05T15:02:01.472Z"
   },
   {
    "duration": 0,
    "start_time": "2022-09-05T15:02:01.474Z"
   },
   {
    "duration": 0,
    "start_time": "2022-09-05T15:02:01.475Z"
   },
   {
    "duration": 0,
    "start_time": "2022-09-05T15:02:01.476Z"
   },
   {
    "duration": 0,
    "start_time": "2022-09-05T15:02:01.477Z"
   },
   {
    "duration": 0,
    "start_time": "2022-09-05T15:02:01.478Z"
   },
   {
    "duration": 0,
    "start_time": "2022-09-05T15:02:01.479Z"
   },
   {
    "duration": 0,
    "start_time": "2022-09-05T15:02:01.480Z"
   },
   {
    "duration": 0,
    "start_time": "2022-09-05T15:02:01.481Z"
   },
   {
    "duration": 0,
    "start_time": "2022-09-05T15:02:01.482Z"
   },
   {
    "duration": 0,
    "start_time": "2022-09-05T15:02:01.483Z"
   },
   {
    "duration": 0,
    "start_time": "2022-09-05T15:02:01.484Z"
   },
   {
    "duration": 0,
    "start_time": "2022-09-05T15:02:01.485Z"
   },
   {
    "duration": 481,
    "start_time": "2022-09-05T15:02:26.102Z"
   },
   {
    "duration": 13,
    "start_time": "2022-09-05T15:02:26.584Z"
   },
   {
    "duration": 2061,
    "start_time": "2022-09-05T15:02:26.599Z"
   },
   {
    "duration": 10,
    "start_time": "2022-09-05T15:02:28.662Z"
   },
   {
    "duration": 12,
    "start_time": "2022-09-05T15:02:28.675Z"
   },
   {
    "duration": 14,
    "start_time": "2022-09-05T15:02:28.689Z"
   },
   {
    "duration": 14,
    "start_time": "2022-09-05T15:02:28.705Z"
   },
   {
    "duration": 38,
    "start_time": "2022-09-05T15:02:28.721Z"
   },
   {
    "duration": 20,
    "start_time": "2022-09-05T15:02:28.761Z"
   },
   {
    "duration": 5,
    "start_time": "2022-09-05T15:02:28.783Z"
   },
   {
    "duration": 18,
    "start_time": "2022-09-05T15:02:28.789Z"
   },
   {
    "duration": 8,
    "start_time": "2022-09-05T15:02:28.809Z"
   },
   {
    "duration": 4,
    "start_time": "2022-09-05T15:02:28.818Z"
   },
   {
    "duration": 5,
    "start_time": "2022-09-05T15:02:28.857Z"
   },
   {
    "duration": 10,
    "start_time": "2022-09-05T15:02:28.864Z"
   },
   {
    "duration": 17,
    "start_time": "2022-09-05T15:02:28.875Z"
   },
   {
    "duration": 9,
    "start_time": "2022-09-05T15:02:28.893Z"
   },
   {
    "duration": 6,
    "start_time": "2022-09-05T15:02:28.903Z"
   },
   {
    "duration": 14,
    "start_time": "2022-09-05T15:02:28.911Z"
   },
   {
    "duration": 204,
    "start_time": "2022-09-05T15:02:28.926Z"
   },
   {
    "duration": 9,
    "start_time": "2022-09-05T15:02:29.131Z"
   },
   {
    "duration": 26,
    "start_time": "2022-09-05T15:02:29.141Z"
   },
   {
    "duration": 19,
    "start_time": "2022-09-05T15:02:29.168Z"
   },
   {
    "duration": 28,
    "start_time": "2022-09-05T15:02:29.189Z"
   },
   {
    "duration": 11,
    "start_time": "2022-09-05T15:02:29.219Z"
   },
   {
    "duration": 32,
    "start_time": "2022-09-05T15:02:29.231Z"
   },
   {
    "duration": 13,
    "start_time": "2022-09-05T15:02:29.264Z"
   },
   {
    "duration": 6,
    "start_time": "2022-09-05T15:02:29.278Z"
   },
   {
    "duration": 5,
    "start_time": "2022-09-05T15:02:29.286Z"
   },
   {
    "duration": 15,
    "start_time": "2022-09-05T15:02:29.293Z"
   },
   {
    "duration": 4,
    "start_time": "2022-09-05T15:02:29.310Z"
   },
   {
    "duration": 382,
    "start_time": "2022-09-05T15:02:29.316Z"
   },
   {
    "duration": 5,
    "start_time": "2022-09-05T15:02:29.699Z"
   },
   {
    "duration": 9,
    "start_time": "2022-09-05T15:02:29.705Z"
   },
   {
    "duration": 175,
    "start_time": "2022-09-05T15:02:29.716Z"
   },
   {
    "duration": 326,
    "start_time": "2022-09-05T15:02:29.892Z"
   },
   {
    "duration": 214,
    "start_time": "2022-09-05T15:02:30.220Z"
   },
   {
    "duration": 197,
    "start_time": "2022-09-05T15:02:30.436Z"
   },
   {
    "duration": 297,
    "start_time": "2022-09-05T15:02:30.635Z"
   },
   {
    "duration": 263,
    "start_time": "2022-09-05T15:02:30.933Z"
   },
   {
    "duration": 259,
    "start_time": "2022-09-05T15:02:31.200Z"
   },
   {
    "duration": 196,
    "start_time": "2022-09-05T15:02:31.461Z"
   },
   {
    "duration": 194,
    "start_time": "2022-09-05T15:02:31.659Z"
   },
   {
    "duration": 195,
    "start_time": "2022-09-05T15:02:31.858Z"
   },
   {
    "duration": 253,
    "start_time": "2022-09-05T15:02:32.054Z"
   },
   {
    "duration": 253,
    "start_time": "2022-09-05T15:02:32.309Z"
   },
   {
    "duration": 249,
    "start_time": "2022-09-05T15:02:32.563Z"
   },
   {
    "duration": 250,
    "start_time": "2022-09-05T15:02:32.813Z"
   },
   {
    "duration": 361,
    "start_time": "2022-09-05T15:02:33.065Z"
   },
   {
    "duration": 248,
    "start_time": "2022-09-05T15:02:33.428Z"
   },
   {
    "duration": 5,
    "start_time": "2022-09-05T15:02:33.677Z"
   },
   {
    "duration": 254,
    "start_time": "2022-09-05T15:02:33.683Z"
   },
   {
    "duration": 5,
    "start_time": "2022-09-05T15:02:33.939Z"
   },
   {
    "duration": 160,
    "start_time": "2022-09-05T15:02:33.945Z"
   },
   {
    "duration": 4,
    "start_time": "2022-09-05T15:02:34.107Z"
   },
   {
    "duration": 168,
    "start_time": "2022-09-05T15:02:34.113Z"
   },
   {
    "duration": 147,
    "start_time": "2022-09-05T15:02:34.283Z"
   },
   {
    "duration": 169,
    "start_time": "2022-09-05T15:02:34.432Z"
   },
   {
    "duration": 147,
    "start_time": "2022-09-05T15:02:34.602Z"
   },
   {
    "duration": 150,
    "start_time": "2022-09-05T15:02:34.751Z"
   },
   {
    "duration": 172,
    "start_time": "2022-09-05T15:02:34.902Z"
   },
   {
    "duration": 209,
    "start_time": "2022-09-05T15:02:35.076Z"
   },
   {
    "duration": 182,
    "start_time": "2022-09-05T15:02:35.287Z"
   },
   {
    "duration": 163,
    "start_time": "2022-09-05T15:02:35.470Z"
   },
   {
    "duration": 32,
    "start_time": "2022-09-05T15:02:35.635Z"
   },
   {
    "duration": 167,
    "start_time": "2022-09-05T15:02:35.669Z"
   },
   {
    "duration": 14,
    "start_time": "2022-09-05T15:02:42.889Z"
   },
   {
    "duration": 48,
    "start_time": "2022-10-10T16:24:37.498Z"
   },
   {
    "duration": 6,
    "start_time": "2022-10-10T16:24:40.909Z"
   },
   {
    "duration": 43,
    "start_time": "2022-11-06T12:14:55.413Z"
   },
   {
    "duration": 566,
    "start_time": "2022-11-06T12:14:59.254Z"
   },
   {
    "duration": 2127,
    "start_time": "2022-11-06T12:15:04.417Z"
   },
   {
    "duration": 55,
    "start_time": "2022-12-17T20:29:36.223Z"
   }
  ],
  "kernelspec": {
   "display_name": "Python 3",
   "language": "python",
   "name": "python3"
  },
  "language_info": {
   "codemirror_mode": {
    "name": "ipython",
    "version": 3
   },
   "file_extension": ".py",
   "mimetype": "text/x-python",
   "name": "python",
   "nbconvert_exporter": "python",
   "pygments_lexer": "ipython3",
   "version": "3.10.8 (v3.10.8:aaaf517424, Oct 11 2022, 10:14:40) [Clang 13.0.0 (clang-1300.0.29.30)]"
  },
  "toc": {
   "base_numbering": 1,
   "nav_menu": {},
   "number_sections": true,
   "sideBar": true,
   "skip_h1_title": true,
   "title_cell": "Table of Contents",
   "title_sidebar": "Contents",
   "toc_cell": false,
   "toc_position": {},
   "toc_section_display": true,
   "toc_window_display": true
  },
  "vscode": {
   "interpreter": {
    "hash": "aee8b7b246df8f9039afb4144a1f6fd8d2ca17a180786b69acc140d282b71a49"
   }
  }
 },
 "nbformat": 4,
 "nbformat_minor": 2
}
