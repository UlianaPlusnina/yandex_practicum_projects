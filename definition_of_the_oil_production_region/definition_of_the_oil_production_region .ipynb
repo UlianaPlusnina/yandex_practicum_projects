{
 "cells": [
  {
   "attachments": {},
   "cell_type": "markdown",
   "metadata": {},
   "source": [
    "# Проект: Определение наиболее выгодного региона нефтедобычи"
   ]
  },
  {
   "attachments": {},
   "cell_type": "markdown",
   "metadata": {},
   "source": [
    "## Данные"
   ]
  },
  {
   "attachments": {},
   "cell_type": "markdown",
   "metadata": {},
   "source": [
    "Данные геологоразведки трёх регионов находятся в файлах:  \n",
    "/datasets/geo_data_0.csv  \n",
    "/datasets/geo_data_1.csv  \n",
    "/datasets/geo_data_2.csv  \n",
    "  \n",
    "- id — уникальный идентификатор скважины\n",
    "- f0, f1, f2 — три признака точек (неважно, что они означают, но сами признаки значимы)\n",
    "- product — объём запасов в скважине (тыс. баррелей)"
   ]
  },
  {
   "attachments": {},
   "cell_type": "markdown",
   "metadata": {},
   "source": [
    "## Задача"
   ]
  },
  {
   "attachments": {},
   "cell_type": "markdown",
   "metadata": {},
   "source": [
    "На основе данных геологи разведки выбрать район добычи нефти."
   ]
  },
  {
   "attachments": {},
   "cell_type": "markdown",
   "metadata": {},
   "source": [
    "## Используемые библиотеки"
   ]
  },
  {
   "attachments": {},
   "cell_type": "markdown",
   "metadata": {},
   "source": [
    "pandas, matplotlib, sklearn, scipy, os"
   ]
  },
  {
   "cell_type": "markdown",
   "metadata": {},
   "source": [
    "## Загрузка и подготовка данных"
   ]
  },
  {
   "cell_type": "code",
   "execution_count": 1,
   "metadata": {},
   "outputs": [],
   "source": [
    "import pandas as pd\n",
    "import numpy as np\n",
    "import seaborn as sns\n",
    "import matplotlib.pyplot as plt\n",
    "\n",
    "from sklearn.linear_model import LinearRegression\n",
    "from sklearn.model_selection import train_test_split\n",
    "from sklearn.metrics import mean_squared_error\n",
    "from scipy import stats as st"
   ]
  },
  {
   "cell_type": "code",
   "execution_count": 88,
   "metadata": {},
   "outputs": [
    {
     "name": "stdout",
     "output_type": "stream",
     "text": [
      "      id        f0        f1        f2     product\n",
      "0  txEyH  0.705745 -0.497823  1.221170  105.280062\n",
      "1  2acmU  1.334711 -0.340164  4.365080   73.037750\n",
      "2  409Wp  1.022732  0.151990  1.419926   85.265647\n",
      "3  iJLyR -0.032172  0.139033  2.978566  168.620776\n",
      "4  Xdl7t  1.988431  0.155413  4.751769  154.036647\n"
     ]
    }
   ],
   "source": [
    "data_0 = pd.read_csv('/datasets/geo_data_0.csv')\n",
    "print(data_0.head())"
   ]
  },
  {
   "cell_type": "code",
   "execution_count": 89,
   "metadata": {},
   "outputs": [
    {
     "name": "stdout",
     "output_type": "stream",
     "text": [
      "      id         f0         f1        f2     product\n",
      "0  kBEdx -15.001348  -8.276000 -0.005876    3.179103\n",
      "1  62mP7  14.272088  -3.475083  0.999183   26.953261\n",
      "2  vyE1P   6.263187  -5.948386  5.001160  134.766305\n",
      "3  KcrkZ -13.081196 -11.506057  4.999415  137.945408\n",
      "4  AHL4O  12.702195  -8.147433  5.004363  134.766305\n"
     ]
    }
   ],
   "source": [
    "data_1 = pd.read_csv('/datasets/geo_data_1.csv')\n",
    "print(data_1.head())"
   ]
  },
  {
   "cell_type": "code",
   "execution_count": 90,
   "metadata": {},
   "outputs": [
    {
     "name": "stdout",
     "output_type": "stream",
     "text": [
      "      id        f0        f1        f2     product\n",
      "0  fwXo0 -1.146987  0.963328 -0.828965   27.758673\n",
      "1  WJtFt  0.262778  0.269839 -2.530187   56.069697\n",
      "2  ovLUW  0.194587  0.289035 -5.586433   62.871910\n",
      "3  q6cA6  2.236060 -0.553760  0.930038  114.572842\n",
      "4  WPMUX -0.515993  1.716266  5.899011  149.600746\n"
     ]
    }
   ],
   "source": [
    "data_2 = pd.read_csv('/datasets/geo_data_2.csv')\n",
    "print(data_2.head())"
   ]
  },
  {
   "cell_type": "code",
   "execution_count": 91,
   "metadata": {},
   "outputs": [
    {
     "name": "stdout",
     "output_type": "stream",
     "text": [
      "id          object\n",
      "f0         float64\n",
      "f1         float64\n",
      "f2         float64\n",
      "product    float64\n",
      "dtype: object\n"
     ]
    }
   ],
   "source": [
    "print(data_0.dtypes) # Типы признаков "
   ]
  },
  {
   "cell_type": "code",
   "execution_count": 92,
   "metadata": {},
   "outputs": [
    {
     "name": "stdout",
     "output_type": "stream",
     "text": [
      "id          object\n",
      "f0         float64\n",
      "f1         float64\n",
      "f2         float64\n",
      "product    float64\n",
      "dtype: object\n"
     ]
    }
   ],
   "source": [
    "print(data_1.dtypes) # Типы признаков "
   ]
  },
  {
   "cell_type": "code",
   "execution_count": 93,
   "metadata": {},
   "outputs": [
    {
     "name": "stdout",
     "output_type": "stream",
     "text": [
      "id          object\n",
      "f0         float64\n",
      "f1         float64\n",
      "f2         float64\n",
      "product    float64\n",
      "dtype: object\n"
     ]
    }
   ],
   "source": [
    "print(data_2.dtypes) # Типы признаков "
   ]
  },
  {
   "cell_type": "code",
   "execution_count": 94,
   "metadata": {},
   "outputs": [
    {
     "data": {
      "text/plain": [
       "id         0\n",
       "f0         0\n",
       "f1         0\n",
       "f2         0\n",
       "product    0\n",
       "dtype: int64"
      ]
     },
     "execution_count": 94,
     "metadata": {},
     "output_type": "execute_result"
    }
   ],
   "source": [
    "data_0.isna().sum() # Поиск и подсчет пропусков"
   ]
  },
  {
   "cell_type": "code",
   "execution_count": 95,
   "metadata": {},
   "outputs": [
    {
     "data": {
      "text/plain": [
       "id         0\n",
       "f0         0\n",
       "f1         0\n",
       "f2         0\n",
       "product    0\n",
       "dtype: int64"
      ]
     },
     "execution_count": 95,
     "metadata": {},
     "output_type": "execute_result"
    }
   ],
   "source": [
    "data_1.isna().sum() # Поиск и подсчет пропусков"
   ]
  },
  {
   "cell_type": "code",
   "execution_count": 96,
   "metadata": {},
   "outputs": [
    {
     "data": {
      "text/plain": [
       "id         0\n",
       "f0         0\n",
       "f1         0\n",
       "f2         0\n",
       "product    0\n",
       "dtype: int64"
      ]
     },
     "execution_count": 96,
     "metadata": {},
     "output_type": "execute_result"
    }
   ],
   "source": [
    "data_2.isna().sum() # Поиск и подсчет пропусков"
   ]
  },
  {
   "cell_type": "code",
   "execution_count": 97,
   "metadata": {},
   "outputs": [
    {
     "data": {
      "text/plain": [
       "0"
      ]
     },
     "execution_count": 97,
     "metadata": {},
     "output_type": "execute_result"
    }
   ],
   "source": [
    "data_0.duplicated().sum() # Поиск и подсчет явных дубликатов"
   ]
  },
  {
   "cell_type": "code",
   "execution_count": 98,
   "metadata": {},
   "outputs": [
    {
     "data": {
      "text/plain": [
       "0"
      ]
     },
     "execution_count": 98,
     "metadata": {},
     "output_type": "execute_result"
    }
   ],
   "source": [
    "data_1.duplicated().sum() # Поиск и подсчет явных дубликатов"
   ]
  },
  {
   "cell_type": "code",
   "execution_count": 99,
   "metadata": {},
   "outputs": [
    {
     "data": {
      "text/plain": [
       "0"
      ]
     },
     "execution_count": 99,
     "metadata": {},
     "output_type": "execute_result"
    }
   ],
   "source": [
    "data_2.duplicated().sum() # Поиск и подсчет явных дубликатов"
   ]
  },
  {
   "cell_type": "code",
   "execution_count": 100,
   "metadata": {},
   "outputs": [
    {
     "data": {
      "text/plain": [
       "<AxesSubplot:>"
      ]
     },
     "execution_count": 100,
     "metadata": {},
     "output_type": "execute_result"
    },
    {
     "data": {
      "image/png": "[encoded data removed]",
      "text/plain": [
       "<Figure size 360x360 with 1 Axes>"
      ]
     },
     "metadata": {
      "needs_background": "light"
     },
     "output_type": "display_data"
    }
   ],
   "source": [
    "data_0['product'].hist(figsize=(5, 5)) # Проверка наличия неадекватных значений"
   ]
  },
  {
   "cell_type": "code",
   "execution_count": 101,
   "metadata": {},
   "outputs": [
    {
     "data": {
      "text/plain": [
       "<AxesSubplot:>"
      ]
     },
     "execution_count": 101,
     "metadata": {},
     "output_type": "execute_result"
    },
    {
     "data": {
      "image/png": "[encoded data removed]",
      "text/plain": [
       "<Figure size 360x360 with 1 Axes>"
      ]
     },
     "metadata": {
      "needs_background": "light"
     },
     "output_type": "display_data"
    }
   ],
   "source": [
    "data_1['product'].hist(figsize=(5, 5)) # Проверка наличия неадекватных значений"
   ]
  },
  {
   "cell_type": "code",
   "execution_count": 102,
   "metadata": {},
   "outputs": [
    {
     "data": {
      "text/plain": [
       "<AxesSubplot:>"
      ]
     },
     "execution_count": 102,
     "metadata": {},
     "output_type": "execute_result"
    },
    {
     "data": {
      "image/png": "[encoded data removed]",
      "text/plain": [
       "<Figure size 360x360 with 1 Axes>"
      ]
     },
     "metadata": {
      "needs_background": "light"
     },
     "output_type": "display_data"
    }
   ],
   "source": [
    "data_2['product'].hist(figsize=(5, 5)) # Проверка наличия неадекватных значений"
   ]
  },
  {
   "cell_type": "code",
   "execution_count": 103,
   "metadata": {},
   "outputs": [
    {
     "data": {
      "text/html": [
       "<div>\n",
       "<style scoped>\n",
       "    .dataframe tbody tr th:only-of-type {\n",
       "        vertical-align: middle;\n",
       "    }\n",
       "\n",
       "    .dataframe tbody tr th {\n",
       "        vertical-align: top;\n",
       "    }\n",
       "\n",
       "    .dataframe thead th {\n",
       "        text-align: right;\n",
       "    }\n",
       "</style>\n",
       "<table border=\"1\" class=\"dataframe\">\n",
       "  <thead>\n",
       "    <tr style=\"text-align: right;\">\n",
       "      <th></th>\n",
       "      <th>f0</th>\n",
       "      <th>f1</th>\n",
       "      <th>f2</th>\n",
       "      <th>product</th>\n",
       "    </tr>\n",
       "  </thead>\n",
       "  <tbody>\n",
       "    <tr>\n",
       "      <th>f0</th>\n",
       "      <td>1.000000</td>\n",
       "      <td>-0.440723</td>\n",
       "      <td>-0.003153</td>\n",
       "      <td>0.143536</td>\n",
       "    </tr>\n",
       "    <tr>\n",
       "      <th>f1</th>\n",
       "      <td>-0.440723</td>\n",
       "      <td>1.000000</td>\n",
       "      <td>0.001724</td>\n",
       "      <td>-0.192356</td>\n",
       "    </tr>\n",
       "    <tr>\n",
       "      <th>f2</th>\n",
       "      <td>-0.003153</td>\n",
       "      <td>0.001724</td>\n",
       "      <td>1.000000</td>\n",
       "      <td>0.483663</td>\n",
       "    </tr>\n",
       "    <tr>\n",
       "      <th>product</th>\n",
       "      <td>0.143536</td>\n",
       "      <td>-0.192356</td>\n",
       "      <td>0.483663</td>\n",
       "      <td>1.000000</td>\n",
       "    </tr>\n",
       "  </tbody>\n",
       "</table>\n",
       "</div>"
      ],
      "text/plain": [
       "               f0        f1        f2   product\n",
       "f0       1.000000 -0.440723 -0.003153  0.143536\n",
       "f1      -0.440723  1.000000  0.001724 -0.192356\n",
       "f2      -0.003153  0.001724  1.000000  0.483663\n",
       "product  0.143536 -0.192356  0.483663  1.000000"
      ]
     },
     "execution_count": 103,
     "metadata": {},
     "output_type": "execute_result"
    }
   ],
   "source": [
    "data_0.corr() # Проверка на мультиколлинеарность"
   ]
  },
  {
   "cell_type": "code",
   "execution_count": 104,
   "metadata": {},
   "outputs": [
    {
     "data": {
      "text/html": [
       "<div>\n",
       "<style scoped>\n",
       "    .dataframe tbody tr th:only-of-type {\n",
       "        vertical-align: middle;\n",
       "    }\n",
       "\n",
       "    .dataframe tbody tr th {\n",
       "        vertical-align: top;\n",
       "    }\n",
       "\n",
       "    .dataframe thead th {\n",
       "        text-align: right;\n",
       "    }\n",
       "</style>\n",
       "<table border=\"1\" class=\"dataframe\">\n",
       "  <thead>\n",
       "    <tr style=\"text-align: right;\">\n",
       "      <th></th>\n",
       "      <th>f0</th>\n",
       "      <th>f1</th>\n",
       "      <th>f2</th>\n",
       "      <th>product</th>\n",
       "    </tr>\n",
       "  </thead>\n",
       "  <tbody>\n",
       "    <tr>\n",
       "      <th>f0</th>\n",
       "      <td>1.000000</td>\n",
       "      <td>0.182287</td>\n",
       "      <td>-0.001777</td>\n",
       "      <td>-0.030491</td>\n",
       "    </tr>\n",
       "    <tr>\n",
       "      <th>f1</th>\n",
       "      <td>0.182287</td>\n",
       "      <td>1.000000</td>\n",
       "      <td>-0.002595</td>\n",
       "      <td>-0.010155</td>\n",
       "    </tr>\n",
       "    <tr>\n",
       "      <th>f2</th>\n",
       "      <td>-0.001777</td>\n",
       "      <td>-0.002595</td>\n",
       "      <td>1.000000</td>\n",
       "      <td>0.999397</td>\n",
       "    </tr>\n",
       "    <tr>\n",
       "      <th>product</th>\n",
       "      <td>-0.030491</td>\n",
       "      <td>-0.010155</td>\n",
       "      <td>0.999397</td>\n",
       "      <td>1.000000</td>\n",
       "    </tr>\n",
       "  </tbody>\n",
       "</table>\n",
       "</div>"
      ],
      "text/plain": [
       "               f0        f1        f2   product\n",
       "f0       1.000000  0.182287 -0.001777 -0.030491\n",
       "f1       0.182287  1.000000 -0.002595 -0.010155\n",
       "f2      -0.001777 -0.002595  1.000000  0.999397\n",
       "product -0.030491 -0.010155  0.999397  1.000000"
      ]
     },
     "execution_count": 104,
     "metadata": {},
     "output_type": "execute_result"
    }
   ],
   "source": [
    "data_1.corr() # Проверка на мультиколлинеарность"
   ]
  },
  {
   "cell_type": "code",
   "execution_count": 105,
   "metadata": {},
   "outputs": [
    {
     "data": {
      "text/html": [
       "<div>\n",
       "<style scoped>\n",
       "    .dataframe tbody tr th:only-of-type {\n",
       "        vertical-align: middle;\n",
       "    }\n",
       "\n",
       "    .dataframe tbody tr th {\n",
       "        vertical-align: top;\n",
       "    }\n",
       "\n",
       "    .dataframe thead th {\n",
       "        text-align: right;\n",
       "    }\n",
       "</style>\n",
       "<table border=\"1\" class=\"dataframe\">\n",
       "  <thead>\n",
       "    <tr style=\"text-align: right;\">\n",
       "      <th></th>\n",
       "      <th>f0</th>\n",
       "      <th>f1</th>\n",
       "      <th>f2</th>\n",
       "      <th>product</th>\n",
       "    </tr>\n",
       "  </thead>\n",
       "  <tbody>\n",
       "    <tr>\n",
       "      <th>f0</th>\n",
       "      <td>1.000000</td>\n",
       "      <td>0.000528</td>\n",
       "      <td>-0.000448</td>\n",
       "      <td>-0.001987</td>\n",
       "    </tr>\n",
       "    <tr>\n",
       "      <th>f1</th>\n",
       "      <td>0.000528</td>\n",
       "      <td>1.000000</td>\n",
       "      <td>0.000779</td>\n",
       "      <td>-0.001012</td>\n",
       "    </tr>\n",
       "    <tr>\n",
       "      <th>f2</th>\n",
       "      <td>-0.000448</td>\n",
       "      <td>0.000779</td>\n",
       "      <td>1.000000</td>\n",
       "      <td>0.445871</td>\n",
       "    </tr>\n",
       "    <tr>\n",
       "      <th>product</th>\n",
       "      <td>-0.001987</td>\n",
       "      <td>-0.001012</td>\n",
       "      <td>0.445871</td>\n",
       "      <td>1.000000</td>\n",
       "    </tr>\n",
       "  </tbody>\n",
       "</table>\n",
       "</div>"
      ],
      "text/plain": [
       "               f0        f1        f2   product\n",
       "f0       1.000000  0.000528 -0.000448 -0.001987\n",
       "f1       0.000528  1.000000  0.000779 -0.001012\n",
       "f2      -0.000448  0.000779  1.000000  0.445871\n",
       "product -0.001987 -0.001012  0.445871  1.000000"
      ]
     },
     "execution_count": 105,
     "metadata": {},
     "output_type": "execute_result"
    }
   ],
   "source": [
    "data_2.corr() # Проверка на мультиколлинеарность"
   ]
  },
  {
   "cell_type": "markdown",
   "metadata": {},
   "source": [
    "## Обучение и проверка модели"
   ]
  },
  {
   "cell_type": "code",
   "execution_count": 106,
   "metadata": {},
   "outputs": [],
   "source": [
    "def spliter(features, target, data): # Функция для разделения данных на выборки\n",
    "    features = data.drop(['product', 'id'], axis=1)\n",
    "    target = data['product']\n",
    "    features_train, features_valid, target_train, target_valid = train_test_split(features, target, test_size=0.25, random_state=12345) \n",
    "    return features_train, features_valid, target_train, target_valid\n",
    "\n",
    "features_train_0, features_valid_0, target_train_0, target_valid_0 = spliter(features_0, target_0, data_0)\n",
    "features_train_1, features_valid_1, target_train_1, target_valid_1 = spliter(features_1, target_1, data_1)\n",
    "features_train_2, features_valid_2, target_train_2, target_valid_2 = spliter(features_2, target_2, data_2)"
   ]
  },
  {
   "cell_type": "code",
   "execution_count": 108,
   "metadata": {},
   "outputs": [],
   "source": [
    "def modeling(features_train, target_train, features_valid, target_valid, number_data):\n",
    "    model = LinearRegression()\n",
    "    model.fit(features_train, target_train)\n",
    "    predictions_valid = model.predict(features_valid) \n",
    "    correct_answer_valid = target_valid\n",
    "    mse = mean_squared_error(target_valid, predictions_valid)\n",
    "    print('Средний запас (тыс. барр) предсказанного сырья для региона {}:'.format(number_data), predictions_valid.mean())\n",
    "    print('Суммарный запас (тыс. барр) предсказанного сырья для региона 0:', predictions_valid.sum())\n",
    "    print(\"RMSE =\", mse ** 0.5)\n",
    "    return"
   ]
  },
  {
   "cell_type": "code",
   "execution_count": 109,
   "metadata": {},
   "outputs": [
    {
     "name": "stdout",
     "output_type": "stream",
     "text": [
      "Средний запас (тыс. барр) предсказанного сырья для региона 0: 92.59256778438035\n",
      "Суммарный запас (тыс. барр) предсказанного сырья для региона 0: 2314814.194609509\n",
      "RMSE = 37.5794217150813\n"
     ]
    }
   ],
   "source": [
    "modeling(features_train_0, target_train_0, features_valid_0, target_valid_0, 0)"
   ]
  },
  {
   "cell_type": "code",
   "execution_count": 110,
   "metadata": {},
   "outputs": [
    {
     "name": "stdout",
     "output_type": "stream",
     "text": [
      "Средний запас (тыс. барр) предсказанного сырья для региона 1: 68.728546895446\n",
      "Суммарный запас (тыс. барр) предсказанного сырья для региона 0: 1718213.67238615\n",
      "RMSE = 0.893099286775617\n"
     ]
    }
   ],
   "source": [
    "modeling(features_train_1, target_train_1, features_valid_1, target_valid_1, 1)"
   ]
  },
  {
   "cell_type": "code",
   "execution_count": 111,
   "metadata": {},
   "outputs": [
    {
     "name": "stdout",
     "output_type": "stream",
     "text": [
      "Средний запас (тыс. барр) предсказанного сырья для региона 2: 94.96504596800489\n",
      "Суммарный запас (тыс. барр) предсказанного сырья для региона 0: 2374126.1492001223\n",
      "RMSE = 40.02970873393434\n"
     ]
    }
   ],
   "source": [
    "modeling(features_train_2, target_train_2, features_valid_2, target_valid_2, 2)"
   ]
  },
  {
   "cell_type": "markdown",
   "metadata": {},
   "source": [
    "Модель для региона 1 показывает наименьший средний запас сырья и при этом наименьшее значение среднеквадратичной ошибки RMSE, что может быть связано с линейной зависимость product от f2 (коэфф. корр. 0.999397). Модель предсказывает более точно, так как данные более предсказуемы для региона 1."
   ]
  },
  {
   "cell_type": "markdown",
   "metadata": {},
   "source": [
    "## Подготовка к расчёту прибыли"
   ]
  },
  {
   "cell_type": "code",
   "execution_count": 112,
   "metadata": {},
   "outputs": [
    {
     "name": "stdout",
     "output_type": "stream",
     "text": [
      "min необходимый обьем запасов в скважинах региона в тыс. баррель: 22222.222222222223\n",
      "min средний обьем запасов в скважине в тыс. баррель: 111.11111111111111\n"
     ]
    }
   ],
   "source": [
    "BUDGET = 10000 # бюджет в млн рублей\n",
    "POINTS_PER_BUDGET = 200 # количество разрабатываемых точек\n",
    "PRODUCT_PRICE = 0.45 # доходность одной тыс. единицы барреля в млн рублей\n",
    "min_volume = BUDGET/PRODUCT_PRICE\n",
    "print('min необходимый обьем запасов в скважинах региона в тыс. баррель:', min_volume)\n",
    "print('min средний обьем запасов в скважине в тыс. баррель:', min_volume/200)"
   ]
  },
  {
   "cell_type": "markdown",
   "metadata": {},
   "source": [
    "В среднем каждая скважина дает предсказанный обьем нефти меньший необходимого для разработки. Но если учесть, что в каждом регионе будут выбраны 200 случайных скважин, то можно считать, что 0 и 2 регион являются потенциально прибыльными. "
   ]
  },
  {
   "cell_type": "markdown",
   "metadata": {},
   "source": [
    "<div class=\"alert alert-block alert-success\">\n",
    "<b>Успех:</b> Точка безубыточности найдена верно, сравнение проведено!\n",
    "</div>"
   ]
  },
  {
   "cell_type": "code",
   "execution_count": 113,
   "metadata": {},
   "outputs": [],
   "source": [
    "def is_profitable(predictions, targets): #  Функция расчета прибыли\n",
    "    best_predictions = pd.Series(predictions).sort_values(ascending=False).head(POINTS_PER_BUDGET)\n",
    "    best_point = targets.iloc[best_predictions.index]\n",
    "    profit = (PRODUCT_PRICE * best_point.sum()) - BUDGET\n",
    "    return profit\n"
   ]
  },
  {
   "cell_type": "markdown",
   "metadata": {},
   "source": [
    "<div class=\"alert alert-block alert-success\">\n",
    "<b>Успех:</b> Верно.\n",
    "</div>"
   ]
  },
  {
   "cell_type": "markdown",
   "metadata": {},
   "source": [
    "## Расчёт прибыли и рисков "
   ]
  },
  {
   "cell_type": "code",
   "execution_count": 114,
   "metadata": {},
   "outputs": [],
   "source": [
    "def profit_calculation(predictions_valid, correct_answer_valid, number_data):\n",
    "    state = np.random.RandomState(12345)\n",
    "    values = []\n",
    "    for i in range(1000):\n",
    "        subsample = pd.Series(predictions_valid).sample(n=500, random_state=state, replace=True)\n",
    "        values.append(is_profitable(subsample, correct_answer_valid))\n",
    "    \n",
    "    values = pd.Series(values)\n",
    "\n",
    "    print('Средняя прибыль (млн. р.) от 200 скважин в регионе {}:'.format(number_data), values.mean())\n",
    "\n",
    "    lower = values.quantile(0.025)\n",
    "    upper = values.quantile(0.975)\n",
    "    print(\"95%-ый доверительный интервал:\", 'от', lower, 'до', upper)\n",
    "\n",
    "    risk = len(values[values < 0]) / len(values)\n",
    "    print('Процент риска {:.2%}'.format(risk))\n",
    "    return\n",
    "    "
   ]
  },
  {
   "cell_type": "code",
   "execution_count": 115,
   "metadata": {},
   "outputs": [
    {
     "name": "stdout",
     "output_type": "stream",
     "text": [
      "Средняя прибыль (млн. р.) от 200 скважин в регионе 0: 396.16498480237146\n",
      "95%-ый доверительный интервал: от -111.21554589049533 до 909.7669415534222\n",
      "Процент риска 6.90%\n"
     ]
    }
   ],
   "source": [
    "profit_calculation(predictions_valid_0, correct_answer_valid_0, 0)"
   ]
  },
  {
   "cell_type": "code",
   "execution_count": 116,
   "metadata": {},
   "outputs": [
    {
     "name": "stdout",
     "output_type": "stream",
     "text": [
      "Средняя прибыль (млн. р.) от 200 скважин в регионе 1: 456.04510578666105\n",
      "95%-ый доверительный интервал: от 33.82050939898541 до 852.2894538660361\n",
      "Процент риска 1.50%\n"
     ]
    }
   ],
   "source": [
    "profit_calculation(predictions_valid_1, correct_answer_valid_1, 1)"
   ]
  },
  {
   "cell_type": "code",
   "execution_count": 117,
   "metadata": {},
   "outputs": [
    {
     "name": "stdout",
     "output_type": "stream",
     "text": [
      "Средняя прибыль (млн. р.) от 200 скважин в регионе 2: 404.4038665683571\n",
      "95%-ый доверительный интервал: от -163.35041339560078 до 950.3595749238001\n",
      "Процент риска 7.60%\n"
     ]
    }
   ],
   "source": [
    "profit_calculation(predictions_valid_2, correct_answer_valid_2, 2)"
   ]
  },
  {
   "cell_type": "markdown",
   "metadata": {},
   "source": [
    "**Выводы:** Построили модель линейной регрессии для определения региона, где добыча приносит наибольшую прибыль. Проанализировали возможную прибыль техникой Bootstrap. Наиболее прибыльным оказался регион 1. При этом риски минимальны и равны 1.20%. Таким образом, разработку новых скважин следует проводить в регион 1."
   ]
  }
 ],
 "metadata": {
  "ExecuteTimeLog": [
   {
    "duration": 1621,
    "start_time": "2022-10-24T09:11:25.853Z"
   },
   {
    "duration": 127,
    "start_time": "2022-10-24T09:12:53.189Z"
   },
   {
    "duration": 122,
    "start_time": "2022-10-24T09:13:00.874Z"
   },
   {
    "duration": 146,
    "start_time": "2022-10-24T09:14:07.521Z"
   },
   {
    "duration": 203,
    "start_time": "2022-10-24T09:14:16.599Z"
   },
   {
    "duration": 196,
    "start_time": "2022-10-24T09:14:27.654Z"
   },
   {
    "duration": 137,
    "start_time": "2022-10-24T09:14:29.873Z"
   },
   {
    "duration": 5,
    "start_time": "2022-10-24T09:15:42.356Z"
   },
   {
    "duration": 4,
    "start_time": "2022-10-24T09:15:59.615Z"
   },
   {
    "duration": 5,
    "start_time": "2022-10-24T09:16:01.891Z"
   },
   {
    "duration": 17,
    "start_time": "2022-10-24T09:18:28.668Z"
   },
   {
    "duration": 10,
    "start_time": "2022-10-24T09:18:43.825Z"
   },
   {
    "duration": 12,
    "start_time": "2022-10-24T09:18:45.746Z"
   },
   {
    "duration": 52,
    "start_time": "2022-10-24T09:19:19.320Z"
   },
   {
    "duration": 58,
    "start_time": "2022-10-24T09:19:21.518Z"
   },
   {
    "duration": 51,
    "start_time": "2022-10-24T09:19:23.008Z"
   },
   {
    "duration": 260,
    "start_time": "2022-10-24T09:20:30.284Z"
   },
   {
    "duration": 145,
    "start_time": "2022-10-24T09:20:43.931Z"
   },
   {
    "duration": 170,
    "start_time": "2022-10-24T09:20:53.902Z"
   },
   {
    "duration": 162,
    "start_time": "2022-10-24T09:21:12.487Z"
   },
   {
    "duration": 156,
    "start_time": "2022-10-24T09:21:24.752Z"
   },
   {
    "duration": 134,
    "start_time": "2022-10-24T09:22:58.476Z"
   },
   {
    "duration": 152,
    "start_time": "2022-10-24T09:28:27.920Z"
   },
   {
    "duration": 4,
    "start_time": "2022-10-24T09:34:43.778Z"
   },
   {
    "duration": 42,
    "start_time": "2022-10-24T09:39:00.794Z"
   },
   {
    "duration": 11,
    "start_time": "2022-10-24T09:41:14.151Z"
   },
   {
    "duration": 32,
    "start_time": "2022-10-24T09:42:11.010Z"
   },
   {
    "duration": 15,
    "start_time": "2022-10-24T09:42:34.943Z"
   },
   {
    "duration": 95,
    "start_time": "2022-10-24T09:52:01.559Z"
   },
   {
    "duration": 17,
    "start_time": "2022-10-24T09:53:08.986Z"
   },
   {
    "duration": 5,
    "start_time": "2022-10-24T09:55:26.066Z"
   },
   {
    "duration": 15,
    "start_time": "2022-10-24T09:56:35.859Z"
   },
   {
    "duration": 17,
    "start_time": "2022-10-24T10:03:08.045Z"
   },
   {
    "duration": 24,
    "start_time": "2022-10-24T10:04:07.831Z"
   },
   {
    "duration": 14,
    "start_time": "2022-10-24T10:04:46.970Z"
   },
   {
    "duration": 16,
    "start_time": "2022-10-24T10:19:38.152Z"
   },
   {
    "duration": 16,
    "start_time": "2022-10-24T10:19:39.579Z"
   },
   {
    "duration": 15,
    "start_time": "2022-10-24T10:19:43.438Z"
   },
   {
    "duration": 20,
    "start_time": "2022-10-24T10:22:14.464Z"
   },
   {
    "duration": 22,
    "start_time": "2022-10-24T10:22:25.678Z"
   },
   {
    "duration": 20,
    "start_time": "2022-10-24T10:22:43.373Z"
   },
   {
    "duration": 109,
    "start_time": "2022-10-24T10:50:47.745Z"
   },
   {
    "duration": 197,
    "start_time": "2022-10-24T10:54:33.458Z"
   },
   {
    "duration": 15,
    "start_time": "2022-10-24T10:54:49.709Z"
   },
   {
    "duration": 16,
    "start_time": "2022-10-24T10:55:24.272Z"
   },
   {
    "duration": 16,
    "start_time": "2022-10-24T10:55:33.712Z"
   },
   {
    "duration": 3,
    "start_time": "2022-10-24T11:19:38.027Z"
   },
   {
    "duration": 3,
    "start_time": "2022-10-24T12:02:49.854Z"
   },
   {
    "duration": 4,
    "start_time": "2022-10-24T12:06:25.692Z"
   },
   {
    "duration": 3,
    "start_time": "2022-10-24T12:06:42.851Z"
   },
   {
    "duration": 4,
    "start_time": "2022-10-24T12:08:26.661Z"
   },
   {
    "duration": 5,
    "start_time": "2022-10-24T12:18:55.249Z"
   },
   {
    "duration": 82,
    "start_time": "2022-10-25T13:06:52.307Z"
   },
   {
    "duration": 3,
    "start_time": "2022-10-25T13:21:59.338Z"
   },
   {
    "duration": 4,
    "start_time": "2022-10-25T13:22:09.460Z"
   },
   {
    "duration": 3,
    "start_time": "2022-10-25T13:32:20.745Z"
   },
   {
    "duration": 55,
    "start_time": "2022-10-25T19:12:04.871Z"
   },
   {
    "duration": 1523,
    "start_time": "2022-10-25T19:12:10.737Z"
   },
   {
    "duration": 532,
    "start_time": "2022-10-25T19:12:12.262Z"
   },
   {
    "duration": 614,
    "start_time": "2022-10-25T19:12:12.796Z"
   },
   {
    "duration": 557,
    "start_time": "2022-10-25T19:12:13.411Z"
   },
   {
    "duration": 4,
    "start_time": "2022-10-25T19:12:13.970Z"
   },
   {
    "duration": 6,
    "start_time": "2022-10-25T19:12:13.976Z"
   },
   {
    "duration": 14,
    "start_time": "2022-10-25T19:12:13.983Z"
   },
   {
    "duration": 20,
    "start_time": "2022-10-25T19:12:13.999Z"
   },
   {
    "duration": 9,
    "start_time": "2022-10-25T19:12:14.020Z"
   },
   {
    "duration": 12,
    "start_time": "2022-10-25T19:12:14.030Z"
   },
   {
    "duration": 58,
    "start_time": "2022-10-25T19:12:14.044Z"
   },
   {
    "duration": 40,
    "start_time": "2022-10-25T19:12:14.104Z"
   },
   {
    "duration": 64,
    "start_time": "2022-10-25T19:12:14.146Z"
   },
   {
    "duration": 166,
    "start_time": "2022-10-25T19:12:14.212Z"
   },
   {
    "duration": 68,
    "start_time": "2022-10-25T19:12:14.379Z"
   },
   {
    "duration": 0,
    "start_time": "2022-10-25T19:12:14.449Z"
   },
   {
    "duration": 0,
    "start_time": "2022-10-25T19:12:14.450Z"
   },
   {
    "duration": 0,
    "start_time": "2022-10-25T19:12:14.451Z"
   },
   {
    "duration": 0,
    "start_time": "2022-10-25T19:12:14.452Z"
   },
   {
    "duration": 0,
    "start_time": "2022-10-25T19:12:14.453Z"
   },
   {
    "duration": 1,
    "start_time": "2022-10-25T19:12:14.454Z"
   },
   {
    "duration": 0,
    "start_time": "2022-10-25T19:12:14.456Z"
   },
   {
    "duration": 0,
    "start_time": "2022-10-25T19:12:14.457Z"
   },
   {
    "duration": 5,
    "start_time": "2022-10-25T19:12:32.708Z"
   },
   {
    "duration": 143,
    "start_time": "2022-10-25T19:12:32.716Z"
   },
   {
    "duration": 117,
    "start_time": "2022-10-25T19:12:32.861Z"
   },
   {
    "duration": 118,
    "start_time": "2022-10-25T19:12:32.979Z"
   },
   {
    "duration": 3,
    "start_time": "2022-10-25T19:12:33.099Z"
   },
   {
    "duration": 12,
    "start_time": "2022-10-25T19:12:33.103Z"
   },
   {
    "duration": 8,
    "start_time": "2022-10-25T19:12:33.116Z"
   },
   {
    "duration": 13,
    "start_time": "2022-10-25T19:12:33.126Z"
   },
   {
    "duration": 8,
    "start_time": "2022-10-25T19:12:33.141Z"
   },
   {
    "duration": 28,
    "start_time": "2022-10-25T19:12:33.150Z"
   },
   {
    "duration": 45,
    "start_time": "2022-10-25T19:12:33.179Z"
   },
   {
    "duration": 55,
    "start_time": "2022-10-25T19:12:33.226Z"
   },
   {
    "duration": 41,
    "start_time": "2022-10-25T19:12:33.282Z"
   },
   {
    "duration": 155,
    "start_time": "2022-10-25T19:12:33.325Z"
   },
   {
    "duration": 153,
    "start_time": "2022-10-25T19:12:33.481Z"
   },
   {
    "duration": 149,
    "start_time": "2022-10-25T19:12:33.636Z"
   },
   {
    "duration": 109,
    "start_time": "2022-10-25T19:12:33.787Z"
   },
   {
    "duration": 83,
    "start_time": "2022-10-25T19:12:33.898Z"
   },
   {
    "duration": 99,
    "start_time": "2022-10-25T19:12:33.983Z"
   },
   {
    "duration": 107,
    "start_time": "2022-10-25T19:12:34.084Z"
   },
   {
    "duration": 101,
    "start_time": "2022-10-25T19:12:34.278Z"
   },
   {
    "duration": 7,
    "start_time": "2022-10-25T19:12:34.380Z"
   },
   {
    "duration": 71,
    "start_time": "2022-10-25T19:12:34.388Z"
   },
   {
    "duration": 14,
    "start_time": "2022-10-25T19:13:37.604Z"
   },
   {
    "duration": 14,
    "start_time": "2022-10-25T19:14:23.488Z"
   },
   {
    "duration": 3,
    "start_time": "2022-10-25T19:16:21.453Z"
   },
   {
    "duration": 3,
    "start_time": "2022-10-25T19:16:32.246Z"
   },
   {
    "duration": 556,
    "start_time": "2022-10-25T19:25:01.569Z"
   },
   {
    "duration": 539,
    "start_time": "2022-10-25T19:25:48.321Z"
   },
   {
    "duration": 541,
    "start_time": "2022-10-25T19:26:03.803Z"
   },
   {
    "duration": 3,
    "start_time": "2022-10-25T19:27:12.739Z"
   },
   {
    "duration": 18,
    "start_time": "2022-10-25T19:27:15.364Z"
   },
   {
    "duration": 3,
    "start_time": "2022-10-25T19:27:28.736Z"
   },
   {
    "duration": 541,
    "start_time": "2022-10-25T19:27:30.581Z"
   },
   {
    "duration": 539,
    "start_time": "2022-10-25T19:28:50.968Z"
   },
   {
    "duration": 598,
    "start_time": "2022-10-25T19:29:17.300Z"
   },
   {
    "duration": 585,
    "start_time": "2022-10-25T19:29:54.258Z"
   },
   {
    "duration": 562,
    "start_time": "2022-10-25T19:30:09.589Z"
   },
   {
    "duration": 586,
    "start_time": "2022-10-25T19:32:05.399Z"
   },
   {
    "duration": 540,
    "start_time": "2022-10-25T19:32:06.872Z"
   },
   {
    "duration": 551,
    "start_time": "2022-10-25T19:32:08.594Z"
   },
   {
    "duration": 580,
    "start_time": "2022-10-25T19:42:22.535Z"
   },
   {
    "duration": 578,
    "start_time": "2022-10-25T19:42:50.022Z"
   },
   {
    "duration": 590,
    "start_time": "2022-10-25T19:43:08.268Z"
   },
   {
    "duration": 578,
    "start_time": "2022-10-25T19:43:22.875Z"
   },
   {
    "duration": 3,
    "start_time": "2022-10-25T19:54:13.408Z"
   },
   {
    "duration": 526,
    "start_time": "2022-10-25T19:55:20.309Z"
   },
   {
    "duration": 555,
    "start_time": "2022-10-25T19:55:41.343Z"
   },
   {
    "duration": 538,
    "start_time": "2022-10-25T19:56:08.282Z"
   },
   {
    "duration": 533,
    "start_time": "2022-10-25T19:56:13.505Z"
   },
   {
    "duration": 538,
    "start_time": "2022-10-25T19:58:56.005Z"
   },
   {
    "duration": 568,
    "start_time": "2022-10-25T19:59:02.522Z"
   },
   {
    "duration": 609,
    "start_time": "2022-10-25T19:59:47.510Z"
   },
   {
    "duration": 531,
    "start_time": "2022-10-25T19:59:48.921Z"
   },
   {
    "duration": 558,
    "start_time": "2022-10-25T20:00:17.993Z"
   },
   {
    "duration": 42,
    "start_time": "2022-10-26T07:02:25.466Z"
   },
   {
    "duration": 1571,
    "start_time": "2022-10-26T07:02:28.772Z"
   },
   {
    "duration": 358,
    "start_time": "2022-10-26T07:02:30.345Z"
   },
   {
    "duration": 189,
    "start_time": "2022-10-26T07:02:30.704Z"
   },
   {
    "duration": 187,
    "start_time": "2022-10-26T07:02:30.895Z"
   },
   {
    "duration": 3,
    "start_time": "2022-10-26T07:02:31.085Z"
   },
   {
    "duration": 24,
    "start_time": "2022-10-26T07:02:31.090Z"
   },
   {
    "duration": 54,
    "start_time": "2022-10-26T07:02:31.115Z"
   },
   {
    "duration": 89,
    "start_time": "2022-10-26T07:02:31.171Z"
   },
   {
    "duration": 23,
    "start_time": "2022-10-26T07:02:31.262Z"
   },
   {
    "duration": 15,
    "start_time": "2022-10-26T07:02:31.287Z"
   },
   {
    "duration": 67,
    "start_time": "2022-10-26T07:02:31.304Z"
   },
   {
    "duration": 37,
    "start_time": "2022-10-26T07:02:31.373Z"
   },
   {
    "duration": 38,
    "start_time": "2022-10-26T07:02:31.412Z"
   },
   {
    "duration": 177,
    "start_time": "2022-10-26T07:02:31.453Z"
   },
   {
    "duration": 149,
    "start_time": "2022-10-26T07:02:31.632Z"
   },
   {
    "duration": 145,
    "start_time": "2022-10-26T07:02:31.782Z"
   },
   {
    "duration": 38,
    "start_time": "2022-10-26T07:02:31.929Z"
   },
   {
    "duration": 132,
    "start_time": "2022-10-26T07:02:31.969Z"
   },
   {
    "duration": 101,
    "start_time": "2022-10-26T07:02:32.103Z"
   },
   {
    "duration": 100,
    "start_time": "2022-10-26T07:02:32.206Z"
   },
   {
    "duration": 96,
    "start_time": "2022-10-26T07:02:32.308Z"
   },
   {
    "duration": 94,
    "start_time": "2022-10-26T07:02:32.406Z"
   },
   {
    "duration": 557,
    "start_time": "2022-10-26T07:02:32.502Z"
   },
   {
    "duration": 540,
    "start_time": "2022-10-26T07:02:33.060Z"
   },
   {
    "duration": 551,
    "start_time": "2022-10-26T07:02:33.602Z"
   },
   {
    "duration": 161,
    "start_time": "2022-10-26T07:07:02.137Z"
   },
   {
    "duration": 195,
    "start_time": "2022-10-26T07:07:12.590Z"
   },
   {
    "duration": 169,
    "start_time": "2022-10-26T07:07:17.389Z"
   },
   {
    "duration": 114,
    "start_time": "2022-10-26T07:07:28.961Z"
   },
   {
    "duration": 136,
    "start_time": "2022-10-26T07:07:40.795Z"
   },
   {
    "duration": 126,
    "start_time": "2022-10-26T07:07:50.203Z"
   },
   {
    "duration": 139,
    "start_time": "2022-10-26T07:07:52.087Z"
   },
   {
    "duration": 130,
    "start_time": "2022-10-26T07:07:52.763Z"
   },
   {
    "duration": 129,
    "start_time": "2022-10-26T07:07:53.265Z"
   },
   {
    "duration": 128,
    "start_time": "2022-10-26T07:07:53.535Z"
   },
   {
    "duration": 140,
    "start_time": "2022-10-26T07:08:00.575Z"
   },
   {
    "duration": 149,
    "start_time": "2022-10-26T07:17:41.499Z"
   },
   {
    "duration": 114,
    "start_time": "2022-10-26T07:17:46.842Z"
   },
   {
    "duration": 199,
    "start_time": "2022-10-26T07:17:53.356Z"
   },
   {
    "duration": 112,
    "start_time": "2022-10-26T07:18:10.146Z"
   },
   {
    "duration": 117,
    "start_time": "2022-10-26T07:18:34.281Z"
   },
   {
    "duration": 120,
    "start_time": "2022-10-26T07:18:37.344Z"
   },
   {
    "duration": 21,
    "start_time": "2022-10-26T07:24:00.673Z"
   },
   {
    "duration": 17,
    "start_time": "2022-10-26T07:35:07.584Z"
   },
   {
    "duration": 67,
    "start_time": "2022-10-26T07:37:05.854Z"
   },
   {
    "duration": 4,
    "start_time": "2022-10-26T07:52:15.663Z"
   },
   {
    "duration": 119,
    "start_time": "2022-10-26T07:52:15.668Z"
   },
   {
    "duration": 98,
    "start_time": "2022-10-26T07:52:15.788Z"
   },
   {
    "duration": 109,
    "start_time": "2022-10-26T07:52:15.887Z"
   },
   {
    "duration": 4,
    "start_time": "2022-10-26T07:52:15.999Z"
   },
   {
    "duration": 11,
    "start_time": "2022-10-26T07:52:16.004Z"
   },
   {
    "duration": 7,
    "start_time": "2022-10-26T07:52:16.017Z"
   },
   {
    "duration": 11,
    "start_time": "2022-10-26T07:52:16.025Z"
   },
   {
    "duration": 9,
    "start_time": "2022-10-26T07:52:16.037Z"
   },
   {
    "duration": 11,
    "start_time": "2022-10-26T07:52:16.048Z"
   },
   {
    "duration": 57,
    "start_time": "2022-10-26T07:52:16.060Z"
   },
   {
    "duration": 38,
    "start_time": "2022-10-26T07:52:16.119Z"
   },
   {
    "duration": 60,
    "start_time": "2022-10-26T07:52:16.159Z"
   },
   {
    "duration": 144,
    "start_time": "2022-10-26T07:52:16.222Z"
   },
   {
    "duration": 276,
    "start_time": "2022-10-26T07:52:16.368Z"
   },
   {
    "duration": 142,
    "start_time": "2022-10-26T07:52:16.645Z"
   },
   {
    "duration": 24,
    "start_time": "2022-10-26T07:52:16.789Z"
   },
   {
    "duration": 14,
    "start_time": "2022-10-26T07:52:16.815Z"
   },
   {
    "duration": 14,
    "start_time": "2022-10-26T07:52:16.831Z"
   },
   {
    "duration": 56,
    "start_time": "2022-10-26T07:52:16.847Z"
   },
   {
    "duration": 14,
    "start_time": "2022-10-26T07:52:16.905Z"
   },
   {
    "duration": 185,
    "start_time": "2022-10-26T07:52:16.920Z"
   },
   {
    "duration": 195,
    "start_time": "2022-10-26T07:52:17.107Z"
   },
   {
    "duration": 5,
    "start_time": "2022-10-26T07:52:17.303Z"
   },
   {
    "duration": 93,
    "start_time": "2022-10-26T07:52:17.309Z"
   },
   {
    "duration": 527,
    "start_time": "2022-10-26T07:52:17.403Z"
   },
   {
    "duration": 536,
    "start_time": "2022-10-26T07:52:17.932Z"
   },
   {
    "duration": 547,
    "start_time": "2022-10-26T07:52:18.469Z"
   },
   {
    "duration": 14,
    "start_time": "2022-10-26T07:54:06.657Z"
   },
   {
    "duration": 13,
    "start_time": "2022-10-26T07:54:25.178Z"
   },
   {
    "duration": 696,
    "start_time": "2022-10-26T08:28:00.248Z"
   },
   {
    "duration": 612,
    "start_time": "2022-10-26T08:28:59.948Z"
   },
   {
    "duration": 705,
    "start_time": "2022-10-26T08:29:03.893Z"
   },
   {
    "duration": 3,
    "start_time": "2022-10-26T08:38:26.763Z"
   },
   {
    "duration": 3,
    "start_time": "2022-10-26T08:38:39.269Z"
   },
   {
    "duration": 534,
    "start_time": "2022-10-26T08:43:50.363Z"
   },
   {
    "duration": 563,
    "start_time": "2022-10-26T08:48:32.660Z"
   },
   {
    "duration": 3,
    "start_time": "2022-10-26T08:55:15.545Z"
   },
   {
    "duration": 3,
    "start_time": "2022-10-26T08:55:17.577Z"
   },
   {
    "duration": 120,
    "start_time": "2022-10-26T08:55:17.581Z"
   },
   {
    "duration": 94,
    "start_time": "2022-10-26T08:55:17.703Z"
   },
   {
    "duration": 106,
    "start_time": "2022-10-26T08:55:17.799Z"
   },
   {
    "duration": 5,
    "start_time": "2022-10-26T08:55:17.907Z"
   },
   {
    "duration": 6,
    "start_time": "2022-10-26T08:55:17.913Z"
   },
   {
    "duration": 25,
    "start_time": "2022-10-26T08:55:17.920Z"
   },
   {
    "duration": 18,
    "start_time": "2022-10-26T08:55:17.947Z"
   },
   {
    "duration": 10,
    "start_time": "2022-10-26T08:55:17.966Z"
   },
   {
    "duration": 9,
    "start_time": "2022-10-26T08:55:17.977Z"
   },
   {
    "duration": 47,
    "start_time": "2022-10-26T08:55:17.988Z"
   },
   {
    "duration": 36,
    "start_time": "2022-10-26T08:55:18.037Z"
   },
   {
    "duration": 56,
    "start_time": "2022-10-26T08:55:18.075Z"
   },
   {
    "duration": 132,
    "start_time": "2022-10-26T08:55:18.134Z"
   },
   {
    "duration": 139,
    "start_time": "2022-10-26T08:55:18.267Z"
   },
   {
    "duration": 143,
    "start_time": "2022-10-26T08:55:18.407Z"
   },
   {
    "duration": 14,
    "start_time": "2022-10-26T08:55:18.552Z"
   },
   {
    "duration": 13,
    "start_time": "2022-10-26T08:55:18.568Z"
   },
   {
    "duration": 13,
    "start_time": "2022-10-26T08:55:18.600Z"
   },
   {
    "duration": 25,
    "start_time": "2022-10-26T08:55:18.614Z"
   },
   {
    "duration": 63,
    "start_time": "2022-10-26T08:55:18.640Z"
   },
   {
    "duration": 111,
    "start_time": "2022-10-26T08:55:18.704Z"
   },
   {
    "duration": 197,
    "start_time": "2022-10-26T08:55:18.817Z"
   },
   {
    "duration": 181,
    "start_time": "2022-10-26T08:55:19.019Z"
   },
   {
    "duration": 4,
    "start_time": "2022-10-26T08:55:19.202Z"
   },
   {
    "duration": 573,
    "start_time": "2022-10-26T08:55:19.208Z"
   },
   {
    "duration": 609,
    "start_time": "2022-10-26T08:55:19.783Z"
   },
   {
    "duration": 609,
    "start_time": "2022-10-26T08:55:20.400Z"
   },
   {
    "duration": 48,
    "start_time": "2022-10-27T08:43:51.722Z"
   },
   {
    "duration": 1583,
    "start_time": "2022-10-27T08:43:56.723Z"
   },
   {
    "duration": 419,
    "start_time": "2022-10-27T08:43:58.309Z"
   },
   {
    "duration": 205,
    "start_time": "2022-10-27T08:43:58.729Z"
   },
   {
    "duration": 207,
    "start_time": "2022-10-27T08:43:58.936Z"
   },
   {
    "duration": 5,
    "start_time": "2022-10-27T08:43:59.146Z"
   },
   {
    "duration": 10,
    "start_time": "2022-10-27T08:43:59.152Z"
   },
   {
    "duration": 7,
    "start_time": "2022-10-27T08:43:59.164Z"
   },
   {
    "duration": 13,
    "start_time": "2022-10-27T08:43:59.173Z"
   },
   {
    "duration": 11,
    "start_time": "2022-10-27T08:43:59.188Z"
   },
   {
    "duration": 39,
    "start_time": "2022-10-27T08:43:59.201Z"
   },
   {
    "duration": 50,
    "start_time": "2022-10-27T08:43:59.242Z"
   },
   {
    "duration": 68,
    "start_time": "2022-10-27T08:43:59.294Z"
   },
   {
    "duration": 51,
    "start_time": "2022-10-27T08:43:59.364Z"
   },
   {
    "duration": 172,
    "start_time": "2022-10-27T08:43:59.439Z"
   },
   {
    "duration": 158,
    "start_time": "2022-10-27T08:43:59.613Z"
   },
   {
    "duration": 158,
    "start_time": "2022-10-27T08:43:59.773Z"
   },
   {
    "duration": 20,
    "start_time": "2022-10-27T08:43:59.933Z"
   },
   {
    "duration": 17,
    "start_time": "2022-10-27T08:43:59.955Z"
   },
   {
    "duration": 14,
    "start_time": "2022-10-27T08:43:59.974Z"
   },
   {
    "duration": 71,
    "start_time": "2022-10-27T08:43:59.989Z"
   },
   {
    "duration": 180,
    "start_time": "2022-10-27T08:44:00.062Z"
   },
   {
    "duration": 112,
    "start_time": "2022-10-27T08:44:00.244Z"
   },
   {
    "duration": 109,
    "start_time": "2022-10-27T08:44:00.440Z"
   },
   {
    "duration": 287,
    "start_time": "2022-10-27T08:44:00.553Z"
   },
   {
    "duration": 0,
    "start_time": "2022-10-27T08:44:00.841Z"
   },
   {
    "duration": 0,
    "start_time": "2022-10-27T08:44:00.842Z"
   },
   {
    "duration": 0,
    "start_time": "2022-10-27T08:44:00.843Z"
   },
   {
    "duration": 0,
    "start_time": "2022-10-27T08:44:00.845Z"
   },
   {
    "duration": 0,
    "start_time": "2022-10-27T08:44:00.845Z"
   },
   {
    "duration": 5,
    "start_time": "2022-10-27T08:44:23.459Z"
   },
   {
    "duration": 4,
    "start_time": "2022-10-27T08:44:24.935Z"
   },
   {
    "duration": 148,
    "start_time": "2022-10-27T08:44:24.940Z"
   },
   {
    "duration": 128,
    "start_time": "2022-10-27T08:44:25.089Z"
   },
   {
    "duration": 129,
    "start_time": "2022-10-27T08:44:25.219Z"
   },
   {
    "duration": 4,
    "start_time": "2022-10-27T08:44:25.350Z"
   },
   {
    "duration": 6,
    "start_time": "2022-10-27T08:44:25.355Z"
   },
   {
    "duration": 8,
    "start_time": "2022-10-27T08:44:25.363Z"
   },
   {
    "duration": 12,
    "start_time": "2022-10-27T08:44:25.372Z"
   },
   {
    "duration": 12,
    "start_time": "2022-10-27T08:44:25.385Z"
   },
   {
    "duration": 10,
    "start_time": "2022-10-27T08:44:25.398Z"
   },
   {
    "duration": 73,
    "start_time": "2022-10-27T08:44:25.410Z"
   },
   {
    "duration": 53,
    "start_time": "2022-10-27T08:44:25.486Z"
   },
   {
    "duration": 44,
    "start_time": "2022-10-27T08:44:25.541Z"
   },
   {
    "duration": 154,
    "start_time": "2022-10-27T08:44:25.588Z"
   },
   {
    "duration": 154,
    "start_time": "2022-10-27T08:44:25.743Z"
   },
   {
    "duration": 222,
    "start_time": "2022-10-27T08:44:25.899Z"
   },
   {
    "duration": 23,
    "start_time": "2022-10-27T08:44:26.122Z"
   },
   {
    "duration": 14,
    "start_time": "2022-10-27T08:44:26.147Z"
   },
   {
    "duration": 14,
    "start_time": "2022-10-27T08:44:26.162Z"
   },
   {
    "duration": 30,
    "start_time": "2022-10-27T08:44:26.177Z"
   },
   {
    "duration": 130,
    "start_time": "2022-10-27T08:44:26.209Z"
   },
   {
    "duration": 112,
    "start_time": "2022-10-27T08:44:26.342Z"
   },
   {
    "duration": 187,
    "start_time": "2022-10-27T08:44:26.456Z"
   },
   {
    "duration": 195,
    "start_time": "2022-10-27T08:44:26.645Z"
   },
   {
    "duration": 53,
    "start_time": "2022-10-27T08:44:26.842Z"
   },
   {
    "duration": 0,
    "start_time": "2022-10-27T08:44:26.897Z"
   },
   {
    "duration": 0,
    "start_time": "2022-10-27T08:44:26.898Z"
   },
   {
    "duration": 0,
    "start_time": "2022-10-27T08:44:26.900Z"
   },
   {
    "duration": 0,
    "start_time": "2022-10-27T08:44:26.901Z"
   },
   {
    "duration": 51,
    "start_time": "2022-10-27T08:44:49.264Z"
   },
   {
    "duration": 13,
    "start_time": "2022-10-27T09:12:31.297Z"
   },
   {
    "duration": 3,
    "start_time": "2022-10-27T09:12:43.710Z"
   },
   {
    "duration": 619,
    "start_time": "2022-10-27T09:12:45.653Z"
   },
   {
    "duration": 584,
    "start_time": "2022-10-27T09:13:13.692Z"
   },
   {
    "duration": 637,
    "start_time": "2022-10-27T09:13:46.983Z"
   },
   {
    "duration": 617,
    "start_time": "2022-10-27T09:14:37.979Z"
   },
   {
    "duration": 602,
    "start_time": "2022-10-27T09:14:48.807Z"
   },
   {
    "duration": 593,
    "start_time": "2022-10-27T09:14:55.059Z"
   },
   {
    "duration": 594,
    "start_time": "2022-10-27T09:14:58.732Z"
   },
   {
    "duration": 4,
    "start_time": "2022-10-27T09:22:00.432Z"
   },
   {
    "duration": 56,
    "start_time": "2022-10-27T09:25:44.129Z"
   },
   {
    "duration": 15,
    "start_time": "2022-10-27T09:25:53.428Z"
   },
   {
    "duration": 29,
    "start_time": "2022-10-27T09:26:46.817Z"
   },
   {
    "duration": 5,
    "start_time": "2022-10-27T09:27:22.481Z"
   },
   {
    "duration": 4,
    "start_time": "2022-10-27T09:28:04.004Z"
   },
   {
    "duration": 23,
    "start_time": "2022-10-27T09:35:30.968Z"
   },
   {
    "duration": 16,
    "start_time": "2022-10-27T09:35:33.101Z"
   },
   {
    "duration": 4,
    "start_time": "2022-10-27T09:39:05.817Z"
   },
   {
    "duration": 20,
    "start_time": "2022-10-27T09:39:10.778Z"
   },
   {
    "duration": 4,
    "start_time": "2022-10-27T09:39:57.078Z"
   },
   {
    "duration": 19,
    "start_time": "2022-10-27T09:40:24.074Z"
   },
   {
    "duration": 15,
    "start_time": "2022-10-27T09:40:45.415Z"
   },
   {
    "duration": 14,
    "start_time": "2022-10-27T09:41:08.753Z"
   },
   {
    "duration": 5,
    "start_time": "2022-10-27T09:48:53.421Z"
   },
   {
    "duration": 6,
    "start_time": "2022-10-27T09:49:38.316Z"
   },
   {
    "duration": 7,
    "start_time": "2022-10-27T09:49:59.550Z"
   },
   {
    "duration": 5,
    "start_time": "2022-10-27T09:50:49.917Z"
   },
   {
    "duration": 5,
    "start_time": "2022-10-27T09:50:51.662Z"
   },
   {
    "duration": 611,
    "start_time": "2022-10-27T09:50:53.796Z"
   },
   {
    "duration": 602,
    "start_time": "2022-10-27T09:51:31.466Z"
   },
   {
    "duration": 592,
    "start_time": "2022-10-27T09:51:33.360Z"
   },
   {
    "duration": 620,
    "start_time": "2022-10-27T09:53:33.895Z"
   },
   {
    "duration": 615,
    "start_time": "2022-10-27T09:53:44.229Z"
   },
   {
    "duration": 579,
    "start_time": "2022-10-27T09:58:05.112Z"
   },
   {
    "duration": 3,
    "start_time": "2022-10-27T09:58:45.181Z"
   },
   {
    "duration": 147,
    "start_time": "2022-10-27T09:58:45.185Z"
   },
   {
    "duration": 120,
    "start_time": "2022-10-27T09:58:45.338Z"
   },
   {
    "duration": 124,
    "start_time": "2022-10-27T09:58:45.460Z"
   },
   {
    "duration": 4,
    "start_time": "2022-10-27T09:58:45.587Z"
   },
   {
    "duration": 6,
    "start_time": "2022-10-27T09:58:45.592Z"
   },
   {
    "duration": 8,
    "start_time": "2022-10-27T09:58:45.600Z"
   },
   {
    "duration": 30,
    "start_time": "2022-10-27T09:58:45.609Z"
   },
   {
    "duration": 9,
    "start_time": "2022-10-27T09:58:45.641Z"
   },
   {
    "duration": 15,
    "start_time": "2022-10-27T09:58:45.652Z"
   },
   {
    "duration": 48,
    "start_time": "2022-10-27T09:58:45.669Z"
   },
   {
    "duration": 57,
    "start_time": "2022-10-27T09:58:45.718Z"
   },
   {
    "duration": 43,
    "start_time": "2022-10-27T09:58:45.777Z"
   },
   {
    "duration": 144,
    "start_time": "2022-10-27T09:58:45.839Z"
   },
   {
    "duration": 157,
    "start_time": "2022-10-27T09:58:45.984Z"
   },
   {
    "duration": 152,
    "start_time": "2022-10-27T09:58:46.142Z"
   },
   {
    "duration": 16,
    "start_time": "2022-10-27T09:58:46.296Z"
   },
   {
    "duration": 31,
    "start_time": "2022-10-27T09:58:46.314Z"
   },
   {
    "duration": 14,
    "start_time": "2022-10-27T09:58:46.346Z"
   },
   {
    "duration": 27,
    "start_time": "2022-10-27T09:58:46.362Z"
   },
   {
    "duration": 4,
    "start_time": "2022-10-27T09:58:46.391Z"
   },
   {
    "duration": 13,
    "start_time": "2022-10-27T09:58:46.396Z"
   },
   {
    "duration": 128,
    "start_time": "2022-10-27T09:58:46.411Z"
   },
   {
    "duration": 107,
    "start_time": "2022-10-27T09:58:46.540Z"
   },
   {
    "duration": 192,
    "start_time": "2022-10-27T09:58:46.650Z"
   },
   {
    "duration": 107,
    "start_time": "2022-10-27T09:58:46.844Z"
   },
   {
    "duration": 87,
    "start_time": "2022-10-27T09:58:46.952Z"
   },
   {
    "duration": 6,
    "start_time": "2022-10-27T09:58:47.041Z"
   },
   {
    "duration": 712,
    "start_time": "2022-10-27T09:58:47.048Z"
   },
   {
    "duration": 601,
    "start_time": "2022-10-27T09:58:47.762Z"
   },
   {
    "duration": 634,
    "start_time": "2022-10-27T09:58:48.365Z"
   },
   {
    "duration": 607,
    "start_time": "2022-10-27T09:58:49.000Z"
   },
   {
    "duration": 614,
    "start_time": "2022-10-27T09:58:49.608Z"
   }
  ],
  "kernelspec": {
   "display_name": "Python 3",
   "language": "python",
   "name": "python3"
  },
  "language_info": {
   "codemirror_mode": {
    "name": "ipython",
    "version": 3
   },
   "file_extension": ".py",
   "mimetype": "text/x-python",
   "name": "python",
   "nbconvert_exporter": "python",
   "pygments_lexer": "ipython3",
   "version": "3.10.8 (v3.10.8:aaaf517424, Oct 11 2022, 10:14:40) [Clang 13.0.0 (clang-1300.0.29.30)]"
  },
  "toc": {
   "base_numbering": 1,
   "nav_menu": {},
   "number_sections": true,
   "sideBar": true,
   "skip_h1_title": true,
   "title_cell": "Table of Contents",
   "title_sidebar": "Contents",
   "toc_cell": false,
   "toc_position": {},
   "toc_section_display": true,
   "toc_window_display": false
  },
  "vscode": {
   "interpreter": {
    "hash": "aee8b7b246df8f9039afb4144a1f6fd8d2ca17a180786b69acc140d282b71a49"
   }
  }
 },
 "nbformat": 4,
 "nbformat_minor": 2
}
