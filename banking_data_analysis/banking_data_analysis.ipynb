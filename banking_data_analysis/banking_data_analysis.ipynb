{
 "cells": [
  {
   "attachments": {},
   "cell_type": "markdown",
   "id": "c81daeeb",
   "metadata": {
    "deletable": false,
    "id": "c81daeeb"
   },
   "source": [
    "# Проект: Исследование надежности заемщиков\n"
   ]
  },
  {
   "attachments": {},
   "cell_type": "markdown",
   "id": "ee0c1f38",
   "metadata": {},
   "source": [
    "## Данные\n"
   ]
  },
  {
   "attachments": {},
   "cell_type": "markdown",
   "id": "7463bf6c",
   "metadata": {},
   "source": [
    "В наличии были следующие данные:\n",
    "- children — количество детей в семье\n",
    "- days_employed — общий трудовой стаж в днях\n",
    "- dob_years — возраст клиента в годах\n",
    "- education — уровень образования клиента\n",
    "- education_id — идентификатор уровня образования\n",
    "- family_status — семейное положение\n",
    "- family_status_id — идентификатор семейного положения\n",
    "- gender — пол клиента\n",
    "- income_type — тип занятости\n",
    "- debt — имел ли задолженность по возврату кредитов\n",
    "- total_income — ежемесячный доход\n",
    "- purpose — цель получения кредита"
   ]
  },
  {
   "attachments": {},
   "cell_type": "markdown",
   "id": "7a72c5ca",
   "metadata": {},
   "source": [
    "## Задача"
   ]
  },
  {
   "attachments": {},
   "cell_type": "markdown",
   "id": "882bef3e",
   "metadata": {},
   "source": [
    "На основе статистики о платёжеспособности клиентов исследовать влияет ли семейное положение и количество детей клиента на факт возврата кредита в срок.\n"
   ]
  },
  {
   "attachments": {},
   "cell_type": "markdown",
   "id": "8bba677e",
   "metadata": {},
   "source": [
    "## Используемые библиотеки"
   ]
  },
  {
   "cell_type": "code",
   "execution_count": 1,
   "id": "7bcf75c9",
   "metadata": {
    "deletable": false,
    "id": "7bcf75c9"
   },
   "outputs": [],
   "source": [
    "import pandas as pd\n",
    "\n",
    "try:\n",
    "    data = pd.read_csv('/datasets/data.csv')\n",
    "except:\n",
    "    data = pd.read_csv('https://code.s3.yandex.net/datasets/data.csv')"
   ]
  },
  {
   "cell_type": "code",
   "execution_count": 2,
   "id": "2a7cab99",
   "metadata": {
    "deletable": false,
    "id": "2a7cab99",
    "outputId": "1a8f3ef2-d323-4ec2-ddf7-89670b5944c4"
   },
   "outputs": [
    {
     "data": {
      "text/html": [
       "<div>\n",
       "<style scoped>\n",
       "    .dataframe tbody tr th:only-of-type {\n",
       "        vertical-align: middle;\n",
       "    }\n",
       "\n",
       "    .dataframe tbody tr th {\n",
       "        vertical-align: top;\n",
       "    }\n",
       "\n",
       "    .dataframe thead th {\n",
       "        text-align: right;\n",
       "    }\n",
       "</style>\n",
       "<table border=\"1\" class=\"dataframe\">\n",
       "  <thead>\n",
       "    <tr style=\"text-align: right;\">\n",
       "      <th></th>\n",
       "      <th>children</th>\n",
       "      <th>days_employed</th>\n",
       "      <th>dob_years</th>\n",
       "      <th>education</th>\n",
       "      <th>education_id</th>\n",
       "      <th>family_status</th>\n",
       "      <th>family_status_id</th>\n",
       "      <th>gender</th>\n",
       "      <th>income_type</th>\n",
       "      <th>debt</th>\n",
       "      <th>total_income</th>\n",
       "      <th>purpose</th>\n",
       "    </tr>\n",
       "  </thead>\n",
       "  <tbody>\n",
       "    <tr>\n",
       "      <th>0</th>\n",
       "      <td>1</td>\n",
       "      <td>-8437.673028</td>\n",
       "      <td>42</td>\n",
       "      <td>высшее</td>\n",
       "      <td>0</td>\n",
       "      <td>женат / замужем</td>\n",
       "      <td>0</td>\n",
       "      <td>F</td>\n",
       "      <td>сотрудник</td>\n",
       "      <td>0</td>\n",
       "      <td>253875.639453</td>\n",
       "      <td>покупка жилья</td>\n",
       "    </tr>\n",
       "    <tr>\n",
       "      <th>1</th>\n",
       "      <td>1</td>\n",
       "      <td>-4024.803754</td>\n",
       "      <td>36</td>\n",
       "      <td>среднее</td>\n",
       "      <td>1</td>\n",
       "      <td>женат / замужем</td>\n",
       "      <td>0</td>\n",
       "      <td>F</td>\n",
       "      <td>сотрудник</td>\n",
       "      <td>0</td>\n",
       "      <td>112080.014102</td>\n",
       "      <td>приобретение автомобиля</td>\n",
       "    </tr>\n",
       "    <tr>\n",
       "      <th>2</th>\n",
       "      <td>0</td>\n",
       "      <td>-5623.422610</td>\n",
       "      <td>33</td>\n",
       "      <td>Среднее</td>\n",
       "      <td>1</td>\n",
       "      <td>женат / замужем</td>\n",
       "      <td>0</td>\n",
       "      <td>M</td>\n",
       "      <td>сотрудник</td>\n",
       "      <td>0</td>\n",
       "      <td>145885.952297</td>\n",
       "      <td>покупка жилья</td>\n",
       "    </tr>\n",
       "    <tr>\n",
       "      <th>3</th>\n",
       "      <td>3</td>\n",
       "      <td>-4124.747207</td>\n",
       "      <td>32</td>\n",
       "      <td>среднее</td>\n",
       "      <td>1</td>\n",
       "      <td>женат / замужем</td>\n",
       "      <td>0</td>\n",
       "      <td>M</td>\n",
       "      <td>сотрудник</td>\n",
       "      <td>0</td>\n",
       "      <td>267628.550329</td>\n",
       "      <td>дополнительное образование</td>\n",
       "    </tr>\n",
       "    <tr>\n",
       "      <th>4</th>\n",
       "      <td>0</td>\n",
       "      <td>340266.072047</td>\n",
       "      <td>53</td>\n",
       "      <td>среднее</td>\n",
       "      <td>1</td>\n",
       "      <td>гражданский брак</td>\n",
       "      <td>1</td>\n",
       "      <td>F</td>\n",
       "      <td>пенсионер</td>\n",
       "      <td>0</td>\n",
       "      <td>158616.077870</td>\n",
       "      <td>сыграть свадьбу</td>\n",
       "    </tr>\n",
       "    <tr>\n",
       "      <th>5</th>\n",
       "      <td>0</td>\n",
       "      <td>-926.185831</td>\n",
       "      <td>27</td>\n",
       "      <td>высшее</td>\n",
       "      <td>0</td>\n",
       "      <td>гражданский брак</td>\n",
       "      <td>1</td>\n",
       "      <td>M</td>\n",
       "      <td>компаньон</td>\n",
       "      <td>0</td>\n",
       "      <td>255763.565419</td>\n",
       "      <td>покупка жилья</td>\n",
       "    </tr>\n",
       "    <tr>\n",
       "      <th>6</th>\n",
       "      <td>0</td>\n",
       "      <td>-2879.202052</td>\n",
       "      <td>43</td>\n",
       "      <td>высшее</td>\n",
       "      <td>0</td>\n",
       "      <td>женат / замужем</td>\n",
       "      <td>0</td>\n",
       "      <td>F</td>\n",
       "      <td>компаньон</td>\n",
       "      <td>0</td>\n",
       "      <td>240525.971920</td>\n",
       "      <td>операции с жильем</td>\n",
       "    </tr>\n",
       "    <tr>\n",
       "      <th>7</th>\n",
       "      <td>0</td>\n",
       "      <td>-152.779569</td>\n",
       "      <td>50</td>\n",
       "      <td>СРЕДНЕЕ</td>\n",
       "      <td>1</td>\n",
       "      <td>женат / замужем</td>\n",
       "      <td>0</td>\n",
       "      <td>M</td>\n",
       "      <td>сотрудник</td>\n",
       "      <td>0</td>\n",
       "      <td>135823.934197</td>\n",
       "      <td>образование</td>\n",
       "    </tr>\n",
       "    <tr>\n",
       "      <th>8</th>\n",
       "      <td>2</td>\n",
       "      <td>-6929.865299</td>\n",
       "      <td>35</td>\n",
       "      <td>ВЫСШЕЕ</td>\n",
       "      <td>0</td>\n",
       "      <td>гражданский брак</td>\n",
       "      <td>1</td>\n",
       "      <td>F</td>\n",
       "      <td>сотрудник</td>\n",
       "      <td>0</td>\n",
       "      <td>95856.832424</td>\n",
       "      <td>на проведение свадьбы</td>\n",
       "    </tr>\n",
       "    <tr>\n",
       "      <th>9</th>\n",
       "      <td>0</td>\n",
       "      <td>-2188.756445</td>\n",
       "      <td>41</td>\n",
       "      <td>среднее</td>\n",
       "      <td>1</td>\n",
       "      <td>женат / замужем</td>\n",
       "      <td>0</td>\n",
       "      <td>M</td>\n",
       "      <td>сотрудник</td>\n",
       "      <td>0</td>\n",
       "      <td>144425.938277</td>\n",
       "      <td>покупка жилья для семьи</td>\n",
       "    </tr>\n",
       "    <tr>\n",
       "      <th>10</th>\n",
       "      <td>2</td>\n",
       "      <td>-4171.483647</td>\n",
       "      <td>36</td>\n",
       "      <td>высшее</td>\n",
       "      <td>0</td>\n",
       "      <td>женат / замужем</td>\n",
       "      <td>0</td>\n",
       "      <td>M</td>\n",
       "      <td>компаньон</td>\n",
       "      <td>0</td>\n",
       "      <td>113943.491460</td>\n",
       "      <td>покупка недвижимости</td>\n",
       "    </tr>\n",
       "    <tr>\n",
       "      <th>11</th>\n",
       "      <td>0</td>\n",
       "      <td>-792.701887</td>\n",
       "      <td>40</td>\n",
       "      <td>среднее</td>\n",
       "      <td>1</td>\n",
       "      <td>женат / замужем</td>\n",
       "      <td>0</td>\n",
       "      <td>F</td>\n",
       "      <td>сотрудник</td>\n",
       "      <td>0</td>\n",
       "      <td>77069.234271</td>\n",
       "      <td>покупка коммерческой недвижимости</td>\n",
       "    </tr>\n",
       "    <tr>\n",
       "      <th>12</th>\n",
       "      <td>0</td>\n",
       "      <td>NaN</td>\n",
       "      <td>65</td>\n",
       "      <td>среднее</td>\n",
       "      <td>1</td>\n",
       "      <td>гражданский брак</td>\n",
       "      <td>1</td>\n",
       "      <td>M</td>\n",
       "      <td>пенсионер</td>\n",
       "      <td>0</td>\n",
       "      <td>NaN</td>\n",
       "      <td>сыграть свадьбу</td>\n",
       "    </tr>\n",
       "    <tr>\n",
       "      <th>13</th>\n",
       "      <td>0</td>\n",
       "      <td>-1846.641941</td>\n",
       "      <td>54</td>\n",
       "      <td>неоконченное высшее</td>\n",
       "      <td>2</td>\n",
       "      <td>женат / замужем</td>\n",
       "      <td>0</td>\n",
       "      <td>F</td>\n",
       "      <td>сотрудник</td>\n",
       "      <td>0</td>\n",
       "      <td>130458.228857</td>\n",
       "      <td>приобретение автомобиля</td>\n",
       "    </tr>\n",
       "    <tr>\n",
       "      <th>14</th>\n",
       "      <td>0</td>\n",
       "      <td>-1844.956182</td>\n",
       "      <td>56</td>\n",
       "      <td>высшее</td>\n",
       "      <td>0</td>\n",
       "      <td>гражданский брак</td>\n",
       "      <td>1</td>\n",
       "      <td>F</td>\n",
       "      <td>компаньон</td>\n",
       "      <td>1</td>\n",
       "      <td>165127.911772</td>\n",
       "      <td>покупка жилой недвижимости</td>\n",
       "    </tr>\n",
       "    <tr>\n",
       "      <th>15</th>\n",
       "      <td>1</td>\n",
       "      <td>-972.364419</td>\n",
       "      <td>26</td>\n",
       "      <td>среднее</td>\n",
       "      <td>1</td>\n",
       "      <td>женат / замужем</td>\n",
       "      <td>0</td>\n",
       "      <td>F</td>\n",
       "      <td>сотрудник</td>\n",
       "      <td>0</td>\n",
       "      <td>116820.904450</td>\n",
       "      <td>строительство собственной недвижимости</td>\n",
       "    </tr>\n",
       "    <tr>\n",
       "      <th>16</th>\n",
       "      <td>0</td>\n",
       "      <td>-1719.934226</td>\n",
       "      <td>35</td>\n",
       "      <td>среднее</td>\n",
       "      <td>1</td>\n",
       "      <td>женат / замужем</td>\n",
       "      <td>0</td>\n",
       "      <td>F</td>\n",
       "      <td>сотрудник</td>\n",
       "      <td>0</td>\n",
       "      <td>289202.704229</td>\n",
       "      <td>недвижимость</td>\n",
       "    </tr>\n",
       "    <tr>\n",
       "      <th>17</th>\n",
       "      <td>0</td>\n",
       "      <td>-2369.999720</td>\n",
       "      <td>33</td>\n",
       "      <td>высшее</td>\n",
       "      <td>0</td>\n",
       "      <td>гражданский брак</td>\n",
       "      <td>1</td>\n",
       "      <td>M</td>\n",
       "      <td>сотрудник</td>\n",
       "      <td>0</td>\n",
       "      <td>90410.586745</td>\n",
       "      <td>строительство недвижимости</td>\n",
       "    </tr>\n",
       "    <tr>\n",
       "      <th>18</th>\n",
       "      <td>0</td>\n",
       "      <td>400281.136913</td>\n",
       "      <td>53</td>\n",
       "      <td>среднее</td>\n",
       "      <td>1</td>\n",
       "      <td>вдовец / вдова</td>\n",
       "      <td>2</td>\n",
       "      <td>F</td>\n",
       "      <td>пенсионер</td>\n",
       "      <td>0</td>\n",
       "      <td>56823.777243</td>\n",
       "      <td>на покупку подержанного автомобиля</td>\n",
       "    </tr>\n",
       "    <tr>\n",
       "      <th>19</th>\n",
       "      <td>0</td>\n",
       "      <td>-10038.818549</td>\n",
       "      <td>48</td>\n",
       "      <td>СРЕДНЕЕ</td>\n",
       "      <td>1</td>\n",
       "      <td>в разводе</td>\n",
       "      <td>3</td>\n",
       "      <td>F</td>\n",
       "      <td>сотрудник</td>\n",
       "      <td>0</td>\n",
       "      <td>242831.107982</td>\n",
       "      <td>на покупку своего автомобиля</td>\n",
       "    </tr>\n",
       "  </tbody>\n",
       "</table>\n",
       "</div>"
      ],
      "text/plain": [
       "    children  days_employed  dob_years            education  education_id  \\\n",
       "0          1   -8437.673028         42               высшее             0   \n",
       "1          1   -4024.803754         36              среднее             1   \n",
       "2          0   -5623.422610         33              Среднее             1   \n",
       "3          3   -4124.747207         32              среднее             1   \n",
       "4          0  340266.072047         53              среднее             1   \n",
       "5          0    -926.185831         27               высшее             0   \n",
       "6          0   -2879.202052         43               высшее             0   \n",
       "7          0    -152.779569         50              СРЕДНЕЕ             1   \n",
       "8          2   -6929.865299         35               ВЫСШЕЕ             0   \n",
       "9          0   -2188.756445         41              среднее             1   \n",
       "10         2   -4171.483647         36               высшее             0   \n",
       "11         0    -792.701887         40              среднее             1   \n",
       "12         0            NaN         65              среднее             1   \n",
       "13         0   -1846.641941         54  неоконченное высшее             2   \n",
       "14         0   -1844.956182         56               высшее             0   \n",
       "15         1    -972.364419         26              среднее             1   \n",
       "16         0   -1719.934226         35              среднее             1   \n",
       "17         0   -2369.999720         33               высшее             0   \n",
       "18         0  400281.136913         53              среднее             1   \n",
       "19         0  -10038.818549         48              СРЕДНЕЕ             1   \n",
       "\n",
       "       family_status  family_status_id gender income_type  debt  \\\n",
       "0    женат / замужем                 0      F   сотрудник     0   \n",
       "1    женат / замужем                 0      F   сотрудник     0   \n",
       "2    женат / замужем                 0      M   сотрудник     0   \n",
       "3    женат / замужем                 0      M   сотрудник     0   \n",
       "4   гражданский брак                 1      F   пенсионер     0   \n",
       "5   гражданский брак                 1      M   компаньон     0   \n",
       "6    женат / замужем                 0      F   компаньон     0   \n",
       "7    женат / замужем                 0      M   сотрудник     0   \n",
       "8   гражданский брак                 1      F   сотрудник     0   \n",
       "9    женат / замужем                 0      M   сотрудник     0   \n",
       "10   женат / замужем                 0      M   компаньон     0   \n",
       "11   женат / замужем                 0      F   сотрудник     0   \n",
       "12  гражданский брак                 1      M   пенсионер     0   \n",
       "13   женат / замужем                 0      F   сотрудник     0   \n",
       "14  гражданский брак                 1      F   компаньон     1   \n",
       "15   женат / замужем                 0      F   сотрудник     0   \n",
       "16   женат / замужем                 0      F   сотрудник     0   \n",
       "17  гражданский брак                 1      M   сотрудник     0   \n",
       "18    вдовец / вдова                 2      F   пенсионер     0   \n",
       "19         в разводе                 3      F   сотрудник     0   \n",
       "\n",
       "     total_income                                 purpose  \n",
       "0   253875.639453                           покупка жилья  \n",
       "1   112080.014102                 приобретение автомобиля  \n",
       "2   145885.952297                           покупка жилья  \n",
       "3   267628.550329              дополнительное образование  \n",
       "4   158616.077870                         сыграть свадьбу  \n",
       "5   255763.565419                           покупка жилья  \n",
       "6   240525.971920                       операции с жильем  \n",
       "7   135823.934197                             образование  \n",
       "8    95856.832424                   на проведение свадьбы  \n",
       "9   144425.938277                 покупка жилья для семьи  \n",
       "10  113943.491460                    покупка недвижимости  \n",
       "11   77069.234271       покупка коммерческой недвижимости  \n",
       "12            NaN                         сыграть свадьбу  \n",
       "13  130458.228857                 приобретение автомобиля  \n",
       "14  165127.911772              покупка жилой недвижимости  \n",
       "15  116820.904450  строительство собственной недвижимости  \n",
       "16  289202.704229                            недвижимость  \n",
       "17   90410.586745              строительство недвижимости  \n",
       "18   56823.777243      на покупку подержанного автомобиля  \n",
       "19  242831.107982            на покупку своего автомобиля  "
      ]
     },
     "execution_count": 2,
     "metadata": {},
     "output_type": "execute_result"
    }
   ],
   "source": [
    "data.head(20)"
   ]
  },
  {
   "cell_type": "code",
   "execution_count": 3,
   "id": "2b757bca",
   "metadata": {
    "deletable": false,
    "id": "2b757bca",
    "outputId": "15376089-8dad-46c9-b520-c05248d43158"
   },
   "outputs": [
    {
     "name": "stdout",
     "output_type": "stream",
     "text": [
      "<class 'pandas.core.frame.DataFrame'>\n",
      "RangeIndex: 21525 entries, 0 to 21524\n",
      "Data columns (total 12 columns):\n",
      " #   Column            Non-Null Count  Dtype  \n",
      "---  ------            --------------  -----  \n",
      " 0   children          21525 non-null  int64  \n",
      " 1   days_employed     19351 non-null  float64\n",
      " 2   dob_years         21525 non-null  int64  \n",
      " 3   education         21525 non-null  object \n",
      " 4   education_id      21525 non-null  int64  \n",
      " 5   family_status     21525 non-null  object \n",
      " 6   family_status_id  21525 non-null  int64  \n",
      " 7   gender            21525 non-null  object \n",
      " 8   income_type       21525 non-null  object \n",
      " 9   debt              21525 non-null  int64  \n",
      " 10  total_income      19351 non-null  float64\n",
      " 11  purpose           21525 non-null  object \n",
      "dtypes: float64(2), int64(5), object(5)\n",
      "memory usage: 2.0+ MB\n"
     ]
    }
   ],
   "source": [
    "data.info()"
   ]
  },
  {
   "cell_type": "markdown",
   "id": "333ec665",
   "metadata": {
    "deletable": false,
    "id": "333ec665"
   },
   "source": [
    "## Предобработка данных"
   ]
  },
  {
   "cell_type": "code",
   "execution_count": 4,
   "id": "7f9b2309",
   "metadata": {
    "deletable": false,
    "id": "7f9b2309",
    "outputId": "81f4d817-781c-465c-ed15-91ce4446810d"
   },
   "outputs": [
    {
     "data": {
      "text/plain": [
       "children               0\n",
       "days_employed       2174\n",
       "dob_years              0\n",
       "education              0\n",
       "education_id           0\n",
       "family_status          0\n",
       "family_status_id       0\n",
       "gender                 0\n",
       "income_type            0\n",
       "debt                   0\n",
       "total_income        2174\n",
       "purpose                0\n",
       "dtype: int64"
      ]
     },
     "execution_count": 4,
     "metadata": {},
     "output_type": "execute_result"
    }
   ],
   "source": [
    "data.isna().sum()"
   ]
  },
  {
   "cell_type": "code",
   "execution_count": 5,
   "id": "42006a93",
   "metadata": {
    "deletable": false,
    "id": "42006a93"
   },
   "outputs": [],
   "source": [
    "for t in data['income_type'].unique():\n",
    "    data.loc[(data['income_type'] == t) & (data['total_income'].isna()), 'total_income'] = \\\n",
    "    data.loc[(data['income_type'] == t), 'total_income'].median()"
   ]
  },
  {
   "cell_type": "markdown",
   "id": "89da5ece",
   "metadata": {
    "deletable": false,
    "id": "89da5ece"
   },
   "source": [
    "### Обработка аномальных значений"
   ]
  },
  {
   "cell_type": "code",
   "execution_count": 6,
   "id": "f6f055bf",
   "metadata": {
    "deletable": false,
    "id": "f6f055bf"
   },
   "outputs": [],
   "source": [
    "data['days_employed'] = data['days_employed'].abs()"
   ]
  },
  {
   "cell_type": "code",
   "execution_count": 7,
   "id": "85a5faf6",
   "metadata": {
    "deletable": false,
    "id": "85a5faf6",
    "outputId": "801ef80e-522b-4668-f34e-565af7432bcf"
   },
   "outputs": [
    {
     "data": {
      "text/plain": [
       "income_type\n",
       "безработный        366413.652744\n",
       "в декрете            3296.759962\n",
       "госслужащий          2689.368353\n",
       "компаньон            1547.382223\n",
       "пенсионер          365213.306266\n",
       "предприниматель       520.848083\n",
       "сотрудник            1574.202821\n",
       "студент               578.751554\n",
       "Name: days_employed, dtype: float64"
      ]
     },
     "execution_count": 7,
     "metadata": {},
     "output_type": "execute_result"
    }
   ],
   "source": [
    "data.groupby('income_type')['days_employed'].agg('median')"
   ]
  },
  {
   "cell_type": "markdown",
   "id": "38d1a030",
   "metadata": {
    "deletable": false,
    "id": "38d1a030"
   },
   "source": [
    "У двух типов (безработные и пенсионеры) получатся аномально большие значения. Исправить такие значения сложно, поэтому оставьте их как есть. Тем более этот столбец не понадобится вам для исследования."
   ]
  },
  {
   "cell_type": "code",
   "execution_count": 8,
   "id": "ef5056eb",
   "metadata": {
    "deletable": false,
    "id": "ef5056eb",
    "outputId": "6975b15c-7f95-4697-d16d-a0c79b657b03"
   },
   "outputs": [
    {
     "data": {
      "text/plain": [
       "array([ 1,  0,  3,  2, -1,  4, 20,  5])"
      ]
     },
     "execution_count": 8,
     "metadata": {},
     "output_type": "execute_result"
    }
   ],
   "source": [
    "data['children'].unique()"
   ]
  },
  {
   "cell_type": "code",
   "execution_count": 9,
   "id": "3ff9801d",
   "metadata": {
    "deletable": false,
    "id": "3ff9801d"
   },
   "outputs": [],
   "source": [
    "data = data[(data['children'] != -1) & (data['children'] != 20)]"
   ]
  },
  {
   "cell_type": "code",
   "execution_count": 10,
   "id": "ad4fa8b7",
   "metadata": {
    "deletable": false,
    "id": "ad4fa8b7",
    "outputId": "b2097101-d49d-44d9-901b-32a65c9463d1"
   },
   "outputs": [
    {
     "data": {
      "text/plain": [
       "array([1, 0, 3, 2, 4, 5])"
      ]
     },
     "execution_count": 10,
     "metadata": {},
     "output_type": "execute_result"
    }
   ],
   "source": [
    "data['children'].unique()"
   ]
  },
  {
   "cell_type": "code",
   "execution_count": 11,
   "id": "af6b1a7e",
   "metadata": {
    "deletable": false,
    "id": "af6b1a7e"
   },
   "outputs": [],
   "source": [
    "for t in data['income_type'].unique():\n",
    "    data.loc[(data['income_type'] == t) & (data['days_employed'].isna()), 'days_employed'] = \\\n",
    "    data.loc[(data['income_type'] == t), 'days_employed'].median()"
   ]
  },
  {
   "cell_type": "code",
   "execution_count": 12,
   "id": "55f78bc2",
   "metadata": {
    "deletable": false,
    "id": "55f78bc2",
    "outputId": "8da1e4e1-358e-4e87-98c9-f261bce0a7b2"
   },
   "outputs": [
    {
     "data": {
      "text/plain": [
       "children            0\n",
       "days_employed       0\n",
       "dob_years           0\n",
       "education           0\n",
       "education_id        0\n",
       "family_status       0\n",
       "family_status_id    0\n",
       "gender              0\n",
       "income_type         0\n",
       "debt                0\n",
       "total_income        0\n",
       "purpose             0\n",
       "dtype: int64"
      ]
     },
     "execution_count": 12,
     "metadata": {},
     "output_type": "execute_result"
    }
   ],
   "source": [
    "data.isna().sum()"
   ]
  },
  {
   "cell_type": "markdown",
   "id": "ddc81e43",
   "metadata": {
    "deletable": false,
    "id": "ddc81e43"
   },
   "source": [
    "### Изменение типов данных"
   ]
  },
  {
   "cell_type": "code",
   "execution_count": 13,
   "id": "920b65ad",
   "metadata": {
    "deletable": false,
    "id": "920b65ad"
   },
   "outputs": [],
   "source": [
    "data['total_income'] = data['total_income'].astype(int)"
   ]
  },
  {
   "cell_type": "markdown",
   "id": "80c420ba",
   "metadata": {
    "deletable": false,
    "id": "80c420ba"
   },
   "source": [
    "### Обработка дубликатов"
   ]
  },
  {
   "cell_type": "code",
   "execution_count": 14,
   "id": "3ee445e4",
   "metadata": {
    "deletable": false,
    "id": "3ee445e4",
    "outputId": "9684deba-1934-42d1-99e1-cda61740f822"
   },
   "outputs": [
    {
     "data": {
      "text/plain": [
       "54"
      ]
     },
     "execution_count": 14,
     "metadata": {},
     "output_type": "execute_result"
    }
   ],
   "source": [
    "data.duplicated().sum()"
   ]
  },
  {
   "cell_type": "code",
   "execution_count": 15,
   "id": "8575fe05",
   "metadata": {
    "deletable": false,
    "id": "8575fe05"
   },
   "outputs": [],
   "source": [
    "data = data.drop_duplicates()"
   ]
  },
  {
   "cell_type": "code",
   "execution_count": 16,
   "id": "a9f8e2bf",
   "metadata": {
    "deletable": false,
    "id": "a9f8e2bf"
   },
   "outputs": [],
   "source": [
    "data['education'] = data['education'].str.lower()"
   ]
  },
  {
   "cell_type": "markdown",
   "id": "9904cf55",
   "metadata": {
    "deletable": false,
    "id": "9904cf55"
   },
   "source": [
    "### Категоризация данных"
   ]
  },
  {
   "attachments": {},
   "cell_type": "markdown",
   "id": "72fcc8a2",
   "metadata": {
    "deletable": false,
    "id": "72fcc8a2"
   },
   "source": [
    "Создание столбца `total_income_category` с категориями:\n",
    "\n",
    "- 0–30000 — `'E'`;\n",
    "- 30001–50000 — `'D'`;\n",
    "- 50001–200000 — `'C'`;\n",
    "- 200001–1000000 — `'B'`;\n",
    "- 1000001 и выше — `'A'`.\n"
   ]
  },
  {
   "cell_type": "code",
   "execution_count": 17,
   "id": "e1771346",
   "metadata": {
    "deletable": false,
    "id": "e1771346"
   },
   "outputs": [],
   "source": [
    "def categorize_income(income):\n",
    "    try:\n",
    "        if 0 <= income <= 30000:\n",
    "            return 'E'\n",
    "        elif 30001 <= income <= 50000:\n",
    "            return 'D'\n",
    "        elif 50001 <= income <= 200000:\n",
    "            return 'C'\n",
    "        elif 200001 <= income <= 1000000:\n",
    "            return 'B'\n",
    "        elif income >= 1000001:\n",
    "            return 'A'\n",
    "    except:\n",
    "        pass"
   ]
  },
  {
   "cell_type": "code",
   "execution_count": 18,
   "id": "d5f3586d",
   "metadata": {
    "deletable": false,
    "id": "d5f3586d"
   },
   "outputs": [],
   "source": [
    "data['total_income_category'] = data['total_income'].apply(categorize_income)"
   ]
  },
  {
   "cell_type": "code",
   "execution_count": 19,
   "id": "f67ce9b3",
   "metadata": {
    "deletable": false,
    "id": "f67ce9b3",
    "outputId": "673c12d9-7d7e-4ae0-9812-c622c89dd244"
   },
   "outputs": [
    {
     "data": {
      "text/plain": [
       "array(['покупка жилья', 'приобретение автомобиля',\n",
       "       'дополнительное образование', 'сыграть свадьбу',\n",
       "       'операции с жильем', 'образование', 'на проведение свадьбы',\n",
       "       'покупка жилья для семьи', 'покупка недвижимости',\n",
       "       'покупка коммерческой недвижимости', 'покупка жилой недвижимости',\n",
       "       'строительство собственной недвижимости', 'недвижимость',\n",
       "       'строительство недвижимости', 'на покупку подержанного автомобиля',\n",
       "       'на покупку своего автомобиля',\n",
       "       'операции с коммерческой недвижимостью',\n",
       "       'строительство жилой недвижимости', 'жилье',\n",
       "       'операции со своей недвижимостью', 'автомобили',\n",
       "       'заняться образованием', 'сделка с подержанным автомобилем',\n",
       "       'получение образования', 'автомобиль', 'свадьба',\n",
       "       'получение дополнительного образования', 'покупка своего жилья',\n",
       "       'операции с недвижимостью', 'получение высшего образования',\n",
       "       'свой автомобиль', 'сделка с автомобилем',\n",
       "       'профильное образование', 'высшее образование',\n",
       "       'покупка жилья для сдачи', 'на покупку автомобиля', 'ремонт жилью',\n",
       "       'заняться высшим образованием'], dtype=object)"
      ]
     },
     "execution_count": 19,
     "metadata": {},
     "output_type": "execute_result"
    }
   ],
   "source": [
    "data['purpose'].unique()"
   ]
  },
  {
   "attachments": {},
   "cell_type": "markdown",
   "id": "85d0aef0",
   "metadata": {
    "deletable": false,
    "id": "85d0aef0"
   },
   "source": [
    "Создание столбца `purpose_category`с категориями:\n",
    "\n",
    "- `'операции с автомобилем'`,\n",
    "- `'операции с недвижимостью'`,\n",
    "- `'проведение свадьбы'`,\n",
    "- `'получение образования'`.\n"
   ]
  },
  {
   "cell_type": "code",
   "execution_count": 20,
   "id": "e149fab4",
   "metadata": {
    "deletable": false,
    "id": "e149fab4"
   },
   "outputs": [],
   "source": [
    "def categorize_purpose(row):\n",
    "    try:\n",
    "        if 'автом' in row:\n",
    "            return 'операции с автомобилем'\n",
    "        elif 'жил' in row or 'недвиж' in row:\n",
    "            return 'операции с недвижимостью'\n",
    "        elif 'свад' in row:\n",
    "            return 'проведение свадьбы'\n",
    "        elif 'образов' in row:\n",
    "            return 'получение образования'\n",
    "    except:\n",
    "        return 'нет категории'"
   ]
  },
  {
   "cell_type": "code",
   "execution_count": 21,
   "id": "bf36e69b",
   "metadata": {
    "deletable": false,
    "id": "bf36e69b"
   },
   "outputs": [],
   "source": [
    "data['purpose_category'] = data['purpose'].apply(categorize_purpose)"
   ]
  },
  {
   "cell_type": "markdown",
   "id": "09b242bf",
   "metadata": {
    "deletable": false,
    "editable": false,
    "id": "09b242bf"
   },
   "source": [
    "## Исследуйте данные и ответьте на вопросы"
   ]
  },
  {
   "cell_type": "code",
   "execution_count": 22,
   "id": "2cacfc4a",
   "metadata": {
    "id": "2cacfc4a"
   },
   "outputs": [
    {
     "name": "stdout",
     "output_type": "stream",
     "text": [
      "          count_of_debtors  sum_of_debtors  percentage_of_debtors\n",
      "children                                                         \n",
      "0                    14107            1063               7.535266\n",
      "1                     4809             444               9.232689\n",
      "2                     2052             194               9.454191\n",
      "3                      330              27               8.181818\n",
      "4                       41               4               9.756098\n",
      "5                        9               0               0.000000\n"
     ]
    }
   ],
   "source": [
    "data_from_children = pd.DataFrame()\n",
    "data_from_children['count_of_debtors'] = data.groupby('children')['debt'].count()# Подсчет количества семей с определенным количеством детей, взявших кредит\n",
    "data_from_children['sum_of_debtors'] = data.groupby('children')['debt'].sum()# Подсчет количества семей с определенным количеством детей, имеющих задолженность по кредиту \n",
    "data_from_children['percentage_of_debtors'] = data_from_children['sum_of_debtors']/data_from_children['count_of_debtors']*100# Расчет процента семей с определенным количеством детей, имеющих задолженность\n",
    "print(data_from_children)\n"
   ]
  },
  {
   "cell_type": "markdown",
   "id": "3a6b99ec",
   "metadata": {
    "deletable": false,
    "id": "3a6b99ec"
   },
   "source": [
    "**Вывод:** Результаты для семей с 4 и 5 детьми не учитываются при составлении вывода, так как являются статистически не значимыми. Можно сказать, что при отсутствии детей, вероятность выплатить кредит в срок выше, чем с 1 ребенком или 2 детьми в семье. При этом разница в проценте должников между семьями с 1 ребенком и 2 детьми мала. **Следовательно, есть зависимость между наличием детей и возвратом кредита в срок.** "
   ]
  },
  {
   "cell_type": "code",
   "execution_count": 23,
   "id": "dc3f7ee8",
   "metadata": {
    "id": "dc3f7ee8"
   },
   "outputs": [
    {
     "name": "stdout",
     "output_type": "stream",
     "text": [
      "                       count_of_debtors  sum_of_debtors  percentage_of_debtors\n",
      "family_status                                                                 \n",
      "вдовец / вдова                      951              63               6.624606\n",
      "в разводе                          1189              84               7.064760\n",
      "женат / замужем                   12266             927               7.557476\n",
      "гражданский брак                   4146             385               9.286059\n",
      "Не женат / не замужем              2796             273               9.763948\n"
     ]
    }
   ],
   "source": [
    "data_family_status= pd.DataFrame()\n",
    "data_family_status['count_of_debtors'] = data.groupby('family_status')['debt'].count()# Подсчет количества клиентов с определенным семейным статусом, взявших вредит\n",
    "data_family_status['sum_of_debtors'] = data.groupby('family_status')['debt'].sum()# Подсчет количества клиентов с определенным семейным статусом, имеющих задолженность по кредиту \n",
    "data_family_status['percentage_of_debtors'] = data_family_status['sum_of_debtors']/data_family_status['count_of_debtors']*100# Расчет процента клиентов с определенным семейным статусом, имеющих задолженность\n",
    "print(data_family_status.sort_values(by='percentage_of_debtors'))\n",
    "# Ваш код будет здесь. Вы можете создавать новые ячейки."
   ]
  },
  {
   "cell_type": "markdown",
   "id": "1cef7837",
   "metadata": {
    "deletable": false,
    "id": "1cef7837"
   },
   "source": [
    "**Вывод:** результаты для пользователей с семейным статусом вдовец/вдова и в разводе можно отбросить как статистически не значимые. \n",
    "**Зависимость между семейным положением и возвратом кредита в срок есть.** Женатые/замужние заемщики вероятнее возвращают кредит в срок, чем не женатые/не замужние, что может быть связано с общим семейным бюждетом, характерным для брака."
   ]
  },
  {
   "cell_type": "code",
   "execution_count": 24,
   "id": "cd7e3720",
   "metadata": {
    "id": "cd7e3720"
   },
   "outputs": [
    {
     "data": {
      "text/html": [
       "<div>\n",
       "<style scoped>\n",
       "    .dataframe tbody tr th:only-of-type {\n",
       "        vertical-align: middle;\n",
       "    }\n",
       "\n",
       "    .dataframe tbody tr th {\n",
       "        vertical-align: top;\n",
       "    }\n",
       "\n",
       "    .dataframe thead th {\n",
       "        text-align: right;\n",
       "    }\n",
       "</style>\n",
       "<table border=\"1\" class=\"dataframe\">\n",
       "  <thead>\n",
       "    <tr style=\"text-align: right;\">\n",
       "      <th></th>\n",
       "      <th>count_of_debtors</th>\n",
       "      <th>sum_of_debtors</th>\n",
       "      <th>percentage_of_debtors</th>\n",
       "    </tr>\n",
       "    <tr>\n",
       "      <th>total_income_category</th>\n",
       "      <th></th>\n",
       "      <th></th>\n",
       "      <th></th>\n",
       "    </tr>\n",
       "  </thead>\n",
       "  <tbody>\n",
       "    <tr>\n",
       "      <th>B</th>\n",
       "      <td>5014</td>\n",
       "      <td>354</td>\n",
       "      <td>7.060231</td>\n",
       "    </tr>\n",
       "    <tr>\n",
       "      <th>C</th>\n",
       "      <td>15938</td>\n",
       "      <td>1353</td>\n",
       "      <td>8.489145</td>\n",
       "    </tr>\n",
       "  </tbody>\n",
       "</table>\n",
       "</div>"
      ],
      "text/plain": [
       "                       count_of_debtors  sum_of_debtors  percentage_of_debtors\n",
       "total_income_category                                                         \n",
       "B                                  5014             354               7.060231\n",
       "C                                 15938            1353               8.489145"
      ]
     },
     "metadata": {},
     "output_type": "display_data"
    }
   ],
   "source": [
    "\n",
    "data_from_income = pd.DataFrame()\n",
    "#data['total_income_category_my'] = pd.qcut(data['total_income'], 4)# Разбивка данных на 4 одинаковые (по количеству клиентов) группы по уровню дохода\n",
    "#data_from_income['count_of_debtors'] = data.groupby('total_income_category_my')['debt'].count()# Подсчет количества клиентов с определенным доходом, взявших вредит\n",
    "#data_from_income['sum_of_debtors'] = data.groupby('total_income_category_my')['debt'].sum()# Подсчет количества клиентов с определенным доходом, имеющих задолженность по кредиту \n",
    "#data_from_income['percentage_of_debtors'] = data_from_income['sum_of_debtors']/data_from_income['count_of_debtors']*100# Расчет процента клиентов с определенным доходом, имеющих задолженность\n",
    "\n",
    "data_from_income['count_of_debtors'] = data.groupby('total_income_category')['debt'].count()# Подсчет количества клиентов с определенным доходом, взявших вредит\n",
    "data_from_income['sum_of_debtors'] = data.groupby('total_income_category')['debt'].sum()# Подсчет количества клиентов с определенным доходом, имеющих задолженность по кредиту \n",
    "data_from_income['percentage_of_debtors'] = data_from_income['sum_of_debtors']/data_from_income['count_of_debtors']*100# Расчет процента клиентов с определенным доходом, имеющих задолженность\n",
    "    \n",
    "display(data_from_income[data_from_income['count_of_debtors'] > 5000].sort_values(by='percentage_of_debtors'))\n",
    "\n",
    "# Ваш код будет здесь. Вы можете создавать новые ячейки."
   ]
  },
  {
   "cell_type": "markdown",
   "id": "e8593def",
   "metadata": {
    "deletable": false,
    "id": "e8593def"
   },
   "source": [
    "**Вывод:** Наименьшее количество должников характерно для группы людей с доходом от 195 тыс., для остальных групп должников разница мала.\n",
    "**Зависимость между уровнем дохода и возвратом кредита в срок есть, при доходе от 195 тыс. рублей процент задолженности снижается.**"
   ]
  },
  {
   "cell_type": "markdown",
   "id": "920000e2",
   "metadata": {},
   "source": [
    "<div class=\"alert-info\">\n",
    " С увеличением дохода процент должников снижается.</div>"
   ]
  },
  {
   "cell_type": "code",
   "execution_count": 25,
   "id": "2b687290",
   "metadata": {
    "id": "2b687290"
   },
   "outputs": [
    {
     "name": "stdout",
     "output_type": "stream",
     "text": [
      "                          count_of_debtors  sum_of_debtors  \\\n",
      "purpose_category                                             \n",
      "операции с недвижимостью             10754             780   \n",
      "проведение свадьбы                    2324             183   \n",
      "получение образования                 3989             369   \n",
      "операции с автомобилем                4281             400   \n",
      "\n",
      "                          percentage_of_debtors  \n",
      "purpose_category                                 \n",
      "операции с недвижимостью               7.253115  \n",
      "проведение свадьбы                     7.874355  \n",
      "получение образования                  9.250439  \n",
      "операции с автомобилем                 9.343611  \n"
     ]
    }
   ],
   "source": [
    "data_from_purpose = pd.DataFrame()\n",
    "data_from_purpose['count_of_debtors'] = data.groupby('purpose_category')['debt'].count()# Подсчет количества клиентов с определенной целью, взявших вредит\n",
    "data_from_purpose['sum_of_debtors'] = data.groupby('purpose_category')['debt'].sum()# Подсчет количества клиентов с определенной целью, имеющих задолженность по кредиту \n",
    "data_from_purpose['percentage_of_debtors'] = data_from_purpose['sum_of_debtors']/data_from_purpose['count_of_debtors']*100# Расчет процента клиентов с определенной целью, имеющих задолженность\n",
    "\n",
    "print(data_from_purpose.sort_values(by='percentage_of_debtors'))\n",
    "\n",
    "# Ваш код будет здесь. Вы можете создавать новые ячейки."
   ]
  },
  {
   "cell_type": "markdown",
   "id": "b4bb2ce6",
   "metadata": {
    "deletable": false,
    "id": "b4bb2ce6"
   },
   "source": [
    "**Вывод:** Некорректно сравнивать кредит на недвижимость с другими целями из-за огромного различия в объеме данных по этим группам. \n",
    "Процент заемщиков с целью \"свадьба\" меньше, чем заемщиков с целью \"образование\" или \"автомобиль\", что может быть связано с суммой необходимой для данной цели. Чем меньше сумма кредита, тем меньше должников.\n"
   ]
  },
  {
   "cell_type": "markdown",
   "id": "6db5255a",
   "metadata": {
    "deletable": false,
    "editable": false,
    "id": "6db5255a"
   },
   "source": [
    "## Общий вывод."
   ]
  },
  {
   "cell_type": "markdown",
   "id": "f860ebd9",
   "metadata": {},
   "source": [
    "**Задача проекта:** Влияет ли семейное положение и количество детей на факт погашения кредита в срок?\n",
    "**Ответ:** Да, влияет. При оценке кредитоспособности клиента следует \n",
    "обратить внимание на семейное положение и наличие детей,\n",
    "так как семейные клиенты и клиенты без детей\n",
    "вероятнее выплатят кредит в срок."
   ]
  }
 ],
 "metadata": {
  "ExecuteTimeLog": [
   {
    "duration": 458,
    "start_time": "2022-08-03T07:47:07.897Z"
   },
   {
    "duration": 22,
    "start_time": "2022-08-03T07:47:24.097Z"
   },
   {
    "duration": 65,
    "start_time": "2022-08-03T07:50:15.472Z"
   },
   {
    "duration": 20,
    "start_time": "2022-08-03T07:50:15.539Z"
   },
   {
    "duration": 38,
    "start_time": "2022-08-03T07:50:15.561Z"
   },
   {
    "duration": 12,
    "start_time": "2022-08-03T07:50:15.601Z"
   },
   {
    "duration": 42,
    "start_time": "2022-08-03T07:50:15.616Z"
   },
   {
    "duration": 4,
    "start_time": "2022-08-03T07:50:15.666Z"
   },
   {
    "duration": 20,
    "start_time": "2022-08-03T07:50:15.672Z"
   },
   {
    "duration": 6,
    "start_time": "2022-08-03T07:50:15.694Z"
   },
   {
    "duration": 16,
    "start_time": "2022-08-03T07:50:15.702Z"
   },
   {
    "duration": 6,
    "start_time": "2022-08-03T07:50:15.720Z"
   },
   {
    "duration": 44,
    "start_time": "2022-08-03T07:50:15.728Z"
   },
   {
    "duration": 10,
    "start_time": "2022-08-03T07:50:15.773Z"
   },
   {
    "duration": 8,
    "start_time": "2022-08-03T07:50:15.784Z"
   },
   {
    "duration": 37,
    "start_time": "2022-08-03T07:50:15.796Z"
   },
   {
    "duration": 16,
    "start_time": "2022-08-03T07:50:15.834Z"
   },
   {
    "duration": 24,
    "start_time": "2022-08-03T07:50:15.852Z"
   },
   {
    "duration": 7,
    "start_time": "2022-08-03T07:50:15.878Z"
   },
   {
    "duration": 12,
    "start_time": "2022-08-03T07:50:15.886Z"
   },
   {
    "duration": 6,
    "start_time": "2022-08-03T07:50:15.900Z"
   },
   {
    "duration": 3,
    "start_time": "2022-08-03T07:50:15.908Z"
   },
   {
    "duration": 14,
    "start_time": "2022-08-03T07:50:15.913Z"
   },
   {
    "duration": 2,
    "start_time": "2022-08-03T07:50:15.929Z"
   },
   {
    "duration": 4,
    "start_time": "2022-08-03T07:50:15.933Z"
   },
   {
    "duration": 5,
    "start_time": "2022-08-03T07:50:15.952Z"
   },
   {
    "duration": 9,
    "start_time": "2022-08-03T07:50:15.958Z"
   },
   {
    "duration": 70,
    "start_time": "2022-08-03T08:01:58.368Z"
   },
   {
    "duration": 24,
    "start_time": "2022-08-03T08:01:58.440Z"
   },
   {
    "duration": 20,
    "start_time": "2022-08-03T08:01:58.466Z"
   },
   {
    "duration": 10,
    "start_time": "2022-08-03T08:01:58.488Z"
   },
   {
    "duration": 30,
    "start_time": "2022-08-03T08:01:58.500Z"
   },
   {
    "duration": 29,
    "start_time": "2022-08-03T08:01:58.532Z"
   },
   {
    "duration": 15,
    "start_time": "2022-08-03T08:01:58.562Z"
   },
   {
    "duration": 6,
    "start_time": "2022-08-03T08:01:58.579Z"
   },
   {
    "duration": 8,
    "start_time": "2022-08-03T08:01:58.587Z"
   },
   {
    "duration": 23,
    "start_time": "2022-08-03T08:01:58.597Z"
   },
   {
    "duration": 53,
    "start_time": "2022-08-03T08:01:58.623Z"
   },
   {
    "duration": 10,
    "start_time": "2022-08-03T08:01:58.677Z"
   },
   {
    "duration": 4,
    "start_time": "2022-08-03T08:01:58.689Z"
   },
   {
    "duration": 18,
    "start_time": "2022-08-03T08:01:58.696Z"
   },
   {
    "duration": 16,
    "start_time": "2022-08-03T08:01:58.715Z"
   },
   {
    "duration": 35,
    "start_time": "2022-08-03T08:01:58.732Z"
   },
   {
    "duration": 5,
    "start_time": "2022-08-03T08:01:58.769Z"
   },
   {
    "duration": 12,
    "start_time": "2022-08-03T08:01:58.775Z"
   },
   {
    "duration": 10,
    "start_time": "2022-08-03T08:01:58.788Z"
   },
   {
    "duration": 10,
    "start_time": "2022-08-03T08:01:58.799Z"
   },
   {
    "duration": 9,
    "start_time": "2022-08-03T08:01:58.811Z"
   },
   {
    "duration": 2,
    "start_time": "2022-08-03T08:01:58.822Z"
   },
   {
    "duration": 6,
    "start_time": "2022-08-03T08:01:58.825Z"
   },
   {
    "duration": 10,
    "start_time": "2022-08-03T08:01:58.832Z"
   },
   {
    "duration": 29,
    "start_time": "2022-08-03T08:01:58.844Z"
   },
   {
    "duration": 12,
    "start_time": "2022-08-03T08:08:34.200Z"
   },
   {
    "duration": 4,
    "start_time": "2022-08-03T08:12:04.860Z"
   },
   {
    "duration": 6,
    "start_time": "2022-08-03T08:12:42.978Z"
   },
   {
    "duration": 5,
    "start_time": "2022-08-03T08:13:11.419Z"
   },
   {
    "duration": 5,
    "start_time": "2022-08-03T08:14:59.639Z"
   },
   {
    "duration": 3,
    "start_time": "2022-08-03T08:16:55.497Z"
   },
   {
    "duration": 3,
    "start_time": "2022-08-03T08:17:31.023Z"
   },
   {
    "duration": 5,
    "start_time": "2022-08-03T08:17:53.233Z"
   },
   {
    "duration": 6,
    "start_time": "2022-08-03T08:20:54.983Z"
   },
   {
    "duration": 6,
    "start_time": "2022-08-03T08:21:08.768Z"
   },
   {
    "duration": 5,
    "start_time": "2022-08-03T08:21:35.074Z"
   },
   {
    "duration": 6,
    "start_time": "2022-08-03T08:21:43.380Z"
   },
   {
    "duration": 8,
    "start_time": "2022-08-03T08:21:57.060Z"
   },
   {
    "duration": 74,
    "start_time": "2022-08-03T08:27:26.837Z"
   },
   {
    "duration": 8,
    "start_time": "2022-08-03T08:27:42.085Z"
   },
   {
    "duration": 7,
    "start_time": "2022-08-03T08:28:51.605Z"
   },
   {
    "duration": 942,
    "start_time": "2022-08-03T08:29:21.123Z"
   },
   {
    "duration": 7,
    "start_time": "2022-08-03T08:29:34.028Z"
   },
   {
    "duration": 1266,
    "start_time": "2022-08-03T08:29:51.235Z"
   },
   {
    "duration": 7,
    "start_time": "2022-08-03T08:30:17.274Z"
   },
   {
    "duration": 6,
    "start_time": "2022-08-03T08:30:33.079Z"
   },
   {
    "duration": 1277,
    "start_time": "2022-08-03T08:30:57.224Z"
   },
   {
    "duration": 10,
    "start_time": "2022-08-03T08:31:06.041Z"
   },
   {
    "duration": 12,
    "start_time": "2022-08-03T08:39:03.962Z"
   },
   {
    "duration": 12,
    "start_time": "2022-08-03T08:39:43.496Z"
   },
   {
    "duration": 10,
    "start_time": "2022-08-03T08:41:51.365Z"
   },
   {
    "duration": 8,
    "start_time": "2022-08-03T08:42:12.272Z"
   },
   {
    "duration": 30,
    "start_time": "2022-08-03T08:49:37.887Z"
   },
   {
    "duration": 1300,
    "start_time": "2022-08-03T08:49:44.963Z"
   },
   {
    "duration": 11,
    "start_time": "2022-08-03T08:50:02.550Z"
   },
   {
    "duration": 14,
    "start_time": "2022-08-03T08:50:37.707Z"
   },
   {
    "duration": 1264,
    "start_time": "2022-08-03T08:51:00.838Z"
   },
   {
    "duration": 8,
    "start_time": "2022-08-03T08:51:15.438Z"
   },
   {
    "duration": 9,
    "start_time": "2022-08-03T08:51:37.938Z"
   },
   {
    "duration": 9,
    "start_time": "2022-08-03T08:51:53.581Z"
   },
   {
    "duration": 9,
    "start_time": "2022-08-03T08:52:02.261Z"
   },
   {
    "duration": 9,
    "start_time": "2022-08-03T08:52:09.539Z"
   },
   {
    "duration": 10,
    "start_time": "2022-08-03T08:54:16.469Z"
   },
   {
    "duration": 9,
    "start_time": "2022-08-03T08:54:28.909Z"
   },
   {
    "duration": 1245,
    "start_time": "2022-08-03T08:54:40.252Z"
   },
   {
    "duration": 9,
    "start_time": "2022-08-03T08:54:58.559Z"
   },
   {
    "duration": 21,
    "start_time": "2022-08-03T08:55:31.901Z"
   },
   {
    "duration": 7,
    "start_time": "2022-08-03T08:55:45.643Z"
   },
   {
    "duration": 957,
    "start_time": "2022-08-03T08:56:01.644Z"
   },
   {
    "duration": 936,
    "start_time": "2022-08-03T08:56:26.484Z"
   },
   {
    "duration": 6,
    "start_time": "2022-08-03T08:56:34.138Z"
   },
   {
    "duration": 6,
    "start_time": "2022-08-03T08:56:41.006Z"
   },
   {
    "duration": 8,
    "start_time": "2022-08-03T08:56:53.911Z"
   },
   {
    "duration": 5,
    "start_time": "2022-08-03T08:57:01.629Z"
   },
   {
    "duration": 80,
    "start_time": "2022-08-03T08:57:45.848Z"
   },
   {
    "duration": 5,
    "start_time": "2022-08-03T09:00:11.888Z"
   },
   {
    "duration": 1497,
    "start_time": "2022-08-03T09:00:27.847Z"
   },
   {
    "duration": 5,
    "start_time": "2022-08-03T09:00:34.565Z"
   },
   {
    "duration": 6,
    "start_time": "2022-08-03T09:00:40.801Z"
   },
   {
    "duration": 1274,
    "start_time": "2022-08-03T09:03:14.912Z"
   },
   {
    "duration": 7,
    "start_time": "2022-08-03T09:06:28.357Z"
   },
   {
    "duration": 1206,
    "start_time": "2022-08-03T09:07:17.710Z"
   },
   {
    "duration": 338,
    "start_time": "2022-08-03T09:08:38.229Z"
   },
   {
    "duration": 339,
    "start_time": "2022-08-03T09:09:01.670Z"
   },
   {
    "duration": 2539,
    "start_time": "2022-08-03T09:20:15.028Z"
   },
   {
    "duration": 1151,
    "start_time": "2022-08-03T09:22:12.268Z"
   },
   {
    "duration": 13,
    "start_time": "2022-08-03T09:31:25.387Z"
   },
   {
    "duration": 1324,
    "start_time": "2022-08-03T09:33:00.721Z"
   },
   {
    "duration": 11,
    "start_time": "2022-08-03T09:33:19.444Z"
   },
   {
    "duration": 1014,
    "start_time": "2022-08-03T09:33:27.816Z"
   },
   {
    "duration": 9,
    "start_time": "2022-08-03T09:34:22.250Z"
   },
   {
    "duration": 10,
    "start_time": "2022-08-03T09:34:50.449Z"
   },
   {
    "duration": 9,
    "start_time": "2022-08-03T09:35:13.824Z"
   },
   {
    "duration": 9,
    "start_time": "2022-08-03T09:35:23.356Z"
   },
   {
    "duration": 11,
    "start_time": "2022-08-03T09:36:35.924Z"
   },
   {
    "duration": 12,
    "start_time": "2022-08-03T09:36:40.251Z"
   },
   {
    "duration": 9,
    "start_time": "2022-08-03T09:36:49.519Z"
   },
   {
    "duration": 8,
    "start_time": "2022-08-03T09:36:58.520Z"
   },
   {
    "duration": 8,
    "start_time": "2022-08-03T09:37:10.857Z"
   },
   {
    "duration": 3983,
    "start_time": "2022-08-03T09:40:13.095Z"
   },
   {
    "duration": 922,
    "start_time": "2022-08-03T09:41:15.795Z"
   },
   {
    "duration": 345,
    "start_time": "2022-08-03T09:41:31.126Z"
   },
   {
    "duration": 305,
    "start_time": "2022-08-03T09:41:41.422Z"
   },
   {
    "duration": 333,
    "start_time": "2022-08-03T09:43:08.243Z"
   },
   {
    "duration": 6,
    "start_time": "2022-08-03T09:43:39.484Z"
   },
   {
    "duration": 6,
    "start_time": "2022-08-03T09:43:43.625Z"
   },
   {
    "duration": 7,
    "start_time": "2022-08-03T09:43:49.976Z"
   },
   {
    "duration": 362,
    "start_time": "2022-08-03T09:45:17.666Z"
   },
   {
    "duration": 7,
    "start_time": "2022-08-03T09:47:02.936Z"
   },
   {
    "duration": 6,
    "start_time": "2022-08-03T09:49:25.001Z"
   },
   {
    "duration": 7,
    "start_time": "2022-08-03T09:50:54.591Z"
   },
   {
    "duration": 296,
    "start_time": "2022-08-03T09:53:13.876Z"
   },
   {
    "duration": 295,
    "start_time": "2022-08-03T09:53:18.733Z"
   },
   {
    "duration": 379,
    "start_time": "2022-08-03T09:53:28.039Z"
   },
   {
    "duration": 359,
    "start_time": "2022-08-03T09:53:58.801Z"
   },
   {
    "duration": 8,
    "start_time": "2022-08-03T10:12:58.236Z"
   },
   {
    "duration": 79,
    "start_time": "2022-08-03T10:25:21.476Z"
   },
   {
    "duration": 15,
    "start_time": "2022-08-03T10:25:21.557Z"
   },
   {
    "duration": 15,
    "start_time": "2022-08-03T10:25:21.573Z"
   },
   {
    "duration": 20,
    "start_time": "2022-08-03T10:25:21.590Z"
   },
   {
    "duration": 38,
    "start_time": "2022-08-03T10:25:21.611Z"
   },
   {
    "duration": 3,
    "start_time": "2022-08-03T10:25:21.650Z"
   },
   {
    "duration": 10,
    "start_time": "2022-08-03T10:25:21.655Z"
   },
   {
    "duration": 4,
    "start_time": "2022-08-03T10:25:21.666Z"
   },
   {
    "duration": 6,
    "start_time": "2022-08-03T10:25:21.671Z"
   },
   {
    "duration": 4,
    "start_time": "2022-08-03T10:25:21.679Z"
   },
   {
    "duration": 57,
    "start_time": "2022-08-03T10:25:21.684Z"
   },
   {
    "duration": 7,
    "start_time": "2022-08-03T10:25:21.742Z"
   },
   {
    "duration": 4,
    "start_time": "2022-08-03T10:25:21.751Z"
   },
   {
    "duration": 18,
    "start_time": "2022-08-03T10:25:21.757Z"
   },
   {
    "duration": 29,
    "start_time": "2022-08-03T10:25:21.777Z"
   },
   {
    "duration": 19,
    "start_time": "2022-08-03T10:25:21.817Z"
   },
   {
    "duration": 4,
    "start_time": "2022-08-03T10:25:21.837Z"
   },
   {
    "duration": 12,
    "start_time": "2022-08-03T10:25:21.842Z"
   },
   {
    "duration": 8,
    "start_time": "2022-08-03T10:25:21.855Z"
   },
   {
    "duration": 3,
    "start_time": "2022-08-03T10:25:21.865Z"
   },
   {
    "duration": 17,
    "start_time": "2022-08-03T10:25:21.869Z"
   },
   {
    "duration": 13,
    "start_time": "2022-08-03T10:25:21.888Z"
   },
   {
    "duration": 4,
    "start_time": "2022-08-03T10:25:21.903Z"
   },
   {
    "duration": 20,
    "start_time": "2022-08-03T10:25:21.915Z"
   },
   {
    "duration": 5,
    "start_time": "2022-08-03T10:25:21.936Z"
   },
   {
    "duration": 4,
    "start_time": "2022-08-03T10:27:22.665Z"
   },
   {
    "duration": 11,
    "start_time": "2022-08-03T10:27:33.829Z"
   },
   {
    "duration": 7,
    "start_time": "2022-08-03T10:28:51.236Z"
   },
   {
    "duration": 9,
    "start_time": "2022-08-03T10:28:59.736Z"
   },
   {
    "duration": 63,
    "start_time": "2022-08-03T10:45:59.894Z"
   },
   {
    "duration": 14,
    "start_time": "2022-08-03T10:45:59.959Z"
   },
   {
    "duration": 17,
    "start_time": "2022-08-03T10:45:59.975Z"
   },
   {
    "duration": 15,
    "start_time": "2022-08-03T10:45:59.994Z"
   },
   {
    "duration": 28,
    "start_time": "2022-08-03T10:46:00.012Z"
   },
   {
    "duration": 4,
    "start_time": "2022-08-03T10:46:00.042Z"
   },
   {
    "duration": 14,
    "start_time": "2022-08-03T10:46:00.047Z"
   },
   {
    "duration": 15,
    "start_time": "2022-08-03T10:46:00.062Z"
   },
   {
    "duration": 10,
    "start_time": "2022-08-03T10:46:00.078Z"
   },
   {
    "duration": 22,
    "start_time": "2022-08-03T10:46:00.090Z"
   },
   {
    "duration": 40,
    "start_time": "2022-08-03T10:46:00.113Z"
   },
   {
    "duration": 12,
    "start_time": "2022-08-03T10:46:00.155Z"
   },
   {
    "duration": 18,
    "start_time": "2022-08-03T10:46:00.169Z"
   },
   {
    "duration": 25,
    "start_time": "2022-08-03T10:46:00.190Z"
   },
   {
    "duration": 18,
    "start_time": "2022-08-03T10:46:00.216Z"
   },
   {
    "duration": 11,
    "start_time": "2022-08-03T10:46:00.237Z"
   },
   {
    "duration": 10,
    "start_time": "2022-08-03T10:46:00.249Z"
   },
   {
    "duration": 17,
    "start_time": "2022-08-03T10:46:00.260Z"
   },
   {
    "duration": 7,
    "start_time": "2022-08-03T10:46:00.278Z"
   },
   {
    "duration": 22,
    "start_time": "2022-08-03T10:46:00.287Z"
   },
   {
    "duration": 23,
    "start_time": "2022-08-03T10:46:00.311Z"
   },
   {
    "duration": 10,
    "start_time": "2022-08-03T10:46:00.336Z"
   },
   {
    "duration": 5,
    "start_time": "2022-08-03T10:46:00.348Z"
   },
   {
    "duration": 8,
    "start_time": "2022-08-03T10:46:00.354Z"
   },
   {
    "duration": 12,
    "start_time": "2022-08-03T10:46:00.364Z"
   },
   {
    "duration": 11,
    "start_time": "2022-08-03T10:48:54.744Z"
   },
   {
    "duration": 9,
    "start_time": "2022-08-03T10:49:53.086Z"
   },
   {
    "duration": 13,
    "start_time": "2022-08-03T10:51:10.545Z"
   },
   {
    "duration": 91,
    "start_time": "2022-08-03T10:54:32.353Z"
   },
   {
    "duration": 15,
    "start_time": "2022-08-03T10:55:10.164Z"
   },
   {
    "duration": 21,
    "start_time": "2022-08-03T10:55:26.246Z"
   },
   {
    "duration": 19,
    "start_time": "2022-08-03T10:57:05.503Z"
   },
   {
    "duration": 9,
    "start_time": "2022-08-03T10:58:55.756Z"
   },
   {
    "duration": 79,
    "start_time": "2022-08-03T10:59:35.459Z"
   },
   {
    "duration": 14,
    "start_time": "2022-08-03T10:59:35.540Z"
   },
   {
    "duration": 15,
    "start_time": "2022-08-03T10:59:35.555Z"
   },
   {
    "duration": 14,
    "start_time": "2022-08-03T10:59:35.571Z"
   },
   {
    "duration": 60,
    "start_time": "2022-08-03T10:59:35.588Z"
   },
   {
    "duration": 3,
    "start_time": "2022-08-03T10:59:35.651Z"
   },
   {
    "duration": 18,
    "start_time": "2022-08-03T10:59:35.656Z"
   },
   {
    "duration": 9,
    "start_time": "2022-08-03T10:59:35.676Z"
   },
   {
    "duration": 8,
    "start_time": "2022-08-03T10:59:35.687Z"
   },
   {
    "duration": 19,
    "start_time": "2022-08-03T10:59:35.696Z"
   },
   {
    "duration": 37,
    "start_time": "2022-08-03T10:59:35.717Z"
   },
   {
    "duration": 9,
    "start_time": "2022-08-03T10:59:35.755Z"
   },
   {
    "duration": 4,
    "start_time": "2022-08-03T10:59:35.766Z"
   },
   {
    "duration": 25,
    "start_time": "2022-08-03T10:59:35.773Z"
   },
   {
    "duration": 21,
    "start_time": "2022-08-03T10:59:35.799Z"
   },
   {
    "duration": 11,
    "start_time": "2022-08-03T10:59:35.822Z"
   },
   {
    "duration": 10,
    "start_time": "2022-08-03T10:59:35.835Z"
   },
   {
    "duration": 24,
    "start_time": "2022-08-03T10:59:35.847Z"
   },
   {
    "duration": 21,
    "start_time": "2022-08-03T10:59:35.873Z"
   },
   {
    "duration": 23,
    "start_time": "2022-08-03T10:59:35.895Z"
   },
   {
    "duration": 20,
    "start_time": "2022-08-03T10:59:35.920Z"
   },
   {
    "duration": 25,
    "start_time": "2022-08-03T10:59:35.942Z"
   },
   {
    "duration": 0,
    "start_time": "2022-08-03T10:59:35.969Z"
   },
   {
    "duration": 1,
    "start_time": "2022-08-03T10:59:35.969Z"
   },
   {
    "duration": 0,
    "start_time": "2022-08-03T10:59:35.971Z"
   },
   {
    "duration": 8,
    "start_time": "2022-08-03T10:59:39.878Z"
   },
   {
    "duration": 4,
    "start_time": "2022-08-03T11:00:35.952Z"
   },
   {
    "duration": 6,
    "start_time": "2022-08-03T11:01:10.486Z"
   },
   {
    "duration": 9,
    "start_time": "2022-08-03T11:01:54.811Z"
   },
   {
    "duration": 10,
    "start_time": "2022-08-03T11:02:01.872Z"
   },
   {
    "duration": 17,
    "start_time": "2022-08-03T11:02:57.881Z"
   },
   {
    "duration": 14,
    "start_time": "2022-08-03T11:03:16.936Z"
   },
   {
    "duration": 1409,
    "start_time": "2022-08-03T11:04:02.354Z"
   },
   {
    "duration": 1549,
    "start_time": "2022-08-03T11:04:05.128Z"
   },
   {
    "duration": 21,
    "start_time": "2022-08-03T11:04:34.803Z"
   },
   {
    "duration": 70,
    "start_time": "2022-08-03T11:24:16.244Z"
   },
   {
    "duration": 13,
    "start_time": "2022-08-03T11:24:16.317Z"
   },
   {
    "duration": 17,
    "start_time": "2022-08-03T11:24:16.332Z"
   },
   {
    "duration": 8,
    "start_time": "2022-08-03T11:24:16.350Z"
   },
   {
    "duration": 29,
    "start_time": "2022-08-03T11:24:16.360Z"
   },
   {
    "duration": 3,
    "start_time": "2022-08-03T11:24:16.391Z"
   },
   {
    "duration": 8,
    "start_time": "2022-08-03T11:24:16.406Z"
   },
   {
    "duration": 6,
    "start_time": "2022-08-03T11:24:16.415Z"
   },
   {
    "duration": 6,
    "start_time": "2022-08-03T11:24:16.422Z"
   },
   {
    "duration": 4,
    "start_time": "2022-08-03T11:24:16.430Z"
   },
   {
    "duration": 30,
    "start_time": "2022-08-03T11:24:16.435Z"
   },
   {
    "duration": 10,
    "start_time": "2022-08-03T11:24:16.466Z"
   },
   {
    "duration": 30,
    "start_time": "2022-08-03T11:24:16.478Z"
   },
   {
    "duration": 16,
    "start_time": "2022-08-03T11:24:16.510Z"
   },
   {
    "duration": 17,
    "start_time": "2022-08-03T11:24:16.527Z"
   },
   {
    "duration": 12,
    "start_time": "2022-08-03T11:24:16.546Z"
   },
   {
    "duration": 6,
    "start_time": "2022-08-03T11:24:16.560Z"
   },
   {
    "duration": 11,
    "start_time": "2022-08-03T11:24:16.568Z"
   },
   {
    "duration": 6,
    "start_time": "2022-08-03T11:24:16.605Z"
   },
   {
    "duration": 4,
    "start_time": "2022-08-03T11:24:16.613Z"
   },
   {
    "duration": 14,
    "start_time": "2022-08-03T11:24:16.618Z"
   },
   {
    "duration": 2,
    "start_time": "2022-08-03T11:24:16.650Z"
   },
   {
    "duration": 6,
    "start_time": "2022-08-03T11:24:16.653Z"
   },
   {
    "duration": 6,
    "start_time": "2022-08-03T11:24:16.660Z"
   },
   {
    "duration": 17,
    "start_time": "2022-08-03T11:24:17.143Z"
   },
   {
    "duration": 10,
    "start_time": "2022-08-03T11:25:57.070Z"
   },
   {
    "duration": 13,
    "start_time": "2022-08-03T11:26:41.580Z"
   },
   {
    "duration": 12,
    "start_time": "2022-08-03T11:45:27.322Z"
   },
   {
    "duration": 14,
    "start_time": "2022-08-03T11:45:37.919Z"
   },
   {
    "duration": 12,
    "start_time": "2022-08-03T11:45:48.622Z"
   },
   {
    "duration": 636,
    "start_time": "2022-08-09T19:36:19.579Z"
   },
   {
    "duration": 22,
    "start_time": "2022-08-09T19:36:20.217Z"
   },
   {
    "duration": 15,
    "start_time": "2022-08-09T19:36:20.240Z"
   },
   {
    "duration": 11,
    "start_time": "2022-08-09T19:36:20.257Z"
   },
   {
    "duration": 35,
    "start_time": "2022-08-09T19:36:20.270Z"
   },
   {
    "duration": 3,
    "start_time": "2022-08-09T19:36:20.307Z"
   },
   {
    "duration": 14,
    "start_time": "2022-08-09T19:36:20.312Z"
   },
   {
    "duration": 6,
    "start_time": "2022-08-09T19:36:20.328Z"
   },
   {
    "duration": 24,
    "start_time": "2022-08-09T19:36:20.336Z"
   },
   {
    "duration": 4,
    "start_time": "2022-08-09T19:36:20.362Z"
   },
   {
    "duration": 42,
    "start_time": "2022-08-09T19:36:20.369Z"
   },
   {
    "duration": 11,
    "start_time": "2022-08-09T19:36:20.413Z"
   },
   {
    "duration": 4,
    "start_time": "2022-08-09T19:36:20.427Z"
   },
   {
    "duration": 18,
    "start_time": "2022-08-09T19:36:20.457Z"
   },
   {
    "duration": 18,
    "start_time": "2022-08-09T19:36:20.476Z"
   },
   {
    "duration": 12,
    "start_time": "2022-08-09T19:36:20.495Z"
   },
   {
    "duration": 9,
    "start_time": "2022-08-09T19:36:20.508Z"
   },
   {
    "duration": 13,
    "start_time": "2022-08-09T19:36:20.518Z"
   },
   {
    "duration": 30,
    "start_time": "2022-08-09T19:36:20.533Z"
   },
   {
    "duration": 7,
    "start_time": "2022-08-09T19:36:20.565Z"
   },
   {
    "duration": 15,
    "start_time": "2022-08-09T19:36:20.574Z"
   },
   {
    "duration": 79,
    "start_time": "2022-08-09T19:36:20.591Z"
   },
   {
    "duration": 0,
    "start_time": "2022-08-09T19:36:20.672Z"
   },
   {
    "duration": 0,
    "start_time": "2022-08-09T19:36:20.673Z"
   },
   {
    "duration": 0,
    "start_time": "2022-08-09T19:36:20.675Z"
   },
   {
    "duration": 13,
    "start_time": "2022-08-09T19:39:49.015Z"
   },
   {
    "duration": 7,
    "start_time": "2022-08-09T19:42:37.796Z"
   },
   {
    "duration": 12,
    "start_time": "2022-08-09T19:42:55.709Z"
   },
   {
    "duration": 7,
    "start_time": "2022-08-09T19:43:11.626Z"
   },
   {
    "duration": 9,
    "start_time": "2022-08-09T19:44:47.533Z"
   },
   {
    "duration": 11,
    "start_time": "2022-08-09T19:44:59.115Z"
   },
   {
    "duration": 14,
    "start_time": "2022-08-09T19:45:14.553Z"
   },
   {
    "duration": 7,
    "start_time": "2022-08-09T19:45:52.015Z"
   },
   {
    "duration": 15,
    "start_time": "2022-08-09T19:46:51.212Z"
   },
   {
    "duration": 5,
    "start_time": "2022-08-09T19:57:09.217Z"
   },
   {
    "duration": 4,
    "start_time": "2022-08-09T19:57:19.638Z"
   },
   {
    "duration": 12,
    "start_time": "2022-08-09T20:01:28.576Z"
   },
   {
    "duration": 11,
    "start_time": "2022-08-09T20:02:14.573Z"
   },
   {
    "duration": 14,
    "start_time": "2022-08-09T20:02:15.742Z"
   },
   {
    "duration": 69,
    "start_time": "2022-08-09T20:02:27.458Z"
   },
   {
    "duration": 15,
    "start_time": "2022-08-09T20:02:27.529Z"
   },
   {
    "duration": 19,
    "start_time": "2022-08-09T20:02:27.546Z"
   },
   {
    "duration": 8,
    "start_time": "2022-08-09T20:02:27.566Z"
   },
   {
    "duration": 41,
    "start_time": "2022-08-09T20:02:27.576Z"
   },
   {
    "duration": 3,
    "start_time": "2022-08-09T20:02:27.618Z"
   },
   {
    "duration": 15,
    "start_time": "2022-08-09T20:02:27.623Z"
   },
   {
    "duration": 7,
    "start_time": "2022-08-09T20:02:27.639Z"
   },
   {
    "duration": 11,
    "start_time": "2022-08-09T20:02:27.648Z"
   },
   {
    "duration": 5,
    "start_time": "2022-08-09T20:02:27.660Z"
   },
   {
    "duration": 43,
    "start_time": "2022-08-09T20:02:27.666Z"
   },
   {
    "duration": 9,
    "start_time": "2022-08-09T20:02:27.710Z"
   },
   {
    "duration": 16,
    "start_time": "2022-08-09T20:02:27.720Z"
   },
   {
    "duration": 18,
    "start_time": "2022-08-09T20:02:27.739Z"
   },
   {
    "duration": 14,
    "start_time": "2022-08-09T20:02:27.759Z"
   },
   {
    "duration": 10,
    "start_time": "2022-08-09T20:02:27.775Z"
   },
   {
    "duration": 6,
    "start_time": "2022-08-09T20:02:27.787Z"
   },
   {
    "duration": 13,
    "start_time": "2022-08-09T20:02:27.794Z"
   },
   {
    "duration": 10,
    "start_time": "2022-08-09T20:02:27.809Z"
   },
   {
    "duration": 5,
    "start_time": "2022-08-09T20:02:27.821Z"
   },
   {
    "duration": 12,
    "start_time": "2022-08-09T20:02:27.827Z"
   },
   {
    "duration": 24,
    "start_time": "2022-08-09T20:02:27.841Z"
   },
   {
    "duration": 0,
    "start_time": "2022-08-09T20:02:27.866Z"
   },
   {
    "duration": 0,
    "start_time": "2022-08-09T20:02:27.867Z"
   },
   {
    "duration": 0,
    "start_time": "2022-08-09T20:02:27.868Z"
   },
   {
    "duration": 11,
    "start_time": "2022-08-09T20:02:31.861Z"
   },
   {
    "duration": 11,
    "start_time": "2022-08-09T20:02:52.057Z"
   },
   {
    "duration": 10,
    "start_time": "2022-08-09T20:03:09.379Z"
   },
   {
    "duration": 10,
    "start_time": "2022-08-09T20:05:14.969Z"
   },
   {
    "duration": 10,
    "start_time": "2022-08-09T20:19:11.265Z"
   },
   {
    "duration": 11,
    "start_time": "2022-08-09T20:29:44.595Z"
   },
   {
    "duration": 5,
    "start_time": "2022-08-09T20:30:32.378Z"
   },
   {
    "duration": 3,
    "start_time": "2022-08-09T20:30:53.957Z"
   },
   {
    "duration": 80,
    "start_time": "2022-08-09T20:31:05.657Z"
   },
   {
    "duration": 4,
    "start_time": "2022-08-09T20:31:10.795Z"
   },
   {
    "duration": 5,
    "start_time": "2022-08-09T20:31:23.681Z"
   },
   {
    "duration": 1170,
    "start_time": "2022-08-09T20:32:16.831Z"
   },
   {
    "duration": 832,
    "start_time": "2022-08-09T20:32:47.530Z"
   },
   {
    "duration": 514,
    "start_time": "2022-08-09T20:33:04.781Z"
   },
   {
    "duration": 12,
    "start_time": "2022-08-09T20:37:22.850Z"
   },
   {
    "duration": 12,
    "start_time": "2022-08-09T20:41:36.081Z"
   },
   {
    "duration": 11,
    "start_time": "2022-08-09T20:52:40.256Z"
   },
   {
    "duration": 13,
    "start_time": "2022-08-09T20:54:28.380Z"
   },
   {
    "duration": 14,
    "start_time": "2022-08-09T20:54:51.724Z"
   },
   {
    "duration": 17,
    "start_time": "2022-08-09T20:56:25.136Z"
   },
   {
    "duration": 20,
    "start_time": "2022-08-09T20:58:00.761Z"
   },
   {
    "duration": 817,
    "start_time": "2022-08-10T18:05:01.827Z"
   },
   {
    "duration": 21,
    "start_time": "2022-08-10T18:05:02.646Z"
   },
   {
    "duration": 17,
    "start_time": "2022-08-10T18:05:02.668Z"
   },
   {
    "duration": 9,
    "start_time": "2022-08-10T18:05:02.687Z"
   },
   {
    "duration": 35,
    "start_time": "2022-08-10T18:05:02.698Z"
   },
   {
    "duration": 3,
    "start_time": "2022-08-10T18:05:02.735Z"
   },
   {
    "duration": 13,
    "start_time": "2022-08-10T18:05:02.740Z"
   },
   {
    "duration": 6,
    "start_time": "2022-08-10T18:05:02.755Z"
   },
   {
    "duration": 13,
    "start_time": "2022-08-10T18:05:02.763Z"
   },
   {
    "duration": 4,
    "start_time": "2022-08-10T18:05:02.778Z"
   },
   {
    "duration": 40,
    "start_time": "2022-08-10T18:05:02.784Z"
   },
   {
    "duration": 9,
    "start_time": "2022-08-10T18:05:02.826Z"
   },
   {
    "duration": 10,
    "start_time": "2022-08-10T18:05:02.836Z"
   },
   {
    "duration": 20,
    "start_time": "2022-08-10T18:05:02.848Z"
   },
   {
    "duration": 32,
    "start_time": "2022-08-10T18:05:02.870Z"
   },
   {
    "duration": 10,
    "start_time": "2022-08-10T18:05:02.904Z"
   },
   {
    "duration": 13,
    "start_time": "2022-08-10T18:05:02.916Z"
   },
   {
    "duration": 14,
    "start_time": "2022-08-10T18:05:02.931Z"
   },
   {
    "duration": 9,
    "start_time": "2022-08-10T18:05:02.946Z"
   },
   {
    "duration": 4,
    "start_time": "2022-08-10T18:05:02.957Z"
   },
   {
    "duration": 24,
    "start_time": "2022-08-10T18:05:02.962Z"
   },
   {
    "duration": 15,
    "start_time": "2022-08-10T18:05:02.988Z"
   },
   {
    "duration": 13,
    "start_time": "2022-08-10T18:05:03.005Z"
   },
   {
    "duration": 76,
    "start_time": "2022-08-10T18:05:03.020Z"
   },
   {
    "duration": 0,
    "start_time": "2022-08-10T18:05:03.100Z"
   },
   {
    "duration": 16,
    "start_time": "2022-08-10T18:06:27.584Z"
   },
   {
    "duration": 971,
    "start_time": "2022-08-10T18:08:28.359Z"
   },
   {
    "duration": 29,
    "start_time": "2022-08-10T18:13:25.477Z"
   },
   {
    "duration": 19,
    "start_time": "2022-08-10T18:24:33.199Z"
   },
   {
    "duration": 20,
    "start_time": "2022-08-10T18:24:38.991Z"
   },
   {
    "duration": 14,
    "start_time": "2022-08-10T18:25:22.761Z"
   },
   {
    "duration": 67,
    "start_time": "2022-08-10T18:25:50.512Z"
   },
   {
    "duration": 19,
    "start_time": "2022-08-10T18:37:54.751Z"
   },
   {
    "duration": 21,
    "start_time": "2022-08-10T18:42:30.086Z"
   },
   {
    "duration": 19,
    "start_time": "2022-08-10T18:46:05.956Z"
   },
   {
    "duration": 907,
    "start_time": "2022-08-10T18:49:47.940Z"
   },
   {
    "duration": 65,
    "start_time": "2022-08-10T18:51:34.430Z"
   },
   {
    "duration": 263,
    "start_time": "2022-08-10T18:53:41.383Z"
   },
   {
    "duration": 19,
    "start_time": "2022-08-10T19:03:13.515Z"
   },
   {
    "duration": 456,
    "start_time": "2022-08-10T19:03:21.421Z"
   },
   {
    "duration": 20,
    "start_time": "2022-08-10T19:04:04.091Z"
   },
   {
    "duration": 138,
    "start_time": "2022-08-10T19:05:02.170Z"
   },
   {
    "duration": 354,
    "start_time": "2022-08-10T19:05:19.540Z"
   },
   {
    "duration": 126,
    "start_time": "2022-08-10T19:11:08.162Z"
   },
   {
    "duration": 293,
    "start_time": "2022-08-10T19:23:02.491Z"
   },
   {
    "duration": 328,
    "start_time": "2022-08-10T19:23:21.842Z"
   },
   {
    "duration": 307,
    "start_time": "2022-08-10T19:23:30.337Z"
   },
   {
    "duration": 128,
    "start_time": "2022-08-10T19:26:42.282Z"
   },
   {
    "duration": 19,
    "start_time": "2022-08-10T19:57:42.683Z"
   },
   {
    "duration": 20,
    "start_time": "2022-08-10T19:58:38.837Z"
   },
   {
    "duration": 19,
    "start_time": "2022-08-10T20:00:08.669Z"
   },
   {
    "duration": 19,
    "start_time": "2022-08-10T20:00:13.277Z"
   },
   {
    "duration": 17,
    "start_time": "2022-08-10T20:01:49.378Z"
   },
   {
    "duration": 15,
    "start_time": "2022-08-10T20:01:57.452Z"
   },
   {
    "duration": 60,
    "start_time": "2022-08-10T20:32:29.308Z"
   },
   {
    "duration": 61,
    "start_time": "2022-08-10T20:32:42.101Z"
   },
   {
    "duration": 13,
    "start_time": "2022-08-10T20:38:14.968Z"
   },
   {
    "duration": 13,
    "start_time": "2022-08-10T20:41:03.944Z"
   },
   {
    "duration": 13,
    "start_time": "2022-08-10T20:41:13.141Z"
   },
   {
    "duration": 14,
    "start_time": "2022-08-10T20:42:55.118Z"
   },
   {
    "duration": 20,
    "start_time": "2022-08-10T20:47:48.025Z"
   },
   {
    "duration": 26,
    "start_time": "2022-08-10T20:48:10.430Z"
   },
   {
    "duration": 76,
    "start_time": "2022-08-10T20:50:10.771Z"
   },
   {
    "duration": 14,
    "start_time": "2022-08-10T20:50:10.849Z"
   },
   {
    "duration": 19,
    "start_time": "2022-08-10T20:50:10.864Z"
   },
   {
    "duration": 10,
    "start_time": "2022-08-10T20:50:10.899Z"
   },
   {
    "duration": 31,
    "start_time": "2022-08-10T20:50:10.911Z"
   },
   {
    "duration": 4,
    "start_time": "2022-08-10T20:50:10.943Z"
   },
   {
    "duration": 10,
    "start_time": "2022-08-10T20:50:10.949Z"
   },
   {
    "duration": 5,
    "start_time": "2022-08-10T20:50:10.960Z"
   },
   {
    "duration": 35,
    "start_time": "2022-08-10T20:50:10.966Z"
   },
   {
    "duration": 5,
    "start_time": "2022-08-10T20:50:11.003Z"
   },
   {
    "duration": 36,
    "start_time": "2022-08-10T20:50:11.010Z"
   },
   {
    "duration": 8,
    "start_time": "2022-08-10T20:50:11.047Z"
   },
   {
    "duration": 9,
    "start_time": "2022-08-10T20:50:11.057Z"
   },
   {
    "duration": 34,
    "start_time": "2022-08-10T20:50:11.067Z"
   },
   {
    "duration": 16,
    "start_time": "2022-08-10T20:50:11.102Z"
   },
   {
    "duration": 10,
    "start_time": "2022-08-10T20:50:11.119Z"
   },
   {
    "duration": 6,
    "start_time": "2022-08-10T20:50:11.131Z"
   },
   {
    "duration": 12,
    "start_time": "2022-08-10T20:50:11.138Z"
   },
   {
    "duration": 11,
    "start_time": "2022-08-10T20:50:11.151Z"
   },
   {
    "duration": 3,
    "start_time": "2022-08-10T20:50:11.163Z"
   },
   {
    "duration": 13,
    "start_time": "2022-08-10T20:50:11.167Z"
   },
   {
    "duration": 12,
    "start_time": "2022-08-10T20:50:11.201Z"
   },
   {
    "duration": 12,
    "start_time": "2022-08-10T20:50:11.214Z"
   },
   {
    "duration": 18,
    "start_time": "2022-08-10T20:50:11.227Z"
   },
   {
    "duration": 12,
    "start_time": "2022-08-10T20:50:11.247Z"
   },
   {
    "duration": 734,
    "start_time": "2022-08-11T04:59:41.101Z"
   },
   {
    "duration": 23,
    "start_time": "2022-08-11T04:59:41.837Z"
   },
   {
    "duration": 20,
    "start_time": "2022-08-11T04:59:41.862Z"
   },
   {
    "duration": 14,
    "start_time": "2022-08-11T04:59:41.884Z"
   },
   {
    "duration": 51,
    "start_time": "2022-08-11T04:59:41.900Z"
   },
   {
    "duration": 3,
    "start_time": "2022-08-11T04:59:41.953Z"
   },
   {
    "duration": 15,
    "start_time": "2022-08-11T04:59:41.958Z"
   },
   {
    "duration": 4,
    "start_time": "2022-08-11T04:59:41.975Z"
   },
   {
    "duration": 23,
    "start_time": "2022-08-11T04:59:41.980Z"
   },
   {
    "duration": 7,
    "start_time": "2022-08-11T04:59:42.006Z"
   },
   {
    "duration": 34,
    "start_time": "2022-08-11T04:59:42.015Z"
   },
   {
    "duration": 10,
    "start_time": "2022-08-11T04:59:42.051Z"
   },
   {
    "duration": 10,
    "start_time": "2022-08-11T04:59:42.063Z"
   },
   {
    "duration": 46,
    "start_time": "2022-08-11T04:59:42.074Z"
   },
   {
    "duration": 17,
    "start_time": "2022-08-11T04:59:42.122Z"
   },
   {
    "duration": 12,
    "start_time": "2022-08-11T04:59:42.140Z"
   },
   {
    "duration": 4,
    "start_time": "2022-08-11T04:59:42.154Z"
   },
   {
    "duration": 18,
    "start_time": "2022-08-11T04:59:42.160Z"
   },
   {
    "duration": 19,
    "start_time": "2022-08-11T04:59:42.180Z"
   },
   {
    "duration": 6,
    "start_time": "2022-08-11T04:59:42.201Z"
   },
   {
    "duration": 14,
    "start_time": "2022-08-11T04:59:42.209Z"
   },
   {
    "duration": 16,
    "start_time": "2022-08-11T04:59:42.225Z"
   },
   {
    "duration": 19,
    "start_time": "2022-08-11T04:59:42.242Z"
   },
   {
    "duration": 105,
    "start_time": "2022-08-11T04:59:42.262Z"
   },
   {
    "duration": 15,
    "start_time": "2022-08-11T04:59:42.369Z"
   },
   {
    "duration": 49,
    "start_time": "2022-08-15T08:44:43.562Z"
   },
   {
    "duration": 870,
    "start_time": "2022-08-15T08:44:48.842Z"
   },
   {
    "duration": 31,
    "start_time": "2022-08-15T08:44:49.717Z"
   },
   {
    "duration": 22,
    "start_time": "2022-08-15T08:44:49.749Z"
   },
   {
    "duration": 9,
    "start_time": "2022-08-15T08:44:49.772Z"
   },
   {
    "duration": 46,
    "start_time": "2022-08-15T08:44:49.783Z"
   },
   {
    "duration": 3,
    "start_time": "2022-08-15T08:44:49.831Z"
   },
   {
    "duration": 18,
    "start_time": "2022-08-15T08:44:49.837Z"
   },
   {
    "duration": 4,
    "start_time": "2022-08-15T08:44:49.857Z"
   },
   {
    "duration": 11,
    "start_time": "2022-08-15T08:44:49.862Z"
   },
   {
    "duration": 5,
    "start_time": "2022-08-15T08:44:49.874Z"
   },
   {
    "duration": 58,
    "start_time": "2022-08-15T08:44:49.880Z"
   },
   {
    "duration": 9,
    "start_time": "2022-08-15T08:44:49.940Z"
   },
   {
    "duration": 17,
    "start_time": "2022-08-15T08:44:49.951Z"
   },
   {
    "duration": 22,
    "start_time": "2022-08-15T08:44:49.971Z"
   },
   {
    "duration": 26,
    "start_time": "2022-08-15T08:44:49.994Z"
   },
   {
    "duration": 19,
    "start_time": "2022-08-15T08:44:50.023Z"
   },
   {
    "duration": 19,
    "start_time": "2022-08-15T08:44:50.044Z"
   },
   {
    "duration": 25,
    "start_time": "2022-08-15T08:44:50.064Z"
   },
   {
    "duration": 21,
    "start_time": "2022-08-15T08:44:50.091Z"
   },
   {
    "duration": 32,
    "start_time": "2022-08-15T08:44:50.113Z"
   },
   {
    "duration": 15,
    "start_time": "2022-08-15T08:44:50.147Z"
   },
   {
    "duration": 13,
    "start_time": "2022-08-15T08:44:50.165Z"
   },
   {
    "duration": 16,
    "start_time": "2022-08-15T08:44:50.180Z"
   },
   {
    "duration": 15,
    "start_time": "2022-08-15T08:44:50.198Z"
   },
   {
    "duration": 39,
    "start_time": "2022-08-15T08:44:50.215Z"
   },
   {
    "duration": 1890,
    "start_time": "2022-08-15T09:00:09.635Z"
   },
   {
    "duration": 1339,
    "start_time": "2022-08-15T09:02:00.266Z"
   },
   {
    "duration": 1022,
    "start_time": "2022-08-15T09:02:36.643Z"
   },
   {
    "duration": 17,
    "start_time": "2022-08-15T09:06:00.623Z"
   },
   {
    "duration": 19,
    "start_time": "2022-08-15T09:17:01.493Z"
   },
   {
    "duration": 514,
    "start_time": "2022-08-15T17:17:33.663Z"
   },
   {
    "duration": 23,
    "start_time": "2022-08-15T17:17:34.179Z"
   },
   {
    "duration": 17,
    "start_time": "2022-08-15T17:17:34.204Z"
   },
   {
    "duration": 9,
    "start_time": "2022-08-15T17:17:34.223Z"
   },
   {
    "duration": 34,
    "start_time": "2022-08-15T17:17:34.235Z"
   },
   {
    "duration": 23,
    "start_time": "2022-08-15T17:17:34.271Z"
   },
   {
    "duration": 22,
    "start_time": "2022-08-15T17:17:34.296Z"
   },
   {
    "duration": 4,
    "start_time": "2022-08-15T17:17:34.320Z"
   },
   {
    "duration": 9,
    "start_time": "2022-08-15T17:17:34.326Z"
   },
   {
    "duration": 4,
    "start_time": "2022-08-15T17:17:34.337Z"
   },
   {
    "duration": 60,
    "start_time": "2022-08-15T17:17:34.343Z"
   },
   {
    "duration": 10,
    "start_time": "2022-08-15T17:17:34.405Z"
   },
   {
    "duration": 8,
    "start_time": "2022-08-15T17:17:34.417Z"
   },
   {
    "duration": 24,
    "start_time": "2022-08-15T17:17:34.428Z"
   },
   {
    "duration": 17,
    "start_time": "2022-08-15T17:17:34.454Z"
   },
   {
    "duration": 25,
    "start_time": "2022-08-15T17:17:34.473Z"
   },
   {
    "duration": 7,
    "start_time": "2022-08-15T17:17:34.500Z"
   },
   {
    "duration": 14,
    "start_time": "2022-08-15T17:17:34.509Z"
   },
   {
    "duration": 5,
    "start_time": "2022-08-15T17:17:34.525Z"
   },
   {
    "duration": 3,
    "start_time": "2022-08-15T17:17:34.532Z"
   },
   {
    "duration": 11,
    "start_time": "2022-08-15T17:17:34.537Z"
   },
   {
    "duration": 12,
    "start_time": "2022-08-15T17:17:34.550Z"
   },
   {
    "duration": 15,
    "start_time": "2022-08-15T17:17:34.592Z"
   },
   {
    "duration": 16,
    "start_time": "2022-08-15T17:17:34.609Z"
   },
   {
    "duration": 14,
    "start_time": "2022-08-15T17:17:34.627Z"
   }
  ],
  "celltoolbar": "Edit Metadata",
  "colab": {
   "name": "dpp_template_part2.ipynb",
   "provenance": []
  },
  "kernelspec": {
   "display_name": "Python 3",
   "language": "python",
   "name": "python3"
  },
  "language_info": {
   "codemirror_mode": {
    "name": "ipython",
    "version": 3
   },
   "file_extension": ".py",
   "mimetype": "text/x-python",
   "name": "python",
   "nbconvert_exporter": "python",
   "pygments_lexer": "ipython3",
   "version": "3.10.8 (v3.10.8:aaaf517424, Oct 11 2022, 10:14:40) [Clang 13.0.0 (clang-1300.0.29.30)]"
  },
  "toc": {
   "base_numbering": 1,
   "nav_menu": {},
   "number_sections": true,
   "sideBar": true,
   "skip_h1_title": true,
   "title_cell": "Table of Contents",
   "title_sidebar": "Contents",
   "toc_cell": false,
   "toc_position": {},
   "toc_section_display": true,
   "toc_window_display": false
  },
  "vscode": {
   "interpreter": {
    "hash": "aee8b7b246df8f9039afb4144a1f6fd8d2ca17a180786b69acc140d282b71a49"
   }
  }
 },
 "nbformat": 4,
 "nbformat_minor": 5
}
