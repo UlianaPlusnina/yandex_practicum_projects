{
 "cells": [
  {
   "attachments": {},
   "cell_type": "markdown",
   "metadata": {},
   "source": [
    "# Проект: Защита персональных данных клиентов"
   ]
  },
  {
   "attachments": {},
   "cell_type": "markdown",
   "metadata": {},
   "source": [
    "## Данные"
   ]
  },
  {
   "attachments": {},
   "cell_type": "markdown",
   "metadata": {},
   "source": [
    "В наличии были следующие данные:\n",
    "\n",
    "- Пол\n",
    "- Возраст\n",
    "- Зарплата застрахованного\n",
    "- Члены семьи - количество членов его семьи\n",
    "- Страховые выплаты - количество страховых выплат клиенту за последние 5 лет\n"
   ]
  },
  {
   "attachments": {},
   "cell_type": "markdown",
   "metadata": {},
   "source": [
    "## Задача"
   ]
  },
  {
   "attachments": {},
   "cell_type": "markdown",
   "metadata": {},
   "source": [
    "Разработка модели анонимизации персональных данных."
   ]
  },
  {
   "attachments": {},
   "cell_type": "markdown",
   "metadata": {},
   "source": [
    "## Используемые библиотеки"
   ]
  },
  {
   "attachments": {},
   "cell_type": "markdown",
   "metadata": {},
   "source": [
    "pandas, numpy, os, matplotlib, sklearn"
   ]
  },
  {
   "cell_type": "markdown",
   "metadata": {},
   "source": [
    "## Загрузка данных"
   ]
  },
  {
   "cell_type": "code",
   "execution_count": 11,
   "metadata": {},
   "outputs": [],
   "source": [
    "import pandas as pd\n",
    "import numpy as np\n",
    "import matplotlib.pyplot as plt\n",
    "import os\n",
    "\n",
    "from sklearn.model_selection import train_test_split\n",
    "from sklearn.linear_model import LinearRegression\n",
    "from sklearn.metrics import r2_score\n"
   ]
  },
  {
   "cell_type": "code",
   "execution_count": 12,
   "metadata": {},
   "outputs": [],
   "source": [
    "path = '/datasets/insurance.csv'\n",
    "if not os.path.exists(path):\n",
    "    path = '../DataFrames/insurance.csv'\n",
    "    \n",
    "data = pd.read_csv(path)"
   ]
  },
  {
   "cell_type": "code",
   "execution_count": 13,
   "metadata": {},
   "outputs": [
    {
     "data": {
      "text/html": [
       "<div>\n",
       "<style scoped>\n",
       "    .dataframe tbody tr th:only-of-type {\n",
       "        vertical-align: middle;\n",
       "    }\n",
       "\n",
       "    .dataframe tbody tr th {\n",
       "        vertical-align: top;\n",
       "    }\n",
       "\n",
       "    .dataframe thead th {\n",
       "        text-align: right;\n",
       "    }\n",
       "</style>\n",
       "<table border=\"1\" class=\"dataframe\">\n",
       "  <thead>\n",
       "    <tr style=\"text-align: right;\">\n",
       "      <th></th>\n",
       "      <th>Пол</th>\n",
       "      <th>Возраст</th>\n",
       "      <th>Зарплата</th>\n",
       "      <th>Члены семьи</th>\n",
       "      <th>Страховые выплаты</th>\n",
       "    </tr>\n",
       "  </thead>\n",
       "  <tbody>\n",
       "    <tr>\n",
       "      <th>0</th>\n",
       "      <td>1</td>\n",
       "      <td>41.0</td>\n",
       "      <td>49600.0</td>\n",
       "      <td>1</td>\n",
       "      <td>0</td>\n",
       "    </tr>\n",
       "    <tr>\n",
       "      <th>1</th>\n",
       "      <td>0</td>\n",
       "      <td>46.0</td>\n",
       "      <td>38000.0</td>\n",
       "      <td>1</td>\n",
       "      <td>1</td>\n",
       "    </tr>\n",
       "    <tr>\n",
       "      <th>2</th>\n",
       "      <td>0</td>\n",
       "      <td>29.0</td>\n",
       "      <td>21000.0</td>\n",
       "      <td>0</td>\n",
       "      <td>0</td>\n",
       "    </tr>\n",
       "    <tr>\n",
       "      <th>3</th>\n",
       "      <td>0</td>\n",
       "      <td>21.0</td>\n",
       "      <td>41700.0</td>\n",
       "      <td>2</td>\n",
       "      <td>0</td>\n",
       "    </tr>\n",
       "    <tr>\n",
       "      <th>4</th>\n",
       "      <td>1</td>\n",
       "      <td>28.0</td>\n",
       "      <td>26100.0</td>\n",
       "      <td>0</td>\n",
       "      <td>0</td>\n",
       "    </tr>\n",
       "    <tr>\n",
       "      <th>5</th>\n",
       "      <td>1</td>\n",
       "      <td>43.0</td>\n",
       "      <td>41000.0</td>\n",
       "      <td>2</td>\n",
       "      <td>1</td>\n",
       "    </tr>\n",
       "    <tr>\n",
       "      <th>6</th>\n",
       "      <td>1</td>\n",
       "      <td>39.0</td>\n",
       "      <td>39700.0</td>\n",
       "      <td>2</td>\n",
       "      <td>0</td>\n",
       "    </tr>\n",
       "    <tr>\n",
       "      <th>7</th>\n",
       "      <td>1</td>\n",
       "      <td>25.0</td>\n",
       "      <td>38600.0</td>\n",
       "      <td>4</td>\n",
       "      <td>0</td>\n",
       "    </tr>\n",
       "    <tr>\n",
       "      <th>8</th>\n",
       "      <td>1</td>\n",
       "      <td>36.0</td>\n",
       "      <td>49700.0</td>\n",
       "      <td>1</td>\n",
       "      <td>0</td>\n",
       "    </tr>\n",
       "    <tr>\n",
       "      <th>9</th>\n",
       "      <td>1</td>\n",
       "      <td>32.0</td>\n",
       "      <td>51700.0</td>\n",
       "      <td>1</td>\n",
       "      <td>0</td>\n",
       "    </tr>\n",
       "  </tbody>\n",
       "</table>\n",
       "</div>"
      ],
      "text/plain": [
       "   Пол  Возраст  Зарплата  Члены семьи  Страховые выплаты\n",
       "0    1     41.0   49600.0            1                  0\n",
       "1    0     46.0   38000.0            1                  1\n",
       "2    0     29.0   21000.0            0                  0\n",
       "3    0     21.0   41700.0            2                  0\n",
       "4    1     28.0   26100.0            0                  0\n",
       "5    1     43.0   41000.0            2                  1\n",
       "6    1     39.0   39700.0            2                  0\n",
       "7    1     25.0   38600.0            4                  0\n",
       "8    1     36.0   49700.0            1                  0\n",
       "9    1     32.0   51700.0            1                  0"
      ]
     },
     "execution_count": 13,
     "metadata": {},
     "output_type": "execute_result"
    }
   ],
   "source": [
    "data.head(10)"
   ]
  },
  {
   "cell_type": "code",
   "execution_count": 14,
   "metadata": {},
   "outputs": [
    {
     "data": {
      "text/plain": [
       "Пол                    int64\n",
       "Возраст              float64\n",
       "Зарплата             float64\n",
       "Члены семьи            int64\n",
       "Страховые выплаты      int64\n",
       "dtype: object"
      ]
     },
     "execution_count": 14,
     "metadata": {},
     "output_type": "execute_result"
    }
   ],
   "source": [
    "data.dtypes"
   ]
  },
  {
   "cell_type": "code",
   "execution_count": 15,
   "metadata": {},
   "outputs": [
    {
     "data": {
      "text/plain": [
       "Пол                  0\n",
       "Возраст              0\n",
       "Зарплата             0\n",
       "Члены семьи          0\n",
       "Страховые выплаты    0\n",
       "dtype: int64"
      ]
     },
     "execution_count": 15,
     "metadata": {},
     "output_type": "execute_result"
    }
   ],
   "source": [
    "data.isna().sum()"
   ]
  },
  {
   "cell_type": "markdown",
   "metadata": {},
   "source": [
    "Переведем int 64 в int8 для освобождения памяти. Также приведем значения в столбцах Возраст и Зарплата к int. \n"
   ]
  },
  {
   "cell_type": "code",
   "execution_count": 16,
   "metadata": {},
   "outputs": [
    {
     "name": "stdout",
     "output_type": "stream",
     "text": [
      "<class 'pandas.core.frame.DataFrame'>\n",
      "RangeIndex: 5000 entries, 0 to 4999\n",
      "Data columns (total 5 columns):\n",
      " #   Column             Non-Null Count  Dtype\n",
      "---  ------             --------------  -----\n",
      " 0   Пол                5000 non-null   int8 \n",
      " 1   Возраст            5000 non-null   int8 \n",
      " 2   Зарплата           5000 non-null   int64\n",
      " 3   Члены семьи        5000 non-null   int8 \n",
      " 4   Страховые выплаты  5000 non-null   int8 \n",
      "dtypes: int64(1), int8(4)\n",
      "memory usage: 58.7 KB\n"
     ]
    }
   ],
   "source": [
    "data['Пол'] = pd.to_numeric(data['Пол'], downcast='integer')\n",
    "data['Возраст'] = pd.to_numeric(data['Возраст'], downcast='integer')\n",
    "data['Члены семьи'] = pd.to_numeric(data['Члены семьи'], downcast='integer')\n",
    "data['Страховые выплаты'] = pd.to_numeric(data['Страховые выплаты'], downcast='integer')\n",
    "data['Зарплата'] = data['Зарплата'].astype(int)\n",
    "\n",
    "\n",
    "data.info()\n"
   ]
  },
  {
   "cell_type": "code",
   "execution_count": 17,
   "metadata": {},
   "outputs": [
    {
     "data": {
      "image/png": "[encoded data removed]",
      "text/plain": [
       "<Figure size 640x480 with 1 Axes>"
      ]
     },
     "metadata": {},
     "output_type": "display_data"
    },
    {
     "data": {
      "image/png": "[encoded data removed]",
      "text/plain": [
       "<Figure size 640x480 with 1 Axes>"
      ]
     },
     "metadata": {},
     "output_type": "display_data"
    },
    {
     "data": {
      "image/png": "[encoded data removed]",
      "text/plain": [
       "<Figure size 640x480 with 1 Axes>"
      ]
     },
     "metadata": {},
     "output_type": "display_data"
    },
    {
     "data": {
      "image/png": "[encoded data removed]",
      "text/plain": [
       "<Figure size 640x480 with 1 Axes>"
      ]
     },
     "metadata": {},
     "output_type": "display_data"
    },
    {
     "data": {
      "image/png": "[encoded data removed]",
      "text/plain": [
       "<Figure size 640x480 with 1 Axes>"
      ]
     },
     "metadata": {},
     "output_type": "display_data"
    }
   ],
   "source": [
    "for column in data.columns:    \n",
    "    plt.hist(data[column])\n",
    "    plt.title(column)\n",
    "    plt.show()"
   ]
  },
  {
   "cell_type": "markdown",
   "metadata": {},
   "source": [
    "<div class=\"alert alert-block alert-info\">\n",
    "<b>Данные загружены и не имеют пропусков и аномалий.</b></div>"
   ]
  },
  {
   "cell_type": "markdown",
   "metadata": {},
   "source": [
    "## Умножение матриц"
   ]
  },
  {
   "attachments": {},
   "cell_type": "markdown",
   "metadata": {},
   "source": [
    " Признаки умножают на обратимую матрицу для шифрования. Изменится ли качество линейной регрессии? "
   ]
  },
  {
   "attachments": {},
   "cell_type": "markdown",
   "metadata": {},
   "source": [
    "**Ответ:** Не изменится."
   ]
  },
  {
   "attachments": {},
   "cell_type": "markdown",
   "metadata": {},
   "source": [
    "### Доказательство"
   ]
  },
  {
   "cell_type": "markdown",
   "metadata": {},
   "source": [
    "Обозначения:\n",
    "\n",
    "- $X$ — матрица признаков (нулевой столбец состоит из единиц)\n",
    "\n",
    "- $y$ — вектор целевого признака\n",
    "\n",
    "- $P$ — матрица, на которую умножаются признаки\n",
    "\n",
    "- $w$ — вектор весов линейной регрессии (нулевой элемент равен сдвигу)"
   ]
  },
  {
   "cell_type": "markdown",
   "metadata": {},
   "source": [
    "Предсказания:\n",
    "\n",
    "$$\n",
    "a = Xw\n",
    "$$\n",
    "\n",
    "Задача обучения:\n",
    "\n",
    "$$\n",
    "w = \\arg\\min_w MSE(Xw, y)\n",
    "$$\n",
    "\n",
    "Формула обучения:\n",
    "\n",
    "$$\n",
    "w = (X^T X)^{-1} X^T y\n",
    "$$"
   ]
  },
  {
   "attachments": {},
   "cell_type": "markdown",
   "metadata": {},
   "source": [
    "**Обоснование:** Заменим X на XP. \n",
    "Свойства матриц:\n",
    "$$\n",
    "(AB)^T = B^T  A^T \n",
    "$$\n",
    "$$\n",
    "(AB)^{-1} = B^{-1}  A^{-1}\n",
    "$$\n",
    "$$\n",
    "AA^{-1} = A^{-1}A = E\n",
    "$$\n",
    "$$\n",
    "$$\n",
    "$$\n",
    "w1 = ((XP)^T XP)^{-1} (XP)^T y\n",
    "$$\n",
    "$$\n",
    "w1 = (P^T X^T XP)^{-1} P^T X^T y\n",
    "$$\n",
    "$$\n",
    "w1 = P^{-1}(X^T X)^{-1} (P^T)^{-1} P^T X^T y \n",
    "$$\n",
    "т. к. P обратимая матрица\n",
    "$$\n",
    "(P^T)^{-1} P^T = E\n",
    "$$\n",
    "$$\n",
    "w1 = P^{-1}(X^T X)^{-1} E X^T y \n",
    "$$\n",
    "$$\n",
    "a1 = XPw1\n",
    "$$\n",
    "$$\n",
    "a1 = XPP^{-1} w = a\n",
    "$$"
   ]
  },
  {
   "cell_type": "markdown",
   "metadata": {},
   "source": [
    "Значение предсказания  не меняется, если умножать матрицу признаков на обратимую матрицу."
   ]
  },
  {
   "cell_type": "markdown",
   "metadata": {},
   "source": [
    "## Алгоритм преобразования"
   ]
  },
  {
   "cell_type": "markdown",
   "metadata": {},
   "source": [
    "**Алгоритм**\n",
    "Умножение признаков на обратимую матрицу.\n",
    "1. Генерирование матрицы\n",
    "2. Проверка на обратимость\n",
    "3. Умножение признаков на найденную матрицу"
   ]
  },
  {
   "cell_type": "markdown",
   "metadata": {},
   "source": [
    "**Обоснование**\n",
    "Матрица должна иметь размер (4, 4), чтобы получить преобразованную матрицу с размерами равными начальной матрице.\n"
   ]
  },
  {
   "cell_type": "code",
   "execution_count": 18,
   "metadata": {},
   "outputs": [],
   "source": [
    "P = np.random.normal(size=(4,4)) # Генерация матрицы"
   ]
  },
  {
   "cell_type": "code",
   "execution_count": 19,
   "metadata": {},
   "outputs": [
    {
     "data": {
      "text/plain": [
       "array([[-0.2323591 ,  1.22387782, -0.92512172, -1.34062448],\n",
       "       [-0.31420543, -0.53882148,  0.50281144,  0.15214112],\n",
       "       [ 0.0972883 ,  1.60644621, -0.14256406, -1.45580852],\n",
       "       [-0.19176736,  2.90680853, -0.37644719, -1.39804538]])"
      ]
     },
     "execution_count": 19,
     "metadata": {},
     "output_type": "execute_result"
    }
   ],
   "source": [
    "np.linalg.inv(P) # Нахождение обратной матрицы. Проверка сгенерированной матриц ына обраимость"
   ]
  },
  {
   "cell_type": "code",
   "execution_count": 20,
   "metadata": {},
   "outputs": [
    {
     "data": {
      "text/plain": [
       "array([[    1,    41, 49600,     1,     0],\n",
       "       [    0,    46, 38000,     1,     1],\n",
       "       [    0,    29, 21000,     0,     0],\n",
       "       ...,\n",
       "       [    0,    20, 33900,     2,     0],\n",
       "       [    1,    22, 32700,     3,     0],\n",
       "       [    1,    28, 40600,     1,     0]])"
      ]
     },
     "execution_count": 20,
     "metadata": {},
     "output_type": "execute_result"
    }
   ],
   "source": [
    "data.values #Преобразование исходных данных в матрицу"
   ]
  },
  {
   "cell_type": "markdown",
   "metadata": {},
   "source": [
    "## Проверка алгоритма"
   ]
  },
  {
   "cell_type": "code",
   "execution_count": 21,
   "metadata": {},
   "outputs": [],
   "source": [
    "def cypher_features(data): # Функция шифрующая данные\n",
    "    while True:\n",
    "        n = data.shape[1] \n",
    "        P = np.random.normal(size=(n,4))\n",
    "        P_inverse = np.linalg.inv(P)\n",
    "        if np.allclose(np.dot(P, P_inverse), np.eye(P.shape[0])):\n",
    "            break\n",
    "    crypted_data = data.values @ P\n",
    "    crypted_data = pd.DataFrame(crypted_data, columns=data.columns)\n",
    "    return crypted_data, P_inverse"
   ]
  },
  {
   "cell_type": "code",
   "execution_count": 22,
   "metadata": {},
   "outputs": [],
   "source": [
    "features = data.drop('Страховые выплаты', axis=1)\n",
    "target = data['Страховые выплаты']\n",
    "features_train, features_test, target_train, target_test = train_test_split(features, target, test_size=0.25, random_state=7072020)\n"
   ]
  },
  {
   "cell_type": "code",
   "execution_count": 23,
   "metadata": {},
   "outputs": [
    {
     "name": "stdout",
     "output_type": "stream",
     "text": [
      "R2 = 0.4184108158256733\n"
     ]
    }
   ],
   "source": [
    "model = LinearRegression() # Обучение и предсказание на открытых данных\n",
    "model.fit(features_train, target_train)\n",
    "predictions = model.predict(features_test)\n",
    "R2 = r2_score(target_test, predictions)\n",
    "print(\"R2 =\", R2)"
   ]
  },
  {
   "cell_type": "code",
   "execution_count": 24,
   "metadata": {},
   "outputs": [],
   "source": [
    "crypted_features, P_inverse = cypher_features(features)\n",
    "crypted_target = data['Страховые выплаты']\n",
    "crypted_features_train, crypted_features_test, crypted_target_train, crypted_target_test = train_test_split(crypted_features, crypted_target, test_size=0.25, random_state=7072020)\n"
   ]
  },
  {
   "cell_type": "code",
   "execution_count": 25,
   "metadata": {},
   "outputs": [
    {
     "name": "stdout",
     "output_type": "stream",
     "text": [
      "R2 = 0.4184108158256651\n"
     ]
    }
   ],
   "source": [
    "crypted_model = LinearRegression()  # Обучение и предсказание на зашифрованных данных\n",
    "crypted_model.fit(crypted_features_train, crypted_target_train)\n",
    "crypted_predictions = crypted_model.predict(crypted_features_test)\n",
    "crypted_R2 = r2_score(crypted_target_test, crypted_predictions)\n",
    "print(\"R2 =\", crypted_R2)"
   ]
  },
  {
   "attachments": {},
   "cell_type": "markdown",
   "metadata": {},
   "source": [
    "<font color='white'><b>Вывод: </b></font>\\\n",
    "Загружены и изучены данные, создан алгоритм преобразования данных, исследован алгоритм преобразования данных и проверена метрика R2 для данных без преобразования и с ним.\n",
    "<font color='white'><b>Качество модели не изменилось после шифровки данных. R2 = 0.4184</b></font>"
   ]
  },
  {
   "attachments": {},
   "cell_type": "markdown",
   "metadata": {},
   "source": [
    "## Декодировка данных"
   ]
  },
  {
   "cell_type": "code",
   "execution_count": 26,
   "metadata": {},
   "outputs": [],
   "source": [
    "features_back = (crypted_features @ P_inverse).astype('int')"
   ]
  },
  {
   "cell_type": "code",
   "execution_count": 27,
   "metadata": {},
   "outputs": [
    {
     "data": {
      "text/html": [
       "<div>\n",
       "<style scoped>\n",
       "    .dataframe tbody tr th:only-of-type {\n",
       "        vertical-align: middle;\n",
       "    }\n",
       "\n",
       "    .dataframe tbody tr th {\n",
       "        vertical-align: top;\n",
       "    }\n",
       "\n",
       "    .dataframe thead th {\n",
       "        text-align: right;\n",
       "    }\n",
       "</style>\n",
       "<table border=\"1\" class=\"dataframe\">\n",
       "  <thead>\n",
       "    <tr style=\"text-align: right;\">\n",
       "      <th></th>\n",
       "      <th>0</th>\n",
       "      <th>1</th>\n",
       "      <th>2</th>\n",
       "      <th>3</th>\n",
       "    </tr>\n",
       "  </thead>\n",
       "  <tbody>\n",
       "    <tr>\n",
       "      <th>0</th>\n",
       "      <td>1</td>\n",
       "      <td>40</td>\n",
       "      <td>49599</td>\n",
       "      <td>0</td>\n",
       "    </tr>\n",
       "    <tr>\n",
       "      <th>1</th>\n",
       "      <td>0</td>\n",
       "      <td>46</td>\n",
       "      <td>37999</td>\n",
       "      <td>0</td>\n",
       "    </tr>\n",
       "    <tr>\n",
       "      <th>2</th>\n",
       "      <td>0</td>\n",
       "      <td>28</td>\n",
       "      <td>20999</td>\n",
       "      <td>0</td>\n",
       "    </tr>\n",
       "    <tr>\n",
       "      <th>3</th>\n",
       "      <td>0</td>\n",
       "      <td>20</td>\n",
       "      <td>41700</td>\n",
       "      <td>1</td>\n",
       "    </tr>\n",
       "    <tr>\n",
       "      <th>4</th>\n",
       "      <td>1</td>\n",
       "      <td>27</td>\n",
       "      <td>26099</td>\n",
       "      <td>0</td>\n",
       "    </tr>\n",
       "  </tbody>\n",
       "</table>\n",
       "</div>"
      ],
      "text/plain": [
       "   0   1      2  3\n",
       "0  1  40  49599  0\n",
       "1  0  46  37999  0\n",
       "2  0  28  20999  0\n",
       "3  0  20  41700  1\n",
       "4  1  27  26099  0"
      ]
     },
     "execution_count": 27,
     "metadata": {},
     "output_type": "execute_result"
    }
   ],
   "source": [
    "features_back.head()"
   ]
  },
  {
   "cell_type": "code",
   "execution_count": 28,
   "metadata": {},
   "outputs": [
    {
     "data": {
      "text/html": [
       "<div>\n",
       "<style scoped>\n",
       "    .dataframe tbody tr th:only-of-type {\n",
       "        vertical-align: middle;\n",
       "    }\n",
       "\n",
       "    .dataframe tbody tr th {\n",
       "        vertical-align: top;\n",
       "    }\n",
       "\n",
       "    .dataframe thead th {\n",
       "        text-align: right;\n",
       "    }\n",
       "</style>\n",
       "<table border=\"1\" class=\"dataframe\">\n",
       "  <thead>\n",
       "    <tr style=\"text-align: right;\">\n",
       "      <th></th>\n",
       "      <th>Пол</th>\n",
       "      <th>Возраст</th>\n",
       "      <th>Зарплата</th>\n",
       "      <th>Члены семьи</th>\n",
       "      <th>Страховые выплаты</th>\n",
       "    </tr>\n",
       "  </thead>\n",
       "  <tbody>\n",
       "    <tr>\n",
       "      <th>0</th>\n",
       "      <td>1</td>\n",
       "      <td>41</td>\n",
       "      <td>49600</td>\n",
       "      <td>1</td>\n",
       "      <td>0</td>\n",
       "    </tr>\n",
       "    <tr>\n",
       "      <th>1</th>\n",
       "      <td>0</td>\n",
       "      <td>46</td>\n",
       "      <td>38000</td>\n",
       "      <td>1</td>\n",
       "      <td>1</td>\n",
       "    </tr>\n",
       "    <tr>\n",
       "      <th>2</th>\n",
       "      <td>0</td>\n",
       "      <td>29</td>\n",
       "      <td>21000</td>\n",
       "      <td>0</td>\n",
       "      <td>0</td>\n",
       "    </tr>\n",
       "    <tr>\n",
       "      <th>3</th>\n",
       "      <td>0</td>\n",
       "      <td>21</td>\n",
       "      <td>41700</td>\n",
       "      <td>2</td>\n",
       "      <td>0</td>\n",
       "    </tr>\n",
       "    <tr>\n",
       "      <th>4</th>\n",
       "      <td>1</td>\n",
       "      <td>28</td>\n",
       "      <td>26100</td>\n",
       "      <td>0</td>\n",
       "      <td>0</td>\n",
       "    </tr>\n",
       "    <tr>\n",
       "      <th>5</th>\n",
       "      <td>1</td>\n",
       "      <td>43</td>\n",
       "      <td>41000</td>\n",
       "      <td>2</td>\n",
       "      <td>1</td>\n",
       "    </tr>\n",
       "    <tr>\n",
       "      <th>6</th>\n",
       "      <td>1</td>\n",
       "      <td>39</td>\n",
       "      <td>39700</td>\n",
       "      <td>2</td>\n",
       "      <td>0</td>\n",
       "    </tr>\n",
       "    <tr>\n",
       "      <th>7</th>\n",
       "      <td>1</td>\n",
       "      <td>25</td>\n",
       "      <td>38600</td>\n",
       "      <td>4</td>\n",
       "      <td>0</td>\n",
       "    </tr>\n",
       "    <tr>\n",
       "      <th>8</th>\n",
       "      <td>1</td>\n",
       "      <td>36</td>\n",
       "      <td>49700</td>\n",
       "      <td>1</td>\n",
       "      <td>0</td>\n",
       "    </tr>\n",
       "    <tr>\n",
       "      <th>9</th>\n",
       "      <td>1</td>\n",
       "      <td>32</td>\n",
       "      <td>51700</td>\n",
       "      <td>1</td>\n",
       "      <td>0</td>\n",
       "    </tr>\n",
       "  </tbody>\n",
       "</table>\n",
       "</div>"
      ],
      "text/plain": [
       "   Пол  Возраст  Зарплата  Члены семьи  Страховые выплаты\n",
       "0    1       41     49600            1                  0\n",
       "1    0       46     38000            1                  1\n",
       "2    0       29     21000            0                  0\n",
       "3    0       21     41700            2                  0\n",
       "4    1       28     26100            0                  0\n",
       "5    1       43     41000            2                  1\n",
       "6    1       39     39700            2                  0\n",
       "7    1       25     38600            4                  0\n",
       "8    1       36     49700            1                  0\n",
       "9    1       32     51700            1                  0"
      ]
     },
     "execution_count": 28,
     "metadata": {},
     "output_type": "execute_result"
    }
   ],
   "source": [
    "data.head(10)"
   ]
  }
 ],
 "metadata": {
  "ExecuteTimeLog": [
   {
    "duration": 69,
    "start_time": "2022-11-20T16:13:43.925Z"
   },
   {
    "duration": 8,
    "start_time": "2022-11-20T16:33:47.894Z"
   },
   {
    "duration": 2505,
    "start_time": "2022-11-20T16:33:51.214Z"
   },
   {
    "duration": 110,
    "start_time": "2022-11-20T16:33:54.281Z"
   },
   {
    "duration": 46,
    "start_time": "2022-11-20T17:42:55.525Z"
   },
   {
    "duration": 1095,
    "start_time": "2022-11-20T17:42:57.847Z"
   },
   {
    "duration": 77,
    "start_time": "2022-11-20T17:42:59.693Z"
   },
   {
    "duration": 4,
    "start_time": "2022-11-20T17:54:48.951Z"
   },
   {
    "duration": 38,
    "start_time": "2022-11-20T17:54:48.958Z"
   },
   {
    "duration": 15,
    "start_time": "2022-11-20T17:54:48.998Z"
   },
   {
    "duration": 7,
    "start_time": "2022-11-20T17:54:49.014Z"
   },
   {
    "duration": 20,
    "start_time": "2022-11-20T17:54:49.022Z"
   },
   {
    "duration": 14,
    "start_time": "2022-11-20T17:54:49.044Z"
   },
   {
    "duration": 7,
    "start_time": "2022-11-20T17:54:49.061Z"
   },
   {
    "duration": 17,
    "start_time": "2022-11-20T17:54:49.069Z"
   },
   {
    "duration": 40,
    "start_time": "2022-11-20T17:54:49.088Z"
   },
   {
    "duration": 94,
    "start_time": "2022-11-20T17:54:49.130Z"
   },
   {
    "duration": 28,
    "start_time": "2022-11-20T17:54:49.226Z"
   },
   {
    "duration": 37,
    "start_time": "2022-11-20T17:54:49.256Z"
   },
   {
    "duration": 24,
    "start_time": "2022-11-20T17:54:49.294Z"
   },
   {
    "duration": 236,
    "start_time": "2022-11-20T17:54:49.320Z"
   },
   {
    "duration": 3,
    "start_time": "2022-11-20T17:55:34.460Z"
   },
   {
    "duration": 32,
    "start_time": "2022-11-20T17:55:34.465Z"
   },
   {
    "duration": 8,
    "start_time": "2022-11-20T17:55:34.499Z"
   },
   {
    "duration": 7,
    "start_time": "2022-11-20T17:55:34.508Z"
   },
   {
    "duration": 6,
    "start_time": "2022-11-20T17:55:34.517Z"
   },
   {
    "duration": 15,
    "start_time": "2022-11-20T17:55:34.524Z"
   },
   {
    "duration": 2,
    "start_time": "2022-11-20T17:55:34.540Z"
   },
   {
    "duration": 10,
    "start_time": "2022-11-20T17:55:34.543Z"
   },
   {
    "duration": 71,
    "start_time": "2022-11-20T17:55:34.555Z"
   },
   {
    "duration": 14,
    "start_time": "2022-11-20T17:55:34.628Z"
   },
   {
    "duration": 11,
    "start_time": "2022-11-20T17:55:34.721Z"
   },
   {
    "duration": 10,
    "start_time": "2022-11-20T17:55:34.734Z"
   },
   {
    "duration": 7,
    "start_time": "2022-11-20T17:55:34.746Z"
   },
   {
    "duration": 75,
    "start_time": "2022-11-20T17:55:34.756Z"
   },
   {
    "duration": 790,
    "start_time": "2022-11-20T18:00:33.530Z"
   },
   {
    "duration": 367,
    "start_time": "2022-11-20T18:00:53.120Z"
   },
   {
    "duration": 484,
    "start_time": "2022-11-20T18:01:08.892Z"
   },
   {
    "duration": 92,
    "start_time": "2022-11-20T18:03:39.027Z"
   },
   {
    "duration": 8,
    "start_time": "2022-11-20T18:04:24.241Z"
   },
   {
    "duration": 3,
    "start_time": "2022-11-20T18:05:00.462Z"
   },
   {
    "duration": 4,
    "start_time": "2022-11-20T18:05:05.835Z"
   },
   {
    "duration": 188,
    "start_time": "2022-11-20T18:05:11.540Z"
   },
   {
    "duration": 162,
    "start_time": "2022-11-20T18:05:26.183Z"
   },
   {
    "duration": 528,
    "start_time": "2022-11-20T18:06:02.928Z"
   },
   {
    "duration": 628,
    "start_time": "2022-11-20T18:06:26.576Z"
   },
   {
    "duration": 10,
    "start_time": "2022-11-20T18:16:35.408Z"
   },
   {
    "duration": 4,
    "start_time": "2022-11-20T18:16:38.289Z"
   },
   {
    "duration": 32,
    "start_time": "2022-11-20T18:16:38.295Z"
   },
   {
    "duration": 11,
    "start_time": "2022-11-20T18:16:38.329Z"
   },
   {
    "duration": 6,
    "start_time": "2022-11-20T18:16:38.342Z"
   },
   {
    "duration": 8,
    "start_time": "2022-11-20T18:16:38.351Z"
   },
   {
    "duration": 16,
    "start_time": "2022-11-20T18:16:38.360Z"
   },
   {
    "duration": 588,
    "start_time": "2022-11-20T18:16:38.378Z"
   },
   {
    "duration": 3,
    "start_time": "2022-11-20T18:16:38.968Z"
   },
   {
    "duration": 13,
    "start_time": "2022-11-20T18:16:38.973Z"
   },
   {
    "duration": 111,
    "start_time": "2022-11-20T18:16:39.023Z"
   },
   {
    "duration": 4,
    "start_time": "2022-11-20T18:16:39.136Z"
   },
   {
    "duration": 11,
    "start_time": "2022-11-20T18:16:39.142Z"
   },
   {
    "duration": 11,
    "start_time": "2022-11-20T18:16:39.155Z"
   },
   {
    "duration": 102,
    "start_time": "2022-11-20T18:16:39.223Z"
   },
   {
    "duration": 12,
    "start_time": "2022-11-20T18:16:39.326Z"
   },
   {
    "duration": 88,
    "start_time": "2022-11-20T18:16:39.340Z"
   },
   {
    "duration": 62,
    "start_time": "2022-11-20T18:17:06.767Z"
   },
   {
    "duration": 3,
    "start_time": "2022-11-20T18:17:24.217Z"
   },
   {
    "duration": 4,
    "start_time": "2022-11-20T18:17:26.001Z"
   },
   {
    "duration": 8,
    "start_time": "2022-11-20T18:17:36.782Z"
   },
   {
    "duration": 4,
    "start_time": "2022-11-20T18:18:14.041Z"
   },
   {
    "duration": 33,
    "start_time": "2022-11-20T18:18:14.047Z"
   },
   {
    "duration": 8,
    "start_time": "2022-11-20T18:18:14.082Z"
   },
   {
    "duration": 9,
    "start_time": "2022-11-20T18:18:14.092Z"
   },
   {
    "duration": 6,
    "start_time": "2022-11-20T18:18:14.102Z"
   },
   {
    "duration": 13,
    "start_time": "2022-11-20T18:18:14.110Z"
   },
   {
    "duration": 547,
    "start_time": "2022-11-20T18:18:14.125Z"
   },
   {
    "duration": 3,
    "start_time": "2022-11-20T18:18:14.673Z"
   },
   {
    "duration": 7,
    "start_time": "2022-11-20T18:18:14.678Z"
   },
   {
    "duration": 41,
    "start_time": "2022-11-20T18:18:14.687Z"
   },
   {
    "duration": 5,
    "start_time": "2022-11-20T18:18:14.730Z"
   },
   {
    "duration": 87,
    "start_time": "2022-11-20T18:18:14.736Z"
   },
   {
    "duration": 10,
    "start_time": "2022-11-20T18:18:14.824Z"
   },
   {
    "duration": 6,
    "start_time": "2022-11-20T18:18:14.835Z"
   },
   {
    "duration": 84,
    "start_time": "2022-11-20T18:18:14.843Z"
   },
   {
    "duration": 5,
    "start_time": "2022-11-20T18:18:14.929Z"
   },
   {
    "duration": 317,
    "start_time": "2022-11-20T18:18:14.935Z"
   },
   {
    "duration": 0,
    "start_time": "2022-11-20T18:18:15.254Z"
   },
   {
    "duration": 3,
    "start_time": "2022-11-20T18:19:37.474Z"
   },
   {
    "duration": 31,
    "start_time": "2022-11-20T18:19:37.479Z"
   },
   {
    "duration": 10,
    "start_time": "2022-11-20T18:19:37.512Z"
   },
   {
    "duration": 13,
    "start_time": "2022-11-20T18:19:37.523Z"
   },
   {
    "duration": 11,
    "start_time": "2022-11-20T18:19:37.539Z"
   },
   {
    "duration": 14,
    "start_time": "2022-11-20T18:19:37.551Z"
   },
   {
    "duration": 666,
    "start_time": "2022-11-20T18:19:37.566Z"
   },
   {
    "duration": 3,
    "start_time": "2022-11-20T18:19:38.234Z"
   },
   {
    "duration": 7,
    "start_time": "2022-11-20T18:19:38.239Z"
   },
   {
    "duration": 9,
    "start_time": "2022-11-20T18:19:38.247Z"
   },
   {
    "duration": 66,
    "start_time": "2022-11-20T18:19:38.258Z"
   },
   {
    "duration": 14,
    "start_time": "2022-11-20T18:19:38.327Z"
   },
   {
    "duration": 8,
    "start_time": "2022-11-20T18:19:38.423Z"
   },
   {
    "duration": 6,
    "start_time": "2022-11-20T18:19:38.433Z"
   },
   {
    "duration": 83,
    "start_time": "2022-11-20T18:19:38.441Z"
   },
   {
    "duration": 3,
    "start_time": "2022-11-20T18:19:38.527Z"
   },
   {
    "duration": 94,
    "start_time": "2022-11-20T18:19:38.532Z"
   },
   {
    "duration": 0,
    "start_time": "2022-11-20T18:19:38.628Z"
   },
   {
    "duration": 3,
    "start_time": "2022-11-20T18:19:42.201Z"
   },
   {
    "duration": 8,
    "start_time": "2022-11-20T18:19:44.414Z"
   },
   {
    "duration": 3,
    "start_time": "2022-11-20T18:26:18.481Z"
   },
   {
    "duration": 35,
    "start_time": "2022-11-20T18:26:18.487Z"
   },
   {
    "duration": 11,
    "start_time": "2022-11-20T18:26:18.524Z"
   },
   {
    "duration": 7,
    "start_time": "2022-11-20T18:26:18.537Z"
   },
   {
    "duration": 17,
    "start_time": "2022-11-20T18:26:18.546Z"
   },
   {
    "duration": 26,
    "start_time": "2022-11-20T18:26:18.565Z"
   },
   {
    "duration": 566,
    "start_time": "2022-11-20T18:26:18.593Z"
   },
   {
    "duration": 3,
    "start_time": "2022-11-20T18:26:19.160Z"
   },
   {
    "duration": 9,
    "start_time": "2022-11-20T18:26:19.164Z"
   },
   {
    "duration": 48,
    "start_time": "2022-11-20T18:26:19.176Z"
   },
   {
    "duration": 5,
    "start_time": "2022-11-20T18:26:19.226Z"
   },
   {
    "duration": 91,
    "start_time": "2022-11-20T18:26:19.232Z"
   },
   {
    "duration": 8,
    "start_time": "2022-11-20T18:26:19.325Z"
   },
   {
    "duration": 5,
    "start_time": "2022-11-20T18:26:19.335Z"
   },
   {
    "duration": 84,
    "start_time": "2022-11-20T18:26:19.341Z"
   },
   {
    "duration": 3,
    "start_time": "2022-11-20T18:26:19.428Z"
   },
   {
    "duration": 92,
    "start_time": "2022-11-20T18:26:19.433Z"
   },
   {
    "duration": 8,
    "start_time": "2022-11-20T18:28:22.215Z"
   },
   {
    "duration": 4,
    "start_time": "2022-11-20T18:30:10.698Z"
   },
   {
    "duration": 3,
    "start_time": "2022-11-20T18:30:15.530Z"
   },
   {
    "duration": 33,
    "start_time": "2022-11-20T18:30:15.535Z"
   },
   {
    "duration": 8,
    "start_time": "2022-11-20T18:30:15.570Z"
   },
   {
    "duration": 8,
    "start_time": "2022-11-20T18:30:15.580Z"
   },
   {
    "duration": 7,
    "start_time": "2022-11-20T18:30:15.590Z"
   },
   {
    "duration": 15,
    "start_time": "2022-11-20T18:30:15.599Z"
   },
   {
    "duration": 574,
    "start_time": "2022-11-20T18:30:15.615Z"
   },
   {
    "duration": 3,
    "start_time": "2022-11-20T18:30:16.190Z"
   },
   {
    "duration": 28,
    "start_time": "2022-11-20T18:30:16.195Z"
   },
   {
    "duration": 18,
    "start_time": "2022-11-20T18:30:16.225Z"
   },
   {
    "duration": 80,
    "start_time": "2022-11-20T18:30:16.245Z"
   },
   {
    "duration": 17,
    "start_time": "2022-11-20T18:30:16.327Z"
   },
   {
    "duration": 76,
    "start_time": "2022-11-20T18:30:16.345Z"
   },
   {
    "duration": 12,
    "start_time": "2022-11-20T18:30:16.425Z"
   },
   {
    "duration": 86,
    "start_time": "2022-11-20T18:30:16.439Z"
   },
   {
    "duration": 4,
    "start_time": "2022-11-20T18:30:16.528Z"
   },
   {
    "duration": 94,
    "start_time": "2022-11-20T18:30:16.534Z"
   },
   {
    "duration": 14,
    "start_time": "2022-11-20T18:30:16.629Z"
   },
   {
    "duration": 11,
    "start_time": "2022-11-20T18:31:29.239Z"
   },
   {
    "duration": 4,
    "start_time": "2022-11-20T18:32:02.530Z"
   },
   {
    "duration": 6,
    "start_time": "2022-11-20T18:32:05.042Z"
   }
  ],
  "kernelspec": {
   "display_name": "practicum",
   "language": "python",
   "name": "python3"
  },
  "language_info": {
   "codemirror_mode": {
    "name": "ipython",
    "version": 3
   },
   "file_extension": ".py",
   "mimetype": "text/x-python",
   "name": "python",
   "nbconvert_exporter": "python",
   "pygments_lexer": "ipython3",
   "version": "3.9.15"
  },
  "toc": {
   "base_numbering": 1,
   "nav_menu": {},
   "number_sections": true,
   "sideBar": true,
   "skip_h1_title": true,
   "title_cell": "Содержание",
   "title_sidebar": "Contents",
   "toc_cell": true,
   "toc_position": {},
   "toc_section_display": true,
   "toc_window_display": true
  },
  "vscode": {
   "interpreter": {
    "hash": "5e530627fe0be38076dce6cf1c4a8755900f4a1e6bd96b8b886ef58787dfff5d"
   }
  }
 },
 "nbformat": 4,
 "nbformat_minor": 2
}
