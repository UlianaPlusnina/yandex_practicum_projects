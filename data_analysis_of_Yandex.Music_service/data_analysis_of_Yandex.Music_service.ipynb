{
 "cells": [
  {
   "attachments": {},
   "cell_type": "markdown",
   "metadata": {},
   "source": [
    "# Проект: Исследование данных сервиса “Яндекс.Музыка” — сравнение пользователей двух городов"
   ]
  },
  {
   "attachments": {},
   "cell_type": "markdown",
   "metadata": {},
   "source": [
    "## Данные"
   ]
  },
  {
   "attachments": {},
   "cell_type": "markdown",
   "metadata": {},
   "source": [
    "В наличии были следующие данные:\n",
    "- userID — идентификатор пользователя;\n",
    "- Track — название трека;\n",
    "- artist — имя исполнителя;\n",
    "- genre — название жанра;\n",
    "- City — город пользователя;\n",
    "- time — время начала прослушивания;\n",
    "- Day — день недели."
   ]
  },
  {
   "attachments": {},
   "cell_type": "markdown",
   "metadata": {},
   "source": [
    "## Задача"
   ]
  },
  {
   "attachments": {},
   "cell_type": "markdown",
   "metadata": {},
   "source": [
    "\n",
    "На реальных данных Яндекс.Музыки c помощью библиотеки Pandas и её возможностей проверить данные и сравнить поведение и предпочтения пользователей двух столиц — Москвы и Санкт-Петербурга."
   ]
  },
  {
   "attachments": {},
   "cell_type": "markdown",
   "metadata": {},
   "source": [
    "Гипотезы:\n",
    "1. Активность пользователей зависит от дня недели. Причём в Москве и Петербурге это проявляется по-разному.\n",
    "2. Утром в понедельник в Москве преобладают одни жанры музыки, а в Петербурге — другие. Это верно и для вечера пятницы.\n",
    "3. Москва и Петербург предпочитают разные жанры музыки. В Москве чаще слушают поп-музыку, в Петербурге — русский рэп."
   ]
  },
  {
   "attachments": {},
   "cell_type": "markdown",
   "metadata": {},
   "source": [
    "## Используемые библиотеки"
   ]
  },
  {
   "attachments": {},
   "cell_type": "markdown",
   "metadata": {},
   "source": [
    "pandas"
   ]
  },
  {
   "cell_type": "code",
   "execution_count": 1,
   "metadata": {
    "deletable": false,
    "id": "AXN7PHPN_Zcs"
   },
   "outputs": [],
   "source": [
    "import pandas as pd# импорт библиотеки pandas"
   ]
  },
  {
   "cell_type": "code",
   "execution_count": 2,
   "metadata": {
    "deletable": false,
    "id": "fFVu7vqh_Zct"
   },
   "outputs": [],
   "source": [
    "df = pd.read_csv('/datasets/yandex_music_project.csv') # чтение файла с данными и сохранение в df"
   ]
  },
  {
   "cell_type": "code",
   "execution_count": 3,
   "metadata": {
    "deletable": false,
    "id": "oWTVX3gW_Zct"
   },
   "outputs": [
    {
     "name": "stdout",
     "output_type": "stream",
     "text": [
      "     userID                        Track            artist   genre  \\\n",
      "0  FFB692EC            Kamigata To Boots  The Mass Missile    rock   \n",
      "1  55204538  Delayed Because of Accident  Andreas Rönnberg    rock   \n",
      "2    20EC38            Funiculì funiculà       Mario Lanza     pop   \n",
      "3  A3DD03C9        Dragons in the Sunset        Fire + Ice    folk   \n",
      "4  E2DC1FAE                  Soul People        Space Echo   dance   \n",
      "5  842029A1                    Преданная         IMPERVTOR  rusrap   \n",
      "6  4CB90AA5                         True      Roman Messer   dance   \n",
      "7  F03E1C1F             Feeling This Way   Polina Griffith   dance   \n",
      "8  8FA1D3BE     И вновь продолжается бой               NaN  ruspop   \n",
      "9  E772D5C0                    Pessimist               NaN   dance   \n",
      "\n",
      "             City        time        Day  \n",
      "0  Saint-Petersburg  20:28:33  Wednesday  \n",
      "1            Moscow  14:07:09     Friday  \n",
      "2  Saint-Petersburg  20:58:07  Wednesday  \n",
      "3  Saint-Petersburg  08:37:09     Monday  \n",
      "4            Moscow  08:34:34     Monday  \n",
      "5  Saint-Petersburg  13:09:41     Friday  \n",
      "6            Moscow  13:00:07  Wednesday  \n",
      "7            Moscow  20:47:49  Wednesday  \n",
      "8            Moscow  09:17:40     Friday  \n",
      "9  Saint-Petersburg  21:20:49  Wednesday  \n"
     ]
    }
   ],
   "source": [
    "print(df.head(10))# получение первых 10 строк таблицы df"
   ]
  },
  {
   "cell_type": "code",
   "execution_count": 4,
   "metadata": {
    "deletable": false,
    "id": "DSf2kIb-_Zct",
    "scrolled": true
   },
   "outputs": [
    {
     "name": "stdout",
     "output_type": "stream",
     "text": [
      "<class 'pandas.core.frame.DataFrame'>\n",
      "RangeIndex: 65079 entries, 0 to 65078\n",
      "Data columns (total 7 columns):\n",
      " #   Column    Non-Null Count  Dtype \n",
      "---  ------    --------------  ----- \n",
      " 0     userID  65079 non-null  object\n",
      " 1   Track     63848 non-null  object\n",
      " 2   artist    57876 non-null  object\n",
      " 3   genre     63881 non-null  object\n",
      " 4     City    65079 non-null  object\n",
      " 5   time      65079 non-null  object\n",
      " 6   Day       65079 non-null  object\n",
      "dtypes: object(7)\n",
      "memory usage: 3.5+ MB\n"
     ]
    }
   ],
   "source": [
    "df.info()# получение общей информации о данных в таблице df"
   ]
  },
  {
   "cell_type": "markdown",
   "metadata": {
    "deletable": false,
    "editable": false,
    "id": "MCB6-dXG_Zct"
   },
   "source": [
    "**Выводы**\n",
    "\n",
    "В каждой строке таблицы — данные о прослушанном треке. Часть колонок описывает саму композицию: название, исполнителя и жанр. Остальные данные рассказывают о пользователе: из какого он города, когда он слушал музыку. \n",
    "\n",
    "Предварительно можно утверждать, что данных достаточно для проверки гипотез. Но встречаются пропуски в данных, а в названиях колонок — расхождения с хорошим стилем.\n",
    "\n",
    "Чтобы двигаться дальше, нужно устранить проблемы в данных."
   ]
  },
  {
   "attachments": {},
   "cell_type": "markdown",
   "metadata": {
    "deletable": false,
    "editable": false,
    "id": "SjYF6Ub9_Zct"
   },
   "source": [
    "## Предобработка данных"
   ]
  },
  {
   "cell_type": "code",
   "execution_count": 6,
   "metadata": {
    "deletable": false,
    "id": "oKOTdF_Q_Zct",
    "scrolled": true
   },
   "outputs": [
    {
     "name": "stdout",
     "output_type": "stream",
     "text": [
      "Index(['  userID', 'Track', 'artist', 'genre', '  City  ', 'time', 'Day'], dtype='object')\n"
     ]
    }
   ],
   "source": [
    "print(df.columns)# перечень названий столбцов таблицы df"
   ]
  },
  {
   "cell_type": "code",
   "execution_count": 7,
   "metadata": {
    "deletable": false,
    "id": "ISlFqs5y_Zct"
   },
   "outputs": [],
   "source": [
    "df = df.rename(columns={'  userID':'user_id', 'Track':'track', '  City  ':'city', 'Day':'day'})# переименование столбцов"
   ]
  },
  {
   "cell_type": "code",
   "execution_count": 8,
   "metadata": {
    "deletable": false,
    "id": "d4NOAmTW_Zct"
   },
   "outputs": [
    {
     "name": "stdout",
     "output_type": "stream",
     "text": [
      "Index(['user_id', 'track', 'artist', 'genre', 'city', 'time', 'day'], dtype='object')\n"
     ]
    }
   ],
   "source": [
    "print(df.columns)# проверка результатов - перечень названий столбцов"
   ]
  },
  {
   "cell_type": "code",
   "execution_count": 9,
   "metadata": {
    "deletable": false,
    "id": "RskX29qr_Zct"
   },
   "outputs": [
    {
     "data": {
      "text/plain": [
       "user_id       0\n",
       "track      1231\n",
       "artist     7203\n",
       "genre      1198\n",
       "city          0\n",
       "time          0\n",
       "day           0\n",
       "dtype: int64"
      ]
     },
     "execution_count": 9,
     "metadata": {},
     "output_type": "execute_result"
    }
   ],
   "source": [
    "df.isna().sum()# подсчёт пропусков"
   ]
  },
  {
   "attachments": {},
   "cell_type": "markdown",
   "metadata": {
    "deletable": false,
    "editable": false,
    "id": "qubhgnlO_Zct"
   },
   "source": [
    "Не все пропущенные значения влияют на исследование. Так в `track` и `artist` пропуски не важны. Достаточно заменить их явными обозначениями.\n",
    "\n",
    "Но пропуски в `genre` могут помешать сравнению музыкальных вкусов в Москве и Санкт-Петербурге. На практике было бы правильно установить причину пропусков и восстановить данные. Придётся:\n",
    "* заполнить и эти пропуски явными обозначениями;\n",
    "* оценить, насколько они повредят расчётам. "
   ]
  },
  {
   "cell_type": "code",
   "execution_count": 10,
   "metadata": {
    "deletable": false,
    "id": "KplB5qWs_Zct"
   },
   "outputs": [],
   "source": [
    "columns_to_replace = ['track', 'artist', 'genre']\n",
    "for columns in columns_to_replace:\n",
    "    df[columns] = df[columns].fillna('unknown')\n",
    "# перебор названий столбцов в цикле и замена пропущенных значений на 'unknown'"
   ]
  },
  {
   "cell_type": "code",
   "execution_count": 11,
   "metadata": {
    "deletable": false,
    "id": "Tq4nYRX4_Zct"
   },
   "outputs": [
    {
     "data": {
      "text/plain": [
       "user_id    0\n",
       "track      0\n",
       "artist     0\n",
       "genre      0\n",
       "city       0\n",
       "time       0\n",
       "day        0\n",
       "dtype: int64"
      ]
     },
     "execution_count": 11,
     "metadata": {},
     "output_type": "execute_result"
    }
   ],
   "source": [
    "df.isna().sum()# подсчёт пропусков"
   ]
  },
  {
   "cell_type": "code",
   "execution_count": 12,
   "metadata": {
    "deletable": false,
    "id": "36eES_S0_Zct"
   },
   "outputs": [
    {
     "data": {
      "text/plain": [
       "3826"
      ]
     },
     "execution_count": 12,
     "metadata": {},
     "output_type": "execute_result"
    }
   ],
   "source": [
    "df.duplicated().sum()# подсчёт явных дубликатов"
   ]
  },
  {
   "cell_type": "code",
   "execution_count": 13,
   "metadata": {
    "deletable": false,
    "id": "exFHq6tt_Zct"
   },
   "outputs": [],
   "source": [
    "df = df.drop_duplicates()# удаление явных дубликатов"
   ]
  },
  {
   "cell_type": "code",
   "execution_count": 14,
   "metadata": {
    "deletable": false,
    "id": "-8PuNWQ0_Zct"
   },
   "outputs": [
    {
     "data": {
      "text/plain": [
       "0"
      ]
     },
     "execution_count": 14,
     "metadata": {},
     "output_type": "execute_result"
    }
   ],
   "source": [
    "df.duplicated().sum()# проверка на отсутствие дубликатов"
   ]
  },
  {
   "cell_type": "code",
   "execution_count": 15,
   "metadata": {
    "deletable": false,
    "id": "JIUcqzZN_Zct"
   },
   "outputs": [
    {
     "name": "stdout",
     "output_type": "stream",
     "text": [
      "['acid' 'acoustic' 'action' 'adult' 'africa' 'afrikaans' 'alternative'\n",
      " 'alternativepunk' 'ambient' 'americana' 'animated' 'anime' 'arabesk'\n",
      " 'arabic' 'arena' 'argentinetango' 'art' 'audiobook' 'author' 'avantgarde'\n",
      " 'axé' 'baile' 'balkan' 'beats' 'bigroom' 'black' 'bluegrass' 'blues'\n",
      " 'bollywood' 'bossa' 'brazilian' 'breakbeat' 'breaks' 'broadway'\n",
      " 'cantautori' 'cantopop' 'canzone' 'caribbean' 'caucasian' 'celtic'\n",
      " 'chamber' 'chanson' 'children' 'chill' 'chinese' 'choral' 'christian'\n",
      " 'christmas' 'classical' 'classicmetal' 'club' 'colombian' 'comedy'\n",
      " 'conjazz' 'contemporary' 'country' 'cuban' 'dance' 'dancehall' 'dancepop'\n",
      " 'dark' 'death' 'deep' 'deutschrock' 'deutschspr' 'dirty' 'disco' 'dnb'\n",
      " 'documentary' 'downbeat' 'downtempo' 'drum' 'dub' 'dubstep' 'eastern'\n",
      " 'easy' 'electronic' 'electropop' 'emo' 'entehno' 'epicmetal' 'estrada'\n",
      " 'ethnic' 'eurofolk' 'european' 'experimental' 'extrememetal' 'fado'\n",
      " 'fairytail' 'film' 'fitness' 'flamenco' 'folk' 'folklore' 'folkmetal'\n",
      " 'folkrock' 'folktronica' 'forró' 'frankreich' 'französisch' 'french'\n",
      " 'funk' 'future' 'gangsta' 'garage' 'german' 'ghazal' 'gitarre' 'glitch'\n",
      " 'gospel' 'gothic' 'grime' 'grunge' 'gypsy' 'handsup' \"hard'n'heavy\"\n",
      " 'hardcore' 'hardstyle' 'hardtechno' 'hip' 'hip-hop' 'hiphop' 'historisch'\n",
      " 'holiday' 'hop' 'horror' 'house' 'hymn' 'idm' 'independent' 'indian'\n",
      " 'indie' 'indipop' 'industrial' 'inspirational' 'instrumental'\n",
      " 'international' 'irish' 'jam' 'japanese' 'jazz' 'jewish' 'jpop' 'jungle'\n",
      " 'k-pop' 'karadeniz' 'karaoke' 'kayokyoku' 'korean' 'laiko' 'latin'\n",
      " 'latino' 'leftfield' 'local' 'lounge' 'loungeelectronic' 'lovers'\n",
      " 'malaysian' 'mandopop' 'marschmusik' 'meditative' 'mediterranean'\n",
      " 'melodic' 'metal' 'metalcore' 'mexican' 'middle' 'minimal'\n",
      " 'miscellaneous' 'modern' 'mood' 'mpb' 'muslim' 'native' 'neoklassik'\n",
      " 'neue' 'new' 'newage' 'newwave' 'nu' 'nujazz' 'numetal' 'oceania' 'old'\n",
      " 'opera' 'orchestral' 'other' 'piano' 'podcasts' 'pop' 'popdance'\n",
      " 'popelectronic' 'popeurodance' 'poprussian' 'post' 'posthardcore'\n",
      " 'postrock' 'power' 'progmetal' 'progressive' 'psychedelic' 'punjabi'\n",
      " 'punk' 'quebecois' 'ragga' 'ram' 'rancheras' 'rap' 'rave' 'reggae'\n",
      " 'reggaeton' 'regional' 'relax' 'religious' 'retro' 'rhythm' 'rnb' 'rnr'\n",
      " 'rock' 'rockabilly' 'rockalternative' 'rockindie' 'rockother' 'romance'\n",
      " 'roots' 'ruspop' 'rusrap' 'rusrock' 'russian' 'salsa' 'samba' 'scenic'\n",
      " 'schlager' 'self' 'sertanejo' 'shanson' 'shoegazing' 'showtunes' 'singer'\n",
      " 'ska' 'skarock' 'slow' 'smooth' 'soft' 'soul' 'soulful' 'sound'\n",
      " 'soundtrack' 'southern' 'specialty' 'speech' 'spiritual' 'sport'\n",
      " 'stonerrock' 'surf' 'swing' 'synthpop' 'synthrock' 'sängerportrait'\n",
      " 'tango' 'tanzorchester' 'taraftar' 'tatar' 'tech' 'techno' 'teen'\n",
      " 'thrash' 'top' 'traditional' 'tradjazz' 'trance' 'tribal' 'trip'\n",
      " 'triphop' 'tropical' 'türk' 'türkçe' 'ukrrock' 'unknown' 'urban' 'uzbek'\n",
      " 'variété' 'vi' 'videogame' 'vocal' 'western' 'world' 'worldbeat' 'ïîï'\n",
      " 'электроника']\n"
     ]
    }
   ],
   "source": [
    "genre_sort = df['genre'].sort_values().unique()# Просмотр уникальных названий жанров\n",
    "print(genre_sort)"
   ]
  },
  {
   "cell_type": "code",
   "execution_count": 16,
   "metadata": {
    "deletable": false,
    "id": "ErNDkmns_Zct"
   },
   "outputs": [],
   "source": [
    "x = ['hip','hop', 'hip-hop'] \n",
    "df['genre'] = df['genre'].replace(x,'hiphop')# Устранение неявных дубликатов"
   ]
  },
  {
   "cell_type": "code",
   "execution_count": 17,
   "metadata": {
    "deletable": false,
    "id": "wvixALnFG15m"
   },
   "outputs": [
    {
     "name": "stdout",
     "output_type": "stream",
     "text": [
      "['acid' 'acoustic' 'action' 'adult' 'africa' 'afrikaans' 'alternative'\n",
      " 'alternativepunk' 'ambient' 'americana' 'animated' 'anime' 'arabesk'\n",
      " 'arabic' 'arena' 'argentinetango' 'art' 'audiobook' 'author' 'avantgarde'\n",
      " 'axé' 'baile' 'balkan' 'beats' 'bigroom' 'black' 'bluegrass' 'blues'\n",
      " 'bollywood' 'bossa' 'brazilian' 'breakbeat' 'breaks' 'broadway'\n",
      " 'cantautori' 'cantopop' 'canzone' 'caribbean' 'caucasian' 'celtic'\n",
      " 'chamber' 'chanson' 'children' 'chill' 'chinese' 'choral' 'christian'\n",
      " 'christmas' 'classical' 'classicmetal' 'club' 'colombian' 'comedy'\n",
      " 'conjazz' 'contemporary' 'country' 'cuban' 'dance' 'dancehall' 'dancepop'\n",
      " 'dark' 'death' 'deep' 'deutschrock' 'deutschspr' 'dirty' 'disco' 'dnb'\n",
      " 'documentary' 'downbeat' 'downtempo' 'drum' 'dub' 'dubstep' 'eastern'\n",
      " 'easy' 'electronic' 'electropop' 'emo' 'entehno' 'epicmetal' 'estrada'\n",
      " 'ethnic' 'eurofolk' 'european' 'experimental' 'extrememetal' 'fado'\n",
      " 'fairytail' 'film' 'fitness' 'flamenco' 'folk' 'folklore' 'folkmetal'\n",
      " 'folkrock' 'folktronica' 'forró' 'frankreich' 'französisch' 'french'\n",
      " 'funk' 'future' 'gangsta' 'garage' 'german' 'ghazal' 'gitarre' 'glitch'\n",
      " 'gospel' 'gothic' 'grime' 'grunge' 'gypsy' 'handsup' \"hard'n'heavy\"\n",
      " 'hardcore' 'hardstyle' 'hardtechno' 'hiphop' 'historisch' 'holiday'\n",
      " 'horror' 'house' 'hymn' 'idm' 'independent' 'indian' 'indie' 'indipop'\n",
      " 'industrial' 'inspirational' 'instrumental' 'international' 'irish' 'jam'\n",
      " 'japanese' 'jazz' 'jewish' 'jpop' 'jungle' 'k-pop' 'karadeniz' 'karaoke'\n",
      " 'kayokyoku' 'korean' 'laiko' 'latin' 'latino' 'leftfield' 'local'\n",
      " 'lounge' 'loungeelectronic' 'lovers' 'malaysian' 'mandopop' 'marschmusik'\n",
      " 'meditative' 'mediterranean' 'melodic' 'metal' 'metalcore' 'mexican'\n",
      " 'middle' 'minimal' 'miscellaneous' 'modern' 'mood' 'mpb' 'muslim'\n",
      " 'native' 'neoklassik' 'neue' 'new' 'newage' 'newwave' 'nu' 'nujazz'\n",
      " 'numetal' 'oceania' 'old' 'opera' 'orchestral' 'other' 'piano' 'podcasts'\n",
      " 'pop' 'popdance' 'popelectronic' 'popeurodance' 'poprussian' 'post'\n",
      " 'posthardcore' 'postrock' 'power' 'progmetal' 'progressive' 'psychedelic'\n",
      " 'punjabi' 'punk' 'quebecois' 'ragga' 'ram' 'rancheras' 'rap' 'rave'\n",
      " 'reggae' 'reggaeton' 'regional' 'relax' 'religious' 'retro' 'rhythm'\n",
      " 'rnb' 'rnr' 'rock' 'rockabilly' 'rockalternative' 'rockindie' 'rockother'\n",
      " 'romance' 'roots' 'ruspop' 'rusrap' 'rusrock' 'russian' 'salsa' 'samba'\n",
      " 'scenic' 'schlager' 'self' 'sertanejo' 'shanson' 'shoegazing' 'showtunes'\n",
      " 'singer' 'ska' 'skarock' 'slow' 'smooth' 'soft' 'soul' 'soulful' 'sound'\n",
      " 'soundtrack' 'southern' 'specialty' 'speech' 'spiritual' 'sport'\n",
      " 'stonerrock' 'surf' 'swing' 'synthpop' 'synthrock' 'sängerportrait'\n",
      " 'tango' 'tanzorchester' 'taraftar' 'tatar' 'tech' 'techno' 'teen'\n",
      " 'thrash' 'top' 'traditional' 'tradjazz' 'trance' 'tribal' 'trip'\n",
      " 'triphop' 'tropical' 'türk' 'türkçe' 'ukrrock' 'unknown' 'urban' 'uzbek'\n",
      " 'variété' 'vi' 'videogame' 'vocal' 'western' 'world' 'worldbeat' 'ïîï'\n",
      " 'электроника']\n"
     ]
    }
   ],
   "source": [
    "genre_sort = df['genre'].sort_values().unique()# Просмотр уникальных названий жанров\n",
    "print(genre_sort)# Проверка на неявные дубликаты"
   ]
  },
  {
   "attachments": {},
   "cell_type": "markdown",
   "metadata": {
    "deletable": false,
    "editable": false,
    "id": "jz6a9-7HQUDd"
   },
   "source": [
    "**Выводы**\n",
    "\n",
    "Предобработка обнаружила три проблемы в данных:\n",
    "\n",
    "- нарушения в стиле заголовков,\n",
    "- пропущенные значения,\n",
    "- дубликаты — явные и неявные.\n",
    "\n",
    "Исправили заголовки, чтобы упростить работу с таблицей. Без дубликатов исследование станет более точным.\n",
    "\n",
    "Пропущенные значения заменили на `'unknown'`. Ещё предстоит увидеть, не повредят ли исследованию пропуски в колонке `genre`.\n",
    "\n",
    "Теперь можно перейти к проверке гипотез. "
   ]
  },
  {
   "cell_type": "markdown",
   "metadata": {
    "deletable": false,
    "editable": false,
    "id": "WttZHXH0SqKk"
   },
   "source": [
    "## Проверка гипотез"
   ]
  },
  {
   "cell_type": "markdown",
   "metadata": {
    "deletable": false,
    "editable": false,
    "id": "Im936VVi_Zcu"
   },
   "source": [
    "### Сравнение поведения пользователей двух столиц"
   ]
  },
  {
   "attachments": {},
   "cell_type": "markdown",
   "metadata": {
    "deletable": false,
    "editable": false,
    "id": "nwt_MuaL_Zcu"
   },
   "source": [
    "Первая гипотеза утверждает, что пользователи по-разному слушают музыку в Москве и Санкт-Петербурге."
   ]
  },
  {
   "cell_type": "code",
   "execution_count": 18,
   "metadata": {
    "deletable": false,
    "id": "0_Qs96oh_Zcu"
   },
   "outputs": [
    {
     "name": "stdout",
     "output_type": "stream",
     "text": [
      "city\n",
      "Moscow              42741\n",
      "Saint-Petersburg    18512\n",
      "Name: user_id, dtype: int64\n"
     ]
    }
   ],
   "source": [
    "df_droup = df.groupby('city')['user_id'].count()\n",
    "print(df_droup)# Подсчёт прослушиваний в каждом городе"
   ]
  },
  {
   "attachments": {},
   "cell_type": "markdown",
   "metadata": {
    "deletable": false,
    "editable": false,
    "id": "dzli3w8o_Zcu",
    "tags": [
     "start_task"
    ]
   },
   "source": [
    "В Москве прослушиваний больше, чем в Петербурге. Из этого не следует, что московские пользователи чаще слушают музыку. Просто самих пользователей в Москве больше.\n",
    "\n"
   ]
  },
  {
   "cell_type": "code",
   "execution_count": 19,
   "metadata": {
    "deletable": false,
    "id": "uZMKjiJz_Zcu"
   },
   "outputs": [
    {
     "name": "stdout",
     "output_type": "stream",
     "text": [
      "day\n",
      "Friday       21840\n",
      "Monday       21354\n",
      "Wednesday    18059\n",
      "Name: day, dtype: int64\n"
     ]
    }
   ],
   "source": [
    "df_droup = df.groupby('day')['day'].count()\n",
    "print(df_droup)# Подсчёт прослушиваний в каждый из трёх дней"
   ]
  },
  {
   "cell_type": "markdown",
   "metadata": {
    "deletable": false,
    "editable": false,
    "id": "cC2tNrlL_Zcu"
   },
   "source": [
    "В среднем пользователи из двух городов менее активны по средам. Но картина может измениться, если рассмотреть каждый город в отдельности."
   ]
  },
  {
   "cell_type": "code",
   "execution_count": 20,
   "metadata": {
    "deletable": false,
    "id": "Nz3GdQB1_Zcu"
   },
   "outputs": [],
   "source": [
    "def number_tracks(day, city):# <создание функции number_tracks()>\n",
    "    track_list1 = df[df['day'] == day]\n",
    "    track_list = track_list1[track_list1['city'] == city]\n",
    "    track_list_count = track_list['user_id'].count()\n",
    "    return track_list_count\n",
    "    # Объявляется функция с двумя параметрами: day, city.\n",
    "# В переменной track_list сохраняются те строки таблицы df, для которых \n",
    "# значение в столбце 'day' равно параметру day и одновременно значение\n",
    "# в столбце 'city' равно параметру city (используйте последовательную фильтрацию\n",
    "# с помощью логической индексации или сложные логические выражения в одну строку, если вы уже знакомы с ними).\n",
    "# В переменной track_list_count сохраняется число значений столбца 'user_id',\n",
    "# рассчитанное методом count() для таблицы track_list.\n",
    "# Функция возвращает число - значение track_list_count.\n",
    "\n",
    "# Функция для подсчёта прослушиваний для конкретного города и дня.\n",
    "# С помощью последовательной фильтрации с логической индексацией она \n",
    "# сначала получит из исходной таблицы строки с нужным днём,\n",
    "# затем из результата отфильтрует строки с нужным городом,\n",
    "# методом count() посчитает количество значений в колонке user_id. \n",
    "# Это количество функция вернёт в качестве результата"
   ]
  },
  {
   "cell_type": "code",
   "execution_count": 21,
   "metadata": {
    "deletable": false,
    "id": "rJcRATNQ_Zcu"
   },
   "outputs": [
    {
     "data": {
      "text/plain": [
       "15740"
      ]
     },
     "execution_count": 21,
     "metadata": {},
     "output_type": "execute_result"
    }
   ],
   "source": [
    "number_tracks('Monday','Moscow')# количество прослушиваний в Москве по понедельникам"
   ]
  },
  {
   "cell_type": "code",
   "execution_count": 22,
   "metadata": {
    "deletable": false,
    "id": "hq_ncZ5T_Zcu"
   },
   "outputs": [
    {
     "data": {
      "text/plain": [
       "5614"
      ]
     },
     "execution_count": 22,
     "metadata": {},
     "output_type": "execute_result"
    }
   ],
   "source": [
    "number_tracks('Monday','Saint-Petersburg')# количество прослушиваний в Санкт-Петербурге по понедельникам"
   ]
  },
  {
   "cell_type": "code",
   "execution_count": 23,
   "metadata": {
    "deletable": false,
    "id": "_NTy2VPU_Zcu"
   },
   "outputs": [
    {
     "data": {
      "text/plain": [
       "11056"
      ]
     },
     "execution_count": 23,
     "metadata": {},
     "output_type": "execute_result"
    }
   ],
   "source": [
    "number_tracks('Wednesday','Moscow')# количество прослушиваний в Москве по средам"
   ]
  },
  {
   "cell_type": "code",
   "execution_count": 24,
   "metadata": {
    "deletable": false,
    "id": "j2y3TAwo_Zcu"
   },
   "outputs": [
    {
     "data": {
      "text/plain": [
       "7003"
      ]
     },
     "execution_count": 24,
     "metadata": {},
     "output_type": "execute_result"
    }
   ],
   "source": [
    "number_tracks('Wednesday','Saint-Petersburg')# количество прослушиваний в Санкт-Петербурге по средам"
   ]
  },
  {
   "cell_type": "code",
   "execution_count": 25,
   "metadata": {
    "deletable": false,
    "id": "vYDw5u_K_Zcu"
   },
   "outputs": [
    {
     "data": {
      "text/plain": [
       "15945"
      ]
     },
     "execution_count": 25,
     "metadata": {},
     "output_type": "execute_result"
    }
   ],
   "source": [
    "number_tracks('Friday','Moscow')# количество прослушиваний в Москве по пятницам"
   ]
  },
  {
   "cell_type": "code",
   "execution_count": 26,
   "metadata": {
    "deletable": false,
    "id": "8_yzFtW3_Zcu"
   },
   "outputs": [
    {
     "data": {
      "text/plain": [
       "5895"
      ]
     },
     "execution_count": 26,
     "metadata": {},
     "output_type": "execute_result"
    }
   ],
   "source": [
    "number_tracks('Friday','Saint-Petersburg')# количество прослушиваний в Санкт-Петербурге по пятницам"
   ]
  },
  {
   "cell_type": "code",
   "execution_count": 27,
   "metadata": {
    "deletable": false,
    "id": "APAcLpOr_Zcu"
   },
   "outputs": [],
   "source": [
    "columns = ['city', 'monday', 'wednesday', 'friday']\n",
    "data = [['Москва', 15740, 11056, 15945], ['Санкт-Петербург', 5614, 7003, 5895]]\n",
    "info = pd.DataFrame(data=data, columns=columns)# Таблица с результатами"
   ]
  },
  {
   "cell_type": "markdown",
   "metadata": {
    "deletable": false,
    "editable": false,
    "id": "-EgPIHYu_Zcu"
   },
   "source": [
    "**Выводы**\n",
    "\n",
    "Данные показывают разницу поведения пользователей:\n",
    "\n",
    "- В Москве пик прослушиваний приходится на понедельник и пятницу, а в среду заметен спад.\n",
    "- В Петербурге, наоборот, больше слушают музыку по средам. Активность в понедельник и пятницу здесь почти в равной мере уступает среде.\n",
    "\n",
    "Значит, данные говорят в пользу первой гипотезы."
   ]
  },
  {
   "cell_type": "markdown",
   "metadata": {
    "deletable": false,
    "editable": false,
    "id": "atZAxtq4_Zcu"
   },
   "source": [
    "### Музыка в начале и в конце недели"
   ]
  },
  {
   "cell_type": "markdown",
   "metadata": {
    "deletable": false,
    "editable": false,
    "id": "eXrQqXFH_Zcu"
   },
   "source": [
    "Согласно второй гипотезе, утром в понедельник в Москве преобладают одни жанры, а в Петербурге — другие. Так же и вечером пятницы преобладают разные жанры — в зависимости от города."
   ]
  },
  {
   "cell_type": "code",
   "execution_count": 28,
   "metadata": {
    "deletable": false,
    "id": "qeaFfM_P_Zcu"
   },
   "outputs": [],
   "source": [
    "moscow_general = df[df['city'] == 'Moscow']# получение таблицы moscow_general из тех строк таблицы df, \n",
    "# для которых значение в столбце 'city' равно 'Moscow'\n"
   ]
  },
  {
   "cell_type": "code",
   "execution_count": 29,
   "metadata": {
    "deletable": false,
    "id": "ORaVRKto_Zcu"
   },
   "outputs": [],
   "source": [
    "spb_general = df[df['city'] == 'Saint-Petersburg']# получение таблицы spb_general из тех строк таблицы df,\n",
    "# для которых значение в столбце 'city' равно 'Saint-Petersburg'\n"
   ]
  },
  {
   "cell_type": "code",
   "execution_count": 30,
   "metadata": {
    "deletable": false,
    "id": "laJT9BYl_Zcu"
   },
   "outputs": [],
   "source": [
    "# Объявление функции genre_weekday() с параметрами table, day, time1, time2,\n",
    "# которая возвращает информацию о самых популярных жанрах в указанный день в\n",
    "# заданное время:\n",
    "# 1) в переменную genre_df сохраняются те строки переданного датафрейма table, для\n",
    "#    которых одновременно:\n",
    "#    - значение в столбце day равно значению аргумента day\n",
    "#    - значение в столбце time больше значения аргумента time1\n",
    "#    - значение в столбце time меньше значения аргумента time2\n",
    "#    Используйте последовательную фильтрацию с помощью логической индексации.\n",
    "# 2) сгруппировать датафрейм genre_df по столбцу genre, взять один из его\n",
    "#    столбцов и посчитать методом count() количество записей для каждого из\n",
    "#    присутствующих жанров, получившийся Series записать в переменную\n",
    "#    genre_df_count\n",
    "# 3) отсортировать genre_df_count по убыванию встречаемости и сохранить\n",
    "#    в переменную genre_df_sorted\n",
    "# 4) вернуть Series из 10 первых значений genre_df_sorted, это будут топ-10\n",
    "#    популярных жанров (в указанный день, в заданное время)\n",
    "\n",
    "def genre_weekday(df, day, time1, time2):\n",
    "    # последовательная фильтрация\n",
    "    # оставляем в genre_df только те строки df, у которых день равен day\n",
    "    genre_df = df[df['day'] == day]# ваш код здесь\n",
    "    # оставляем в genre_df только те строки genre_df, у которых время меньше time2\n",
    "    genre_df = genre_df[genre_df['time'] < time2] # ваш код здесь\n",
    "    # оставляем в genre_df только те строки genre_df, у которых время больше time1\n",
    "    genre_df = genre_df[genre_df['time'] > time1]# ваш код здесь\n",
    "    # сгруппируем отфильтрованный датафрейм по столбцу с названиями жанров, возьмём столбец genre и посчитаем кол-во строк для каждого жанра методом count()\n",
    "    genre_df_grouped = genre_df.groupby('genre')['genre'].count()# ваш код здесь\n",
    "    genre_df_sorted = genre_df_grouped.sort_values(ascending = False)# отсортируем результат по убыванию (чтобы в начале Series оказались самые популярные жанры\n",
    "    # вернём Series с 10 самыми популярными жанрами в указанный отрезок времени заданного дня\n",
    "    return genre_df_sorted[:10]"
   ]
  },
  {
   "cell_type": "code",
   "execution_count": 31,
   "metadata": {
    "deletable": false,
    "id": "yz7itPUQ_Zcu"
   },
   "outputs": [
    {
     "data": {
      "text/plain": [
       "genre\n",
       "pop            781\n",
       "dance          549\n",
       "electronic     480\n",
       "rock           474\n",
       "hiphop         286\n",
       "ruspop         186\n",
       "world          181\n",
       "rusrap         175\n",
       "alternative    164\n",
       "unknown        161\n",
       "Name: genre, dtype: int64"
      ]
     },
     "execution_count": 31,
     "metadata": {},
     "output_type": "execute_result"
    }
   ],
   "source": [
    "genre_weekday(moscow_general, 'Monday', '07:00', '11:00')# вызов функции для утра понедельника в Москве (вместо df — таблица moscow_general)\n",
    "# объекты, хранящие время, являются строками и сравниваются как строки\n",
    "# пример вызова: genre_weekday(moscow_general, 'Monday', '07:00', '11:00')"
   ]
  },
  {
   "cell_type": "code",
   "execution_count": 32,
   "metadata": {
    "deletable": false,
    "id": "kwUcHPdy_Zcu"
   },
   "outputs": [
    {
     "data": {
      "text/plain": [
       "genre\n",
       "pop            218\n",
       "dance          182\n",
       "rock           162\n",
       "electronic     147\n",
       "hiphop          80\n",
       "ruspop          64\n",
       "alternative     58\n",
       "rusrap          55\n",
       "jazz            44\n",
       "classical       40\n",
       "Name: genre, dtype: int64"
      ]
     },
     "execution_count": 32,
     "metadata": {},
     "output_type": "execute_result"
    }
   ],
   "source": [
    "genre_weekday(spb_general, 'Monday', '07:00', '11:00')# вызов функции для утра понедельника в Петербурге (вместо df — таблица spb_general)"
   ]
  },
  {
   "cell_type": "code",
   "execution_count": 33,
   "metadata": {
    "deletable": false,
    "id": "EzXVRE1o_Zcu"
   },
   "outputs": [
    {
     "data": {
      "text/plain": [
       "genre\n",
       "pop            713\n",
       "rock           517\n",
       "dance          495\n",
       "electronic     482\n",
       "hiphop         273\n",
       "world          208\n",
       "ruspop         170\n",
       "alternative    163\n",
       "classical      163\n",
       "rusrap         142\n",
       "Name: genre, dtype: int64"
      ]
     },
     "execution_count": 33,
     "metadata": {},
     "output_type": "execute_result"
    }
   ],
   "source": [
    "genre_weekday(moscow_general, 'Friday', '17:00', '23:00')# вызов функции для вечера пятницы в Москве"
   ]
  },
  {
   "cell_type": "code",
   "execution_count": 34,
   "metadata": {
    "deletable": false,
    "id": "JZaEKu5v_Zcu"
   },
   "outputs": [
    {
     "data": {
      "text/plain": [
       "genre\n",
       "pop            256\n",
       "electronic     216\n",
       "rock           216\n",
       "dance          210\n",
       "hiphop          97\n",
       "alternative     63\n",
       "jazz            61\n",
       "classical       60\n",
       "rusrap          59\n",
       "world           54\n",
       "Name: genre, dtype: int64"
      ]
     },
     "execution_count": 34,
     "metadata": {},
     "output_type": "execute_result"
    }
   ],
   "source": [
    "genre_weekday(spb_general, 'Friday', '17:00', '23:00')# вызов функции для вечера пятницы в Петербурге"
   ]
  },
  {
   "cell_type": "markdown",
   "metadata": {
    "deletable": false,
    "editable": false,
    "id": "wrCe4MNX_Zcu"
   },
   "source": [
    "**Выводы**\n",
    "\n",
    "Если сравнить топ-10 жанров в понедельник утром, можно сделать такие выводы:\n",
    "\n",
    "1. В Москве и Петербурге слушают похожую музыку. Единственное отличие — в московский рейтинг вошёл жанр “world”, а в петербургский — джаз и классика.\n",
    "\n",
    "2. В Москве пропущенных значений оказалось так много, что значение `'unknown'` заняло десятое место среди самых популярных жанров. Значит, пропущенные значения занимают существенную долю в данных и угрожают достоверности исследования.\n",
    "\n",
    "Вечер пятницы не меняет эту картину. Некоторые жанры поднимаются немного выше, другие спускаются, но в целом топ-10 остаётся тем же самым.\n",
    "\n",
    "Таким образом, вторая гипотеза подтвердилась лишь частично:\n",
    "* Пользователи слушают похожую музыку в начале недели и в конце.\n",
    "* Разница между Москвой и Петербургом не слишком выражена. В Москве чаще слушают русскую популярную музыку, в Петербурге — джаз.\n",
    "\n",
    "Однако пропуски в данных ставят под сомнение этот результат. В Москве их так много, что рейтинг топ-10 мог бы выглядеть иначе, если бы не утерянные  данные о жанрах."
   ]
  },
  {
   "cell_type": "markdown",
   "metadata": {
    "deletable": false,
    "editable": false,
    "id": "JolODAqr_Zcu"
   },
   "source": [
    "### Жанровые предпочтения в Москве и Петербурге\n",
    "\n",
    "Гипотеза: Петербург — столица рэпа, музыку этого жанра там слушают чаще, чем в Москве.  А Москва — город контрастов, в котором, тем не менее, преобладает поп-музыка."
   ]
  },
  {
   "cell_type": "code",
   "execution_count": 35,
   "metadata": {
    "deletable": false,
    "id": "r19lIPke_Zcu",
    "scrolled": true
   },
   "outputs": [],
   "source": [
    "moscow_genres = moscow_general.groupby('genre')['genre'].count().sort_values(ascending = False)\n",
    "\n",
    "# одной строкой: группировка таблицы moscow_general по столбцу 'genre', \n",
    "# подсчёт числа значений 'genre' в этой группировке методом count(), \n",
    "# сортировка получившегося Series в порядке убывания и сохранение в moscow_genres"
   ]
  },
  {
   "cell_type": "code",
   "execution_count": 37,
   "metadata": {
    "deletable": false,
    "id": "WhCSooF8_Zcv"
   },
   "outputs": [
    {
     "name": "stdout",
     "output_type": "stream",
     "text": [
      "genre\n",
      "pop            5892\n",
      "dance          4435\n",
      "rock           3965\n",
      "electronic     3786\n",
      "hiphop         2096\n",
      "classical      1616\n",
      "world          1432\n",
      "alternative    1379\n",
      "ruspop         1372\n",
      "rusrap         1161\n",
      "Name: genre, dtype: int64\n"
     ]
    }
   ],
   "source": [
    "print(moscow_genres.head(10))# просмотр первых 10 строк moscow_genres"
   ]
  },
  {
   "cell_type": "code",
   "execution_count": 38,
   "metadata": {
    "deletable": false,
    "id": "gluLIpE7_Zcv"
   },
   "outputs": [],
   "source": [
    "spb_genres = spb_general.groupby('genre')['genre'].count().sort_values(ascending = False)\n",
    "# одной строкой: группировка таблицы spb_general по столбцу 'genre', \n",
    "# подсчёт числа значений 'genre' в этой группировке методом count(), \n",
    "# сортировка получившегося Series в порядке убывания и сохранение в spb_genres"
   ]
  },
  {
   "cell_type": "code",
   "execution_count": null,
   "metadata": {
    "deletable": false,
    "id": "uaGJHjVU_Zcv"
   },
   "outputs": [],
   "source": [
    "# просмотр первых 10 строк spb_genres"
   ]
  },
  {
   "cell_type": "markdown",
   "metadata": {
    "deletable": false,
    "editable": false,
    "id": "RY51YJYu_Zcv"
   },
   "source": [
    "**Выводы**"
   ]
  },
  {
   "cell_type": "markdown",
   "metadata": {
    "deletable": false,
    "editable": false,
    "id": "nVhnJEm__Zcv"
   },
   "source": [
    "Гипотеза частично подтвердилась:\n",
    "* Поп-музыка — самый популярный жанр в Москве, как и предполагала гипотеза. Более того, в топ-10 жанров встречается близкий жанр — русская популярная музыка.\n",
    "* Вопреки ожиданиям, рэп одинаково популярен в Москве и Петербурге. \n"
   ]
  },
  {
   "cell_type": "markdown",
   "metadata": {
    "deletable": false,
    "editable": false,
    "id": "ykKQ0N65_Zcv"
   },
   "source": [
    "## Итоги исследования"
   ]
  },
  {
   "attachments": {},
   "cell_type": "markdown",
   "metadata": {
    "deletable": false,
    "editable": false,
    "id": "tjUwbHb3_Zcv"
   },
   "source": [
    "Проверили три гипотезы и установили:\n",
    "\n",
    "1. День недели по-разному влияет на активность пользователей в Москве и Петербурге. \n",
    "\n",
    "Первая гипотеза полностью подтвердилась.\n",
    "\n",
    "2. Музыкальные предпочтения не сильно меняются в течение недели — будь то Москва или Петербург. Небольшие различия заметны в начале недели, по понедельникам:\n",
    "* в Москве слушают музыку жанра “world”,\n",
    "* в Петербурге — джаз и классику.\n",
    "\n",
    "Таким образом, вторая гипотеза подтвердилась лишь отчасти. Этот результат мог оказаться иным, если бы не пропуски в данных.\n",
    "\n",
    "3. Во вкусах пользователей Москвы и Петербурга больше общего чем различий. Вопреки ожиданиям, предпочтения жанров в Петербурге напоминают московские.\n",
    "\n",
    "Третья гипотеза не подтвердилась. Если различия в предпочтениях и существуют, на основной массе пользователей они незаметны.\n",
    "\n",
    "**На практике исследования содержат проверки статистических гипотез.**\n",
    "Из данных одного сервиса не всегда можно сделать вывод о всех жителях города.\n",
    "Проверки статистических гипотез покажут, насколько они достоверны, исходя из имеющихся данных. \n",
    "С методами проверок гипотез вы ещё познакомитесь в следующих темах."
   ]
  }
 ],
 "metadata": {
  "ExecuteTimeLog": [
   {
    "duration": 4,
    "start_time": "2022-07-19T18:19:56.715Z"
   },
   {
    "duration": 42,
    "start_time": "2022-07-19T18:22:18.031Z"
   },
   {
    "duration": 6,
    "start_time": "2022-07-19T18:23:47.101Z"
   },
   {
    "duration": 6,
    "start_time": "2022-07-19T18:23:47.774Z"
   },
   {
    "duration": 6,
    "start_time": "2022-07-19T18:23:48.383Z"
   },
   {
    "duration": 6,
    "start_time": "2022-07-19T18:24:03.693Z"
   },
   {
    "duration": 339,
    "start_time": "2022-07-19T18:26:48.859Z"
   },
   {
    "duration": 159,
    "start_time": "2022-07-19T18:26:52.522Z"
   },
   {
    "duration": 8,
    "start_time": "2022-07-19T18:27:02.733Z"
   },
   {
    "duration": 27,
    "start_time": "2022-07-19T18:27:47.688Z"
   },
   {
    "duration": 82,
    "start_time": "2022-07-19T18:30:35.553Z"
   },
   {
    "duration": 3,
    "start_time": "2022-07-19T18:30:45.427Z"
   },
   {
    "duration": 3,
    "start_time": "2022-07-19T18:32:13.295Z"
   },
   {
    "duration": 35,
    "start_time": "2022-07-19T18:53:41.985Z"
   },
   {
    "duration": 21,
    "start_time": "2022-07-19T18:54:02.231Z"
   },
   {
    "duration": 3,
    "start_time": "2022-07-19T18:55:21.882Z"
   },
   {
    "duration": 3,
    "start_time": "2022-07-19T18:55:25.099Z"
   },
   {
    "duration": 3,
    "start_time": "2022-07-19T18:55:29.217Z"
   },
   {
    "duration": 200,
    "start_time": "2022-07-19T18:55:31.452Z"
   },
   {
    "duration": 6,
    "start_time": "2022-07-19T18:55:34.093Z"
   },
   {
    "duration": 27,
    "start_time": "2022-07-19T18:55:36.645Z"
   },
   {
    "duration": 2,
    "start_time": "2022-07-19T18:55:39.928Z"
   },
   {
    "duration": 3,
    "start_time": "2022-07-19T18:55:43.518Z"
   },
   {
    "duration": 20,
    "start_time": "2022-07-19T18:55:45.808Z"
   },
   {
    "duration": 14,
    "start_time": "2022-07-19T19:01:06.171Z"
   },
   {
    "duration": 4,
    "start_time": "2022-07-19T19:01:10.984Z"
   },
   {
    "duration": 57,
    "start_time": "2022-07-20T14:22:19.682Z"
   },
   {
    "duration": 6,
    "start_time": "2022-07-20T14:22:36.067Z"
   },
   {
    "duration": 421,
    "start_time": "2022-07-20T14:22:41.856Z"
   },
   {
    "duration": 791,
    "start_time": "2022-07-20T14:22:45.455Z"
   },
   {
    "duration": 3,
    "start_time": "2022-07-20T14:22:54.859Z"
   },
   {
    "duration": 181,
    "start_time": "2022-07-20T14:22:56.721Z"
   },
   {
    "duration": 9,
    "start_time": "2022-07-20T14:22:59.207Z"
   },
   {
    "duration": 31,
    "start_time": "2022-07-20T14:23:02.761Z"
   },
   {
    "duration": 2,
    "start_time": "2022-07-20T14:23:04.336Z"
   },
   {
    "duration": 4,
    "start_time": "2022-07-20T14:23:06.271Z"
   },
   {
    "duration": 16,
    "start_time": "2022-07-20T14:23:07.759Z"
   },
   {
    "duration": 3,
    "start_time": "2022-07-20T14:23:09.659Z"
   },
   {
    "duration": 34,
    "start_time": "2022-07-20T14:23:31.359Z"
   },
   {
    "duration": 21,
    "start_time": "2022-07-20T14:27:12.669Z"
   },
   {
    "duration": 34,
    "start_time": "2022-07-20T14:27:42.822Z"
   },
   {
    "duration": 31,
    "start_time": "2022-07-20T14:28:13.525Z"
   },
   {
    "duration": 3,
    "start_time": "2022-07-20T14:29:51.304Z"
   },
   {
    "duration": 73,
    "start_time": "2022-07-20T14:30:34.759Z"
   },
   {
    "duration": 84,
    "start_time": "2022-07-20T14:31:37.252Z"
   },
   {
    "duration": 72,
    "start_time": "2022-07-20T14:32:04.432Z"
   },
   {
    "duration": 77,
    "start_time": "2022-07-20T14:32:28.443Z"
   },
   {
    "duration": 81,
    "start_time": "2022-07-20T14:32:34.352Z"
   },
   {
    "duration": 79,
    "start_time": "2022-07-20T14:32:41.795Z"
   },
   {
    "duration": 2,
    "start_time": "2022-07-20T14:33:02.157Z"
   },
   {
    "duration": 3,
    "start_time": "2022-07-20T14:33:20.351Z"
   },
   {
    "duration": 78,
    "start_time": "2022-07-20T14:39:06.459Z"
   },
   {
    "duration": 44,
    "start_time": "2022-07-20T14:40:38.074Z"
   },
   {
    "duration": 42,
    "start_time": "2022-07-20T14:41:05.738Z"
   },
   {
    "duration": 2,
    "start_time": "2022-07-20T14:41:53.754Z"
   },
   {
    "duration": 12,
    "start_time": "2022-07-20T14:43:42.478Z"
   },
   {
    "duration": 10,
    "start_time": "2022-07-20T14:53:01.219Z"
   },
   {
    "duration": 44,
    "start_time": "2022-07-20T14:54:55.569Z"
   },
   {
    "duration": 3,
    "start_time": "2022-07-20T15:13:16.650Z"
   },
   {
    "duration": 195,
    "start_time": "2022-07-20T15:13:17.896Z"
   },
   {
    "duration": 8,
    "start_time": "2022-07-20T15:13:18.976Z"
   },
   {
    "duration": 33,
    "start_time": "2022-07-20T15:13:19.978Z"
   },
   {
    "duration": 3,
    "start_time": "2022-07-20T15:13:22.262Z"
   },
   {
    "duration": 4,
    "start_time": "2022-07-20T15:13:25.097Z"
   },
   {
    "duration": 10,
    "start_time": "2022-07-20T15:13:25.854Z"
   },
   {
    "duration": 3,
    "start_time": "2022-07-20T15:13:26.578Z"
   },
   {
    "duration": 30,
    "start_time": "2022-07-20T15:13:27.225Z"
   },
   {
    "duration": 21,
    "start_time": "2022-07-20T15:13:28.343Z"
   },
   {
    "duration": 28,
    "start_time": "2022-07-20T15:13:29.446Z"
   },
   {
    "duration": 79,
    "start_time": "2022-07-20T15:13:30.192Z"
   },
   {
    "duration": 72,
    "start_time": "2022-07-20T15:13:30.927Z"
   },
   {
    "duration": 77,
    "start_time": "2022-07-20T15:13:31.599Z"
   },
   {
    "duration": 44,
    "start_time": "2022-07-20T15:13:32.563Z"
   },
   {
    "duration": 15,
    "start_time": "2022-07-20T15:13:33.682Z"
   },
   {
    "duration": 53,
    "start_time": "2022-07-20T15:13:34.605Z"
   },
   {
    "duration": 10,
    "start_time": "2022-07-20T15:16:56.650Z"
   },
   {
    "duration": 34,
    "start_time": "2022-07-20T15:17:10.054Z"
   },
   {
    "duration": 34,
    "start_time": "2022-07-20T15:19:08.422Z"
   },
   {
    "duration": 13,
    "start_time": "2022-07-20T15:19:44.827Z"
   },
   {
    "duration": 11,
    "start_time": "2022-07-20T15:21:11.253Z"
   },
   {
    "duration": 85,
    "start_time": "2022-07-20T15:33:01.449Z"
   },
   {
    "duration": 4,
    "start_time": "2022-07-20T15:33:10.002Z"
   },
   {
    "duration": 25,
    "start_time": "2022-07-20T15:41:38.600Z"
   },
   {
    "duration": 12,
    "start_time": "2022-07-20T15:46:22.914Z"
   },
   {
    "duration": 21,
    "start_time": "2022-07-20T15:47:07.396Z"
   },
   {
    "duration": 26,
    "start_time": "2022-07-20T15:47:08.072Z"
   },
   {
    "duration": 26,
    "start_time": "2022-07-20T15:47:08.757Z"
   },
   {
    "duration": 18,
    "start_time": "2022-07-20T15:47:10.293Z"
   },
   {
    "duration": 18,
    "start_time": "2022-07-20T15:47:10.790Z"
   },
   {
    "duration": 17,
    "start_time": "2022-07-20T15:47:11.572Z"
   },
   {
    "duration": 10,
    "start_time": "2022-07-20T15:47:14.778Z"
   },
   {
    "duration": 11,
    "start_time": "2022-07-20T15:47:45.009Z"
   },
   {
    "duration": 3,
    "start_time": "2022-07-20T15:48:20.652Z"
   },
   {
    "duration": 173,
    "start_time": "2022-07-20T15:48:21.615Z"
   },
   {
    "duration": 7,
    "start_time": "2022-07-20T15:48:22.609Z"
   },
   {
    "duration": 32,
    "start_time": "2022-07-20T15:48:23.464Z"
   },
   {
    "duration": 2,
    "start_time": "2022-07-20T15:48:28.872Z"
   },
   {
    "duration": 4,
    "start_time": "2022-07-20T15:48:31.089Z"
   },
   {
    "duration": 9,
    "start_time": "2022-07-20T15:48:32.101Z"
   },
   {
    "duration": 3,
    "start_time": "2022-07-20T15:48:33.165Z"
   },
   {
    "duration": 31,
    "start_time": "2022-07-20T15:48:34.148Z"
   },
   {
    "duration": 22,
    "start_time": "2022-07-20T15:48:36.004Z"
   },
   {
    "duration": 28,
    "start_time": "2022-07-20T15:48:36.671Z"
   },
   {
    "duration": 74,
    "start_time": "2022-07-20T15:48:37.268Z"
   },
   {
    "duration": 79,
    "start_time": "2022-07-20T15:48:37.807Z"
   },
   {
    "duration": 70,
    "start_time": "2022-07-20T15:48:38.371Z"
   },
   {
    "duration": 46,
    "start_time": "2022-07-20T15:48:39.064Z"
   },
   {
    "duration": 13,
    "start_time": "2022-07-20T15:48:39.483Z"
   },
   {
    "duration": 45,
    "start_time": "2022-07-20T15:48:39.938Z"
   },
   {
    "duration": 13,
    "start_time": "2022-07-20T15:48:41.209Z"
   },
   {
    "duration": 12,
    "start_time": "2022-07-20T15:48:41.672Z"
   },
   {
    "duration": 4,
    "start_time": "2022-07-20T15:48:43.003Z"
   },
   {
    "duration": 20,
    "start_time": "2022-07-20T15:48:44.182Z"
   },
   {
    "duration": 17,
    "start_time": "2022-07-20T15:48:44.668Z"
   },
   {
    "duration": 18,
    "start_time": "2022-07-20T15:48:45.062Z"
   },
   {
    "duration": 17,
    "start_time": "2022-07-20T15:48:45.456Z"
   },
   {
    "duration": 20,
    "start_time": "2022-07-20T15:48:45.825Z"
   },
   {
    "duration": 16,
    "start_time": "2022-07-20T15:48:46.225Z"
   },
   {
    "duration": 9,
    "start_time": "2022-07-20T15:48:48.407Z"
   },
   {
    "duration": 15,
    "start_time": "2022-07-20T15:51:53.574Z"
   },
   {
    "duration": 84,
    "start_time": "2022-07-20T15:55:08.175Z"
   },
   {
    "duration": 6,
    "start_time": "2022-07-20T15:55:51.796Z"
   },
   {
    "duration": 6,
    "start_time": "2022-07-20T15:55:54.979Z"
   },
   {
    "duration": 11,
    "start_time": "2022-07-20T16:37:22.772Z"
   },
   {
    "duration": 12,
    "start_time": "2022-07-20T16:37:25.492Z"
   },
   {
    "duration": 89,
    "start_time": "2022-07-20T16:37:47.766Z"
   },
   {
    "duration": 5,
    "start_time": "2022-07-20T16:46:32.398Z"
   },
   {
    "duration": 21,
    "start_time": "2022-07-20T16:50:21.253Z"
   },
   {
    "duration": 20,
    "start_time": "2022-07-20T16:50:23.627Z"
   },
   {
    "duration": 30,
    "start_time": "2022-07-20T16:50:25.402Z"
   },
   {
    "duration": 20,
    "start_time": "2022-07-20T16:50:27.310Z"
   },
   {
    "duration": 10,
    "start_time": "2022-07-20T16:55:42.451Z"
   },
   {
    "duration": 8,
    "start_time": "2022-07-20T16:57:30.126Z"
   },
   {
    "duration": 3,
    "start_time": "2022-07-20T16:57:49.952Z"
   },
   {
    "duration": 184,
    "start_time": "2022-07-20T16:57:50.768Z"
   },
   {
    "duration": 7,
    "start_time": "2022-07-20T16:57:51.273Z"
   },
   {
    "duration": 30,
    "start_time": "2022-07-20T16:57:51.658Z"
   },
   {
    "duration": 3,
    "start_time": "2022-07-20T16:57:52.223Z"
   },
   {
    "duration": 4,
    "start_time": "2022-07-20T16:57:53.000Z"
   },
   {
    "duration": 9,
    "start_time": "2022-07-20T16:57:53.368Z"
   },
   {
    "duration": 4,
    "start_time": "2022-07-20T16:57:53.764Z"
   },
   {
    "duration": 30,
    "start_time": "2022-07-20T16:57:54.152Z"
   },
   {
    "duration": 19,
    "start_time": "2022-07-20T16:57:54.676Z"
   },
   {
    "duration": 27,
    "start_time": "2022-07-20T16:57:54.970Z"
   },
   {
    "duration": 76,
    "start_time": "2022-07-20T16:57:55.310Z"
   },
   {
    "duration": 73,
    "start_time": "2022-07-20T16:57:55.607Z"
   },
   {
    "duration": 69,
    "start_time": "2022-07-20T16:57:55.949Z"
   },
   {
    "duration": 54,
    "start_time": "2022-07-20T16:57:56.402Z"
   },
   {
    "duration": 11,
    "start_time": "2022-07-20T16:57:56.744Z"
   },
   {
    "duration": 41,
    "start_time": "2022-07-20T16:57:57.126Z"
   },
   {
    "duration": 12,
    "start_time": "2022-07-20T16:57:58.290Z"
   },
   {
    "duration": 11,
    "start_time": "2022-07-20T16:57:58.669Z"
   },
   {
    "duration": 5,
    "start_time": "2022-07-20T16:57:59.354Z"
   },
   {
    "duration": 18,
    "start_time": "2022-07-20T16:57:59.842Z"
   },
   {
    "duration": 27,
    "start_time": "2022-07-20T16:58:00.054Z"
   },
   {
    "duration": 17,
    "start_time": "2022-07-20T16:58:00.271Z"
   },
   {
    "duration": 16,
    "start_time": "2022-07-20T16:58:00.785Z"
   },
   {
    "duration": 27,
    "start_time": "2022-07-20T16:58:01.003Z"
   },
   {
    "duration": 17,
    "start_time": "2022-07-20T16:58:01.223Z"
   },
   {
    "duration": 5,
    "start_time": "2022-07-20T16:58:01.682Z"
   },
   {
    "duration": 20,
    "start_time": "2022-07-20T16:58:03.210Z"
   },
   {
    "duration": 14,
    "start_time": "2022-07-20T16:58:03.459Z"
   },
   {
    "duration": 5,
    "start_time": "2022-07-20T16:58:03.968Z"
   },
   {
    "duration": 31,
    "start_time": "2022-07-20T16:58:05.164Z"
   },
   {
    "duration": 21,
    "start_time": "2022-07-20T16:58:05.911Z"
   },
   {
    "duration": 28,
    "start_time": "2022-07-20T16:58:06.371Z"
   },
   {
    "duration": 15,
    "start_time": "2022-07-20T16:58:06.875Z"
   },
   {
    "duration": 8,
    "start_time": "2022-07-20T16:58:09.215Z"
   },
   {
    "duration": 8,
    "start_time": "2022-07-20T16:59:03.861Z"
   },
   {
    "duration": 12,
    "start_time": "2022-07-20T16:59:49.259Z"
   },
   {
    "duration": 5,
    "start_time": "2022-07-20T17:00:20.043Z"
   },
   {
    "duration": 10,
    "start_time": "2022-07-20T17:01:03.518Z"
   },
   {
    "duration": 10,
    "start_time": "2022-07-20T17:01:18.556Z"
   },
   {
    "duration": 8,
    "start_time": "2022-07-20T17:02:03.352Z"
   },
   {
    "duration": 9,
    "start_time": "2022-07-20T17:02:26.553Z"
   },
   {
    "duration": 9,
    "start_time": "2022-07-20T17:02:36.257Z"
   },
   {
    "duration": 10,
    "start_time": "2022-07-20T17:02:52.413Z"
   },
   {
    "duration": 9,
    "start_time": "2022-07-20T17:04:05.597Z"
   },
   {
    "duration": 8,
    "start_time": "2022-07-20T17:06:11.114Z"
   },
   {
    "duration": 7,
    "start_time": "2022-07-20T17:07:42.153Z"
   },
   {
    "duration": 8,
    "start_time": "2022-07-20T17:08:01.004Z"
   },
   {
    "duration": 11,
    "start_time": "2022-07-20T17:14:32.657Z"
   },
   {
    "duration": 10,
    "start_time": "2022-07-20T17:18:49.196Z"
   },
   {
    "duration": 13,
    "start_time": "2022-07-20T17:19:59.163Z"
   },
   {
    "duration": 11,
    "start_time": "2022-07-20T17:20:12.540Z"
   },
   {
    "duration": 9,
    "start_time": "2022-07-20T17:21:18.141Z"
   },
   {
    "duration": 10,
    "start_time": "2022-07-20T17:21:44.086Z"
   },
   {
    "duration": 376,
    "start_time": "2022-07-20T19:34:46.078Z"
   },
   {
    "duration": 226,
    "start_time": "2022-07-20T19:34:46.543Z"
   },
   {
    "duration": 8,
    "start_time": "2022-07-20T19:34:46.881Z"
   },
   {
    "duration": 29,
    "start_time": "2022-07-20T19:34:47.139Z"
   },
   {
    "duration": 4,
    "start_time": "2022-07-20T19:34:47.568Z"
   },
   {
    "duration": 4,
    "start_time": "2022-07-20T19:34:48.133Z"
   },
   {
    "duration": 17,
    "start_time": "2022-07-20T19:34:48.398Z"
   },
   {
    "duration": 4,
    "start_time": "2022-07-20T19:34:48.677Z"
   },
   {
    "duration": 45,
    "start_time": "2022-07-20T19:34:51.170Z"
   },
   {
    "duration": 21,
    "start_time": "2022-07-20T19:34:51.623Z"
   },
   {
    "duration": 35,
    "start_time": "2022-07-20T19:34:52.275Z"
   },
   {
    "duration": 97,
    "start_time": "2022-07-20T19:34:52.524Z"
   },
   {
    "duration": 70,
    "start_time": "2022-07-20T19:34:53.069Z"
   },
   {
    "duration": 62,
    "start_time": "2022-07-20T19:34:53.147Z"
   },
   {
    "duration": 39,
    "start_time": "2022-07-20T19:34:53.297Z"
   },
   {
    "duration": 11,
    "start_time": "2022-07-20T19:34:53.400Z"
   },
   {
    "duration": 39,
    "start_time": "2022-07-20T19:34:53.505Z"
   },
   {
    "duration": 17,
    "start_time": "2022-07-20T19:34:53.807Z"
   },
   {
    "duration": 13,
    "start_time": "2022-07-20T19:34:53.920Z"
   },
   {
    "duration": 4,
    "start_time": "2022-07-20T19:34:54.064Z"
   },
   {
    "duration": 18,
    "start_time": "2022-07-20T19:34:54.161Z"
   },
   {
    "duration": 16,
    "start_time": "2022-07-20T19:34:54.228Z"
   },
   {
    "duration": 16,
    "start_time": "2022-07-20T19:34:54.262Z"
   },
   {
    "duration": 15,
    "start_time": "2022-07-20T19:34:54.328Z"
   },
   {
    "duration": 19,
    "start_time": "2022-07-20T19:34:54.367Z"
   },
   {
    "duration": 22,
    "start_time": "2022-07-20T19:34:54.416Z"
   },
   {
    "duration": 5,
    "start_time": "2022-07-20T19:34:54.535Z"
   },
   {
    "duration": 11,
    "start_time": "2022-07-20T19:34:54.796Z"
   },
   {
    "duration": 9,
    "start_time": "2022-07-20T19:34:54.835Z"
   },
   {
    "duration": 4,
    "start_time": "2022-07-20T19:34:55.850Z"
   },
   {
    "duration": 18,
    "start_time": "2022-07-20T19:34:57.335Z"
   },
   {
    "duration": 14,
    "start_time": "2022-07-20T19:34:57.983Z"
   },
   {
    "duration": 26,
    "start_time": "2022-07-20T19:34:59.097Z"
   },
   {
    "duration": 13,
    "start_time": "2022-07-20T19:35:00.107Z"
   },
   {
    "duration": 12,
    "start_time": "2022-07-20T19:36:11.327Z"
   },
   {
    "duration": 2,
    "start_time": "2022-07-20T19:37:21.444Z"
   },
   {
    "duration": 6,
    "start_time": "2022-07-20T19:37:37.444Z"
   },
   {
    "duration": 9,
    "start_time": "2022-07-20T19:38:16.297Z"
   }
  ],
  "colab": {
   "collapsed_sections": [
    "E0vqbgi9ay0H",
    "VUC88oWjTJw2"
   ],
   "name": "automatization_template_upd4.ipynb",
   "provenance": []
  },
  "kernelspec": {
   "display_name": "Python 3",
   "language": "python",
   "name": "python3"
  },
  "language_info": {
   "codemirror_mode": {
    "name": "ipython",
    "version": 3
   },
   "file_extension": ".py",
   "mimetype": "text/x-python",
   "name": "python",
   "nbconvert_exporter": "python",
   "pygments_lexer": "ipython3",
   "version": "3.10.8 (v3.10.8:aaaf517424, Oct 11 2022, 10:14:40) [Clang 13.0.0 (clang-1300.0.29.30)]"
  },
  "toc": {
   "base_numbering": 1,
   "nav_menu": {
    "height": "215px",
    "width": "403px"
   },
   "number_sections": true,
   "sideBar": true,
   "skip_h1_title": true,
   "title_cell": "Table of Contents",
   "title_sidebar": "Contents",
   "toc_cell": false,
   "toc_position": {
    "height": "calc(100% - 180px)",
    "left": "10px",
    "top": "150px",
    "width": "285.825px"
   },
   "toc_section_display": true,
   "toc_window_display": false
  },
  "vscode": {
   "interpreter": {
    "hash": "aee8b7b246df8f9039afb4144a1f6fd8d2ca17a180786b69acc140d282b71a49"
   }
  }
 },
 "nbformat": 4,
 "nbformat_minor": 1
}
