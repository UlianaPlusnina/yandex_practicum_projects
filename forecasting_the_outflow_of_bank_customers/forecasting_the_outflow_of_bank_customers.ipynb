{
 "cells": [
  {
   "attachments": {},
   "cell_type": "markdown",
   "metadata": {},
   "source": [
    "# Проект: Прогнозирование оттока клиентов банка"
   ]
  },
  {
   "attachments": {},
   "cell_type": "markdown",
   "metadata": {},
   "source": [
    "## Данные"
   ]
  },
  {
   "attachments": {},
   "cell_type": "markdown",
   "metadata": {},
   "source": [
    "В наличии были следующие данные:  \n",
    "  \n",
    "- RowNumber — индекс строки в данных\n",
    "- CustomerId — уникальный идентификатор клиента\n",
    "- Surname — фамилия\n",
    "- CreditScore — кредитный рейтинг\n",
    "- Geography — страна проживания\n",
    "- Gender — пол\n",
    "- Age — возраст\n",
    "- Tenure — сколько лет человек является клиентом банка\n",
    "- Balance — баланс на счёте\n",
    "- NumOfProducts — количество продуктов банка, используемых клиентом\n",
    "- HasCrCard — наличие кредитной карты\n",
    "- IsActiveMember — активность клиента\n",
    "- EstimatedSalary — предполагаемая зарплата\n",
    "- Exited — факт ухода клиента"
   ]
  },
  {
   "attachments": {},
   "cell_type": "markdown",
   "metadata": {},
   "source": [
    "## Задача"
   ]
  },
  {
   "attachments": {},
   "cell_type": "markdown",
   "metadata": {},
   "source": [
    "На основе данных из банка определить клиентa, который может уйти.\n"
   ]
  },
  {
   "attachments": {},
   "cell_type": "markdown",
   "metadata": {},
   "source": [
    "## Используемые библиотеки"
   ]
  },
  {
   "attachments": {},
   "cell_type": "markdown",
   "metadata": {},
   "source": [
    "pandas, numpy, os, matplotlib, sklearn"
   ]
  },
  {
   "cell_type": "markdown",
   "metadata": {},
   "source": [
    "## Подготовка данных"
   ]
  },
  {
   "cell_type": "code",
   "execution_count": 1,
   "metadata": {},
   "outputs": [],
   "source": [
    "import pandas as pd\n",
    "import numpy as np\n",
    "import seaborn as sns\n",
    "import os\n",
    "import matplotlib.pyplot as plt\n",
    "\n",
    "from sklearn.tree import DecisionTreeClassifier\n",
    "from sklearn.model_selection import train_test_split\n",
    "from sklearn.ensemble import RandomForestClassifier\n",
    "from sklearn.dummy import DummyClassifier\n",
    "\n",
    "\n",
    "from sklearn.utils import shuffle\n",
    "from sklearn.metrics import f1_score\n",
    "from sklearn.metrics import roc_auc_score\n",
    "from sklearn.metrics import roc_curve\n",
    "from sklearn.metrics import accuracy_score"
   ]
  },
  {
   "cell_type": "code",
   "execution_count": 2,
   "metadata": {},
   "outputs": [],
   "source": [
    "import os\n",
    "path = '/datasets/Churn.csv'\n",
    "if not os.path.exists(path):\n",
    "    path = 'DataFrames/Churn.csv'\n",
    "    \n",
    "data = pd.read_csv(path)"
   ]
  },
  {
   "cell_type": "code",
   "execution_count": 69,
   "metadata": {},
   "outputs": [
    {
     "name": "stdout",
     "output_type": "stream",
     "text": [
      "RowNumber            int64\n",
      "CustomerId           int64\n",
      "Surname             object\n",
      "CreditScore          int64\n",
      "Geography           object\n",
      "Gender              object\n",
      "Age                  int64\n",
      "Tenure             float64\n",
      "Balance            float64\n",
      "NumOfProducts        int64\n",
      "HasCrCard            int64\n",
      "IsActiveMember       int64\n",
      "EstimatedSalary    float64\n",
      "Exited               int64\n",
      "dtype: object\n"
     ]
    },
    {
     "data": {
      "text/html": [
       "<div>\n",
       "<style scoped>\n",
       "    .dataframe tbody tr th:only-of-type {\n",
       "        vertical-align: middle;\n",
       "    }\n",
       "\n",
       "    .dataframe tbody tr th {\n",
       "        vertical-align: top;\n",
       "    }\n",
       "\n",
       "    .dataframe thead th {\n",
       "        text-align: right;\n",
       "    }\n",
       "</style>\n",
       "<table border=\"1\" class=\"dataframe\">\n",
       "  <thead>\n",
       "    <tr style=\"text-align: right;\">\n",
       "      <th></th>\n",
       "      <th>RowNumber</th>\n",
       "      <th>CustomerId</th>\n",
       "      <th>Surname</th>\n",
       "      <th>CreditScore</th>\n",
       "      <th>Geography</th>\n",
       "      <th>Gender</th>\n",
       "      <th>Age</th>\n",
       "      <th>Tenure</th>\n",
       "      <th>Balance</th>\n",
       "      <th>NumOfProducts</th>\n",
       "      <th>HasCrCard</th>\n",
       "      <th>IsActiveMember</th>\n",
       "      <th>EstimatedSalary</th>\n",
       "      <th>Exited</th>\n",
       "    </tr>\n",
       "  </thead>\n",
       "  <tbody>\n",
       "    <tr>\n",
       "      <th>0</th>\n",
       "      <td>1</td>\n",
       "      <td>15634602</td>\n",
       "      <td>Hargrave</td>\n",
       "      <td>619</td>\n",
       "      <td>France</td>\n",
       "      <td>Female</td>\n",
       "      <td>42</td>\n",
       "      <td>2.0</td>\n",
       "      <td>0.00</td>\n",
       "      <td>1</td>\n",
       "      <td>1</td>\n",
       "      <td>1</td>\n",
       "      <td>101348.88</td>\n",
       "      <td>1</td>\n",
       "    </tr>\n",
       "    <tr>\n",
       "      <th>1</th>\n",
       "      <td>2</td>\n",
       "      <td>15647311</td>\n",
       "      <td>Hill</td>\n",
       "      <td>608</td>\n",
       "      <td>Spain</td>\n",
       "      <td>Female</td>\n",
       "      <td>41</td>\n",
       "      <td>1.0</td>\n",
       "      <td>83807.86</td>\n",
       "      <td>1</td>\n",
       "      <td>0</td>\n",
       "      <td>1</td>\n",
       "      <td>112542.58</td>\n",
       "      <td>0</td>\n",
       "    </tr>\n",
       "    <tr>\n",
       "      <th>2</th>\n",
       "      <td>3</td>\n",
       "      <td>15619304</td>\n",
       "      <td>Onio</td>\n",
       "      <td>502</td>\n",
       "      <td>France</td>\n",
       "      <td>Female</td>\n",
       "      <td>42</td>\n",
       "      <td>8.0</td>\n",
       "      <td>159660.80</td>\n",
       "      <td>3</td>\n",
       "      <td>1</td>\n",
       "      <td>0</td>\n",
       "      <td>113931.57</td>\n",
       "      <td>1</td>\n",
       "    </tr>\n",
       "    <tr>\n",
       "      <th>3</th>\n",
       "      <td>4</td>\n",
       "      <td>15701354</td>\n",
       "      <td>Boni</td>\n",
       "      <td>699</td>\n",
       "      <td>France</td>\n",
       "      <td>Female</td>\n",
       "      <td>39</td>\n",
       "      <td>1.0</td>\n",
       "      <td>0.00</td>\n",
       "      <td>2</td>\n",
       "      <td>0</td>\n",
       "      <td>0</td>\n",
       "      <td>93826.63</td>\n",
       "      <td>0</td>\n",
       "    </tr>\n",
       "    <tr>\n",
       "      <th>4</th>\n",
       "      <td>5</td>\n",
       "      <td>15737888</td>\n",
       "      <td>Mitchell</td>\n",
       "      <td>850</td>\n",
       "      <td>Spain</td>\n",
       "      <td>Female</td>\n",
       "      <td>43</td>\n",
       "      <td>2.0</td>\n",
       "      <td>125510.82</td>\n",
       "      <td>1</td>\n",
       "      <td>1</td>\n",
       "      <td>1</td>\n",
       "      <td>79084.10</td>\n",
       "      <td>0</td>\n",
       "    </tr>\n",
       "  </tbody>\n",
       "</table>\n",
       "</div>"
      ],
      "text/plain": [
       "   RowNumber  CustomerId   Surname  CreditScore Geography  Gender  Age  \\\n",
       "0          1    15634602  Hargrave          619    France  Female   42   \n",
       "1          2    15647311      Hill          608     Spain  Female   41   \n",
       "2          3    15619304      Onio          502    France  Female   42   \n",
       "3          4    15701354      Boni          699    France  Female   39   \n",
       "4          5    15737888  Mitchell          850     Spain  Female   43   \n",
       "\n",
       "   Tenure    Balance  NumOfProducts  HasCrCard  IsActiveMember  \\\n",
       "0     2.0       0.00              1          1               1   \n",
       "1     1.0   83807.86              1          0               1   \n",
       "2     8.0  159660.80              3          1               0   \n",
       "3     1.0       0.00              2          0               0   \n",
       "4     2.0  125510.82              1          1               1   \n",
       "\n",
       "   EstimatedSalary  Exited  \n",
       "0        101348.88       1  \n",
       "1        112542.58       0  \n",
       "2        113931.57       1  \n",
       "3         93826.63       0  \n",
       "4         79084.10       0  "
      ]
     },
     "metadata": {},
     "output_type": "display_data"
    }
   ],
   "source": [
    "print(data.dtypes) # Типы признаков \n",
    "display(data.head()) "
   ]
  },
  {
   "cell_type": "code",
   "execution_count": 70,
   "metadata": {},
   "outputs": [],
   "source": [
    "data['Geography'] = pd.get_dummies(data['Geography'], drop_first=True) # Кодирование котегориальной переменной техникой One-Hot Encoding"
   ]
  },
  {
   "cell_type": "code",
   "execution_count": 71,
   "metadata": {},
   "outputs": [],
   "source": [
    "data['Gender'] = pd.get_dummies(data['Gender'],  drop_first=True) # Кодирование котегориальной переменной техникой One-Hot Encoding"
   ]
  },
  {
   "cell_type": "code",
   "execution_count": 72,
   "metadata": {},
   "outputs": [
    {
     "name": "stdout",
     "output_type": "stream",
     "text": [
      "RowNumber            int64\n",
      "CustomerId           int64\n",
      "Surname             object\n",
      "CreditScore          int64\n",
      "Geography            uint8\n",
      "Gender               uint8\n",
      "Age                  int64\n",
      "Tenure             float64\n",
      "Balance            float64\n",
      "NumOfProducts        int64\n",
      "HasCrCard            int64\n",
      "IsActiveMember       int64\n",
      "EstimatedSalary    float64\n",
      "Exited               int64\n",
      "dtype: object\n"
     ]
    },
    {
     "data": {
      "text/html": [
       "<div>\n",
       "<style scoped>\n",
       "    .dataframe tbody tr th:only-of-type {\n",
       "        vertical-align: middle;\n",
       "    }\n",
       "\n",
       "    .dataframe tbody tr th {\n",
       "        vertical-align: top;\n",
       "    }\n",
       "\n",
       "    .dataframe thead th {\n",
       "        text-align: right;\n",
       "    }\n",
       "</style>\n",
       "<table border=\"1\" class=\"dataframe\">\n",
       "  <thead>\n",
       "    <tr style=\"text-align: right;\">\n",
       "      <th></th>\n",
       "      <th>RowNumber</th>\n",
       "      <th>CustomerId</th>\n",
       "      <th>Surname</th>\n",
       "      <th>CreditScore</th>\n",
       "      <th>Geography</th>\n",
       "      <th>Gender</th>\n",
       "      <th>Age</th>\n",
       "      <th>Tenure</th>\n",
       "      <th>Balance</th>\n",
       "      <th>NumOfProducts</th>\n",
       "      <th>HasCrCard</th>\n",
       "      <th>IsActiveMember</th>\n",
       "      <th>EstimatedSalary</th>\n",
       "      <th>Exited</th>\n",
       "    </tr>\n",
       "  </thead>\n",
       "  <tbody>\n",
       "    <tr>\n",
       "      <th>0</th>\n",
       "      <td>1</td>\n",
       "      <td>15634602</td>\n",
       "      <td>Hargrave</td>\n",
       "      <td>619</td>\n",
       "      <td>0</td>\n",
       "      <td>0</td>\n",
       "      <td>42</td>\n",
       "      <td>2.0</td>\n",
       "      <td>0.00</td>\n",
       "      <td>1</td>\n",
       "      <td>1</td>\n",
       "      <td>1</td>\n",
       "      <td>101348.88</td>\n",
       "      <td>1</td>\n",
       "    </tr>\n",
       "    <tr>\n",
       "      <th>1</th>\n",
       "      <td>2</td>\n",
       "      <td>15647311</td>\n",
       "      <td>Hill</td>\n",
       "      <td>608</td>\n",
       "      <td>0</td>\n",
       "      <td>0</td>\n",
       "      <td>41</td>\n",
       "      <td>1.0</td>\n",
       "      <td>83807.86</td>\n",
       "      <td>1</td>\n",
       "      <td>0</td>\n",
       "      <td>1</td>\n",
       "      <td>112542.58</td>\n",
       "      <td>0</td>\n",
       "    </tr>\n",
       "    <tr>\n",
       "      <th>2</th>\n",
       "      <td>3</td>\n",
       "      <td>15619304</td>\n",
       "      <td>Onio</td>\n",
       "      <td>502</td>\n",
       "      <td>0</td>\n",
       "      <td>0</td>\n",
       "      <td>42</td>\n",
       "      <td>8.0</td>\n",
       "      <td>159660.80</td>\n",
       "      <td>3</td>\n",
       "      <td>1</td>\n",
       "      <td>0</td>\n",
       "      <td>113931.57</td>\n",
       "      <td>1</td>\n",
       "    </tr>\n",
       "    <tr>\n",
       "      <th>3</th>\n",
       "      <td>4</td>\n",
       "      <td>15701354</td>\n",
       "      <td>Boni</td>\n",
       "      <td>699</td>\n",
       "      <td>0</td>\n",
       "      <td>0</td>\n",
       "      <td>39</td>\n",
       "      <td>1.0</td>\n",
       "      <td>0.00</td>\n",
       "      <td>2</td>\n",
       "      <td>0</td>\n",
       "      <td>0</td>\n",
       "      <td>93826.63</td>\n",
       "      <td>0</td>\n",
       "    </tr>\n",
       "    <tr>\n",
       "      <th>4</th>\n",
       "      <td>5</td>\n",
       "      <td>15737888</td>\n",
       "      <td>Mitchell</td>\n",
       "      <td>850</td>\n",
       "      <td>0</td>\n",
       "      <td>0</td>\n",
       "      <td>43</td>\n",
       "      <td>2.0</td>\n",
       "      <td>125510.82</td>\n",
       "      <td>1</td>\n",
       "      <td>1</td>\n",
       "      <td>1</td>\n",
       "      <td>79084.10</td>\n",
       "      <td>0</td>\n",
       "    </tr>\n",
       "  </tbody>\n",
       "</table>\n",
       "</div>"
      ],
      "text/plain": [
       "   RowNumber  CustomerId   Surname  CreditScore  Geography  Gender  Age  \\\n",
       "0          1    15634602  Hargrave          619          0       0   42   \n",
       "1          2    15647311      Hill          608          0       0   41   \n",
       "2          3    15619304      Onio          502          0       0   42   \n",
       "3          4    15701354      Boni          699          0       0   39   \n",
       "4          5    15737888  Mitchell          850          0       0   43   \n",
       "\n",
       "   Tenure    Balance  NumOfProducts  HasCrCard  IsActiveMember  \\\n",
       "0     2.0       0.00              1          1               1   \n",
       "1     1.0   83807.86              1          0               1   \n",
       "2     8.0  159660.80              3          1               0   \n",
       "3     1.0       0.00              2          0               0   \n",
       "4     2.0  125510.82              1          1               1   \n",
       "\n",
       "   EstimatedSalary  Exited  \n",
       "0        101348.88       1  \n",
       "1        112542.58       0  \n",
       "2        113931.57       1  \n",
       "3         93826.63       0  \n",
       "4         79084.10       0  "
      ]
     },
     "metadata": {},
     "output_type": "display_data"
    }
   ],
   "source": [
    "print(data.dtypes) # Типы признаков \n",
    "display(data.head()) "
   ]
  },
  {
   "cell_type": "code",
   "execution_count": 73,
   "metadata": {},
   "outputs": [
    {
     "data": {
      "text/plain": [
       "RowNumber            0\n",
       "CustomerId           0\n",
       "Surname              0\n",
       "CreditScore          0\n",
       "Geography            0\n",
       "Gender               0\n",
       "Age                  0\n",
       "Tenure             909\n",
       "Balance              0\n",
       "NumOfProducts        0\n",
       "HasCrCard            0\n",
       "IsActiveMember       0\n",
       "EstimatedSalary      0\n",
       "Exited               0\n",
       "dtype: int64"
      ]
     },
     "execution_count": 73,
     "metadata": {},
     "output_type": "execute_result"
    }
   ],
   "source": [
    "data.isna().sum() # Поиск и подсчет пропусков"
   ]
  },
  {
   "cell_type": "code",
   "execution_count": 74,
   "metadata": {},
   "outputs": [],
   "source": [
    "data['Tenure'] = data['Tenure'].fillna(0)"
   ]
  },
  {
   "cell_type": "code",
   "execution_count": 75,
   "metadata": {
    "scrolled": true
   },
   "outputs": [
    {
     "data": {
      "text/plain": [
       "0"
      ]
     },
     "execution_count": 75,
     "metadata": {},
     "output_type": "execute_result"
    }
   ],
   "source": [
    "data.duplicated().sum() # Поиск подсчет явных дубликатов"
   ]
  },
  {
   "cell_type": "code",
   "execution_count": 76,
   "metadata": {},
   "outputs": [
    {
     "data": {
      "text/plain": [
       "array([[<AxesSubplot:title={'center':'RowNumber'}>,\n",
       "        <AxesSubplot:title={'center':'CustomerId'}>,\n",
       "        <AxesSubplot:title={'center':'CreditScore'}>,\n",
       "        <AxesSubplot:title={'center':'Geography'}>],\n",
       "       [<AxesSubplot:title={'center':'Gender'}>,\n",
       "        <AxesSubplot:title={'center':'Age'}>,\n",
       "        <AxesSubplot:title={'center':'Tenure'}>,\n",
       "        <AxesSubplot:title={'center':'Balance'}>],\n",
       "       [<AxesSubplot:title={'center':'NumOfProducts'}>,\n",
       "        <AxesSubplot:title={'center':'HasCrCard'}>,\n",
       "        <AxesSubplot:title={'center':'IsActiveMember'}>,\n",
       "        <AxesSubplot:title={'center':'EstimatedSalary'}>],\n",
       "       [<AxesSubplot:title={'center':'Exited'}>, <AxesSubplot:>,\n",
       "        <AxesSubplot:>, <AxesSubplot:>]], dtype=object)"
      ]
     },
     "execution_count": 76,
     "metadata": {},
     "output_type": "execute_result"
    },
    {
     "data": {
      "image/png": "[encoded data removed]",
      "text/plain": [
       "<Figure size 1080x1440 with 16 Axes>"
      ]
     },
     "metadata": {
      "needs_background": "light"
     },
     "output_type": "display_data"
    }
   ],
   "source": [
    "data.hist(figsize=(15, 20)) # Проверка наличия неадекватных значений"
   ]
  },
  {
   "cell_type": "markdown",
   "metadata": {},
   "source": [
    "## Исследование задачи"
   ]
  },
  {
   "cell_type": "code",
   "execution_count": 77,
   "metadata": {},
   "outputs": [
    {
     "data": {
      "text/plain": [
       "Exited\n",
       "0    7963\n",
       "1    2037\n",
       "Name: Exited, dtype: int64"
      ]
     },
     "execution_count": 77,
     "metadata": {},
     "output_type": "execute_result"
    }
   ],
   "source": [
    "data.groupby('Exited')['Exited'].count() "
   ]
  },
  {
   "attachments": {},
   "cell_type": "markdown",
   "metadata": {},
   "source": [
    "Данные несбалансированны"
   ]
  },
  {
   "cell_type": "code",
   "execution_count": 78,
   "metadata": {},
   "outputs": [],
   "source": [
    "data_train, data_valid_test = train_test_split(data, test_size=0.4, random_state=12345)\n",
    "data_valid, data_test = train_test_split(data_valid_test, test_size=0.5, random_state=12345)\n",
    "\n",
    "features_train = data_train.drop(['Exited', 'RowNumber', 'CustomerId', 'Surname'], axis=1)\n",
    "target_train = data_train['Exited']\n",
    "features_valid = data_valid.drop(['Exited', 'RowNumber', 'CustomerId', 'Surname'], axis=1)\n",
    "target_valid = data_valid['Exited']"
   ]
  },
  {
   "cell_type": "code",
   "execution_count": 79,
   "metadata": {},
   "outputs": [
    {
     "name": "stdout",
     "output_type": "stream",
     "text": [
      "max_depth = 1 : 0.791\n",
      "max_depth = 2 : 0.824\n",
      "max_depth = 3 : 0.838\n",
      "max_depth = 4 : 0.852\n",
      "max_depth = 5 : 0.853\n",
      "max_depth = 6 : 0.8565\n",
      "max_depth = 7 : 0.8515\n",
      "max_depth = 8 : 0.8495\n",
      "max_depth = 9 : 0.8485\n"
     ]
    }
   ],
   "source": [
    "# Дерево решений\n",
    "for depth in range(1,10):\n",
    "    model_tree = DecisionTreeClassifier(random_state=12345, max_depth=depth)\n",
    "    model_tree.fit(features_train,target_train)\n",
    "    predictions_valid = model_tree.predict(features_valid)\n",
    "    print('max_depth =',depth,': ', end='')\n",
    "    print(accuracy_score(target_valid, predictions_valid))"
   ]
  },
  {
   "cell_type": "markdown",
   "metadata": {},
   "source": [
    "Оптимальная глубина 6."
   ]
  },
  {
   "cell_type": "code",
   "execution_count": 80,
   "metadata": {},
   "outputs": [
    {
     "name": "stdout",
     "output_type": "stream",
     "text": [
      "Accuracy: 0.812 est: 2\n",
      "Accuracy: 0.838 est: 7\n",
      "Accuracy: 0.8465 est: 12\n",
      "Accuracy: 0.853 est: 17\n",
      "Accuracy: 0.854 est: 22\n",
      "Accuracy: 0.8555 est: 27\n",
      "Accuracy: 0.854 est: 32\n",
      "Accuracy: 0.8565 est: 37\n"
     ]
    }
   ],
   "source": [
    "# Случайный лес\n",
    "for est in range(2, 40, 5):\n",
    "    model_forest = RandomForestClassifier(random_state=12345, n_estimators=est) \n",
    "    model_forest.fit(features_train, target_train)\n",
    "    result = model_forest.score(features_valid, target_valid)\n",
    "    print(\"Accuracy:\",result,'est:',est)"
   ]
  },
  {
   "cell_type": "markdown",
   "metadata": {},
   "source": [
    "Оптимальное количество деревьев 27."
   ]
  },
  {
   "cell_type": "code",
   "execution_count": 81,
   "metadata": {},
   "outputs": [
    {
     "name": "stdout",
     "output_type": "stream",
     "text": [
      "0.791\n"
     ]
    }
   ],
   "source": [
    "model_tree = DecisionTreeClassifier(random_state=12345, max_depth=6)\n",
    "model_tree.fit(features_train,target_train)\n",
    "\n",
    "model_forest = RandomForestClassifier(random_state=12345, n_estimators=27) \n",
    "model_forest.fit(features_train, target_train)\n",
    "\n",
    "lists = [0]*len(target_valid)\n",
    "pred_constant_tree = pd.Series(lists)\n",
    "print(accuracy_score(target_valid, pred_constant_tree))"
   ]
  },
  {
   "cell_type": "markdown",
   "metadata": {},
   "source": [
    "Mодели не прошли тест на адекватность. Значение accuracy_score при константной модели равно проценту значений 0 в столбце Exited. Дисбаланс необходимо устранить."
   ]
  },
  {
   "cell_type": "markdown",
   "metadata": {},
   "source": [
    "## Борьба с дисбалансом"
   ]
  },
  {
   "cell_type": "markdown",
   "metadata": {},
   "source": [
    "Устранение дисбаланса взвешиванием классов."
   ]
  },
  {
   "cell_type": "code",
   "execution_count": 82,
   "metadata": {},
   "outputs": [
    {
     "name": "stdout",
     "output_type": "stream",
     "text": [
      "max_depth = 1 : F1: 0.4994903160040775\n",
      "max_depth = 2 : F1: 0.541015625\n",
      "max_depth = 3 : F1: 0.541015625\n",
      "max_depth = 4 : F1: 0.5277777777777778\n",
      "max_depth = 5 : F1: 0.5963791267305644\n",
      "max_depth = 6 : F1: 0.5581835383159887\n",
      "max_depth = 7 : F1: 0.5545545545545546\n",
      "max_depth = 8 : F1: 0.5392156862745098\n",
      "max_depth = 9 : F1: 0.5268199233716475\n"
     ]
    }
   ],
   "source": [
    "# Дерево решений\n",
    "for depth in range(1,10):\n",
    "    model_tree = DecisionTreeClassifier(random_state=12345, max_depth=depth, class_weight='balanced')\n",
    "    model_tree.fit(features_train,target_train)\n",
    "    predictions_valid = model_tree.predict(features_valid)\n",
    "    print('max_depth =',depth,': ', end='')\n",
    "    print(\"F1:\",f1_score(target_valid, predictions_valid))"
   ]
  },
  {
   "cell_type": "markdown",
   "metadata": {},
   "source": [
    "Оптимальная глубина 5."
   ]
  },
  {
   "cell_type": "code",
   "execution_count": 83,
   "metadata": {},
   "outputs": [
    {
     "name": "stdout",
     "output_type": "stream",
     "text": [
      "F1: 0.5677655677655677 depth 2\n",
      "F1: 0.5789473684210527 depth 3\n",
      "F1: 0.5906838453914767 depth 4\n",
      "F1: 0.5998013902681232 depth 5\n",
      "F1: 0.6210418794688458 depth 6\n",
      "F1: 0.6166666666666667 depth 7\n",
      "F1: 0.6266375545851528 depth 8\n",
      "F1: 0.6275862068965518 depth 9\n",
      "F1: 0.6107784431137725 depth 10\n",
      "F1: 0.6142131979695431 depth 11\n",
      "F1: 0.6047120418848168 depth 12\n",
      "F1: 0.5787348586810229 depth 13\n",
      "F1: 0.5685997171145686 depth 14\n",
      "F1: 0.5610465116279071 depth 15\n",
      "F1: 0.5577211394302849 depth 16\n",
      "F1: 0.5389221556886228 depth 17\n",
      "F1: 0.5587786259541985 depth 18\n",
      "F1: 0.5404580152671755 depth 19\n"
     ]
    }
   ],
   "source": [
    "# Случайный лес\n",
    "for depth in range(2,20):\n",
    "    model_forest = RandomForestClassifier(random_state=12345, n_estimators=20, max_depth=depth,  class_weight='balanced') \n",
    "    model_forest.fit(features_train, target_train)\n",
    "    predictions_valid = model_forest.predict(features_valid)\n",
    "    print(\"F1:\",f1_score(target_valid, predictions_valid),'depth',depth)"
   ]
  },
  {
   "cell_type": "markdown",
   "metadata": {},
   "source": [
    "Оптимальная глубина - 6. "
   ]
  },
  {
   "cell_type": "code",
   "execution_count": 84,
   "metadata": {},
   "outputs": [
    {
     "name": "stdout",
     "output_type": "stream",
     "text": [
      "F1: 0.5312800769971125 est: 2\n",
      "F1: 0.599375650364204 est: 7\n",
      "F1: 0.6120777891504605 est: 12\n",
      "F1: 0.6183673469387755 est: 17\n",
      "F1: 0.6233230134158926 est: 22\n",
      "F1: 0.6266804550155118 est: 27\n",
      "F1: 0.6251276813074567 est: 32\n",
      "F1: 0.6188524590163934 est: 37\n",
      "F1: 0.6229508196721312 est: 42\n",
      "F1: 0.618705035971223 est: 47\n",
      "F1: 0.615702479338843 est: 52\n",
      "F1: 0.6138002059732234 est: 57\n",
      "F1: 0.6147540983606556 est: 62\n",
      "F1: 0.6150712830957231 est: 67\n",
      "F1: 0.616326530612245 est: 72\n",
      "F1: 0.6167846309403437 est: 77\n",
      "F1: 0.6164801627670397 est: 82\n",
      "F1: 0.6182190378710338 est: 87\n"
     ]
    }
   ],
   "source": [
    "# Случайный лес\n",
    "for est in range(2, 90, 5):\n",
    "    model_forest = RandomForestClassifier(random_state=12345, n_estimators=est, max_depth=6, class_weight='balanced') \n",
    "    model_forest.fit(features_train, target_train)\n",
    "    predictions_valid = model_forest.predict(features_valid)\n",
    "    print(\"F1:\",f1_score(target_valid, predictions_valid),'est:',est)"
   ]
  },
  {
   "cell_type": "markdown",
   "metadata": {},
   "source": [
    "Оптимальное количество деревьев 27."
   ]
  },
  {
   "cell_type": "markdown",
   "metadata": {},
   "source": [
    "Устранение дисбаланса увеличением выборки."
   ]
  },
  {
   "cell_type": "code",
   "execution_count": 85,
   "metadata": {},
   "outputs": [],
   "source": [
    "def upsample(features, target, repeat):\n",
    "    features_zeros = features[target == 0]\n",
    "    features_ones = features[target == 1]\n",
    "    target_zeros = target[target == 0]\n",
    "    target_ones = target[target == 1]\n",
    "\n",
    "    features_upsampled = pd.concat([features_zeros] + [features_ones] * repeat)\n",
    "    target_upsampled = pd.concat([target_zeros] + [target_ones] * repeat)\n",
    "    \n",
    "    features_upsampled, target_upsampled = shuffle(\n",
    "        features_upsampled, target_upsampled, random_state=12345)\n",
    "    \n",
    "    return features_upsampled, target_upsampled\n",
    "\n",
    "features_upsampled, target_upsampled = upsample(features_train, target_train, 4)"
   ]
  },
  {
   "cell_type": "markdown",
   "metadata": {},
   "source": [
    "<div class=\"alert alert-block alert-info\"> отрицательный класс больше положительного в 7963/2037, то есть примерно в 4 раза</div>"
   ]
  },
  {
   "cell_type": "code",
   "execution_count": 86,
   "metadata": {},
   "outputs": [
    {
     "name": "stdout",
     "output_type": "stream",
     "text": [
      "F1: 0.5963791267305644\n"
     ]
    }
   ],
   "source": [
    "# Дерево решений\n",
    "\n",
    "model_tree = DecisionTreeClassifier(random_state=12345, max_depth=5)\n",
    "model_tree.fit(features_upsampled, target_upsampled)\n",
    "predictions_valid = model_tree.predict(features_valid)\n",
    "print(\"F1:\",f1_score(target_valid, predictions_valid))"
   ]
  },
  {
   "cell_type": "code",
   "execution_count": 87,
   "metadata": {},
   "outputs": [
    {
     "name": "stdout",
     "output_type": "stream",
     "text": [
      "F1: 0.5982028241335045\n"
     ]
    }
   ],
   "source": [
    "# Случайный лес\n",
    "\n",
    "model_forest = RandomForestClassifier(random_state=12345, n_estimators=27)\n",
    "model_forest.fit(features_upsampled, target_upsampled)\n",
    "predictions_valid = model_forest.predict(features_valid)\n",
    "print(\"F1:\",f1_score(target_valid, predictions_valid))"
   ]
  },
  {
   "cell_type": "markdown",
   "metadata": {},
   "source": [
    "Устранение дисбаланса уменьшением выборки."
   ]
  },
  {
   "cell_type": "code",
   "execution_count": 88,
   "metadata": {},
   "outputs": [],
   "source": [
    "def downsample(features, target, fraction):\n",
    "    features_zeros = features[target == 0]\n",
    "    features_ones = features[target == 1]\n",
    "    target_zeros = target[target == 0]\n",
    "    target_ones = target[target == 1]\n",
    "\n",
    "    features_downsampled = pd.concat(\n",
    "        [features_zeros.sample(frac=fraction, random_state=12345)] + [features_ones])\n",
    "    target_downsampled = pd.concat(\n",
    "        [target_zeros.sample(frac=fraction, random_state=12345)] + [target_ones])\n",
    "    \n",
    "    features_downsampled, target_downsampled = shuffle(\n",
    "        features_downsampled, target_downsampled, random_state=12345)\n",
    "    \n",
    "    return features_downsampled, target_downsampled\n",
    "\n",
    "features_downsampled, target_downsampled = downsample(features_train, target_train, 0.25)"
   ]
  },
  {
   "cell_type": "markdown",
   "metadata": {},
   "source": [
    "<div class=\"alert alert-block alert-info\"> положительный класс меньше отрицательного в 2037/7963, то есть примерно в 0.25 раза</div>"
   ]
  },
  {
   "cell_type": "code",
   "execution_count": 89,
   "metadata": {},
   "outputs": [
    {
     "name": "stdout",
     "output_type": "stream",
     "text": [
      "F1: 0.592292089249493\n"
     ]
    }
   ],
   "source": [
    "# Дерево решений\n",
    "\n",
    "model_tree = DecisionTreeClassifier(random_state=12345,  max_depth=5)\n",
    "model_tree.fit(features_downsampled, target_downsampled)\n",
    "predictions_valid = model_tree.predict(features_valid)\n",
    "print(\"F1:\",f1_score(target_valid, predictions_valid))"
   ]
  },
  {
   "cell_type": "code",
   "execution_count": 90,
   "metadata": {},
   "outputs": [
    {
     "name": "stdout",
     "output_type": "stream",
     "text": [
      "F1: 0.5751633986928104\n"
     ]
    }
   ],
   "source": [
    "# Случайный лес\n",
    "\n",
    "model_forest = RandomForestClassifier(random_state=12345, n_estimators=27)\n",
    "model_forest.fit(features_downsampled, target_downsampled)\n",
    "predictions_valid = model_forest.predict(features_valid)\n",
    "print(\"F1:\",f1_score(target_valid, predictions_valid))"
   ]
  },
  {
   "cell_type": "markdown",
   "metadata": {},
   "source": [
    "Сравнивая F1 приходим к выводу, что устранение дисбаланса взвешиванием классов оказалось наиболее эффективным. Наилучшая модель - случайный лес с количеством деревьев 27, их глубиной 6."
   ]
  },
  {
   "cell_type": "markdown",
   "metadata": {},
   "source": [
    "## Тестирование модели"
   ]
  },
  {
   "cell_type": "code",
   "execution_count": 91,
   "metadata": {},
   "outputs": [
    {
     "name": "stdout",
     "output_type": "stream",
     "text": [
      "F1: 0.7136929460580913\n"
     ]
    }
   ],
   "source": [
    "features_test = data_test.drop(['Exited', 'RowNumber', 'CustomerId', 'Surname'], axis=1)\n",
    "target_test = data_test['Exited']\n",
    "\n",
    "model_forest = RandomForestClassifier(random_state=12345, n_estimators=27, max_depth=6, class_weight='balanced') \n",
    "model_forest.fit(features_test, target_test)\n",
    "predictions_test = model_forest.predict(features_test)\n",
    "print(\"F1:\",f1_score(target_test, predictions_test))"
   ]
  },
  {
   "cell_type": "code",
   "execution_count": 92,
   "metadata": {},
   "outputs": [
    {
     "name": "stdout",
     "output_type": "stream",
     "text": [
      "0.9235913418511672\n"
     ]
    }
   ],
   "source": [
    "probabilities_test = model_forest.predict_proba(features_test)\n",
    "probabilities_one_test = probabilities_test[:, 1]\n",
    "auc_roc = roc_auc_score(target_test, probabilities_one_test)\n",
    "print(auc_roc)"
   ]
  },
  {
   "cell_type": "markdown",
   "metadata": {},
   "source": [
    "auc_roc показывает насколько модель отличается от случайной. auc_roc больше F1."
   ]
  },
  {
   "cell_type": "code",
   "execution_count": 93,
   "metadata": {},
   "outputs": [
    {
     "data": {
      "image/png": "[encoded data removed]",
      "text/plain": [
       "<Figure size 432x288 with 1 Axes>"
      ]
     },
     "metadata": {
      "needs_background": "light"
     },
     "output_type": "display_data"
    }
   ],
   "source": [
    "fpr, tpr, thresholds = roc_curve(target_test, probabilities_one_test)\n",
    "\n",
    "plt.figure()\n",
    "plt.plot(fpr, tpr)\n",
    "plt.plot([0, 1], [0, 1], linestyle='--')\n",
    "plt.xlim([0.0, 1.0])\n",
    "plt.ylim([0.0, 1.0])\n",
    "plt.xlabel('False Positive Rate')\n",
    "plt.ylabel('True Positive Rate')\n",
    "plt.title('ROC-кривая')\n",
    "plt.show()\n"
   ]
  },
  {
   "cell_type": "markdown",
   "metadata": {},
   "source": [
    "<b>Вывод:</b>\n",
    "<div class=\"alert alert-block alert-info\">Изучены типы данных, заполнены пропуски в столбце Tenure, закодировали категориальные переменные техникой One-Hot Encoding, устранен дисбаланс данных, найдена лучшая модель - случайный лес с количеством деревьев 27, их глубиной 6.\n",
    "Рассчитаны F1-мера = 0,7137 и auc_roc = 0,9236, которые показывают, что модель делает хорошую работу, и для многих других значений порога она будет делать то же самое.</div>\n"
   ]
  }
 ],
 "metadata": {
  "ExecuteTimeLog": [
   {
    "duration": 1210,
    "start_time": "2022-10-10T15:50:33.882Z"
   },
   {
    "duration": 6,
    "start_time": "2022-10-10T15:52:03.842Z"
   },
   {
    "duration": 4,
    "start_time": "2022-10-10T15:52:40.550Z"
   },
   {
    "duration": 11,
    "start_time": "2022-10-10T15:53:47.651Z"
   },
   {
    "duration": 27,
    "start_time": "2022-10-10T15:53:58.462Z"
   },
   {
    "duration": 111,
    "start_time": "2022-10-10T16:01:12.482Z"
   },
   {
    "duration": 25,
    "start_time": "2022-10-10T16:01:32.777Z"
   },
   {
    "duration": 27,
    "start_time": "2022-10-10T16:01:36.341Z"
   },
   {
    "duration": 52458,
    "start_time": "2022-10-10T16:01:47.990Z"
   },
   {
    "duration": 11,
    "start_time": "2022-10-10T16:09:52.200Z"
   },
   {
    "duration": 11,
    "start_time": "2022-10-10T16:10:01.559Z"
   },
   {
    "duration": 12,
    "start_time": "2022-10-10T16:10:07.388Z"
   },
   {
    "duration": 11,
    "start_time": "2022-10-10T16:10:11.460Z"
   },
   {
    "duration": 7,
    "start_time": "2022-10-10T16:14:05.236Z"
   },
   {
    "duration": 11,
    "start_time": "2022-10-10T16:15:03.861Z"
   },
   {
    "duration": 3,
    "start_time": "2022-10-10T16:15:52.483Z"
   },
   {
    "duration": 6,
    "start_time": "2022-10-10T16:16:01.446Z"
   },
   {
    "duration": 11,
    "start_time": "2022-10-10T16:16:33.510Z"
   },
   {
    "duration": 8,
    "start_time": "2022-10-10T16:16:40.170Z"
   },
   {
    "duration": 124,
    "start_time": "2022-10-10T16:17:55.476Z"
   },
   {
    "duration": 1266,
    "start_time": "2022-10-10T16:19:22.310Z"
   },
   {
    "duration": 1319,
    "start_time": "2022-10-10T16:24:52.679Z"
   },
   {
    "duration": 5,
    "start_time": "2022-10-10T16:28:17.609Z"
   },
   {
    "duration": 4,
    "start_time": "2022-10-10T16:28:38.057Z"
   },
   {
    "duration": 10,
    "start_time": "2022-10-10T16:31:01.775Z"
   },
   {
    "duration": 6,
    "start_time": "2022-10-10T16:31:09.761Z"
   },
   {
    "duration": 36,
    "start_time": "2022-10-10T16:32:01.921Z"
   },
   {
    "duration": 9,
    "start_time": "2022-10-10T16:32:11.012Z"
   },
   {
    "duration": 8,
    "start_time": "2022-10-10T16:32:15.179Z"
   },
   {
    "duration": 37,
    "start_time": "2022-10-10T16:32:28.929Z"
   },
   {
    "duration": 7,
    "start_time": "2022-10-10T16:35:35.662Z"
   },
   {
    "duration": 54,
    "start_time": "2022-10-13T13:30:44.024Z"
   },
   {
    "duration": 1606,
    "start_time": "2022-10-13T13:30:57.086Z"
   },
   {
    "duration": 57,
    "start_time": "2022-10-13T13:30:58.696Z"
   },
   {
    "duration": 21,
    "start_time": "2022-10-13T13:30:58.755Z"
   },
   {
    "duration": 11,
    "start_time": "2022-10-13T13:30:58.777Z"
   },
   {
    "duration": 12,
    "start_time": "2022-10-13T13:30:58.791Z"
   },
   {
    "duration": 16,
    "start_time": "2022-10-13T13:30:58.805Z"
   },
   {
    "duration": 5,
    "start_time": "2022-10-13T13:30:58.823Z"
   },
   {
    "duration": 26,
    "start_time": "2022-10-13T13:30:58.830Z"
   },
   {
    "duration": 1670,
    "start_time": "2022-10-13T13:30:58.858Z"
   },
   {
    "duration": 7,
    "start_time": "2022-10-13T13:31:00.530Z"
   },
   {
    "duration": 127,
    "start_time": "2022-10-13T13:31:00.539Z"
   },
   {
    "duration": 14,
    "start_time": "2022-10-13T13:31:47.841Z"
   },
   {
    "duration": 4,
    "start_time": "2022-10-13T13:31:49.983Z"
   },
   {
    "duration": 55,
    "start_time": "2022-10-13T13:31:49.989Z"
   },
   {
    "duration": 30,
    "start_time": "2022-10-13T13:31:50.046Z"
   },
   {
    "duration": 36,
    "start_time": "2022-10-13T13:31:50.078Z"
   },
   {
    "duration": 32,
    "start_time": "2022-10-13T13:31:50.117Z"
   },
   {
    "duration": 32,
    "start_time": "2022-10-13T13:31:50.150Z"
   },
   {
    "duration": 26,
    "start_time": "2022-10-13T13:31:50.184Z"
   },
   {
    "duration": 31,
    "start_time": "2022-10-13T13:31:50.212Z"
   },
   {
    "duration": 1623,
    "start_time": "2022-10-13T13:31:50.245Z"
   },
   {
    "duration": 7,
    "start_time": "2022-10-13T13:31:51.871Z"
   },
   {
    "duration": 27,
    "start_time": "2022-10-13T13:31:51.879Z"
   },
   {
    "duration": 4,
    "start_time": "2022-10-13T13:32:16.915Z"
   },
   {
    "duration": 41,
    "start_time": "2022-10-13T13:32:16.922Z"
   },
   {
    "duration": 27,
    "start_time": "2022-10-13T13:32:16.965Z"
   },
   {
    "duration": 19,
    "start_time": "2022-10-13T13:32:16.994Z"
   },
   {
    "duration": 9,
    "start_time": "2022-10-13T13:32:17.015Z"
   },
   {
    "duration": 10,
    "start_time": "2022-10-13T13:32:17.026Z"
   },
   {
    "duration": 4,
    "start_time": "2022-10-13T13:32:17.037Z"
   },
   {
    "duration": 16,
    "start_time": "2022-10-13T13:32:17.042Z"
   },
   {
    "duration": 1564,
    "start_time": "2022-10-13T13:32:17.059Z"
   },
   {
    "duration": 6,
    "start_time": "2022-10-13T13:32:18.625Z"
   },
   {
    "duration": 15,
    "start_time": "2022-10-13T13:32:18.633Z"
   },
   {
    "duration": 1535,
    "start_time": "2022-10-13T13:32:52.451Z"
   },
   {
    "duration": 4,
    "start_time": "2022-10-13T13:35:05.641Z"
   },
   {
    "duration": 51,
    "start_time": "2022-10-13T13:35:05.647Z"
   },
   {
    "duration": 21,
    "start_time": "2022-10-13T13:35:05.700Z"
   },
   {
    "duration": 15,
    "start_time": "2022-10-13T13:35:05.723Z"
   },
   {
    "duration": 17,
    "start_time": "2022-10-13T13:35:05.740Z"
   },
   {
    "duration": 7,
    "start_time": "2022-10-13T13:35:05.759Z"
   },
   {
    "duration": 9,
    "start_time": "2022-10-13T13:35:05.768Z"
   },
   {
    "duration": 17,
    "start_time": "2022-10-13T13:35:05.779Z"
   },
   {
    "duration": 1689,
    "start_time": "2022-10-13T13:35:05.799Z"
   },
   {
    "duration": 6,
    "start_time": "2022-10-13T13:35:07.490Z"
   },
   {
    "duration": 26,
    "start_time": "2022-10-13T13:35:07.498Z"
   },
   {
    "duration": 8,
    "start_time": "2022-10-13T13:35:37.097Z"
   },
   {
    "duration": 49,
    "start_time": "2022-10-13T13:59:19.887Z"
   },
   {
    "duration": 28,
    "start_time": "2022-10-13T13:59:24.815Z"
   },
   {
    "duration": 11,
    "start_time": "2022-10-13T14:01:30.456Z"
   },
   {
    "duration": 10,
    "start_time": "2022-10-13T14:01:48.899Z"
   },
   {
    "duration": 19,
    "start_time": "2022-10-13T14:01:53.059Z"
   },
   {
    "duration": 10,
    "start_time": "2022-10-13T14:02:55.187Z"
   },
   {
    "duration": 11,
    "start_time": "2022-10-13T14:02:58.360Z"
   },
   {
    "duration": 9,
    "start_time": "2022-10-13T14:03:04.540Z"
   },
   {
    "duration": 14,
    "start_time": "2022-10-13T14:03:15.704Z"
   },
   {
    "duration": 5,
    "start_time": "2022-10-13T14:04:38.609Z"
   },
   {
    "duration": 6,
    "start_time": "2022-10-13T14:04:43.471Z"
   },
   {
    "duration": 15,
    "start_time": "2022-10-13T14:04:47.631Z"
   },
   {
    "duration": 22,
    "start_time": "2022-10-13T14:04:59.947Z"
   },
   {
    "duration": 4,
    "start_time": "2022-10-13T14:05:04.851Z"
   },
   {
    "duration": 55,
    "start_time": "2022-10-13T14:05:04.856Z"
   },
   {
    "duration": 20,
    "start_time": "2022-10-13T14:05:04.912Z"
   },
   {
    "duration": 62,
    "start_time": "2022-10-13T14:05:04.934Z"
   },
   {
    "duration": 28,
    "start_time": "2022-10-13T14:05:04.999Z"
   },
   {
    "duration": 43,
    "start_time": "2022-10-13T14:05:05.029Z"
   },
   {
    "duration": 55,
    "start_time": "2022-10-13T14:05:05.073Z"
   },
   {
    "duration": 27,
    "start_time": "2022-10-13T14:05:05.129Z"
   },
   {
    "duration": 67,
    "start_time": "2022-10-13T14:05:05.157Z"
   },
   {
    "duration": 1753,
    "start_time": "2022-10-13T14:05:05.226Z"
   },
   {
    "duration": 7,
    "start_time": "2022-10-13T14:05:06.981Z"
   },
   {
    "duration": 38,
    "start_time": "2022-10-13T14:05:06.990Z"
   },
   {
    "duration": 84,
    "start_time": "2022-10-13T14:05:07.030Z"
   },
   {
    "duration": 179,
    "start_time": "2022-10-13T14:05:39.192Z"
   },
   {
    "duration": 1478,
    "start_time": "2022-10-13T14:08:34.554Z"
   },
   {
    "duration": 1530,
    "start_time": "2022-10-13T14:09:58.361Z"
   },
   {
    "duration": 26,
    "start_time": "2022-10-13T14:16:42.586Z"
   },
   {
    "duration": 247,
    "start_time": "2022-10-13T14:17:35.744Z"
   },
   {
    "duration": 27,
    "start_time": "2022-10-13T14:19:50.704Z"
   },
   {
    "duration": 271,
    "start_time": "2022-10-13T14:20:08.961Z"
   },
   {
    "duration": 257,
    "start_time": "2022-10-13T14:22:41.024Z"
   },
   {
    "duration": 261,
    "start_time": "2022-10-13T14:23:06.612Z"
   },
   {
    "duration": 261,
    "start_time": "2022-10-13T14:23:12.962Z"
   },
   {
    "duration": 54,
    "start_time": "2022-10-13T14:24:48.795Z"
   },
   {
    "duration": 12,
    "start_time": "2022-10-13T14:34:30.159Z"
   },
   {
    "duration": 243,
    "start_time": "2022-10-13T14:34:40.027Z"
   },
   {
    "duration": 1532,
    "start_time": "2022-10-13T14:38:18.513Z"
   },
   {
    "duration": 7,
    "start_time": "2022-10-13T14:39:56.610Z"
   },
   {
    "duration": 189,
    "start_time": "2022-10-13T14:43:11.250Z"
   },
   {
    "duration": 3,
    "start_time": "2022-10-13T14:48:41.436Z"
   },
   {
    "duration": 19,
    "start_time": "2022-10-13T15:03:13.505Z"
   },
   {
    "duration": 12,
    "start_time": "2022-10-13T15:03:34.333Z"
   },
   {
    "duration": 4,
    "start_time": "2022-10-13T15:03:37.856Z"
   },
   {
    "duration": 50,
    "start_time": "2022-10-13T15:03:37.863Z"
   },
   {
    "duration": 17,
    "start_time": "2022-10-13T15:03:37.915Z"
   },
   {
    "duration": 16,
    "start_time": "2022-10-13T15:03:37.934Z"
   },
   {
    "duration": 13,
    "start_time": "2022-10-13T15:03:37.954Z"
   },
   {
    "duration": 26,
    "start_time": "2022-10-13T15:03:37.968Z"
   },
   {
    "duration": 11,
    "start_time": "2022-10-13T15:03:37.996Z"
   },
   {
    "duration": 15,
    "start_time": "2022-10-13T15:03:38.009Z"
   },
   {
    "duration": 13,
    "start_time": "2022-10-13T15:03:38.026Z"
   },
   {
    "duration": 2058,
    "start_time": "2022-10-13T15:03:38.040Z"
   },
   {
    "duration": 8,
    "start_time": "2022-10-13T15:03:40.099Z"
   },
   {
    "duration": 23,
    "start_time": "2022-10-13T15:03:40.108Z"
   },
   {
    "duration": 164,
    "start_time": "2022-10-13T15:03:40.133Z"
   },
   {
    "duration": 1287,
    "start_time": "2022-10-13T15:03:40.300Z"
   },
   {
    "duration": 234,
    "start_time": "2022-10-13T15:03:41.589Z"
   },
   {
    "duration": 173,
    "start_time": "2022-10-13T15:03:41.825Z"
   },
   {
    "duration": 1226,
    "start_time": "2022-10-13T15:03:42.000Z"
   },
   {
    "duration": 27,
    "start_time": "2022-10-13T15:10:20.843Z"
   },
   {
    "duration": 4,
    "start_time": "2022-10-13T15:10:40.374Z"
   },
   {
    "duration": 48,
    "start_time": "2022-10-13T15:10:47.212Z"
   },
   {
    "duration": 1990,
    "start_time": "2022-10-13T15:11:45.387Z"
   },
   {
    "duration": 5058,
    "start_time": "2022-10-13T15:11:58.202Z"
   },
   {
    "duration": 3692,
    "start_time": "2022-10-13T15:12:16.315Z"
   },
   {
    "duration": 4,
    "start_time": "2022-10-13T15:14:45.695Z"
   },
   {
    "duration": 178,
    "start_time": "2022-10-13T15:15:31.689Z"
   },
   {
    "duration": 199,
    "start_time": "2022-10-13T15:17:41.629Z"
   },
   {
    "duration": 154,
    "start_time": "2022-10-13T15:18:09.499Z"
   },
   {
    "duration": 3548,
    "start_time": "2022-10-13T15:20:25.929Z"
   },
   {
    "duration": 4009,
    "start_time": "2022-10-13T15:22:02.656Z"
   },
   {
    "duration": 3479,
    "start_time": "2022-10-13T15:22:09.391Z"
   },
   {
    "duration": 3554,
    "start_time": "2022-10-13T15:22:40.831Z"
   },
   {
    "duration": 6162,
    "start_time": "2022-10-13T15:23:10.281Z"
   },
   {
    "duration": 166,
    "start_time": "2022-10-13T15:24:06.939Z"
   },
   {
    "duration": 49,
    "start_time": "2022-10-13T15:24:58.713Z"
   },
   {
    "duration": 399,
    "start_time": "2022-10-13T15:58:13.536Z"
   },
   {
    "duration": 22,
    "start_time": "2022-10-13T16:00:58.771Z"
   },
   {
    "duration": 108,
    "start_time": "2022-10-13T16:01:45.731Z"
   },
   {
    "duration": 3421,
    "start_time": "2022-10-13T16:10:29.155Z"
   },
   {
    "duration": 6041,
    "start_time": "2022-10-13T16:10:36.042Z"
   },
   {
    "duration": 3374,
    "start_time": "2022-10-13T16:13:20.707Z"
   },
   {
    "duration": 3784,
    "start_time": "2022-10-13T16:13:42.699Z"
   },
   {
    "duration": 3115,
    "start_time": "2022-10-13T16:13:55.788Z"
   },
   {
    "duration": 3496,
    "start_time": "2022-10-13T16:14:08.049Z"
   },
   {
    "duration": 44,
    "start_time": "2022-10-13T16:14:59.826Z"
   },
   {
    "duration": 184,
    "start_time": "2022-10-13T16:15:20.905Z"
   },
   {
    "duration": 118,
    "start_time": "2022-10-13T16:15:25.078Z"
   },
   {
    "duration": 254,
    "start_time": "2022-10-13T16:15:31.571Z"
   },
   {
    "duration": 254,
    "start_time": "2022-10-13T16:15:37.714Z"
   },
   {
    "duration": 323,
    "start_time": "2022-10-13T16:15:42.281Z"
   },
   {
    "duration": 217,
    "start_time": "2022-10-13T16:15:46.771Z"
   },
   {
    "duration": 110,
    "start_time": "2022-10-13T16:15:53.684Z"
   },
   {
    "duration": 70,
    "start_time": "2022-10-13T16:16:28.966Z"
   },
   {
    "duration": 53,
    "start_time": "2022-10-13T16:16:32.503Z"
   },
   {
    "duration": 55,
    "start_time": "2022-10-13T16:16:47.648Z"
   },
   {
    "duration": 58,
    "start_time": "2022-10-13T16:18:09.955Z"
   },
   {
    "duration": 28,
    "start_time": "2022-10-13T16:18:15.991Z"
   },
   {
    "duration": 197,
    "start_time": "2022-10-13T16:18:22.320Z"
   },
   {
    "duration": 22,
    "start_time": "2022-10-13T16:18:36.450Z"
   },
   {
    "duration": 325,
    "start_time": "2022-10-13T16:19:20.682Z"
   },
   {
    "duration": 177,
    "start_time": "2022-10-13T16:19:24.437Z"
   },
   {
    "duration": 185,
    "start_time": "2022-10-13T16:19:54.949Z"
   },
   {
    "duration": 45,
    "start_time": "2022-10-13T16:20:04.233Z"
   },
   {
    "duration": 3463,
    "start_time": "2022-10-13T16:20:22.405Z"
   },
   {
    "duration": 5903,
    "start_time": "2022-10-13T16:20:32.057Z"
   },
   {
    "duration": 882,
    "start_time": "2022-10-13T16:23:45.511Z"
   },
   {
    "duration": 830,
    "start_time": "2022-10-13T16:23:51.378Z"
   },
   {
    "duration": 2535,
    "start_time": "2022-10-13T16:23:58.189Z"
   },
   {
    "duration": 2179,
    "start_time": "2022-10-13T16:27:49.806Z"
   },
   {
    "duration": 2336,
    "start_time": "2022-10-13T16:28:16.673Z"
   },
   {
    "duration": 269,
    "start_time": "2022-10-13T16:28:42.462Z"
   },
   {
    "duration": 3863,
    "start_time": "2022-10-13T16:29:10.910Z"
   },
   {
    "duration": 396,
    "start_time": "2022-10-13T16:29:59.197Z"
   },
   {
    "duration": 256,
    "start_time": "2022-10-13T16:30:13.268Z"
   },
   {
    "duration": 270,
    "start_time": "2022-10-13T16:30:19.019Z"
   },
   {
    "duration": 399,
    "start_time": "2022-10-13T16:30:24.087Z"
   },
   {
    "duration": 99,
    "start_time": "2022-10-13T16:30:44.551Z"
   },
   {
    "duration": 2494,
    "start_time": "2022-10-13T16:30:53.782Z"
   },
   {
    "duration": 3738,
    "start_time": "2022-10-13T16:31:33.274Z"
   },
   {
    "duration": 127,
    "start_time": "2022-10-13T16:32:02.731Z"
   },
   {
    "duration": 138,
    "start_time": "2022-10-13T16:35:02.479Z"
   },
   {
    "duration": 144,
    "start_time": "2022-10-13T16:45:34.239Z"
   },
   {
    "duration": 137,
    "start_time": "2022-10-13T16:45:36.344Z"
   },
   {
    "duration": 137,
    "start_time": "2022-10-13T16:45:37.070Z"
   },
   {
    "duration": 4,
    "start_time": "2022-10-13T16:47:36.428Z"
   },
   {
    "duration": 9,
    "start_time": "2022-10-13T16:49:35.940Z"
   },
   {
    "duration": 26,
    "start_time": "2022-10-13T16:49:46.365Z"
   },
   {
    "duration": 86,
    "start_time": "2022-10-13T18:52:34.955Z"
   },
   {
    "duration": 94,
    "start_time": "2022-10-14T18:15:44.061Z"
   },
   {
    "duration": 78,
    "start_time": "2022-10-14T18:16:04.694Z"
   },
   {
    "duration": 79,
    "start_time": "2022-10-14T18:16:16.058Z"
   },
   {
    "duration": 39,
    "start_time": "2022-10-14T18:19:02.147Z"
   },
   {
    "duration": 1423,
    "start_time": "2022-10-14T18:19:04.153Z"
   },
   {
    "duration": 150,
    "start_time": "2022-10-14T18:19:05.578Z"
   },
   {
    "duration": 17,
    "start_time": "2022-10-14T18:19:05.729Z"
   },
   {
    "duration": 5,
    "start_time": "2022-10-14T18:19:05.747Z"
   },
   {
    "duration": 8,
    "start_time": "2022-10-14T18:19:05.754Z"
   },
   {
    "duration": 16,
    "start_time": "2022-10-14T18:19:05.764Z"
   },
   {
    "duration": 9,
    "start_time": "2022-10-14T18:19:05.781Z"
   },
   {
    "duration": 10,
    "start_time": "2022-10-14T18:19:05.792Z"
   },
   {
    "duration": 20,
    "start_time": "2022-10-14T18:19:05.804Z"
   },
   {
    "duration": 1459,
    "start_time": "2022-10-14T18:19:05.825Z"
   },
   {
    "duration": 6,
    "start_time": "2022-10-14T18:19:07.286Z"
   },
   {
    "duration": 11,
    "start_time": "2022-10-14T18:19:07.293Z"
   },
   {
    "duration": 123,
    "start_time": "2022-10-14T18:19:07.305Z"
   },
   {
    "duration": 1064,
    "start_time": "2022-10-14T18:19:07.431Z"
   },
   {
    "duration": 258,
    "start_time": "2022-10-14T18:19:08.497Z"
   },
   {
    "duration": 0,
    "start_time": "2022-10-14T18:19:08.757Z"
   },
   {
    "duration": 0,
    "start_time": "2022-10-14T18:19:08.758Z"
   },
   {
    "duration": 0,
    "start_time": "2022-10-14T18:19:08.759Z"
   },
   {
    "duration": 17,
    "start_time": "2022-10-14T18:19:20.136Z"
   },
   {
    "duration": 17,
    "start_time": "2022-10-14T18:20:13.410Z"
   },
   {
    "duration": 3,
    "start_time": "2022-10-14T18:20:16.918Z"
   },
   {
    "duration": 40,
    "start_time": "2022-10-14T18:20:16.922Z"
   },
   {
    "duration": 12,
    "start_time": "2022-10-14T18:20:16.963Z"
   },
   {
    "duration": 8,
    "start_time": "2022-10-14T18:20:16.976Z"
   },
   {
    "duration": 13,
    "start_time": "2022-10-14T18:20:16.986Z"
   },
   {
    "duration": 23,
    "start_time": "2022-10-14T18:20:17.001Z"
   },
   {
    "duration": 9,
    "start_time": "2022-10-14T18:20:17.025Z"
   },
   {
    "duration": 10,
    "start_time": "2022-10-14T18:20:17.036Z"
   },
   {
    "duration": 36,
    "start_time": "2022-10-14T18:20:17.047Z"
   },
   {
    "duration": 1340,
    "start_time": "2022-10-14T18:20:17.084Z"
   },
   {
    "duration": 7,
    "start_time": "2022-10-14T18:20:18.426Z"
   },
   {
    "duration": 11,
    "start_time": "2022-10-14T18:20:18.434Z"
   },
   {
    "duration": 142,
    "start_time": "2022-10-14T18:20:18.447Z"
   },
   {
    "duration": 1075,
    "start_time": "2022-10-14T18:20:18.592Z"
   },
   {
    "duration": 183,
    "start_time": "2022-10-14T18:20:19.669Z"
   },
   {
    "duration": 0,
    "start_time": "2022-10-14T18:20:19.854Z"
   },
   {
    "duration": 0,
    "start_time": "2022-10-14T18:20:19.855Z"
   },
   {
    "duration": 0,
    "start_time": "2022-10-14T18:20:19.856Z"
   },
   {
    "duration": 0,
    "start_time": "2022-10-14T18:20:19.856Z"
   },
   {
    "duration": 0,
    "start_time": "2022-10-14T18:20:19.858Z"
   },
   {
    "duration": 1,
    "start_time": "2022-10-14T18:20:19.858Z"
   },
   {
    "duration": 0,
    "start_time": "2022-10-14T18:20:19.860Z"
   },
   {
    "duration": 0,
    "start_time": "2022-10-14T18:20:19.861Z"
   },
   {
    "duration": 0,
    "start_time": "2022-10-14T18:20:19.862Z"
   },
   {
    "duration": 0,
    "start_time": "2022-10-14T18:20:19.863Z"
   },
   {
    "duration": 0,
    "start_time": "2022-10-14T18:20:19.864Z"
   },
   {
    "duration": 22,
    "start_time": "2022-10-14T18:21:19.201Z"
   },
   {
    "duration": 270,
    "start_time": "2022-10-14T18:21:21.295Z"
   },
   {
    "duration": 11,
    "start_time": "2022-10-14T18:22:42.893Z"
   },
   {
    "duration": 13,
    "start_time": "2022-10-14T18:22:53.749Z"
   },
   {
    "duration": 102,
    "start_time": "2022-10-14T18:22:55.301Z"
   },
   {
    "duration": 68,
    "start_time": "2022-10-14T18:23:38.835Z"
   },
   {
    "duration": 14,
    "start_time": "2022-10-14T18:23:45.179Z"
   },
   {
    "duration": 4,
    "start_time": "2022-10-14T18:25:02.969Z"
   },
   {
    "duration": 13,
    "start_time": "2022-10-14T18:27:36.109Z"
   },
   {
    "duration": 4,
    "start_time": "2022-10-14T18:28:16.418Z"
   },
   {
    "duration": 102,
    "start_time": "2022-10-14T18:28:25.803Z"
   },
   {
    "duration": 182,
    "start_time": "2022-10-14T18:39:01.862Z"
   },
   {
    "duration": 188,
    "start_time": "2022-10-14T18:39:45.804Z"
   },
   {
    "duration": 5,
    "start_time": "2022-10-14T18:40:11.444Z"
   },
   {
    "duration": 41,
    "start_time": "2022-10-14T18:40:11.451Z"
   },
   {
    "duration": 15,
    "start_time": "2022-10-14T18:40:11.494Z"
   },
   {
    "duration": 12,
    "start_time": "2022-10-14T18:40:11.511Z"
   },
   {
    "duration": 5,
    "start_time": "2022-10-14T18:40:11.525Z"
   },
   {
    "duration": 17,
    "start_time": "2022-10-14T18:40:11.532Z"
   },
   {
    "duration": 9,
    "start_time": "2022-10-14T18:40:11.551Z"
   },
   {
    "duration": 4,
    "start_time": "2022-10-14T18:40:11.561Z"
   },
   {
    "duration": 17,
    "start_time": "2022-10-14T18:40:11.566Z"
   },
   {
    "duration": 1415,
    "start_time": "2022-10-14T18:40:11.585Z"
   },
   {
    "duration": 5,
    "start_time": "2022-10-14T18:40:13.001Z"
   },
   {
    "duration": 20,
    "start_time": "2022-10-14T18:40:13.008Z"
   },
   {
    "duration": 142,
    "start_time": "2022-10-14T18:40:13.029Z"
   },
   {
    "duration": 1074,
    "start_time": "2022-10-14T18:40:13.174Z"
   },
   {
    "duration": 188,
    "start_time": "2022-10-14T18:40:14.250Z"
   },
   {
    "duration": 0,
    "start_time": "2022-10-14T18:40:14.440Z"
   },
   {
    "duration": 0,
    "start_time": "2022-10-14T18:40:14.441Z"
   },
   {
    "duration": 0,
    "start_time": "2022-10-14T18:40:14.443Z"
   },
   {
    "duration": 0,
    "start_time": "2022-10-14T18:40:14.444Z"
   },
   {
    "duration": 0,
    "start_time": "2022-10-14T18:40:14.445Z"
   },
   {
    "duration": 0,
    "start_time": "2022-10-14T18:40:14.447Z"
   },
   {
    "duration": 0,
    "start_time": "2022-10-14T18:40:14.448Z"
   },
   {
    "duration": 0,
    "start_time": "2022-10-14T18:40:14.449Z"
   },
   {
    "duration": 0,
    "start_time": "2022-10-14T18:40:14.451Z"
   },
   {
    "duration": 0,
    "start_time": "2022-10-14T18:40:14.452Z"
   },
   {
    "duration": 0,
    "start_time": "2022-10-14T18:40:14.453Z"
   },
   {
    "duration": 0,
    "start_time": "2022-10-14T18:40:14.455Z"
   },
   {
    "duration": 192,
    "start_time": "2022-10-14T18:41:01.391Z"
   },
   {
    "duration": 184,
    "start_time": "2022-10-14T18:42:11.755Z"
   },
   {
    "duration": 3,
    "start_time": "2022-10-14T18:42:23.319Z"
   },
   {
    "duration": 57,
    "start_time": "2022-10-14T18:42:23.324Z"
   },
   {
    "duration": 13,
    "start_time": "2022-10-14T18:42:23.382Z"
   },
   {
    "duration": 23,
    "start_time": "2022-10-14T18:42:23.396Z"
   },
   {
    "duration": 9,
    "start_time": "2022-10-14T18:42:23.420Z"
   },
   {
    "duration": 14,
    "start_time": "2022-10-14T18:42:23.430Z"
   },
   {
    "duration": 12,
    "start_time": "2022-10-14T18:42:23.445Z"
   },
   {
    "duration": 7,
    "start_time": "2022-10-14T18:42:23.459Z"
   },
   {
    "duration": 17,
    "start_time": "2022-10-14T18:42:23.467Z"
   },
   {
    "duration": 1461,
    "start_time": "2022-10-14T18:42:23.485Z"
   },
   {
    "duration": 6,
    "start_time": "2022-10-14T18:42:24.947Z"
   },
   {
    "duration": 15,
    "start_time": "2022-10-14T18:42:24.955Z"
   },
   {
    "duration": 129,
    "start_time": "2022-10-14T18:42:24.972Z"
   },
   {
    "duration": 1075,
    "start_time": "2022-10-14T18:42:25.104Z"
   },
   {
    "duration": 193,
    "start_time": "2022-10-14T18:42:26.181Z"
   },
   {
    "duration": 138,
    "start_time": "2022-10-14T18:42:26.375Z"
   },
   {
    "duration": 1873,
    "start_time": "2022-10-14T18:42:26.514Z"
   },
   {
    "duration": 3159,
    "start_time": "2022-10-14T18:42:28.388Z"
   },
   {
    "duration": 10,
    "start_time": "2022-10-14T18:42:31.548Z"
   },
   {
    "duration": 27,
    "start_time": "2022-10-14T18:42:31.560Z"
   },
   {
    "duration": 251,
    "start_time": "2022-10-14T18:42:31.588Z"
   },
   {
    "duration": 10,
    "start_time": "2022-10-14T18:42:31.840Z"
   },
   {
    "duration": 23,
    "start_time": "2022-10-14T18:42:31.852Z"
   },
   {
    "duration": 117,
    "start_time": "2022-10-14T18:42:31.877Z"
   },
   {
    "duration": 81,
    "start_time": "2022-10-14T18:42:31.996Z"
   },
   {
    "duration": 13,
    "start_time": "2022-10-14T18:42:32.078Z"
   },
   {
    "duration": 105,
    "start_time": "2022-10-14T18:42:32.093Z"
   },
   {
    "duration": 48,
    "start_time": "2022-10-24T09:12:28.887Z"
   },
   {
    "duration": 1418,
    "start_time": "2022-10-24T09:12:34.512Z"
   },
   {
    "duration": 340,
    "start_time": "2022-10-24T09:12:38.373Z"
   }
  ],
  "kernelspec": {
   "display_name": "Python 3 (ipykernel)",
   "language": "python",
   "name": "python3"
  },
  "language_info": {
   "codemirror_mode": {
    "name": "ipython",
    "version": 3
   },
   "file_extension": ".py",
   "mimetype": "text/x-python",
   "name": "python",
   "nbconvert_exporter": "python",
   "pygments_lexer": "ipython3",
   "version": "3.10.8 (v3.10.8:aaaf517424, Oct 11 2022, 10:14:40) [Clang 13.0.0 (clang-1300.0.29.30)]"
  },
  "toc": {
   "base_numbering": 1,
   "nav_menu": {},
   "number_sections": true,
   "sideBar": true,
   "skip_h1_title": true,
   "title_cell": "Содержание",
   "title_sidebar": "Contents",
   "toc_cell": true,
   "toc_position": {
    "height": "calc(100% - 180px)",
    "left": "10px",
    "top": "150px",
    "width": "165px"
   },
   "toc_section_display": true,
   "toc_window_display": true
  },
  "vscode": {
   "interpreter": {
    "hash": "aee8b7b246df8f9039afb4144a1f6fd8d2ca17a180786b69acc140d282b71a49"
   }
  }
 },
 "nbformat": 4,
 "nbformat_minor": 2
}
